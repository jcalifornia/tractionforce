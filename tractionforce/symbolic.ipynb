{
 "cells": [
  {
   "cell_type": "code",
   "execution_count": 1,
   "metadata": {
    "collapsed": false
   },
   "outputs": [],
   "source": [
    "import sympy as sym\n",
    "from sympy.assumptions.assume import global_assumptions\n",
    "sym.init_printing()"
   ]
  },
  {
   "cell_type": "code",
   "execution_count": 2,
   "metadata": {
    "collapsed": false
   },
   "outputs": [],
   "source": [
    "from sympy.abc import a,b,c,d\n",
    "theta = sym.Symbol('theta', real=True)\n",
    "\n",
    "from sympy import cos, sin\n",
    "nu = sym.Symbol('nu')\n",
    "E = sym.Symbol('E')\n",
    "xp = sym.Symbol('x^\\prime')\n",
    "yp = sym.Symbol('y^\\prime')\n",
    "x = sym.Symbol('x',real=True)\n",
    "y = sym.Symbol('y',real=True)\n",
    "z = sym.Symbol('z',real=True)\n",
    "r = sym.Symbol('r',real=True,positive=True)\n",
    "Rperp = sym.sqrt(x**2+y**2)"
   ]
  },
  {
   "cell_type": "code",
   "execution_count": 3,
   "metadata": {
    "collapsed": false
   },
   "outputs": [],
   "source": [
    "Gxx0 = (1+nu)/(2*sym.pi *E) * (( 2*(1-nu)*Rperp - z)/Rperp/(Rperp-z)+(2*Rperp*(nu*Rperp-z) + z**2)*x**2/Rperp**3/(Rperp-z)**2  )\n",
    "Gyy0 = (1+nu)/(2*sym.pi *E) * (( 2*(1-nu)*Rperp - z)/Rperp/(Rperp-z)+(2*Rperp*(nu*Rperp-z) + z**2)*y**2/Rperp**3/(Rperp-z)**2  )\n",
    "Gxy0 = (1+nu)/(2*sym.pi*E) * (x*y*(2*Rperp*(nu*Rperp-z) + z**2) )/(Rperp**3*(Rperp-z)**2)"
   ]
  },
  {
   "cell_type": "code",
   "execution_count": 4,
   "metadata": {
    "collapsed": false
   },
   "outputs": [
    {
     "data": {
      "image/png": "[encoded data removed]",
      "text/plain": [
       "        ⎛        2                  ⎞\n",
       "        ⎜   2⋅ν⋅x         -2⋅ν + 2  ⎟\n",
       "(ν + 1)⋅⎜──────────── + ────────────⎟\n",
       "        ⎜         3/2      _________⎟\n",
       "        ⎜⎛ 2    2⎞        ╱  2    2 ⎟\n",
       "        ⎝⎝x  + y ⎠      ╲╱  x  + y  ⎠\n",
       "─────────────────────────────────────\n",
       "                2⋅π⋅E                "
      ]
     },
     "execution_count": 4,
     "metadata": {},
     "output_type": "execute_result"
    }
   ],
   "source": [
    "Gxx = Gxx0.subs(z,0)\n",
    "Gxy = Gxy0.subs(z,0)\n",
    "Gyy = Gyy0.subs(z,0)\n",
    "Gxx"
   ]
  },
  {
   "cell_type": "code",
   "execution_count": 5,
   "metadata": {
    "collapsed": false
   },
   "outputs": [
    {
     "data": {
      "image/png": "[encoded data removed]",
      "text/plain": [
       "        ⎛       2       ⎞\n",
       "(ν + 1)⋅⎝- ν⋅sin (θ) + 1⎠\n",
       "─────────────────────────\n",
       "          π⋅E⋅r          "
      ]
     },
     "execution_count": 5,
     "metadata": {},
     "output_type": "execute_result"
    }
   ],
   "source": [
    "Gxx.subs(x,r*cos(theta)).subs(y,r*sin(theta)).simplify()"
   ]
  },
  {
   "cell_type": "code",
   "execution_count": 6,
   "metadata": {
    "collapsed": false
   },
   "outputs": [
    {
     "data": {
      "image/png": "[encoded data removed]",
      "text/plain": [
       "ν⋅(ν + 1)⋅sin(2⋅θ)\n",
       "──────────────────\n",
       "     2⋅π⋅E⋅r      "
      ]
     },
     "execution_count": 6,
     "metadata": {},
     "output_type": "execute_result"
    }
   ],
   "source": [
    "Gxy.subs(x,r*cos(theta)).subs(y,r*sin(theta)).simplify()"
   ]
  },
  {
   "cell_type": "code",
   "execution_count": 7,
   "metadata": {
    "collapsed": false
   },
   "outputs": [
    {
     "data": {
      "image/png": "[encoded data removed]",
      "text/plain": [
       "        ⎛       2       ⎞\n",
       "(ν + 1)⋅⎝- ν⋅cos (θ) + 1⎠\n",
       "─────────────────────────\n",
       "          π⋅E⋅r          "
      ]
     },
     "execution_count": 7,
     "metadata": {},
     "output_type": "execute_result"
    }
   ],
   "source": [
    "Gyy.subs(x,r*cos(theta)).subs(y,r*sin(theta)).simplify()"
   ]
  },
  {
   "cell_type": "code",
   "execution_count": null,
   "metadata": {
    "collapsed": true
   },
   "outputs": [],
   "source": [
    ""
   ]
  }
 ],
 "metadata": {
  "kernelspec": {
   "display_name": "Python 3",
   "language": "python",
   "name": "python3"
  },
  "language_info": {
   "codemirror_mode": {
    "name": "ipython",
    "version": 3.0
   },
   "file_extension": ".py",
   "mimetype": "text/x-python",
   "name": "python",
   "nbconvert_exporter": "python",
   "pygments_lexer": "ipython3",
   "version": "3.5.1"
  }
 },
 "nbformat": 4,
 "nbformat_minor": 0
}