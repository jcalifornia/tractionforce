{
 "cells": [
  {
   "cell_type": "code",
   "execution_count": 1,
   "metadata": {
    "collapsed": false
   },
   "outputs": [
    {
     "name": "stdout",
     "output_type": "stream",
     "text": [
      "Populating the interactive namespace from numpy and matplotlib\n"
     ]
    }
   ],
   "source": [
    "%pylab inline\n",
    "\n",
    "from PIL import Image\n",
    "import numpy as np"
   ]
  },
  {
   "cell_type": "code",
   "execution_count": 2,
   "metadata": {
    "collapsed": false
   },
   "outputs": [],
   "source": [
    "im = Image.open('annulusmask.tif')\n",
    "imarray = np.array(im)"
   ]
  },
  {
   "cell_type": "code",
   "execution_count": 3,
   "metadata": {
    "collapsed": false
   },
   "outputs": [],
   "source": [
    "x_obs_positions = np.arange(320)\n",
    "y_obs_positions = np.arange(240)\n",
    "\n",
    "dx = abs(x_obs_positions[1]-x_obs_positions[0])\n",
    "dy = abs(y_obs_positions[1]-y_obs_positions[0])\n",
    "\n",
    "N = len(x_obs_positions)\n",
    "M = len(y_obs_positions)\n",
    "\n",
    "coords = [[ [x,y] for x in x_obs_positions] for y in y_obs_positions] \n",
    "coords = np.array([item for sublist in coords for item in sublist])\n",
    "distances = ((coords[:,0]-N/2)**2 + (coords[:,1]-M/2)**2)**0.5\n",
    "angles = np.arctan2(coords[:,1]-N/2,coords[:,0]-M/2)\n",
    "\n",
    "a = 45\n",
    "b = 50 # stress support\n",
    "c = 15 # cell boundary\n"
   ]
  },
  {
   "cell_type": "code",
   "execution_count": 4,
   "metadata": {
    "collapsed": false
   },
   "outputs": [],
   "source": [
    "CUTOFF  = 20\n",
    "\n",
    "fr = 1e-4\n",
    "ftheta = 1e-4\n",
    "\n",
    "m = 3\n",
    "n = 4\n",
    "\n",
    "condition_outside = (imarray.reshape((320*240,)) != 0 ) * (distances <= b + CUTOFF)\n",
    "condition_inside = imarray.reshape((320*240,)) == 0\n",
    "\n",
    "stress_r = 0 + (distances>=a) * (distances<=b) * fr * np.sin(m*angles)\n",
    "stress_theta = 0 + (distances>=a) * (distances<=b) * ftheta * np.cos(n*angles)\n",
    "\n",
    "stress_x = stress_r*cos(angles) -stress_theta*sin(angles)\n",
    "stress_y = stress_r*sin(angles) + stress_theta*cos(angles)\n",
    "\n",
    "s_x = stress_x[condition_inside]\n",
    "s_y = stress_y[condition_inside]\n",
    "\n",
    "# build the stress field\n",
    "\n",
    "x_out = np.array(coords[condition_outside,0]/dx,dtype=int)\n",
    "y_out = np.array(coords[condition_outside,1]/dy,dtype=int)\n",
    "\n",
    "x_in = np.array(coords[condition_inside,0]/dx,dtype=int)\n",
    "y_in = np.array(coords[condition_inside,1]/dy,dtype=int)\n",
    "\n"
   ]
  },
  {
   "cell_type": "code",
   "execution_count": 5,
   "metadata": {
    "collapsed": false
   },
   "outputs": [
    {
     "data": {
      "image/png": "[encoded data removed]",
      "text/plain": [
       "<matplotlib.figure.Figure at 0x114d83550>"
      ]
     },
     "metadata": {},
     "output_type": "display_data"
    }
   ],
   "source": [
    "fig = plt.figure(figsize=(10,6))\n",
    "\n",
    "plt.subplot(121)\n",
    "plt.pcolormesh(x_obs_positions,y_obs_positions,imarray==0,\n",
    "                           cmap='seismic_r',vmax = 1e-4, vmin=-1e-4).axes.set_aspect('equal')\n",
    "plt.pcolormesh(x_obs_positions,y_obs_positions,stress_x.reshape((M,N)),\n",
    "                           cmap='seismic_r',vmax = 1e-4, vmin=-1e-4).axes.set_aspect('equal')\n",
    "plt.subplot(122)\n",
    "plt.pcolormesh(x_obs_positions,y_obs_positions,stress_y.reshape((M,N)),\n",
    "                           cmap='seismic_r',vmax = 1e-4, vmin=-1e-4).axes.set_aspect('equal')"
   ]
  },
  {
   "cell_type": "code",
   "execution_count": 6,
   "metadata": {
    "collapsed": false
   },
   "outputs": [
    {
     "data": {
      "image/png": "[encoded data removed]",
      "text/plain": [
       "<matplotlib.figure.Figure at 0x114d83ef0>"
      ]
     },
     "metadata": {},
     "output_type": "display_data"
    }
   ],
   "source": [
    "plt.pcolormesh(x_obs_positions,y_obs_positions,imarray==0,\n",
    "                           cmap='gray').axes.set_aspect('equal')\n",
    "\n",
    "plt.pcolormesh(x_obs_positions,y_obs_positions,stress_x.reshape((M,N)),\n",
    "                           cmap='seismic_r',vmax = 1e-4, vmin=-1e-4, alpha = 0.2).axes.set_aspect('equal')"
   ]
  },
  {
   "cell_type": "code",
   "execution_count": 7,
   "metadata": {
    "collapsed": false
   },
   "outputs": [
    {
     "data": {
      "text/plain": [
       "array([[255, 255, 255, ..., 255, 255, 255],\n",
       "       [255, 255, 255, ..., 255, 255, 255],\n",
       "       [255, 255, 255, ..., 255, 255, 255],\n",
       "       ..., \n",
       "       [255, 255, 255, ..., 255, 255, 255],\n",
       "       [255, 255, 255, ..., 255, 255, 255],\n",
       "       [255, 255, 255, ..., 255, 255, 255]], dtype=uint8)"
      ]
     },
     "execution_count": 7,
     "metadata": {},
     "output_type": "execute_result"
    }
   ],
   "source": [
    "imarray"
   ]
  },
  {
   "cell_type": "code",
   "execution_count": null,
   "metadata": {
    "collapsed": true
   },
   "outputs": [],
   "source": []
  }
 ],
 "metadata": {
  "kernelspec": {
   "display_name": "Python 3",
   "language": "python",
   "name": "python3"
  },
  "language_info": {
   "codemirror_mode": {
    "name": "ipython",
    "version": 3
   },
   "file_extension": ".py",
   "mimetype": "text/x-python",
   "name": "python",
   "nbconvert_exporter": "python",
   "pygments_lexer": "ipython3",
   "version": "3.6.0"
  }
 },
 "nbformat": 4,
 "nbformat_minor": 0
}
