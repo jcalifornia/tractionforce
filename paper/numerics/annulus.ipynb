{
 "cells": [
  {
   "cell_type": "markdown",
   "metadata": {},
   "source": [
    "# Load libraries and set the coordinate system"
   ]
  },
  {
   "cell_type": "code",
   "execution_count": 1,
   "metadata": {
    "collapsed": false
   },
   "outputs": [
    {
     "name": "stdout",
     "output_type": "stream",
     "text": [
      "Populating the interactive namespace from numpy and matplotlib\n"
     ]
    }
   ],
   "source": [
    "%pylab inline\n",
    "\n",
    "import numpy as np\n",
    "import cvxpy\n",
    "from cvxpy import Variable, Minimize, sum_squares, norm, Problem, Parameter, mul_elemwise, sum_entries, Constant\n",
    "from scipy import sparse\n",
    "import sys, argparse\n",
    "from scipy import ndimage\n",
    "import matplotlib.pyplot as plt\n",
    "from matplotlib.backends.backend_pdf import PdfPages\n",
    "import sys\n",
    "from PIL import Image\n",
    "\n",
    "sys.path.append('../../')\n",
    "from tractionforce.elasticity import *\n",
    "import gc\n",
    "from tractionforce.norms import *\n",
    "from tractionforce.problem import *\n",
    "\n",
    "from joblib import Parallel, delayed\n",
    "import multiprocessing\n",
    "\n",
    "\"\"\"\n",
    "Set up the domain and the grid\n",
    "\"\"\"\n",
    "\n",
    "im = Image.open('annulusmask.tif')\n",
    "imarray = np.array(im)\n",
    "\n",
    "x_obs_positions = np.arange(320)\n",
    "y_obs_positions = np.arange(240)\n",
    "\n",
    "dx = abs(x_obs_positions[1]-x_obs_positions[0])\n",
    "dy = abs(y_obs_positions[1]-y_obs_positions[0])\n",
    "\n",
    "N = len(x_obs_positions)\n",
    "M = len(y_obs_positions)\n",
    "\n",
    "coords = [[ [x,y] for x in x_obs_positions] for y in y_obs_positions] \n",
    "coords = np.array([item for sublist in coords for item in sublist])\n",
    "distances = ((coords[:,0]-N/2.)**2 + (coords[:,1]-M/2.)**2)**0.5\n",
    "angles = np.arctan2(coords[:,1]-N/2.,coords[:,0]-M/2.)\n",
    "\n",
    "a = 45\n",
    "b = 50 # stress support\n",
    "c = 15 # cell boundary\n",
    "\n",
    "def latex_float(f):\n",
    "    float_str = \"{0:.2g}\".format(f)\n",
    "    if \"e\" in float_str:\n",
    "        base, exponent = float_str.split(\"e\")\n",
    "        return r\"{0} \\times 10^{{{1}}}\".format(base, int(exponent))\n",
    "    else:\n",
    "        return float_str"
   ]
  },
  {
   "cell_type": "markdown",
   "metadata": {},
   "source": [
    "# Generate the stress field"
   ]
  },
  {
   "cell_type": "code",
   "execution_count": 2,
   "metadata": {
    "collapsed": false
   },
   "outputs": [],
   "source": [
    "CUTOFF  = 10\n",
    "\n",
    "fr = 1e-4\n",
    "ftheta = 1e-4\n",
    "\n",
    "m = 3\n",
    "n = 4\n",
    "\n",
    "condition_outside = (imarray.reshape((320*240,)) != 0 ) * (distances <= b + CUTOFF)\n",
    "condition_inside = (imarray.reshape((320*240,)) == 0 ) * (distances >= a - CUTOFF)\n",
    "\n",
    "stress_r = 0 + (distances>=a) * (distances<=b) * fr * np.sin(m*angles)\n",
    "stress_theta = 0 + (distances>=a) * (distances<=b) * ftheta * np.cos(n*angles)\n",
    "\n",
    "stress_x = stress_r*cos(angles) -stress_theta*sin(angles)\n",
    "stress_y = stress_r*sin(angles) + stress_theta*cos(angles)\n",
    "\n",
    "s_x = stress_x[condition_inside]\n",
    "s_y = stress_y[condition_inside]\n",
    "\n",
    "# build the stress field\n",
    "\n",
    "x_out = np.array(coords[condition_outside,0]/dx,dtype=int)\n",
    "y_out = np.array(coords[condition_outside,1]/dy,dtype=int)\n",
    "\n",
    "x_in = np.array(coords[condition_inside,0]/dx,dtype=int)\n",
    "y_in = np.array(coords[condition_inside,1]/dy,dtype=int)\n",
    "\n"
   ]
  },
  {
   "cell_type": "code",
   "execution_count": 3,
   "metadata": {
    "collapsed": false
   },
   "outputs": [
    {
     "data": {
      "image/png": "[encoded data removed]",
      "text/plain": [
       "<matplotlib.figure.Figure at 0x10be74da0>"
      ]
     },
     "metadata": {},
     "output_type": "display_data"
    }
   ],
   "source": [
    "fig = plt.figure(figsize=(10,6))\n",
    "\n",
    "plt.subplot(121)\n",
    "plt.pcolormesh(x_obs_positions,y_obs_positions,imarray==0,\n",
    "                           cmap='gray').axes.set_aspect('equal')\n",
    "\n",
    "plt.pcolormesh(x_obs_positions,y_obs_positions,stress_x.reshape((M,N)),\n",
    "                           cmap='seismic_r',vmax = 1e-4, vmin=-1e-4, alpha = 0.4).axes.set_aspect('equal')\n",
    "plt.subplot(122)\n",
    "plt.pcolormesh(x_obs_positions,y_obs_positions,imarray==0,\n",
    "                           cmap='gray').axes.set_aspect('equal')\n",
    "\n",
    "plt.pcolormesh(x_obs_positions,y_obs_positions,stress_y.reshape((M,N)),\n",
    "                           cmap='seismic_r',vmax = 1e-4, vmin=-1e-4, alpha = 0.4).axes.set_aspect('equal')"
   ]
  },
  {
   "cell_type": "code",
   "execution_count": 4,
   "metadata": {
    "collapsed": false
   },
   "outputs": [
    {
     "data": {
      "text/plain": [
       "1.8370364882535195"
      ]
     },
     "execution_count": 4,
     "metadata": {},
     "output_type": "execute_result"
    }
   ],
   "source": [
    "sum((coords[:,0]-N/2)*stress_y - (coords[:,1]-M/2)*stress_x)"
   ]
  },
  {
   "cell_type": "markdown",
   "metadata": {},
   "source": [
    "# Generate linear system matrices"
   ]
  },
  {
   "cell_type": "code",
   "execution_count": 5,
   "metadata": {
    "collapsed": false
   },
   "outputs": [
    {
     "name": "stdout",
     "output_type": "stream",
     "text": [
      "Size of the problem is 8200\n"
     ]
    },
    {
     "ename": "KeyboardInterrupt",
     "evalue": "",
     "output_type": "error",
     "traceback": [
      "\u001b[0;31m---------------------------------------------------------------------------\u001b[0m",
      "\u001b[0;31mKeyboardInterrupt\u001b[0m                         Traceback (most recent call last)",
      "\u001b[0;32m<ipython-input-5-46d46fcfe7c7>\u001b[0m in \u001b[0;36m<module>\u001b[0;34m()\u001b[0m\n\u001b[0;32m----> 1\u001b[0;31m \u001b[0mG_in_in_xx\u001b[0m\u001b[0;34m,\u001b[0m \u001b[0mG_in_in_xy\u001b[0m\u001b[0;34m,\u001b[0m \u001b[0mG_out_in_xx\u001b[0m\u001b[0;34m,\u001b[0m \u001b[0mG_out_in_xy\u001b[0m\u001b[0;34m,\u001b[0m \u001b[0mG_in_in_yy\u001b[0m\u001b[0;34m,\u001b[0m \u001b[0mG_in_in_yx\u001b[0m\u001b[0;34m,\u001b[0m \u001b[0mG_out_in_yy\u001b[0m\u001b[0;34m,\u001b[0m \u001b[0mG_out_in_yx\u001b[0m\u001b[0;34m,\u001b[0m \u001b[0mDx\u001b[0m\u001b[0;34m,\u001b[0m \u001b[0mDy\u001b[0m \u001b[0;34m=\u001b[0m \u001b[0mgen_matrices\u001b[0m\u001b[0;34m(\u001b[0m\u001b[0mx_in\u001b[0m\u001b[0;34m,\u001b[0m\u001b[0my_in\u001b[0m\u001b[0;34m,\u001b[0m\u001b[0mx_out\u001b[0m\u001b[0;34m,\u001b[0m\u001b[0my_out\u001b[0m\u001b[0;34m,\u001b[0m\u001b[0mdx\u001b[0m\u001b[0;34m,\u001b[0m\u001b[0mdy\u001b[0m\u001b[0;34m,\u001b[0m\u001b[0mloworder\u001b[0m \u001b[0;34m=\u001b[0m \u001b[0;32mFalse\u001b[0m\u001b[0;34m)\u001b[0m\u001b[0;34m\u001b[0m\u001b[0m\n\u001b[0m",
      "\u001b[0;32m/Users/changjc/workspace/tractionforce/tractionforce/problem.py\u001b[0m in \u001b[0;36mgen_matrices\u001b[0;34m(x_in, y_in, x_out, y_out, dx, dy, loworder)\u001b[0m\n\u001b[1;32m     46\u001b[0m     \u001b[0mA_in_in_x\u001b[0m \u001b[0;34m=\u001b[0m \u001b[0mfxx\u001b[0m\u001b[0;34m(\u001b[0m\u001b[0mdeltax_in_in\u001b[0m \u001b[0;34m*\u001b[0m \u001b[0mdx\u001b[0m \u001b[0;34m-\u001b[0m \u001b[0mdx\u001b[0m \u001b[0;34m/\u001b[0m \u001b[0;36m2.\u001b[0m\u001b[0;34m,\u001b[0m \u001b[0mdeltay_in_in\u001b[0m \u001b[0;34m*\u001b[0m \u001b[0mdy\u001b[0m \u001b[0;34m-\u001b[0m \u001b[0mdy\u001b[0m \u001b[0;34m/\u001b[0m \u001b[0;36m2.0\u001b[0m\u001b[0;34m,\u001b[0m \u001b[0ml2_in_plus_in_plus\u001b[0m\u001b[0;34m)\u001b[0m \u001b[0;34m-\u001b[0m\u001b[0;31m \u001b[0m\u001b[0;31m\\\u001b[0m\u001b[0;34m\u001b[0m\u001b[0m\n\u001b[1;32m     47\u001b[0m                 \u001b[0mfxx\u001b[0m\u001b[0;34m(\u001b[0m\u001b[0mdeltax_in_in\u001b[0m \u001b[0;34m*\u001b[0m \u001b[0mdx\u001b[0m \u001b[0;34m-\u001b[0m \u001b[0mdx\u001b[0m \u001b[0;34m/\u001b[0m \u001b[0;36m2.\u001b[0m\u001b[0;34m,\u001b[0m \u001b[0mdeltay_in_in\u001b[0m \u001b[0;34m*\u001b[0m \u001b[0mdy\u001b[0m \u001b[0;34m+\u001b[0m \u001b[0mdy\u001b[0m \u001b[0;34m/\u001b[0m \u001b[0;36m2.0\u001b[0m\u001b[0;34m,\u001b[0m \u001b[0ml2_in_plus_in_minus\u001b[0m\u001b[0;34m)\u001b[0m \u001b[0;34m-\u001b[0m\u001b[0;31m \u001b[0m\u001b[0;31m\\\u001b[0m\u001b[0;34m\u001b[0m\u001b[0m\n\u001b[0;32m---> 48\u001b[0;31m                 \u001b[0mfxx\u001b[0m\u001b[0;34m(\u001b[0m\u001b[0mdeltax_in_in\u001b[0m \u001b[0;34m*\u001b[0m \u001b[0mdx\u001b[0m \u001b[0;34m+\u001b[0m \u001b[0mdx\u001b[0m \u001b[0;34m/\u001b[0m \u001b[0;36m2.\u001b[0m\u001b[0;34m,\u001b[0m \u001b[0mdeltay_in_in\u001b[0m \u001b[0;34m*\u001b[0m \u001b[0mdy\u001b[0m \u001b[0;34m-\u001b[0m \u001b[0mdy\u001b[0m \u001b[0;34m/\u001b[0m \u001b[0;36m2.0\u001b[0m\u001b[0;34m,\u001b[0m \u001b[0ml2_in_minus_in_plus\u001b[0m\u001b[0;34m)\u001b[0m \u001b[0;34m+\u001b[0m\u001b[0;31m \u001b[0m\u001b[0;31m\\\u001b[0m\u001b[0;34m\u001b[0m\u001b[0m\n\u001b[0m\u001b[1;32m     49\u001b[0m                 \u001b[0mfxx\u001b[0m\u001b[0;34m(\u001b[0m\u001b[0mdeltax_in_in\u001b[0m \u001b[0;34m*\u001b[0m \u001b[0mdx\u001b[0m \u001b[0;34m+\u001b[0m \u001b[0mdx\u001b[0m \u001b[0;34m/\u001b[0m \u001b[0;36m2.\u001b[0m\u001b[0;34m,\u001b[0m \u001b[0mdeltay_in_in\u001b[0m \u001b[0;34m*\u001b[0m \u001b[0mdy\u001b[0m \u001b[0;34m+\u001b[0m \u001b[0mdy\u001b[0m \u001b[0;34m/\u001b[0m \u001b[0;36m2.0\u001b[0m\u001b[0;34m,\u001b[0m \u001b[0ml2_in_minus_in_minus\u001b[0m\u001b[0;34m)\u001b[0m\u001b[0;34m\u001b[0m\u001b[0m\n\u001b[1;32m     50\u001b[0m \u001b[0;34m\u001b[0m\u001b[0m\n",
      "\u001b[0;32m/Users/changjc/workspace/tractionforce/tractionforce/elasticity.py\u001b[0m in \u001b[0;36mfxx\u001b[0;34m(x, y, l2)\u001b[0m\n\u001b[1;32m     12\u001b[0m     \u001b[0;34m:\u001b[0m\u001b[0;32mreturn\u001b[0m\u001b[0;34m:\u001b[0m\u001b[0;34m\u001b[0m\u001b[0m\n\u001b[1;32m     13\u001b[0m     \"\"\"\n\u001b[0;32m---> 14\u001b[0;31m     \u001b[0;32mreturn\u001b[0m \u001b[0;34m(\u001b[0m\u001b[0mnu\u001b[0m\u001b[0;34m+\u001b[0m\u001b[0;36m1\u001b[0m\u001b[0;34m)\u001b[0m\u001b[0;34m/\u001b[0m\u001b[0mnp\u001b[0m\u001b[0;34m.\u001b[0m\u001b[0mpi\u001b[0m\u001b[0;34m/\u001b[0m\u001b[0mE\u001b[0m\u001b[0;34m*\u001b[0m\u001b[0;34m(\u001b[0m \u001b[0mx\u001b[0m\u001b[0;34m*\u001b[0m\u001b[0;34m(\u001b[0m\u001b[0;36m1\u001b[0m\u001b[0;34m-\u001b[0m\u001b[0mnu\u001b[0m\u001b[0;34m)\u001b[0m\u001b[0;34m*\u001b[0m\u001b[0mnp\u001b[0m\u001b[0;34m.\u001b[0m\u001b[0mlog\u001b[0m\u001b[0;34m(\u001b[0m\u001b[0ml2\u001b[0m\u001b[0;34m+\u001b[0m\u001b[0my\u001b[0m\u001b[0;34m)\u001b[0m\u001b[0;34m+\u001b[0m\u001b[0my\u001b[0m\u001b[0;34m*\u001b[0m\u001b[0mnp\u001b[0m\u001b[0;34m.\u001b[0m\u001b[0mlog\u001b[0m\u001b[0;34m(\u001b[0m\u001b[0ml2\u001b[0m\u001b[0;34m+\u001b[0m\u001b[0mx\u001b[0m\u001b[0;34m)\u001b[0m\u001b[0;34m-\u001b[0m\u001b[0my\u001b[0m \u001b[0;34m)\u001b[0m\u001b[0;34m\u001b[0m\u001b[0m\n\u001b[0m\u001b[1;32m     15\u001b[0m \u001b[0;34m\u001b[0m\u001b[0m\n\u001b[1;32m     16\u001b[0m \u001b[0;32mdef\u001b[0m \u001b[0mfxxx\u001b[0m\u001b[0;34m(\u001b[0m\u001b[0mx\u001b[0m\u001b[0;34m,\u001b[0m\u001b[0my\u001b[0m\u001b[0;34m,\u001b[0m\u001b[0ml2\u001b[0m\u001b[0;34m)\u001b[0m\u001b[0;34m:\u001b[0m\u001b[0;34m\u001b[0m\u001b[0m\n",
      "\u001b[0;31mKeyboardInterrupt\u001b[0m: "
     ]
    }
   ],
   "source": [
    "G_in_in_xx, G_in_in_xy, G_out_in_xx, G_out_in_xy, G_in_in_yy, G_in_in_yx, G_out_in_yy, G_out_in_yx, Dx, Dy = gen_matrices(x_in,y_in,x_out,y_out,dx,dy,loworder = False)"
   ]
  },
  {
   "cell_type": "code",
   "execution_count": null,
   "metadata": {
    "collapsed": false
   },
   "outputs": [],
   "source": [
    "# Generate the measured dispalcements\n",
    "\n",
    "u_in_x = G_in_in_xx.dot(s_x) + G_in_in_xy.dot(s_y)\n",
    "u_out_x = G_out_in_xx.dot(s_x) + G_out_in_xy.dot(s_y)\n",
    "\n",
    "u_in_y = G_in_in_yx.dot(s_x) + G_in_in_yy.dot(s_y)\n",
    "u_out_y = G_out_in_yx.dot(s_x)  + G_out_in_yy.dot(s_y)\n",
    "\n",
    "u_x = np.zeros(coords.shape[0])\n",
    "u_x[condition_inside] = u_in_x\n",
    "u_x[condition_outside] = u_out_x\n",
    "\n",
    "u_y = np.zeros(coords.shape[0])\n",
    "u_y[condition_inside] = u_in_y\n",
    "u_y[condition_outside] = u_out_y\n"
   ]
  },
  {
   "cell_type": "code",
   "execution_count": null,
   "metadata": {
    "collapsed": false
   },
   "outputs": [],
   "source": [
    "N_SOLUTIONS = 24\n",
    "gamma_vals = np.logspace(-5, 0, N_SOLUTIONS)\n",
    "\n",
    "\n",
    "# Coords are 1:100 in each direction\n",
    "# annulus centered\n",
    "# inner radius 20\n",
    "# outer radius 30\n",
    "# boundary radius 35\n",
    "\n",
    "gamma = Parameter(sign=\"positive\",value=1)\n",
    "\n",
    "n_in = len(x_in)\n",
    "x_center = np.mean(x_in)\n",
    "y_center = np.mean(y_in)\n",
    "\n",
    "sigma_xz = Variable(n_in)\n",
    "sigma_yz = Variable(n_in)\n",
    "predicted_in_x = G_in_in_xx * sigma_xz + G_in_in_xy * sigma_yz\n",
    "predicted_out_x = G_out_in_xx * sigma_xz + G_out_in_xy * sigma_yz\n",
    "predicted_in_y = G_in_in_yx * sigma_xz + G_in_in_yy * sigma_yz\n",
    "predicted_out_y = G_out_in_yx * sigma_xz + G_out_in_yy * sigma_yz\n",
    "\n",
    "\n",
    "error = sum_squares(u_in_x - predicted_in_x) + sum_squares(u_out_x - predicted_out_x) + \\\n",
    "    sum_squares(u_in_y - predicted_in_y) + sum_squares(u_out_y - predicted_out_y)\n",
    "\n",
    "forceconstraints = [sum_entries(sigma_xz)==0, sum_entries(sigma_yz)==0] # add torque-free constraint here\n",
    "net_torque = sum_entries(mul_elemwise(x_in-x_center,sigma_yz) - mul_elemwise(y_in-y_center,sigma_xz))\n",
    "\n",
    "torqueconstraints = [net_torque == 0]\n",
    "\n",
    "constraints = forceconstraints + torqueconstraints\n",
    "#constraints = []"
   ]
  },
  {
   "cell_type": "code",
   "execution_count": null,
   "metadata": {
    "collapsed": true
   },
   "outputs": [],
   "source": [
    "regularity_penalty = norm(sigma_xz+sigma_yz,p=1)\n",
    "objective = Minimize(error + gamma*regularity_penalty)\n",
    "prob = Problem(objective, constraints)\n",
    "\n",
    "sq_penalty = []\n",
    "l1_penalty = []\n",
    "sigma_xz_values = []\n",
    "sigma_yz_values = []\n",
    "\n",
    "u_x_values = []\n",
    "u_y_values = []"
   ]
  },
  {
   "cell_type": "code",
   "execution_count": null,
   "metadata": {
    "collapsed": false
   },
   "outputs": [],
   "source": [
    "#num_cores = multiprocessing.cpu_count() - 4\n",
    "num_cores = 2\n",
    "\n",
    "def invert_one(val):\n",
    "    gamma.value = val\n",
    "    try:\n",
    "        prob.solve(verbose= True, max_iters = 50,\n",
    "                   warm_start=True, solver = cvxpy.CVXOPT,\n",
    "                   feastol = 1e-6, reltol = 1e-5,\n",
    "                   abstol = 1e-6)\n",
    "\n",
    "    except cvxpy.SolverError:\n",
    "        return None\n",
    "\n",
    "    sq_penalty.append(error.value)\n",
    "    l1_penalty.append(regularity_penalty.value)\n",
    "    sigma_xz_values.append(sigma_xz.value)\n",
    "    sigma_yz_values.append(sigma_yz.value)\n",
    "\n",
    "    s_x = np.zeros(coords.shape[0])\n",
    "    s_y = np.zeros(coords.shape[0])\n",
    "    \n",
    "    s_x[condition_inside] = sigma_xz.value.reshape((n_in,))\n",
    "    s_y[condition_inside] = sigma_yz.value.reshape((n_in,))\n",
    "\n",
    "    u_x = np.zeros(coords.shape[0])\n",
    "    u_y = np.zeros(coords.shape[0])\n",
    "    u_x[condition_inside] = predicted_in_x.value\n",
    "    u_x[condition_outside] = predicted_out_x.value\n",
    "    u_y[condition_inside] = predicted_in_y.value\n",
    "    u_y[condition_outside] = predicted_out_y.value\n",
    "\n",
    "    return np.array([s_x, s_y]).T, np.array([u_x, u_y]).T, error.value, regularity_penalty.value, val\n",
    "\n",
    "\n",
    "#results = Parallel(n_jobs=num_cores)(delayed(invert_one)(val) for val in gamma_vals)\n"
   ]
  },
  {
   "cell_type": "code",
   "execution_count": null,
   "metadata": {
    "collapsed": false
   },
   "outputs": [],
   "source": [
    "force, u, err, reg, val = invert_one(gamma_vals[-1])"
   ]
  },
  {
   "cell_type": "code",
   "execution_count": null,
   "metadata": {
    "collapsed": false
   },
   "outputs": [],
   "source": [
    "maxval = np.max(np.abs(force))\n",
    "\n",
    "plt.subplot(121)\n",
    "plt.pcolormesh(x_obs_positions,y_obs_positions,stress_x.reshape((50,50)).transpose(),\n",
    "                           cmap='seismic_r',vmin=-maxval,vmax=maxval).axes.set_aspect('equal')\n",
    "\n",
    "plt.subplot(122)\n",
    "plt.pcolormesh(x_obs_positions,y_obs_positions,force[:,0].reshape((50,50)).transpose(),\n",
    "                           cmap='seismic_r',vmin=-maxval,vmax=maxval).axes.set_aspect('equal')\n",
    "#plt.colorbar()"
   ]
  },
  {
   "cell_type": "code",
   "execution_count": null,
   "metadata": {
    "collapsed": false
   },
   "outputs": [],
   "source": [
    "plt.subplot(121)\n",
    "\n",
    "maxval = np.max(np.abs(stress_y))\n",
    "plt.pcolormesh(x_obs_positions,y_obs_positions,stress_y.reshape((50,50)).transpose(),\n",
    "                           cmap='seismic_r',vmin=-maxval, vmax=maxval).axes.set_aspect('equal')\n",
    "\n",
    "plt.subplot(122)\n",
    "plt.pcolormesh(x_obs_positions,y_obs_positions,force[:,1].reshape((50,50)).transpose(),\n",
    "                           cmap='seismic_r',vmin=-maxval, vmax=maxval).axes.set_aspect('equal')\n",
    "#plt.colorbar()"
   ]
  },
  {
   "cell_type": "code",
   "execution_count": null,
   "metadata": {
    "collapsed": false
   },
   "outputs": [],
   "source": [
    "maxval = np.max(np.abs(u_x))\n",
    "\n",
    "plt.subplot(121)\n",
    "plt.pcolormesh(x_obs_positions,y_obs_positions,u_x.reshape((50,50)).transpose(),\n",
    "                           cmap='seismic_r',vmin=-maxval, vmax=maxval).axes.set_aspect('equal')\n",
    "plt.subplot(122)\n",
    "plt.pcolormesh(x_obs_positions,y_obs_positions,u[:,0].reshape((50,50)).transpose(),\n",
    "                           cmap='seismic_r',vmin=-maxval, vmax=maxval).axes.set_aspect('equal')\n",
    "#plt.colorbar()"
   ]
  },
  {
   "cell_type": "code",
   "execution_count": null,
   "metadata": {
    "collapsed": false
   },
   "outputs": [],
   "source": [
    "maxval = np.max(np.abs(u_y))\n",
    "\n",
    "plt.subplot(121)\n",
    "plt.pcolormesh(x_obs_positions,y_obs_positions,u_y.reshape((50,50)).transpose(),\n",
    "                           cmap='seismic_r',vmin=-maxval, vmax=maxval).axes.set_aspect('equal')\n",
    "plt.subplot(122)\n",
    "plt.pcolormesh(x_obs_positions,y_obs_positions,u[:,1].reshape((50,50)).transpose(),\n",
    "                           cmap='seismic_r',vmin=-maxval, vmax=maxval).axes.set_aspect('equal')\n",
    "#plt.colorbar()"
   ]
  },
  {
   "cell_type": "code",
   "execution_count": null,
   "metadata": {
    "collapsed": false
   },
   "outputs": [],
   "source": [
    "sum(force)"
   ]
  },
  {
   "cell_type": "code",
   "execution_count": null,
   "metadata": {
    "collapsed": true
   },
   "outputs": [],
   "source": []
  }
 ],
 "metadata": {
  "kernelspec": {
   "display_name": "Python 3",
   "language": "python",
   "name": "python3"
  },
  "language_info": {
   "codemirror_mode": {
    "name": "ipython",
    "version": 3
   },
   "file_extension": ".py",
   "mimetype": "text/x-python",
   "name": "python",
   "nbconvert_exporter": "python",
   "pygments_lexer": "ipython3",
   "version": "3.6.0"
  }
 },
 "nbformat": 4,
 "nbformat_minor": 2
}
