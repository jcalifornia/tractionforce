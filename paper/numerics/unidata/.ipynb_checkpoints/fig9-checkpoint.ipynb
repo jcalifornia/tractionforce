{
 "cells": [
  {
   "cell_type": "code",
   "execution_count": 1,
   "metadata": {},
   "outputs": [
    {
     "name": "stdout",
     "output_type": "stream",
     "text": [
      "Populating the interactive namespace from numpy and matplotlib\n"
     ]
    }
   ],
   "source": [
    "%pylab inline\n",
    "from scipy import ndimage\n",
    "import matplotlib.pyplot as plt\n",
    "from mpl_toolkits.axes_grid.anchored_artists import AnchoredText\n",
    "import sys\n",
    "import matplotlib\n",
    "matplotlib.rcParams['text.usetex'] = True\n",
    "matplotlib.rcParams['text.latex.unicode'] = True\n",
    "import matplotlib.gridspec as gridspec\n",
    "\n",
    "sys.path.append('../../../')\n",
    "from tractionforce.elasticity import *\n",
    "import gc\n",
    "from tractionforce.norms import *\n",
    "from joblib import Parallel, delayed\n",
    "import multiprocessing\n",
    "import pickle\n",
    "import gzip\n",
    "\n",
    "def latex_float(f):\n",
    "    float_str = \"{0:.2g}\".format(f)\n",
    "    if \"e\" in float_str:\n",
    "        base, exponent = float_str.split(\"e\")\n",
    "        return r\"{0} \\times 10^{{{1}}}\".format(base, int(exponent))\n",
    "    else:\n",
    "        return float_str"
   ]
  },
  {
   "cell_type": "code",
   "execution_count": 2,
   "metadata": {},
   "outputs": [],
   "source": [
    "results_1 = pickle.load(gzip.open('../results/anisotropic_L1_results.gz', 'rb'))\n",
    "results_5 = pickle.load(gzip.open('../results/anisotropic_L2_results.gz', 'rb'))\n",
    "results_2 = pickle.load(gzip.open('../results/isotropic_L1_results.gz', 'rb'))\n",
    "results_3 = pickle.load(gzip.open('../results/isotropic_TV_results1.gz','rb'))\n",
    "results_4 = pickle.load(gzip.open('../results/isotropic_TV_results2.gz','rb'))\n",
    "\n",
    "results = [results_1, results_5, results_2,results_3,results_4]\n",
    "#Phi_labels = [r\"$\\Vert \\sigma_{xz} + \\sigma_{yz}\\Vert_1$\",\n",
    "#              r\"$\\Vert \\sigma_{xz} \\Vert_1 + \\Vert \\sigma_{yz} \\Vert_1$\",\n",
    "#              r\"$\\Vert \\nabla(\\sigma_x+\\sigma_y )\\Vert_1$\",\n",
    "#              r\"$\\Vert (\\partial_x + \\partial_y)\\sigma_x \\Vert_1 + \\Vert\\partial_x+\\partial_y)\\sigma_y \\Vert_1$\",\n",
    "#              r\"$\\Vert \\partial_x \\sigma_x \\Vert_1 + \\Vert \\partial_y \\sigma_x \\Vert_1 + \\Vert\\partial_x \\sigma_y\\Vert_1 + \\Vert\\partial_y \\sigma_y\\Vert_1$\"\n",
    "#             ]\n",
    "\n",
    "Phi_labels = [r\"$\\tilde{\\Phi}_{L^1}$\",\n",
    "             r\"$\\tilde{\\Phi}_{L^2}$\",\n",
    "             r\"$\\Phi_{L^1}$\",\n",
    "             r\"$\\Phi_{TV_1}$\",\n",
    "             r\"$\\Phi_{TV_2}$\"]\n"
   ]
  },
  {
   "cell_type": "code",
   "execution_count": 3,
   "metadata": {
    "collapsed": true
   },
   "outputs": [],
   "source": [
    "x_1 = results_1[-1][0]\n",
    "y_1 = results_1[-1][1]\n",
    "for rel in results: del(rel[-1])\n",
    "x_min, x_max = 69.974999999999994, 133.72999999999999\n",
    "y_min, y_max = 139.94999999999999, 189.71000000000001"
   ]
  },
  {
   "cell_type": "code",
   "execution_count": 4,
   "metadata": {
    "collapsed": true
   },
   "outputs": [],
   "source": [
    "# do individual figures and use tikz to put it all together?"
   ]
  },
  {
   "cell_type": "code",
   "execution_count": null,
   "metadata": {},
   "outputs": [],
   "source": [
    "fig = plt.figure(figsize=(5,14))\n",
    "ax = []\n",
    "im = []\n",
    "\n",
    "maxmagnitude = np.max(np.abs(results[0][-1][0]))\n",
    "maxmagnitude = 0.04\n",
    "gs0 = gridspec.GridSpec(len(results),2)\n",
    "\n",
    "gs_j = []\n",
    "\n",
    "gs_j_innergrids = []\n",
    "\n",
    "for j in range(len(results)):\n",
    "    \n",
    "    \n",
    "    data_error = [res[2] for res in results[j]]\n",
    "    reg_error = [res[3] for res in results[j]]\n",
    "    lvals = [res[4] for res in results[j]]\n",
    "\n",
    "    l_curve_distances = np.abs((reg_error[-1]-reg_error[0])*np.array(data_error) -  \\\n",
    "                (data_error[-1]-data_error[0])*np.array(reg_error)+data_error[-1]*reg_error[0]-reg_error[-1]*data_error[0])\n",
    "    best = np.argsort(l_curve_distances)[-1]\n",
    "\n",
    "    Fx = results[j][best][0][:,0].reshape((len(x_1),len(y_1))).transpose()\n",
    "    Fy = results[j][best][0][:,1].reshape((len(x_1),len(y_1))).transpose()\n",
    "    \n",
    "    ax += [plt.Subplot(fig, gs0[j,0])]\n",
    "    fig.add_subplot(ax[-1])\n",
    "    \n",
    "    ax[-1].set_xlim((x_min - 15, x_max + 15))\n",
    "    ax[-1].set_ylim((y_min - 15, y_max + 25))\n",
    "    ax[-1].set_yticklabels([])\n",
    "    ax[-1].set_xticklabels([])\n",
    "    ax[-1].set_ylabel(Phi_labels[j],fontsize=18)\n",
    "    \n",
    "    at = AnchoredText(\"$\\hat{f}_{x}$\",\n",
    "                  prop=dict(size=14), frameon=True,\n",
    "                  loc=2,\n",
    "                  )\n",
    "    at.patch.set_boxstyle(\"round,pad=0.,rounding_size=0.2\")\n",
    "    ax[-1].add_artist(at)\n",
    "\n",
    "    z = np.ma.masked_array(Fx, np.abs(Fx) < 1e-5)    \n",
    "    im += [ax[-1].pcolormesh(x_1,y_1,z,\n",
    "                        cmap='seismic_r',vmax = maxmagnitude*.75, vmin=-maxmagnitude*.75)]\n",
    "    im[-1].axes.set_aspect('equal')\n",
    "\n",
    "    \n",
    "    \n",
    "    #################################################################\n",
    "    ax += [plt.Subplot(fig, gs0[j,1])]\n",
    "    fig.add_subplot(ax[-1])\n",
    "    \n",
    "    ax[-1].set_xlim((x_min - 15, x_max + 15))\n",
    "    ax[-1].set_ylim((y_min - 15, y_max + 25))\n",
    "    ax[-1].set_yticklabels([])\n",
    "    ax[-1].set_xticklabels([])\n",
    "    \n",
    "    at = AnchoredText(\"$\\hat{f}_{y}$\",\n",
    "                  prop=dict(size=14), frameon=True,\n",
    "                  loc=2,\n",
    "                  )\n",
    "    at.patch.set_boxstyle(\"round,pad=0.,rounding_size=0.2\")\n",
    "    ax[-1].add_artist(at)\n",
    "    \n",
    "    z = np.ma.masked_array(Fy, np.abs(Fy) < 1e-5)        \n",
    "    ax[-1].pcolormesh(x_1,y_1,z,\n",
    "                        cmap='seismic_r',vmax = maxmagnitude*.75, vmin=-maxmagnitude*.75).axes.set_aspect('equal')\n",
    "    \n",
    "   \n",
    "fig.colorbar(im[0], ax = ax, fraction=0.06, pad=0.04, orientation='horizontal').ax.tick_params(labelsize=14)\n",
    "\n",
    "#plt.savefig(\"fig2.pdf\",bbox_inches='tight', \n",
    "#               transparent=True,\n",
    "#               pad_inches=0, dpi=400)\n",
    "\n",
    "\n",
    "plt.savefig(\"../../figures/fig9.png\",bbox_inches='tight', \n",
    "               transparent=True,\n",
    "               pad_inches=0.15, dpi=400)\n",
    "\n",
    "plt.savefig(\"../../figures/fig9.pdf\",bbox_inches='tight', \n",
    "               transparent=True,\n",
    "               pad_inches=0, dpi=400)\n",
    "\n",
    "#plt.show()\n"
   ]
  },
  {
   "cell_type": "code",
   "execution_count": 6,
   "metadata": {},
   "outputs": [
    {
     "name": "stdout",
     "output_type": "stream",
     "text": [
      "Object `ax1.text` not found.\n"
     ]
    }
   ],
   "source": [
    "ax1.text?"
   ]
  },
  {
   "cell_type": "code",
   "execution_count": 7,
   "metadata": {
    "collapsed": true
   },
   "outputs": [],
   "source": [
    "net_forces_x = [sum(res[0][:,0]) for res in results[0]]\n",
    "net_forces_y = [sum(res[0][:,1]) for res in results[0]]"
   ]
  },
  {
   "cell_type": "code",
   "execution_count": null,
   "metadata": {
    "collapsed": true
   },
   "outputs": [],
   "source": []
  }
 ],
 "metadata": {
  "kernelspec": {
   "display_name": "Python 3",
   "language": "python",
   "name": "python3"
  },
  "language_info": {
   "codemirror_mode": {
    "name": "ipython",
    "version": 3
   },
   "file_extension": ".py",
   "mimetype": "text/x-python",
   "name": "python",
   "nbconvert_exporter": "python",
   "pygments_lexer": "ipython3",
   "version": "3.6.0"
  }
 },
 "nbformat": 4,
 "nbformat_minor": 1
}
