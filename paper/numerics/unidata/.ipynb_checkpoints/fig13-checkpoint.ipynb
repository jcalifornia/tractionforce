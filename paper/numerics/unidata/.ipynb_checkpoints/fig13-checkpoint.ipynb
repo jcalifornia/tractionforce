{
 "cells": [
  {
   "cell_type": "code",
   "execution_count": 1,
   "metadata": {},
   "outputs": [
    {
     "name": "stdout",
     "output_type": "stream",
     "text": [
      "Populating the interactive namespace from numpy and matplotlib\n"
     ]
    }
   ],
   "source": [
    "%pylab inline\n",
    "\n",
    "import cvxpy\n",
    "from cvxpy import Variable, Minimize, sum_squares, pnorm, Problem, Parameter, mul_elemwise, sum_entries, Constant\n",
    "from scipy import sparse\n",
    "import sys, argparse\n",
    "from scipy import ndimage\n",
    "import matplotlib.pyplot as plt\n",
    "import pandas as pd\n",
    "import sys\n",
    "import pickle\n",
    "import gzip\n",
    "import matplotlib.gridspec as gridspec\n",
    "from mpl_toolkits.axes_grid.anchored_artists import AnchoredText\n",
    "\n",
    "sys.path.append('../../../')\n",
    "from tractionforce.elasticity import *\n",
    "import gc\n",
    "from tractionforce.norms import *\n",
    "from tractionforce.problem import *\n",
    "\n",
    "from joblib import Parallel, delayed\n",
    "import multiprocessing\n",
    "from matplotlib import rc\n",
    "rc('font',**{'family':'sans-serif','sans-serif':['Helvetica']})\n",
    "## for Palatino and other serif fonts use:\n",
    "#rc('font',**{'family':'serif','serif':['Palatino']})\n",
    "rc('text', usetex=True)\n",
    "def read_data(filename):\n",
    "\n",
    "    # read the boundary points and get a mask\n",
    "    raw_data = np.loadtxt(filename,skiprows=0)\n",
    "    coords = raw_data[:,:2]\n",
    "    deflection = raw_data[:,2]\n",
    "    boundary = raw_data[:,3]\n",
    "    return  coords, deflection, boundary\n"
   ]
  },
  {
   "cell_type": "code",
   "execution_count": 2,
   "metadata": {
    "collapsed": true
   },
   "outputs": [],
   "source": [
    "pdata = pd.read_csv(\"./t2_generated.csv\")\n"
   ]
  },
  {
   "cell_type": "code",
   "execution_count": 3,
   "metadata": {},
   "outputs": [
    {
     "data": {
      "text/plain": [
       "0"
      ]
     },
     "execution_count": 3,
     "metadata": {},
     "output_type": "execute_result"
    }
   ],
   "source": [
    "CUTOFF  = 12\n",
    "N_SOLUTIONS = 64\n",
    "gamma_vals = np.logspace(-4, -1, N_SOLUTIONS)\n",
    "\n",
    "\n",
    "\n",
    "coords = np.array([pdata.x , pdata.y]).T\n",
    "deflection_x = np.array(pdata.u_x)\n",
    "deflection_y = np.array(pdata.u_y)\n",
    "boundary = np.array(pdata.boundary)\n",
    "\n",
    "x_obs_positions = sorted(set(coords[:, 0]))\n",
    "y_obs_positions = sorted(set(coords[:, 1]))\n",
    "\n",
    "dx = abs(x_obs_positions[1]-x_obs_positions[0])\n",
    "dy = abs(y_obs_positions[1]-y_obs_positions[0])\n",
    "\n",
    "N = len(x_obs_positions)\n",
    "M = len(y_obs_positions)\n",
    "\n",
    "boundary2d = boundary.reshape((N, M))\n",
    "mask = np.zeros(boundary2d.shape)\n",
    "for r in range(boundary2d.shape[1]):\n",
    "    pts = np.where(boundary2d[:, r] == 1)\n",
    "    \n",
    "    if (len(pts[0]) > 0):\n",
    "        mini = (min(min(pts)))\n",
    "        maxi = max(max(pts))\n",
    "        mask[ mini:maxi, r] = 1\n",
    "\n",
    "distances2d = -ndimage.distance_transform_edt(mask) + ndimage.distance_transform_edt(1 - mask)\n",
    "distances2d = distances2d.flatten()\n",
    "\n",
    "condition_inside = distances2d<=10\n",
    "condition_outside = (distances2d>10) * (distances2d<=CUTOFF+10)\n",
    "\n",
    "del distances2d, mask, boundary2d\n",
    "gc.collect()\n",
    "\n"
   ]
  },
  {
   "cell_type": "code",
   "execution_count": 4,
   "metadata": {},
   "outputs": [
    {
     "name": "stdout",
     "output_type": "stream",
     "text": [
      "Size of the problem is 5183\n"
     ]
    },
    {
     "name": "stderr",
     "output_type": "stream",
     "text": [
      "/usr/local/lib/python3.6/site-packages/scipy/sparse/compressed.py:774: SparseEfficiencyWarning: Changing the sparsity structure of a csr_matrix is expensive. lil_matrix is more efficient.\n",
      "  SparseEfficiencyWarning)\n"
     ]
    }
   ],
   "source": [
    "x_out = np.array(coords[condition_outside,0]/dx,dtype=int)\n",
    "y_out = np.array(coords[condition_outside,1]/dy,dtype=int)\n",
    "\n",
    "x_in = np.array(coords[condition_inside,0]/dx,dtype=int)\n",
    "y_in = np.array(coords[condition_inside,1]/dy,dtype=int)\n",
    "\n",
    "x_center = np.mean(x_in)\n",
    "y_center = np.mean(y_in)\n",
    "\n",
    "G_in_in_xx, G_in_in_xy, G_out_in_xx, G_out_in_xy, G_in_in_yy, G_in_in_yx, G_out_in_yy, G_out_in_yx, Dx, Dy = gen_matrices(x_in,y_in,x_out,y_out,dx,dy,loworder = True)\n"
   ]
  },
  {
   "cell_type": "markdown",
   "metadata": {},
   "source": [
    "$$\n",
    "\\int_\\Omega \\vert \\sigma \\vert \\mathrm{d}\\mathbf{x} \n",
    "$$"
   ]
  },
  {
   "cell_type": "code",
   "execution_count": 22,
   "metadata": {},
   "outputs": [],
   "source": [
    "results_1 = pickle.load(gzip.open('../results/isotropic_L1_synthetic_results_x_expanded.gz', 'rb'))\n",
    "results_2 = pickle.load(gzip.open('../results/isotropic_L1_synthetic_results_expanded.gz', 'rb'))\n",
    "results_3 = pickle.load(gzip.open('../results/anisotropic_L1_results.gz','rb'))\n",
    "results = [results_1, results_2, results_3]\n",
    "labels = [\"x-only\",\"both\", r\"``truth''\"]\n",
    "\n"
   ]
  },
  {
   "cell_type": "code",
   "execution_count": 23,
   "metadata": {
    "collapsed": true
   },
   "outputs": [],
   "source": [
    "def extractn(inlist,n):\n",
    "    try:\n",
    "        return inlist[n]\n",
    "    except:\n",
    "        return None\n",
    "\n",
    "x_1 = results[0][-1][0]\n",
    "y_1 = results[0][-1][1]\n",
    "for rel in results: del(rel[-1])\n",
    "x_min, x_max = 69.974999999999994, 133.72999999999999\n",
    "y_min, y_max = 139.94999999999999, 189.71000000000001\n",
    "\n",
    "best = [39, 43, 4]\n"
   ]
  },
  {
   "cell_type": "code",
   "execution_count": 24,
   "metadata": {},
   "outputs": [
    {
     "name": "stdout",
     "output_type": "stream",
     "text": [
      "0\n",
      "1\n",
      "2\n"
     ]
    },
    {
     "data": {
      "image/png": "[encoded data removed]",
      "text/plain": [
       "<matplotlib.figure.Figure at 0x10fb2a198>"
      ]
     },
     "metadata": {},
     "output_type": "display_data"
    }
   ],
   "source": [
    "fig = plt.figure(figsize=(5,8))\n",
    "#fig = plt.figure()\n",
    "maxmagnitude = 10\n",
    "gs0 = gridspec.GridSpec(3,1, hspace = 0.1,wspace=0.1)\n",
    "\n",
    "gs_j = []\n",
    "gs_j_innergrids = []\n",
    "ax = []\n",
    "im = []\n",
    "\n",
    "\n",
    "for j in range(3):\n",
    "    print(j)\n",
    "    gs_j += [gridspec.GridSpecFromSubplotSpec(1,2,\n",
    "                subplot_spec=gs0[j,0],\n",
    "                  hspace = 0.1,wspace=0.1)]\n",
    "                #height_ratios = [1,1,1,1,1,1,1])]\n",
    "    \n",
    "    s_x = np.zeros(coords.shape[0])\n",
    "    s_y = np.zeros(coords.shape[0])\n",
    "\n",
    "    try:\n",
    "        s_x[condition_inside] = results[j][best[j]][0][0][:,0] * 1e2\n",
    "        s_y[condition_inside] = results[j][best[j]][0][0][:,1] * 1e2\n",
    "    except:\n",
    "        s_x = results[j][best[j]][0][:,0] * 1e2\n",
    "        s_y = results[j][best[j]][0][:,1] * 1e2\n",
    "    # form a new 2x1 subplot of the results\n",
    "    \n",
    "    ax += [plt.Subplot(fig, gs_j[j][0,0])]\n",
    "    fig.add_subplot(ax[-1])\n",
    "    \n",
    "    ax[-1].set_xlim((x_min - 30, x_max + 30))\n",
    "    ax[-1].set_ylim((y_min - 30, y_max + 30))\n",
    "    #ax[-1].set_ylabel(labels[j],fontsize=18)\n",
    "    ax[-1].set_yticklabels([])\n",
    "    ax[-1].set_xticklabels([])\n",
    "    ax[-1].set_ylabel(labels[j],fontsize=18)\n",
    "\n",
    "    #plt.axis('off')\n",
    "    \n",
    "    at = AnchoredText(\"$\\hat{f}_{x}$\",\n",
    "                  prop=dict(size=14), frameon=True,\n",
    "                  loc=2,\n",
    "                  )\n",
    "    at.patch.set_boxstyle(\"round,pad=0.,rounding_size=0.2\")\n",
    "    ax[-1].add_artist(at)\n",
    "\n",
    "    z = np.ma.masked_array(s_x, np.abs(s_x) < 1e-6)    \n",
    "    im += [ax[-1].pcolormesh(x_obs_positions,y_obs_positions,s_x.reshape((len(y_obs_positions),len(x_obs_positions))).T,\n",
    "                           cmap='seismic_r',vmax = maxmagnitude, vmin=-maxmagnitude)]\n",
    "    \n",
    "    im[-1].axes.set_aspect('equal')\n",
    "    \n",
    "    ax += [plt.Subplot(fig, gs_j[j][0,1])]\n",
    "    fig.add_subplot(ax[-1])\n",
    "    \n",
    "    ax[-1].set_xlim((x_min - 30, x_max + 30))\n",
    "    ax[-1].set_ylim((y_min - 30, y_max + 30))\n",
    "    ax[-1].set_yticklabels([])\n",
    "    ax[-1].set_xticklabels([])\n",
    "    \n",
    "    at = AnchoredText(\"$\\hat{f}_{y}$\",\n",
    "                  prop=dict(size=14), frameon=True,\n",
    "                  loc=2,\n",
    "                  )\n",
    "    at.patch.set_boxstyle(\"round,pad=0.,rounding_size=0.2\")\n",
    "    ax[-1].add_artist(at)\n",
    "    \n",
    "    z = np.ma.masked_array(s_y, np.abs(s_y) < 1e-6)        \n",
    "    im += [ax[-1].pcolormesh(x_obs_positions,y_obs_positions,s_y.reshape((len(y_obs_positions),len(x_obs_positions))).T,\n",
    "                           cmap='seismic_r',vmax = maxmagnitude, vmin=-maxmagnitude)]\n",
    "    \n",
    "    im[-1].axes.set_aspect('equal')\n",
    "    \n",
    "#ax[0].text(100,220,r\"Unconstrained\",fontsize=20)\n",
    "#ax[2].text(120,220,r\"Constrained\",fontsize=20)\n",
    "\n",
    "cb = fig.colorbar(im[0], ax = ax, fraction=0.06, pad=0.04, orientation='horizontal')\n",
    "cb.ax.tick_params(labelsize=12)\n",
    "cb.set_label(label=r\"$\\times 10^{-5}$\")\n",
    "\n",
    "plt.savefig(\"../../figures/fig13.pdf\",bbox_inches='tight', \n",
    "               transparent=True,\n",
    "               pad_inches=0.15, dpi=400)    "
   ]
  },
  {
   "cell_type": "code",
   "execution_count": null,
   "metadata": {
    "collapsed": true
   },
   "outputs": [],
   "source": []
  }
 ],
 "metadata": {
  "kernelspec": {
   "display_name": "Python 3",
   "language": "python",
   "name": "python3"
  },
  "language_info": {
   "codemirror_mode": {
    "name": "ipython",
    "version": 3
   },
   "file_extension": ".py",
   "mimetype": "text/x-python",
   "name": "python",
   "nbconvert_exporter": "python",
   "pygments_lexer": "ipython3",
   "version": "3.6.0"
  }
 },
 "nbformat": 4,
 "nbformat_minor": 1
}
