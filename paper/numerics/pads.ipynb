{
 "cells": [
  {
   "cell_type": "markdown",
   "metadata": {},
   "source": [
    "# Load libraries and set the coordinate system"
   ]
  },
  {
   "cell_type": "code",
   "execution_count": 1,
   "metadata": {
    "collapsed": false
   },
   "outputs": [
    {
     "name": "stdout",
     "output_type": "stream",
     "text": [
      "Populating the interactive namespace from numpy and matplotlib\n"
     ]
    }
   ],
   "source": [
    "%pylab inline\n",
    "\n",
    "import numpy as np\n",
    "import cvxpy\n",
    "from cvxpy import Variable, Minimize, sum_squares, norm, Problem, Parameter, mul_elemwise, sum_entries, Constant\n",
    "from scipy import sparse\n",
    "import sys, argparse\n",
    "from scipy import ndimage\n",
    "import matplotlib.pyplot as plt\n",
    "from matplotlib.backends.backend_pdf import PdfPages\n",
    "import sys\n",
    "\n",
    "sys.path.append('../../')\n",
    "from tractionforce.elasticity import *\n",
    "import gc\n",
    "from tractionforce.norms import *\n",
    "from joblib import Parallel, delayed\n",
    "import multiprocessing\n",
    "\n",
    "\"\"\"\n",
    "Set up the domain and the grid\n",
    "\"\"\"\n",
    "\n",
    "x_obs_positions = np.arange(50)\n",
    "y_obs_positions = np.arange(50)\n",
    "\n",
    "dx = abs(x_obs_positions[1]-x_obs_positions[0])\n",
    "dy = abs(y_obs_positions[1]-y_obs_positions[0])\n",
    "\n",
    "N = len(x_obs_positions)\n",
    "M = len(y_obs_positions)\n",
    "\n",
    "coords = [[ [x,y] for y in y_obs_positions] for x in x_obs_positions]\n",
    "coords = np.array([item for sublist in coords for item in sublist])\n",
    "\n",
    "\n",
    "\n"
   ]
  },
  {
   "cell_type": "markdown",
   "metadata": {},
   "source": [
    "# Generate the stress field"
   ]
  },
  {
   "cell_type": "code",
   "execution_count": 2,
   "metadata": {
    "collapsed": false
   },
   "outputs": [
    {
     "data": {
      "text/plain": [
       "<matplotlib.colorbar.Colorbar at 0x10f3a2390>"
      ]
     },
     "execution_count": 2,
     "metadata": {},
     "output_type": "execute_result"
    },
    {
     "data": {
      "image/png": "[encoded data removed]",
      "text/plain": [
       "<matplotlib.figure.Figure at 0x10c2a7898>"
      ]
     },
     "metadata": {},
     "output_type": "display_data"
    }
   ],
   "source": [
    "CUTOFF  = 14\n",
    "\n",
    "fr = 1e-4\n",
    "ftheta = 1e-4\n",
    "\n",
    "m = 2\n",
    "n = 1\n",
    "\n",
    "condition_outside = (distances > c) * (distances < c + CUTOFF)\n",
    "condition_inside = distances < c\n",
    "\n",
    "stress_r = 0 + (distances>=a) * (distances<=b) * fr * np.sin(m*angles)\n",
    "stress_theta = 0 + (distances>=a) * (distances<=b) * ftheta * np.cos(n*angles)\n",
    "\n",
    "stress_x = stress_r*cos(angles) + stress_theta*sin(angles)\n",
    "stress_y = -stress_r*sin(angles) + stress_theta*cos(angles)\n",
    "\n",
    "s_x = stress_x[condition_inside]\n",
    "s_y = stress_y[condition_inside]\n",
    "\n",
    "# build the stress field\n",
    "\n",
    "x_out = np.array(coords[condition_outside,0]/dx,dtype=int)\n",
    "y_out = np.array(coords[condition_outside,1]/dy,dtype=int)\n",
    "\n",
    "x_in = np.array(coords[condition_inside,0]/dx,dtype=int)\n",
    "y_in = np.array(coords[condition_inside,1]/dy,dtype=int)\n",
    "\n",
    "plt.pcolormesh(x_obs_positions,y_obs_positions,stress_x.reshape((50,50)).transpose(),\n",
    "                           cmap='seismic_r',vmax = 1e-4, vmin=-1e-4).axes.set_aspect('equal')\n",
    "plt.colorbar()"
   ]
  },
  {
   "cell_type": "markdown",
   "metadata": {},
   "source": [
    "# Generate linear system matrices"
   ]
  },
  {
   "cell_type": "code",
   "execution_count": 3,
   "metadata": {
    "collapsed": false
   },
   "outputs": [
    {
     "name": "stdout",
     "output_type": "stream",
     "text": [
      "Size of the problem is 2303\n"
     ]
    },
    {
     "name": "stderr",
     "output_type": "stream",
     "text": [
      "/usr/local/lib/python3.6/site-packages/scipy/sparse/compressed.py:730: SparseEfficiencyWarning: Changing the sparsity structure of a csr_matrix is expensive. lil_matrix is more efficient.\n",
      "  SparseEfficiencyWarning)\n"
     ]
    }
   ],
   "source": [
    "def gen_matrices(x_in,y_in,x_out,y_out,dx,dy):\n",
    "\n",
    "    x_center = np.mean(x_in)\n",
    "    y_center = np.mean(y_in)\n",
    "    n_in = len(x_in)\n",
    "    n_out = len(x_out)\n",
    "\n",
    "    print(\"Size of the problem is \" + str( n_in + n_out))\n",
    "\n",
    "    deltax_in_in = x_in[...,np.newaxis] - x_in[np.newaxis, ...]  # should be x-x'\n",
    "    deltax_out_in = x_out[...,np.newaxis] - x_in[np.newaxis, ...]  # should be x-x'\n",
    "    deltay_in_in = y_in[...,np.newaxis] - y_in[np.newaxis, ...]  # y - y'\n",
    "    deltay_out_in = y_out[...,np.newaxis] - y_in[np.newaxis,...] # y - y'\n",
    "\n",
    "    l2_in_plus_in_plus = (np.array([deltax_in_in*dx - dx/2.0, deltay_in_in*dy - dy/2.0])**2).sum(axis=0)**0.5\n",
    "    l2_in_plus_in_minus = (np.array([deltax_in_in*dx - dx/2.0, deltay_in_in*dy + dy/2.0])**2).sum(axis=0)**0.5\n",
    "    l2_in_minus_in_plus = (np.array([deltax_in_in*dx + dx/2.0, deltay_in_in*dy - dy/2.0])**2).sum(axis=0)**0.5\n",
    "    l2_in_minus_in_minus = (np.array([deltax_in_in*dx + dx/2.0, deltay_in_in*dy+ dy/2.0]) ** 2).sum(axis=0) ** 0.5\n",
    "\n",
    "    l2_out_plus_in_plus = (np.array([deltax_out_in*dx - dx/2.0, deltay_out_in*dy - dy/2.0])**2).sum(axis=0)**0.5\n",
    "    l2_out_plus_in_minus = (np.array([deltax_out_in*dx - dx/2.0, deltay_out_in*dy + dy/2.0])**2).sum(axis=0)**0.5\n",
    "    l2_out_minus_in_plus = (np.array([deltax_out_in*dx + dx/2.0, deltay_out_in*dy - dy/2.0])**2).sum(axis=0)**0.5\n",
    "    l2_out_minus_in_minus = (np.array([deltax_out_in*dx + dx/2.0, deltay_out_in*dy + dy/2.0]) ** 2).sum(axis=0) ** 0.5\n",
    "\n",
    "    x_adjacency = sparse.csr_matrix((deltax_in_in == -1)*(deltay_in_in == 0)*-1 + (deltax_in_in == 1)*(deltay_in_in == 0)*1)\n",
    "    y_adjacency = sparse.csr_matrix((deltay_in_in == -1)*(deltax_in_in == 0)*-1 + (deltay_in_in == 1)*(deltax_in_in == 0)*1)\n",
    "\n",
    "    A_in_in_x = fxx(deltax_in_in*dx-dx/2. , deltay_in_in*dy-dy/2.0 , l2_in_plus_in_plus) - \\\n",
    "              fxx(deltax_in_in*dx-dx/2. , deltay_in_in*dy+dy/2.0, l2_in_plus_in_minus) -\\\n",
    "              fxx(deltax_in_in*dx+dx/2. , deltay_in_in*dy-dy/2.0, l2_in_minus_in_plus) + \\\n",
    "              fxx(deltax_in_in*dx+dx/2. , deltay_in_in*dy+dy/2.0, l2_in_minus_in_minus)\n",
    "\n",
    "    A_out_in_x = fxx(deltax_out_in*dx-dx/2. , deltay_out_in*dy-dy/2.0 , l2_out_plus_in_plus) - \\\n",
    "              fxx(deltax_out_in*dx-dx/2. , deltay_out_in*dy+dy/2.0, l2_out_plus_in_minus) -\\\n",
    "              fxx(deltax_out_in*dx+dx/2. , deltay_out_in*dy-dy/2.0, l2_out_minus_in_plus) + \\\n",
    "              fxx(deltax_out_in*dx+dx/2. , deltay_out_in*dy+dy/2.0, l2_out_minus_in_minus)\n",
    "\n",
    "    D_in_in_x = fxy(deltax_in_in*dx-dx/2. , deltay_in_in*dy-dy/2.0 , l2_in_plus_in_plus) - \\\n",
    "              fxy(deltax_in_in*dx-dx/2. , deltay_in_in*dy+dy/2.0, l2_in_plus_in_minus) - \\\n",
    "              fxy(deltax_in_in*dx+dx/2. , deltay_in_in*dy-dy/2.0, l2_in_minus_in_plus) + \\\n",
    "              fxy(deltax_in_in*dx+dx/2. , deltay_in_in*dy+dy/2.0, l2_in_minus_in_minus)\n",
    "\n",
    "    D_out_in_x = fxy(deltax_out_in*dx-dx/2. , deltay_out_in*dy-dy/2.0 , l2_out_plus_in_plus) - \\\n",
    "               fxy(deltax_out_in*dx-dx/2. , deltay_out_in*dy+dy/2.0, l2_out_plus_in_minus) - \\\n",
    "               fxy(deltax_out_in*dx+dx/2. , deltay_out_in*dy-dy/2.0, l2_out_minus_in_plus) + \\\n",
    "               fxy(deltax_out_in*dx+dx/2. , deltay_out_in*dy+dy/2.0, l2_out_minus_in_minus)\n",
    "\n",
    "    B_in_in_x = x_in[..., np.newaxis]*A_in_in_x - fxxx(deltax_in_in-dx/2. , deltay_in_in-dy/2.0 , l2_in_plus_in_plus) + \\\n",
    "                  fxxx(deltax_in_in-dx/2. , deltay_in_in+dy/2.0, l2_in_plus_in_minus) +\\\n",
    "                  fxxx(deltax_in_in+dx/2. , deltay_in_in-dy/2.0, l2_in_minus_in_plus) - \\\n",
    "                  fxxx(deltax_in_in+dx/2. , deltay_in_in+dy/2.0, l2_in_minus_in_minus)\n",
    "\n",
    "    B_out_in_x = x_out[..., np.newaxis]*A_out_in_x - fxxx(deltax_out_in-dx/2. , deltay_out_in-dy/2.0 , l2_out_plus_in_plus) + \\\n",
    "              fxxx(deltax_out_in-dx/2. , deltay_out_in+dy/2.0, l2_out_plus_in_minus) +\\\n",
    "              fxxx(deltax_out_in+dx/2. , deltay_out_in-dy/2.0, l2_out_minus_in_plus) - \\\n",
    "              fxxx(deltax_out_in+dx/2. , deltay_out_in+dy/2.0, l2_out_minus_in_minus)\n",
    "\n",
    "    C_in_in_x = y_in[..., np.newaxis]*A_in_in_x - fxxy(deltax_in_in-dx/2. , deltay_in_in-dy/2.0 , l2_in_plus_in_plus) + \\\n",
    "              fxxy(deltax_in_in-dx/2. , deltay_in_in+dy/2.0, l2_in_plus_in_minus) + \\\n",
    "              fxxy(deltax_in_in+dx/2. , deltay_in_in-dy/2.0, l2_in_minus_in_plus) - \\\n",
    "              fxxy(deltax_in_in+dx/2. , deltay_in_in+dy/2.0, l2_in_minus_in_minus)\n",
    "\n",
    "    C_out_in_x = y_out[..., np.newaxis]*A_out_in_x - fxxy(deltax_out_in-dx/2. , deltay_out_in-dy/2.0 , l2_out_plus_in_plus) + \\\n",
    "               fxxy(deltax_out_in-dx/2. , deltay_out_in+dy/2.0, l2_out_plus_in_minus) + \\\n",
    "               fxxy(deltax_out_in+dx/2. , deltay_out_in-dy/2.0, l2_out_minus_in_plus) - \\\n",
    "               fxxy(deltax_out_in+dx/2. , deltay_out_in+dy/2.0, l2_out_minus_in_minus)\n",
    "\n",
    "    E_in_in_x = x_in[..., np.newaxis] * D_in_in_x - fxyx(deltax_in_in - dx / 2., deltay_in_in - dy / 2.0,\n",
    "                                                     l2_in_plus_in_plus) + \\\n",
    "              fxyx(deltax_in_in - dx / 2., deltay_in_in + dy / 2.0, l2_in_plus_in_minus) + \\\n",
    "              fxyx(deltax_in_in + dx / 2., deltay_in_in - dy / 2.0, l2_in_minus_in_plus) - \\\n",
    "              fxyx(deltax_in_in + dx / 2., deltay_in_in + dy / 2.0, l2_in_minus_in_minus)\n",
    "\n",
    "    E_out_in_x = x_out[..., np.newaxis] * D_out_in_x - fxyx(deltax_out_in - dx / 2., deltay_out_in - dy / 2.0,\n",
    "                                                       l2_out_plus_in_plus) + \\\n",
    "               fxyx(deltax_out_in - dx / 2., deltay_out_in + dy / 2.0, l2_out_plus_in_minus) + \\\n",
    "               fxyx(deltax_out_in + dx / 2., deltay_out_in - dy / 2.0, l2_out_minus_in_plus) - \\\n",
    "               fxyx(deltax_out_in + dx / 2., deltay_out_in + dy / 2.0, l2_out_minus_in_minus)\n",
    "\n",
    "    F_in_in_x = y_in[..., np.newaxis]*D_in_in_x - fxyx(deltax_in_in-dx/2. , deltay_in_in-dy/2.0 , l2_in_plus_in_plus) + \\\n",
    "              fxyx(deltax_in_in-dx/2. , deltay_in_in+dy/2.0, l2_in_plus_in_minus) + \\\n",
    "              fxyx(deltax_in_in+dx/2. , deltay_in_in-dy/2.0, l2_in_minus_in_plus) - \\\n",
    "              fxyx(deltax_in_in+dx/2. , deltay_in_in+dy/2.0, l2_in_minus_in_minus)\n",
    "\n",
    "    F_out_in_x = y_out[..., np.newaxis]* D_out_in_x - fxyx(deltax_out_in-dx/2. , deltay_out_in-dy/2.0 , l2_out_plus_in_plus) + \\\n",
    "               fxyx(deltax_out_in-dx/2. , deltay_out_in+dy/2.0, l2_out_plus_in_minus) + \\\n",
    "               fxyx(deltax_out_in+dx/2. , deltay_out_in-dy/2.0, l2_out_minus_in_plus) - \\\n",
    "               fxyx(deltax_out_in+dx/2. , deltay_out_in+dy/2.0, l2_out_minus_in_minus)\n",
    "\n",
    "    # u_y measurements      \n",
    "\n",
    "    A_in_in_y = fxx( deltay_in_in*dy-dy/2.0 , deltax_in_in*dx-dx/2. , l2_in_plus_in_plus) - \\\n",
    "              fxx(deltay_in_in*dy+dy/2.0, deltax_in_in*dx-dx/2. , l2_in_plus_in_minus) -\\\n",
    "              fxx(deltay_in_in*dy-dy/2.0, deltax_in_in*dx+dx/2. , l2_in_minus_in_plus) + \\\n",
    "              fxx(deltay_in_in*dy+dy/2.0, deltax_in_in*dx+dx/2. , l2_in_minus_in_minus)\n",
    "\n",
    "    A_out_in_y = fxx(deltay_out_in*dy-dy/2.0 , deltax_out_in*dx-dx/2. , l2_out_plus_in_plus) - \\\n",
    "              fxx(deltay_out_in*dy+dy/2.0, deltax_out_in*dx-dx/2. , l2_out_plus_in_minus) -\\\n",
    "              fxx(deltay_out_in*dy-dy/2.0, deltax_out_in*dx+dx/2. , l2_out_minus_in_plus) + \\\n",
    "              fxx(deltay_out_in*dy+dy/2.0, deltax_out_in*dx+dx/2. , l2_out_minus_in_minus)\n",
    "\n",
    "    D_in_in_y = fxy(deltay_in_in*dy-dy/2.0 , deltax_in_in*dx-dx/2. , l2_in_plus_in_plus) - \\\n",
    "              fxy(deltay_in_in*dy+dy/2.0, deltax_in_in*dx-dx/2. , l2_in_plus_in_minus) - \\\n",
    "              fxy(deltay_in_in*dy-dy/2.0, deltax_in_in*dx+dx/2. , l2_in_minus_in_plus) + \\\n",
    "              fxy(deltay_in_in*dy+dy/2.0, deltax_in_in*dx+dx/2. , l2_in_minus_in_minus)\n",
    "\n",
    "    D_out_in_y = fxy(deltay_out_in*dy-dy/2.0 , deltax_out_in*dx-dx/2. , l2_out_plus_in_plus) - \\\n",
    "               fxy(deltay_out_in*dy+dy/2.0, deltax_out_in*dx-dx/2. , l2_out_plus_in_minus) - \\\n",
    "               fxy(deltay_out_in*dy-dy/2.0, deltax_out_in*dx+dx/2. , l2_out_minus_in_plus) + \\\n",
    "               fxy(deltay_out_in*dy+dy/2.0, deltax_out_in*dx+dx/2. , l2_out_minus_in_minus)\n",
    "\n",
    "    B_in_in_y = y_in[..., np.newaxis]*A_in_in_y - fxxx(deltay_in_in-dy/2.0 , deltax_in_in-dx/2. , l2_in_plus_in_plus) + \\\n",
    "                  fxxx(deltay_in_in+dy/2.0, deltax_in_in-dx/2. , l2_in_plus_in_minus) +\\\n",
    "                  fxxx(deltay_in_in-dy/2.0, deltax_in_in+dx/2. , l2_in_minus_in_plus) - \\\n",
    "                  fxxx(deltay_in_in+dy/2.0, deltax_in_in+dx/2. , l2_in_minus_in_minus)\n",
    "\n",
    "    B_out_in_y = y_out[..., np.newaxis]*A_out_in_y - fxxx(deltay_out_in-dy/2.0 , deltax_out_in-dx/2. , l2_out_plus_in_plus) + \\\n",
    "              fxxx(deltay_out_in+dy/2.0, deltax_out_in-dx/2. , l2_out_plus_in_minus) +\\\n",
    "              fxxx(deltay_out_in-dy/2.0, deltax_out_in+dx/2. , l2_out_minus_in_plus) - \\\n",
    "              fxxx(deltay_out_in+dy/2.0, deltax_out_in+dx/2. , l2_out_minus_in_minus)\n",
    "\n",
    "    C_in_in_y = x_in[..., np.newaxis]*A_in_in_y - fxxy(deltay_in_in-dy/2.0 , deltax_in_in-dx/2. , l2_in_plus_in_plus) + \\\n",
    "              fxxy(deltay_in_in+dy/2.0, deltax_in_in-dx/2. , l2_in_plus_in_minus) + \\\n",
    "              fxxy(deltay_in_in-dy/2.0, deltax_in_in+dx/2. , l2_in_minus_in_plus) - \\\n",
    "              fxxy(deltay_in_in+dy/2.0, deltax_in_in+dx/2. , l2_in_minus_in_minus)\n",
    "\n",
    "    C_out_in_y = x_out[..., np.newaxis]*A_out_in_y - fxxy(deltay_out_in-dy/2.0, deltax_out_in-dx/2., l2_out_plus_in_plus) + \\\n",
    "               fxxy(deltay_out_in+dy/2.0, deltax_out_in-dx/2. , l2_out_plus_in_minus) + \\\n",
    "               fxxy(deltay_out_in-dy/2.0, deltax_out_in+dx/2. , l2_out_minus_in_plus) - \\\n",
    "               fxxy(deltay_out_in+dy/2.0, deltax_out_in+dx/2. , l2_out_minus_in_minus)\n",
    "\n",
    "    E_in_in_y = y_in[..., np.newaxis] * D_in_in_y - fxyx(deltay_in_in - dy / 2.0, deltax_in_in - dx / 2., \n",
    "                                                     l2_in_plus_in_plus) + \\\n",
    "              fxyx(deltay_in_in + dy / 2.0, deltax_in_in - dx / 2., l2_in_plus_in_minus) + \\\n",
    "              fxyx(deltay_in_in - dy / 2.0, deltax_in_in + dx / 2., l2_in_minus_in_plus) - \\\n",
    "              fxyx(deltay_in_in + dy / 2.0, deltax_in_in + dx / 2., l2_in_minus_in_minus)\n",
    "\n",
    "    E_out_in_y = y_out[..., np.newaxis] * D_out_in_y - fxyx(deltay_out_in - dy / 2.0, deltax_out_in - dx / 2., \n",
    "                                                       l2_out_plus_in_plus) + \\\n",
    "               fxyx(deltay_out_in + dy / 2.0, deltax_out_in - dx / 2., l2_out_plus_in_minus) + \\\n",
    "               fxyx(deltay_out_in - dy / 2.0, deltax_out_in + dx / 2., l2_out_minus_in_plus) - \\\n",
    "               fxyx(deltay_out_in + dy / 2.0, deltax_out_in + dx / 2., l2_out_minus_in_minus)\n",
    "\n",
    "    F_in_in_y = x_in[..., np.newaxis]*D_in_in_y - fxyx(deltay_in_in-dy/2.0 , deltax_in_in-dx/2. , l2_in_plus_in_plus) + \\\n",
    "              fxyx(deltay_in_in+dy/2.0, deltax_in_in-dx/2. , l2_in_plus_in_minus) + \\\n",
    "              fxyx(deltay_in_in-dy/2.0, deltax_in_in+dx/2. , l2_in_minus_in_plus) - \\\n",
    "              fxyx(deltay_in_in+dy/2.0, deltax_in_in+dx/2. , l2_in_minus_in_minus)\n",
    "\n",
    "    F_out_in_y = x_out[..., np.newaxis]* D_out_in_y - fxyx(deltay_out_in-dy/2.0 , deltax_out_in-dx/2. , l2_out_plus_in_plus) + \\\n",
    "               fxyx(deltay_out_in+dy/2.0, deltax_out_in-dx/2. , l2_out_plus_in_minus) + \\\n",
    "               fxyx(deltay_out_in-dy/2.0, deltax_out_in+dx/2. , l2_out_minus_in_plus) - \\\n",
    "               fxyx(deltay_out_in+dy/2.0, deltax_out_in+dx/2. , l2_out_minus_in_minus)\n",
    "\n",
    "\n",
    "    G_in_in_xx = A_in_in_x + B_in_in_x + C_in_in_x\n",
    "    G_in_in_xy = D_in_in_x + E_in_in_x + F_in_in_x\n",
    "    G_out_in_xx = (A_out_in_x + B_out_in_x + C_out_in_x)\n",
    "    G_out_in_xy = (D_out_in_x + E_out_in_x + F_out_in_x)\n",
    "\n",
    "    G_in_in_yy = A_in_in_y + B_in_in_y + C_in_in_y\n",
    "    G_in_in_yx = D_in_in_y + E_in_in_y + F_in_in_y\n",
    "    G_out_in_yy = (A_out_in_y + B_out_in_y + C_out_in_y)\n",
    "    G_out_in_yx = (D_out_in_y + E_out_in_y + F_out_in_y)\n",
    "    \n",
    "    Dx = sparse.csr_matrix((deltax_in_in == 0)*(deltay_in_in == 0)*-1 + (deltax_in_in == 1)*(deltay_in_in == 0)*1)\n",
    "    rowsums = np.squeeze(np.asarray((Dx.sum(axis=1) != 0)))\n",
    "    Dx[rowsums,:] = 0\n",
    "    Dx.eliminate_zeros()\n",
    "    Dx = Constant(Dx)\n",
    "\n",
    "    Dy = sparse.csr_matrix(\n",
    "        (deltay_in_in == 0) * (deltax_in_in == 0) * -1 + (deltay_in_in == 1) * (deltax_in_in == 0) * 1)\n",
    "    rowsums = np.squeeze(np.asarray((Dy.sum(axis=1) != 0)))\n",
    "    Dy[rowsums,:] = 0\n",
    "    Dy.eliminate_zeros()\n",
    "    Dy = Constant(Dy)\n",
    "\n",
    "    return G_in_in_xx, G_in_in_xy, G_out_in_xx, G_out_in_xy, G_in_in_yy, G_in_in_yx, G_out_in_yy, G_out_in_yx, Dx, Dy\n",
    "\n",
    "G_in_in_xx, G_in_in_xy, G_out_in_xx, G_out_in_xy, G_in_in_yy, G_in_in_yx, G_out_in_yy, G_out_in_yx, Dx, Dy = gen_matrices(x_in,y_in,x_out,y_out,dx,dy)"
   ]
  },
  {
   "cell_type": "code",
   "execution_count": 4,
   "metadata": {
    "collapsed": false
   },
   "outputs": [],
   "source": [
    "# Generate the measured dispalcements\n",
    "\n",
    "u_in_x = G_in_in_xx.dot(s_x) + G_in_in_xy.dot(s_y)\n",
    "u_out_x = G_out_in_xx.dot(s_x) + G_out_in_xy.dot(s_y)\n",
    "\n",
    "u_in_y = G_in_in_yx.dot(s_x) + G_in_in_yy.dot(s_y)\n",
    "u_out_y = G_out_in_yx.dot(s_x)  + G_out_in_yy.dot(s_y)\n"
   ]
  },
  {
   "cell_type": "code",
   "execution_count": 5,
   "metadata": {
    "collapsed": false
   },
   "outputs": [],
   "source": [
    "N_SOLUTIONS = 24\n",
    "gamma_vals = np.logspace(-5, 0, N_SOLUTIONS)\n",
    "\n",
    "\n",
    "# Coords are 1:100 in each direction\n",
    "# annulus centered\n",
    "# inner radius 20\n",
    "# outer radius 30\n",
    "# boundary radius 35\n",
    "\n",
    "gamma = Parameter(sign=\"positive\",value=1)\n",
    "\n",
    "n_in = len(x_in)\n",
    "x_center = np.mean(x_in)\n",
    "y_center = np.mean(y_in)\n",
    "\n",
    "sigma_xz = Variable(n_in)\n",
    "sigma_yz = Variable(n_in)\n",
    "predicted_in_x = G_in_in_xx * sigma_xz + G_in_in_xy * sigma_yz\n",
    "predicted_out_x = G_out_in_xx * sigma_xz + G_out_in_xy * sigma_yz\n",
    "predicted_in_y = G_in_in_yx * sigma_xz + G_in_in_yy * sigma_yz\n",
    "predicted_out_y = G_out_in_yx * sigma_xz + G_out_in_yy * sigma_yz\n",
    "\n",
    "\n",
    "error = sum_squares(u_in_x - predicted_in_x) + sum_squares(u_out_x - predicted_out_x) + \\\n",
    "    sum_squares(u_in_y - predicted_in_y) + sum_squares(u_out_y - predicted_out_y)\n",
    "\n",
    "forceconstraints = [sum_entries(sigma_xz)==0, sum_entries(sigma_yz)==0] # add torque-free constraint here\n",
    "net_torque = sum_entries(mul_elemwise(x_in-x_center,sigma_yz) - mul_elemwise(y_in-y_center,sigma_xz))\n",
    "\n",
    "torqueconstraints = [net_torque == 0]\n",
    "\n",
    "constraints = forceconstraints + torqueconstraints"
   ]
  },
  {
   "cell_type": "code",
   "execution_count": 6,
   "metadata": {
    "collapsed": true
   },
   "outputs": [],
   "source": [
    "regularity_penalty = norm(sigma_xz+sigma_yz,p=1)\n",
    "objective = Minimize(error + gamma*regularity_penalty)\n",
    "prob = Problem(objective, constraints)\n",
    "\n",
    "sq_penalty = []\n",
    "l1_penalty = []\n",
    "sigma_xz_values = []\n",
    "sigma_yz_values = []\n",
    "\n",
    "u_x_values = []\n",
    "u_y_values = []"
   ]
  },
  {
   "cell_type": "code",
   "execution_count": 7,
   "metadata": {
    "collapsed": false
   },
   "outputs": [],
   "source": [
    "num_cores = multiprocessing.cpu_count() - 4\n",
    "\n",
    "def invert_one(val):\n",
    "    gamma.value = val\n",
    "    try:\n",
    "        prob.solve(verbose= True, max_iters = 50,\n",
    "                   warm_start=True, solver = cvxpy.CVXOPT,\n",
    "                   feastol = 1e-6, reltol = 1e-5,\n",
    "                   abstol = 1e-6)\n",
    "\n",
    "    except cvxpy.SolverError:\n",
    "        return None\n",
    "\n",
    "    sq_penalty.append(error.value)\n",
    "    l1_penalty.append(regularity_penalty.value)\n",
    "    sigma_xz_values.append(sigma_xz.value)\n",
    "    sigma_yz_values.append(sigma_yz.value)\n",
    "\n",
    "    force = np.zeros_like(coords)\n",
    "    force[condition_inside,0] = sigma_xz.value.reshape((n_in,))\n",
    "    force[condition_inside,1] = sigma_yz.value.reshape((n_in,))\n",
    "\n",
    "    u_x = np.zeros(coords.shape[0])\n",
    "    u_y = np.zeros(coords.shape[0])\n",
    "    u_x[condition_inside] = predicted_in_x.value\n",
    "    u_x[condition_outside] = predicted_out_x.value\n",
    "    u_y[condition_inside] = predicted_in_y.value\n",
    "    u_y[condition_outside] = predicted_out_y.value\n",
    "    #u_x_values.append(u_x)\n",
    "\n",
    "    return force, np.array([u_x, u_y]).T, error.value, regularity_penalty.value, val\n",
    "\n",
    "\n",
    "#results = Parallel(n_jobs=num_cores)(delayed(invert_one)(val) for val in gamma_vals)\n"
   ]
  },
  {
   "cell_type": "code",
   "execution_count": 8,
   "metadata": {
    "collapsed": false
   },
   "outputs": [
    {
     "name": "stdout",
     "output_type": "stream",
     "text": [
      "     pcost       dcost       gap    pres   dres   k/t\n",
      " 0:  0.0000e+00 -4.0000e+00  4e+03  2e+01  2e+00  1e+00\n",
      " 1: -2.9989e+00 -7.7292e-01  3e+02  3e+00  3e-01  3e+00\n",
      " 2:  1.0184e+00  1.3073e+00  3e+00  5e-02  5e-03  3e-01\n",
      " 3:  1.3687e+00  1.4085e+00  5e-01  6e-03  8e-04  4e-02\n",
      " 4:  1.4340e+00  1.4407e+00  8e-02  1e-03  1e-04  7e-03\n",
      " 5:  1.4504e+00  1.4537e+00  6e-02  7e-04  9e-05  4e-03\n",
      " 6:  1.4616e+00  1.4620e+00  6e-03  8e-05  9e-06  4e-04\n",
      " 7:  1.4616e+00  1.4620e+00  6e-03  8e-05  9e-06  3e-04\n",
      " 8:  1.4637e+00  1.4638e+00  2e-03  3e-05  3e-06  1e-04\n",
      " 9:  1.4638e+00  1.4639e+00  2e-03  3e-05  3e-06  9e-05\n",
      "10:  1.4645e+00  1.4645e+00  4e-04  5e-06  6e-07  2e-05\n",
      "11:  1.4646e+00  1.4646e+00  1e-04  2e-06  2e-07  5e-06\n",
      "12:  1.4646e+00  1.4646e+00  6e-05  8e-07  9e-08  2e-06\n",
      "13:  1.4646e+00  1.4646e+00  6e-05  7e-07  9e-08  2e-06\n",
      "14:  1.4646e+00  1.4646e+00  4e-06  5e-08  6e-09  1e-07\n",
      "Optimal solution found.\n"
     ]
    },
    {
     "name": "stderr",
     "output_type": "stream",
     "text": [
      "/usr/local/lib/python3.6/site-packages/ipykernel/__main__.py:25: DeprecationWarning: assignment will raise an error in the future, most likely because your index result shape does not match the value array shape. You can use `arr.flat[index] = values` to keep the old behaviour.\n",
      "/usr/local/lib/python3.6/site-packages/ipykernel/__main__.py:26: DeprecationWarning: assignment will raise an error in the future, most likely because your index result shape does not match the value array shape. You can use `arr.flat[index] = values` to keep the old behaviour.\n",
      "/usr/local/lib/python3.6/site-packages/ipykernel/__main__.py:27: DeprecationWarning: assignment will raise an error in the future, most likely because your index result shape does not match the value array shape. You can use `arr.flat[index] = values` to keep the old behaviour.\n",
      "/usr/local/lib/python3.6/site-packages/ipykernel/__main__.py:28: DeprecationWarning: assignment will raise an error in the future, most likely because your index result shape does not match the value array shape. You can use `arr.flat[index] = values` to keep the old behaviour.\n"
     ]
    }
   ],
   "source": [
    "force, u, err, reg, val = invert_one(gamma_vals[-1])"
   ]
  },
  {
   "cell_type": "code",
   "execution_count": 10,
   "metadata": {
    "collapsed": false
   },
   "outputs": [
    {
     "data": {
      "text/plain": [
       "<matplotlib.colorbar.Colorbar at 0x11156cb00>"
      ]
     },
     "execution_count": 10,
     "metadata": {},
     "output_type": "execute_result"
    },
    {
     "data": {
      "image/png": "[encoded data removed]",
      "text/plain": [
       "<matplotlib.figure.Figure at 0x15ab05668>"
      ]
     },
     "metadata": {},
     "output_type": "display_data"
    }
   ],
   "source": [
    "u_x = np.zeros(coords.shape[0])\n",
    "u_x[condition_inside] = u_in_x\n",
    "\n",
    "plt.pcolormesh(x_obs_positions,y_obs_positions,u_x.reshape((50,50)).transpose(),\n",
    "                           cmap='seismic_r',vmax = 0.04, vmin=-0.04).axes.set_aspect('equal')\n",
    "plt.colorbar()"
   ]
  },
  {
   "cell_type": "code",
   "execution_count": 11,
   "metadata": {
    "collapsed": false
   },
   "outputs": [
    {
     "data": {
      "text/plain": [
       "<matplotlib.colorbar.Colorbar at 0x114b29a58>"
      ]
     },
     "execution_count": 11,
     "metadata": {},
     "output_type": "execute_result"
    },
    {
     "data": {
      "image/png": "[encoded data removed]",
      "text/plain": [
       "<matplotlib.figure.Figure at 0x15aea4940>"
      ]
     },
     "metadata": {},
     "output_type": "display_data"
    }
   ],
   "source": [
    "u_y = np.zeros(coords.shape[0])\n",
    "u_y[condition_inside] = u_in_y\n",
    "\n",
    "plt.pcolormesh(x_obs_positions,y_obs_positions,u_y.reshape((50,50)).transpose(),\n",
    "                           cmap='seismic_r',vmax = 0.04, vmin=-0.04).axes.set_aspect('equal')\n",
    "plt.colorbar()"
   ]
  },
  {
   "cell_type": "code",
   "execution_count": 15,
   "metadata": {
    "collapsed": false
   },
   "outputs": [
    {
     "data": {
      "image/png": "[encoded data removed]",
      "text/plain": [
       "<matplotlib.figure.Figure at 0x10f7a2320>"
      ]
     },
     "metadata": {},
     "output_type": "display_data"
    }
   ],
   "source": [
    "plt.subplot(121)\n",
    "plt.pcolormesh(x_obs_positions,y_obs_positions,stress_x.reshape((50,50)).transpose(),\n",
    "                           cmap='seismic_r',vmax = 1e-4, vmin=-1e-4).axes.set_aspect('equal')\n",
    "\n",
    "plt.subplot(122)\n",
    "plt.pcolormesh(x_obs_positions,y_obs_positions,stress_y.reshape((50,50)).transpose(),\n",
    "                           cmap='seismic_r',vmax = 1e-4, vmin=-1e-4).axes.set_aspect('equal')\n",
    "#plt.colorbar()"
   ]
  },
  {
   "cell_type": "code",
   "execution_count": 13,
   "metadata": {
    "collapsed": false
   },
   "outputs": [
    {
     "data": {
      "text/plain": [
       "<matplotlib.colorbar.Colorbar at 0x11c3c48d0>"
      ]
     },
     "execution_count": 13,
     "metadata": {},
     "output_type": "execute_result"
    },
    {
     "data": {
      "image/png": "[encoded data removed]",
      "text/plain": [
       "<matplotlib.figure.Figure at 0x10a8d57f0>"
      ]
     },
     "metadata": {},
     "output_type": "display_data"
    }
   ],
   "source": [
    "plt.subplot(121)\n",
    "plt.imshow(stress_y.reshape((50,50)))\n",
    "plt.colorbar()"
   ]
  },
  {
   "cell_type": "code",
   "execution_count": null,
   "metadata": {
    "collapsed": true
   },
   "outputs": [],
   "source": []
  }
 ],
 "metadata": {
  "kernelspec": {
   "display_name": "Python 3",
   "language": "python",
   "name": "python3"
  },
  "language_info": {
   "codemirror_mode": {
    "name": "ipython",
    "version": 3
   },
   "file_extension": ".py",
   "mimetype": "text/x-python",
   "name": "python",
   "nbconvert_exporter": "python",
   "pygments_lexer": "ipython3",
   "version": "3.6.0"
  }
 },
 "nbformat": 4,
 "nbformat_minor": 2
}
