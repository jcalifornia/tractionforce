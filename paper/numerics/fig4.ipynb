{
 "cells": [
  {
   "cell_type": "code",
   "execution_count": 2,
   "metadata": {
    "collapsed": false
   },
   "outputs": [
    {
     "name": "stdout",
     "output_type": "stream",
     "text": [
      "Populating the interactive namespace from numpy and matplotlib\n"
     ]
    }
   ],
   "source": [
    "%pylab inline\n",
    "from scipy import ndimage\n",
    "import matplotlib.pyplot as plt\n",
    "from mpl_toolkits.axes_grid.anchored_artists import AnchoredText\n",
    "import sys\n",
    "import matplotlib\n",
    "matplotlib.rcParams['text.usetex'] = True\n",
    "matplotlib.rcParams['text.latex.unicode'] = True\n",
    "import matplotlib.gridspec as gridspec\n",
    "\n",
    "sys.path.append('../../')\n",
    "from tractionforce.elasticity import *\n",
    "import gc\n",
    "from tractionforce.norms import *\n",
    "from joblib import Parallel, delayed\n",
    "import multiprocessing\n",
    "import pickle\n",
    "import gzip\n",
    "\n",
    "def latex_float(f):\n",
    "    float_str = \"{0:.2g}\".format(f)\n",
    "    if \"e\" in float_str:\n",
    "        base, exponent = float_str.split(\"e\")\n",
    "        return r\"{0} \\times 10^{{{1}}}\".format(base, int(exponent))\n",
    "    else:\n",
    "        return float_str\n",
    "    \n",
    "def extractn(inlist,n):\n",
    "    try:\n",
    "        return inlist[n]\n",
    "    except:\n",
    "        return None"
   ]
  },
  {
   "cell_type": "code",
   "execution_count": 5,
   "metadata": {
    "collapsed": false
   },
   "outputs": [],
   "source": [
    "results_1 = pickle.load(gzip.open('results/trace_L1_results_expanded_boundary.gz', 'rb'))\n",
    "results_2 = pickle.load(gzip.open('results/trace_L1_results.gz','rb'))\n",
    "results = [results_1, results_2]\n",
    "labels = [\"Unconstrained\", \"Constrained\"]\n",
    "\n"
   ]
  },
  {
   "cell_type": "code",
   "execution_count": 6,
   "metadata": {
    "collapsed": false
   },
   "outputs": [],
   "source": [
    "x_1 = results[0][-1][0]\n",
    "y_1 = results[0][-1][1]\n",
    "for rel in results: del(rel[-1])\n",
    "x_min, x_max = 69.974999999999994, 133.72999999999999\n",
    "y_min, y_max = 139.94999999999999, 189.71000000000001\n",
    "\n",
    "best = []\n",
    "for j in range(2):\n",
    "    data_error = [extractn(res,2) for res in results[j]]\n",
    "\n",
    "    reg_error = [extractn(res,3) for res in results[j]]\n",
    "    lvals = [extractn(res,4) for res in results[j]]\n",
    "\n",
    "    # kill all nones\n",
    "\n",
    "    data_error = [item for item in data_error if item is not None]\n",
    "    reg_error = [item for item in reg_error if item is not None]\n",
    "    lvals = [item for item in lvals if item is not None]\n",
    "\n",
    "    l_curve_distances = np.abs((reg_error[-1]-reg_error[0])*np.array(data_error) -  \\\n",
    "                (data_error[-1]-data_error[0])*np.array(reg_error)+data_error[-1]*reg_error[0]-reg_error[-1]*data_error[0])\n",
    "    best += [np.argsort(l_curve_distances)[-1]]\n",
    "    \n"
   ]
  },
  {
   "cell_type": "code",
   "execution_count": null,
   "metadata": {
    "collapsed": false
   },
   "outputs": [],
   "source": [
    "fig = plt.figure(figsize=(10,4))\n",
    "#fig = plt.figure()\n",
    "maxmagnitude = 0.03\n",
    "gs0 = gridspec.GridSpec(1,2, hspace = 0.1,wspace=0.1)\n",
    "\n",
    "gs_j = []\n",
    "gs_j_innergrids = []\n",
    "ax = []\n",
    "im = []\n",
    "\n",
    "for j in range(2):\n",
    "    gs_j += [gridspec.GridSpecFromSubplotSpec(1,2,\n",
    "                subplot_spec=gs0[0,j],\n",
    "                width_ratios = [1,1], hspace = 0.1,wspace=0.1)]\n",
    "                #height_ratios = [1,1,1,1,1,1,1])]\n",
    "    \n",
    "    Fx = results[j][best[j]][0][:,0].reshape((len(x_1),len(y_1))).transpose()\n",
    "    Fy = results[j][best[j]][0][:,1].reshape((len(x_1),len(y_1))).transpose()\n",
    "    # form a new 2x1 subplot of the results\n",
    "    \n",
    "    ax += [plt.Subplot(fig, gs_j[j][0,0])]\n",
    "    fig.add_subplot(ax[-1])\n",
    "    \n",
    "    ax[-1].set_xlim((x_min - 15, x_max + 15))\n",
    "    ax[-1].set_ylim((y_min - 15, y_max + 25))\n",
    "    #ax[-1].set_ylabel(labels[j],fontsize=18)\n",
    "    ax[-1].set_yticklabels([])\n",
    "    ax[-1].set_xticklabels([])\n",
    "\n",
    "    #plt.axis('off')\n",
    "    \n",
    "    at = AnchoredText(\"$\\hat{\\sigma}_{xz}$\",\n",
    "                  prop=dict(size=14), frameon=True,\n",
    "                  loc=2,\n",
    "                  )\n",
    "    at.patch.set_boxstyle(\"round,pad=0.,rounding_size=0.2\")\n",
    "    ax[-1].add_artist(at)\n",
    "\n",
    "    z = np.ma.masked_array(Fx, np.abs(Fx) < 1e-5)    \n",
    "    im += [ax[-1].pcolormesh(x_1,y_1,z,\n",
    "                        cmap='seismic_r',vmax = maxmagnitude*.75, vmin=-maxmagnitude*.75)]\n",
    "    \n",
    "    im[-1].axes.set_aspect('equal')\n",
    "    \n",
    "    ax += [plt.Subplot(fig, gs_j[j][0,1])]\n",
    "    fig.add_subplot(ax[-1])\n",
    "    \n",
    "    ax[-1].set_xlim((x_min - 15, x_max + 15))\n",
    "    ax[-1].set_ylim((y_min - 15, y_max + 25))\n",
    "    ax[-1].set_yticklabels([])\n",
    "    ax[-1].set_xticklabels([])\n",
    "    \n",
    "    at = AnchoredText(\"$\\hat{\\sigma}_{yz}$\",\n",
    "                  prop=dict(size=14), frameon=True,\n",
    "                  loc=2,\n",
    "                  )\n",
    "    at.patch.set_boxstyle(\"round,pad=0.,rounding_size=0.2\")\n",
    "    ax[-1].add_artist(at)\n",
    "    \n",
    "    z = np.ma.masked_array(Fy, np.abs(Fy) < 1e-5)        \n",
    "    im += [ax[-1].pcolormesh(x_1,y_1,z,\n",
    "                        cmap='seismic_r',vmax = maxmagnitude*.75, vmin=-maxmagnitude*.75)]\n",
    "    \n",
    "    im[-1].axes.set_aspect('equal')\n",
    "    \n",
    "ax[0].text(100,220,r\"Unconstrained\",fontsize=20)\n",
    "ax[2].text(120,220,r\"Constrained\",fontsize=20)\n",
    "\n",
    "fig.colorbar(im[0], ax = ax, orientation='horizontal').ax.tick_params(labelsize=20)\n",
    "\n",
    "    \n",
    "plt.savefig(\"../figures/fig4.png\",bbox_inches='tight', \n",
    "               transparent=True,\n",
    "               pad_inches=0.15, dpi=400)    "
   ]
  },
  {
   "cell_type": "code",
   "execution_count": null,
   "metadata": {
    "collapsed": true
   },
   "outputs": [],
   "source": []
  }
 ],
 "metadata": {
  "kernelspec": {
   "display_name": "Python 3",
   "language": "python",
   "name": "python3"
  },
  "language_info": {
   "codemirror_mode": {
    "name": "ipython",
    "version": 3
   },
   "file_extension": ".py",
   "mimetype": "text/x-python",
   "name": "python",
   "nbconvert_exporter": "python",
   "pygments_lexer": "ipython3",
   "version": "3.5.1"
  }
 },
 "nbformat": 4,
 "nbformat_minor": 0
}
