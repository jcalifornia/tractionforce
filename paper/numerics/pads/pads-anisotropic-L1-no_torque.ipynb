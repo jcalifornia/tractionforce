{
 "cells": [
  {
   "cell_type": "markdown",
   "metadata": {},
   "source": [
    "# Load libraries and set the coordinate system"
   ]
  },
  {
   "cell_type": "code",
   "execution_count": 1,
   "metadata": {},
   "outputs": [
    {
     "name": "stdout",
     "output_type": "stream",
     "text": [
      "Populating the interactive namespace from numpy and matplotlib\n"
     ]
    }
   ],
   "source": [
    "%pylab inline\n",
    "\n",
    "import numpy as np\n",
    "import cvxpy\n",
    "from cvxpy import Variable, Minimize, sum_squares, pnorm, norm, Problem, Parameter, mul_elemwise, sum_entries, Constant\n",
    "from scipy import sparse\n",
    "import sys, argparse\n",
    "from scipy import ndimage\n",
    "import matplotlib\n",
    "from mpl_toolkits.axes_grid.anchored_artists import AnchoredText\n",
    "\n",
    "matplotlib.rcParams['text.usetex'] = True\n",
    "matplotlib.rcParams['text.latex.unicode'] = True\n",
    "import matplotlib.gridspec as gridspec\n",
    "\n",
    "from PIL import Image\n",
    "\n",
    "sys.path.append('../../../')\n",
    "from tractionforce.elasticity import *\n",
    "import gc\n",
    "from tractionforce.norms import *\n",
    "from tractionforce.problem import *\n",
    "\n",
    "from joblib import Parallel, delayed\n",
    "import multiprocessing\n",
    "\n",
    "\"\"\"\n",
    "Set up the domain and the grid\n",
    "\"\"\"\n",
    "\n",
    "im = Image.open('padmask.tif')\n",
    "imarray = np.flip(np.array(im),0)\n",
    "\n",
    "N = 160\n",
    "M = 120\n",
    "\n",
    "#N = 640\n",
    "#M = 480\n",
    "\n",
    "x_forward_positions = np.arange(N)\n",
    "y_forward_positions = np.arange(M)\n",
    "\n",
    "dx = abs(x_forward_positions[1]-x_forward_positions[0])\n",
    "dy = abs(y_forward_positions[1]-y_forward_positions[0])\n",
    "\n",
    "forward_coords = [[ [x,y] for x in x_forward_positions] for y in y_forward_positions] \n",
    "forward_coords = np.array([item for sublist in forward_coords for item in sublist])\n",
    "\n",
    "scaling = 25\n",
    "\n",
    "\n",
    "r1 = 1.0/5*scaling\n",
    "r2 = 1.0/6*scaling\n",
    "r3 = 1.0/8*scaling\n",
    "r4 = 1.0/4*scaling\n",
    "\n",
    "c1 = np.array((-1,-1/2.))\n",
    "c2 = np.array((0,-1))\n",
    "c3 = np.array((2,1))\n",
    "c4 = np.array((0,1))\n",
    "\n",
    "\n",
    "\n",
    "d1 = ((forward_coords[:,0]-N/2.-c1[0]*scaling)**2 + (forward_coords[:,1]-M/2-c1[1]*scaling)**2)**0.5 # already up-scaled\n",
    "d2 = ((forward_coords[:,0]-N/2.-c2[0]*scaling)**2 + (forward_coords[:,1]-M/2-c2[1]*scaling)**2)**0.5\n",
    "d3 = ((forward_coords[:,0]-N/2.-c3[0]*scaling)**2 + (forward_coords[:,1]-M/2-c3[1]*scaling)**2)**0.5\n",
    "d4 = ((forward_coords[:,0]-N/2.-c4[0]*scaling)**2 + (forward_coords[:,1]-M/2-c4[1]*scaling)**2)**0.5\n",
    "\n",
    "A1 = np.pi * r1**2\n",
    "A2 = np.pi * r2**2\n",
    "A3 = np.pi * r3**2\n",
    "A4 = np.pi * r4**2\n",
    "\n",
    "\n",
    "\n",
    "def latex_float(f):\n",
    "    float_str = \"{0:.2g}\".format(f)\n",
    "    if \"e\" in float_str:\n",
    "        base, exponent = float_str.split(\"e\")\n",
    "        return r\"{0} \\times 10^{{{1}}}\".format(base, int(exponent))\n",
    "    else:\n",
    "        return float_str"
   ]
  },
  {
   "cell_type": "markdown",
   "metadata": {},
   "source": [
    "# Generate the stress field"
   ]
  },
  {
   "cell_type": "code",
   "execution_count": 2,
   "metadata": {},
   "outputs": [
    {
     "data": {
      "image/png": "[encoded data removed]",
      "text/plain": [
       "<matplotlib.figure.Figure at 0x1107a62b0>"
      ]
     },
     "metadata": {},
     "output_type": "display_data"
    }
   ],
   "source": [
    "_FORWARD_CUT_OFF = 50\n",
    "_CUTOFF  = 16\n",
    "\n",
    "\n",
    "a12 = 1e-4\n",
    "a23 = 2e-4\n",
    "g4 = 9e-5\n",
    "\n",
    "G4 = g4*pi*(r4)**2/3.\n",
    "\n",
    "s1_x = a12\n",
    "s1_y = -a12/2.\n",
    "\n",
    "s2_x = -a12*A1/A2 + a23\n",
    "s2_y = G4/A2+a12*A1/A2/2. + a23\n",
    "\n",
    "s3_x = -G4/A3 - a23*A2/A3\n",
    "s3_y = -a23*A2/A3\n",
    "\n",
    "\n",
    "in_1 = d1<=r1 \n",
    "in_2 = d2<=r2 \n",
    "in_3 = d3<=r3 \n",
    "in_4 = d4<=r4 \n",
    "\n",
    "stress_x = np.zeros(forward_coords.shape[0])\n",
    "stress_y = np.zeros(forward_coords.shape[0])\n",
    "\n",
    "stress_x[in_1] = s1_x * A1/sum(in_1)\n",
    "stress_y[in_1] = s1_y * A1/sum(in_1)\n",
    "\n",
    "\n",
    "stress_x[in_2] = s2_x * A2/sum(in_2)\n",
    "stress_y[in_2] = s2_y * A2/sum(in_2)\n",
    "\n",
    "stress_x[in_3] = s3_x * A3/sum(in_3)\n",
    "stress_y[in_3] = s3_y * A3/sum(in_3)\n",
    "\n",
    "stress_x[in_4] = g4*(1-d4[in_4]/r4)\n",
    "stress_y[in_4] = -g4*(1-d4[in_4]/r4)\n",
    "\n",
    "stress_x[in_4] *= G4/sum(stress_x[in_4])\n",
    "stress_y[in_4] *= -G4/sum(stress_y[in_4])\n",
    "\n",
    "# add the cone for region 4\n",
    "\n",
    "max_s = np.max(np.abs(stress_x))\n",
    "\n",
    "fig = plt.figure(figsize=(10,6))\n",
    "plt.subplot(121)\n",
    "plt.pcolormesh(x_forward_positions,y_forward_positions,imarray==0,\n",
    "                           cmap='gray').axes.set_aspect('equal')\n",
    "plt.pcolormesh(x_forward_positions,y_forward_positions,stress_x.reshape((M,N)),\n",
    "                           cmap='seismic_r',vmin=-max_s,vmax=max_s,alpha=0.9).axes.set_aspect('equal')\n",
    "plt.subplot(122)\n",
    "plt.pcolormesh(x_forward_positions,y_forward_positions,imarray==0,\n",
    "                           cmap='gray').axes.set_aspect('equal')\n",
    "plt.pcolormesh(x_forward_positions,y_forward_positions,stress_y.reshape((M,N)),\n",
    "                           cmap='seismic_r',vmin=-max_s,vmax=max_s,alpha=0.9).axes.set_aspect('equal')\n",
    "\n"
   ]
  },
  {
   "cell_type": "code",
   "execution_count": 3,
   "metadata": {
    "scrolled": true
   },
   "outputs": [
    {
     "name": "stdout",
     "output_type": "stream",
     "text": [
      "Total torque: -5.55111512313e-17\n",
      "Total force-x: 1.73472347598e-18\n",
      "Total force-y: 1.73472347598e-18\n"
     ]
    }
   ],
   "source": [
    "print(\"Total torque: \" + str(sum((forward_coords[:,0]-N/2)*stress_y - (forward_coords[:,1]-M/2)*stress_x)))\n",
    "print(\"Total force-x: \" + str(sum(stress_x)))\n",
    "print(\"Total force-y: \" + str(sum(stress_y)))"
   ]
  },
  {
   "cell_type": "code",
   "execution_count": 4,
   "metadata": {
    "collapsed": true
   },
   "outputs": [],
   "source": [
    "mask = imarray == 0\n",
    "\n",
    "distances2d = -ndimage.distance_transform_edt(mask) + ndimage.distance_transform_edt(1 - mask)\n",
    "distances2d = distances2d.flatten()\n",
    "\n",
    "\n",
    "\n",
    "condition_inside = distances2d<=0\n",
    "condition_outside = (distances2d>0) * (distances2d<=_FORWARD_CUT_OFF)\n",
    "\n",
    "\n"
   ]
  },
  {
   "cell_type": "markdown",
   "metadata": {},
   "source": [
    "# Solve the forward problem over the specified subdomain"
   ]
  },
  {
   "cell_type": "code",
   "execution_count": 5,
   "metadata": {},
   "outputs": [
    {
     "name": "stdout",
     "output_type": "stream",
     "text": [
      "Size of the problem is 17696\n"
     ]
    },
    {
     "name": "stderr",
     "output_type": "stream",
     "text": [
      "/usr/local/lib/python3.6/site-packages/scipy/sparse/compressed.py:774: SparseEfficiencyWarning: Changing the sparsity structure of a csr_matrix is expensive. lil_matrix is more efficient.\n",
      "  SparseEfficiencyWarning)\n"
     ]
    }
   ],
   "source": [
    "x_out = np.array(forward_coords[condition_outside,0],dtype=int)\n",
    "y_out = np.array(forward_coords[condition_outside,1],dtype=int)\n",
    "\n",
    "x_in = np.array(forward_coords[condition_inside,0],dtype=int)\n",
    "y_in = np.array(forward_coords[condition_inside,1],dtype=int)\n",
    "\n",
    "x_center = np.mean(x_in)\n",
    "y_center = np.mean(y_in)\n",
    "\n",
    "G_in_in_xx, G_in_in_xy, G_out_in_xx, G_out_in_xy, G_in_in_yy, G_in_in_yx, G_out_in_yy, G_out_in_yx, Dx, Dy = gen_matrices(x_in,y_in,x_out,y_out,dx,dy,loworder = True)"
   ]
  },
  {
   "cell_type": "code",
   "execution_count": 6,
   "metadata": {
    "collapsed": true
   },
   "outputs": [],
   "source": [
    "# Generate the measured dispalcements\n",
    "s_x = stress_x[condition_inside]\n",
    "s_y = stress_y[condition_inside]\n",
    "\n",
    "u_in_x = G_in_in_xx.dot(s_x) + G_in_in_xy.dot(s_y)\n",
    "u_out_x = G_out_in_xx.dot(s_x) + G_out_in_xy.dot(s_y)\n",
    "\n",
    "u_in_y = G_in_in_yx.dot(s_x) + G_in_in_yy.dot(s_y)\n",
    "u_out_y = G_out_in_yx.dot(s_x)  + G_out_in_yy.dot(s_y)\n",
    "\n",
    "u_x = np.zeros(forward_coords.shape[0])\n",
    "u_x[condition_inside] = u_in_x\n",
    "u_x[condition_outside] = u_out_x\n",
    "\n",
    "u_y = np.zeros(forward_coords.shape[0])\n",
    "u_y[condition_inside] = u_in_y\n",
    "u_y[condition_outside] = u_out_y\n"
   ]
  },
  {
   "cell_type": "code",
   "execution_count": 7,
   "metadata": {},
   "outputs": [
    {
     "data": {
      "image/png": "[encoded data removed]",
      "text/plain": [
       "<matplotlib.figure.Figure at 0x11077b908>"
      ]
     },
     "metadata": {},
     "output_type": "display_data"
    }
   ],
   "source": [
    "max_s = np.max(u_x)\n",
    "\n",
    "fig = plt.figure(figsize=(10,12))\n",
    "plt.subplot(121)\n",
    "plt.pcolormesh(x_forward_positions,y_forward_positions,imarray==0,\n",
    "                           cmap='Greens').axes.set_aspect('equal')\n",
    "plt.pcolormesh(x_forward_positions,y_forward_positions,u_x.reshape((M,N)),\n",
    "                           cmap='seismic_r',vmin=-max_s,vmax=max_s,alpha=0.9).axes.set_aspect('equal')\n",
    "plt.subplot(122)\n",
    "plt.pcolormesh(x_forward_positions,y_forward_positions,imarray==0,\n",
    "                           cmap='Greens').axes.set_aspect('equal')\n",
    "plt.pcolormesh(x_forward_positions,y_forward_positions,u_y.reshape((M,N)),\n",
    "                           cmap='seismic_r',vmin=-max_s,vmax=max_s,alpha=0.9).axes.set_aspect('equal')\n",
    "\n",
    "\n",
    "noise = 1e-5\n",
    "\n",
    "obs_x = u_x.reshape((M,N)) + np.random.normal(0,noise,size=(M,N))\n",
    "obs_y = u_y.reshape((M,N)) + np.random.normal(0,noise,size=(M,N))\n",
    "\n",
    "plt.subplot(221)\n",
    "\n",
    "plt.pcolormesh(x_forward_positions,y_forward_positions,obs_x,\n",
    "                           cmap='seismic_r',vmin=-max_s,vmax=max_s,alpha=0.9).axes.set_aspect('equal')\n",
    "#plt.pcolormesh(x_forward_positions,y_forward_positions,imarray==0,\n",
    "#                           cmap='Greens',alpha=0.04).axes.set_aspect('equal')\n",
    "\n",
    "plt.subplot(222)\n",
    "#plt.pcolormesh(x_forward_positions,y_forward_positions,imarray==0,\n",
    "#                           cmap='gray').axes.set_aspect('equal')\n",
    "plt.pcolormesh(x_forward_positions,y_forward_positions,obs_y,\n",
    "                           cmap='seismic_r',vmin=-max_s,vmax=max_s,alpha=0.9).axes.set_aspect('equal')\n"
   ]
  },
  {
   "cell_type": "markdown",
   "metadata": {},
   "source": [
    "# Coarsen"
   ]
  },
  {
   "cell_type": "code",
   "execution_count": 8,
   "metadata": {
    "collapsed": true
   },
   "outputs": [],
   "source": [
    "spacing = 2\n",
    "\n",
    "x_obs_positions = np.arange(0,N,spacing)\n",
    "y_obs_positions = np.arange(0,M,spacing)\n",
    "\n",
    "dx = abs(x_obs_positions[1]-x_obs_positions[0])\n",
    "dy = abs(y_obs_positions[1]-y_obs_positions[0])\n",
    "\n",
    "coords = [[ [x,y] for x in x_obs_positions] for y in y_obs_positions] \n",
    "coords = np.array([item for sublist in coords for item in sublist])\n",
    "\n",
    "# generate the conditions\n",
    "\n",
    "distancefun = np.array([distances2d.reshape((M,N))[a[1],a[0]] for a in coords]) # stupid but works\n",
    "\n",
    "\n",
    "condition_inside = distancefun<=0\n",
    "condition_outside = (distancefun>0) * (distancefun<=_CUTOFF)\n",
    "\n",
    "# obtain the observations\n",
    "\n",
    "obs_x_in = np.array([obs_x[a[1],a[0]] for a,cond in zip(coords,condition_inside)if cond] )\n",
    "obs_x_out = np.array([obs_x[a[1],a[0]] for a,cond in zip(coords,condition_outside)if cond] )\n",
    "\n",
    "obs_y_in = np.array([obs_y[a[1],a[0]] for a,cond in zip(coords,condition_inside)if cond] )\n",
    "obs_y_out = np.array([obs_y[a[1],a[0]] for a,cond in zip(coords,condition_outside)if cond] )"
   ]
  },
  {
   "cell_type": "code",
   "execution_count": null,
   "metadata": {
    "collapsed": true
   },
   "outputs": [],
   "source": []
  },
  {
   "cell_type": "markdown",
   "metadata": {},
   "source": [
    "# Regenerate the matrices"
   ]
  },
  {
   "cell_type": "code",
   "execution_count": 9,
   "metadata": {},
   "outputs": [
    {
     "name": "stdout",
     "output_type": "stream",
     "text": [
      "Size of the problem is 2200\n"
     ]
    },
    {
     "name": "stderr",
     "output_type": "stream",
     "text": [
      "/usr/local/lib/python3.6/site-packages/scipy/sparse/compressed.py:774: SparseEfficiencyWarning: Changing the sparsity structure of a csr_matrix is expensive. lil_matrix is more efficient.\n",
      "  SparseEfficiencyWarning)\n"
     ]
    }
   ],
   "source": [
    "x_out = np.array(coords[condition_outside,0]/dx,dtype=int)\n",
    "y_out = np.array(coords[condition_outside,1]/dy,dtype=int)\n",
    "\n",
    "x_in = np.array(coords[condition_inside,0]/dx,dtype=int)\n",
    "y_in = np.array(coords[condition_inside,1]/dy,dtype=int)\n",
    "\n",
    "\n",
    "\n",
    "G_in_in_xx, G_in_in_xy, G_out_in_xx, G_out_in_xy, G_in_in_yy, G_in_in_yx, G_out_in_yy, G_out_in_yx, Dx, Dy = gen_matrices(x_in,y_in,x_out,y_out,dx*spacing,dy*spacing,loworder = True)"
   ]
  },
  {
   "cell_type": "code",
   "execution_count": 10,
   "metadata": {
    "collapsed": true
   },
   "outputs": [],
   "source": [
    "N_SOLUTIONS = 24\n",
    "gamma_vals = np.logspace(-8, -2.5, N_SOLUTIONS)\n",
    "\n",
    "\n",
    "# Coords are 1:100 in each direction\n",
    "# annulus centered\n",
    "# inner radius 20\n",
    "# outer radius 30\n",
    "# boundary radius 35\n",
    "\n",
    "gamma = Parameter(sign=\"positive\",value=1)\n",
    "\n",
    "n_in = len(x_in)\n",
    "x_center = np.mean(x_in)\n",
    "y_center = np.mean(y_in)\n",
    "\n",
    "sigma = Variable(n_in,2)\n",
    "predicted_in_x = G_in_in_xx * sigma[:,0] + G_in_in_xy * sigma[:,1]\n",
    "predicted_out_x = G_out_in_xx * sigma[:,0] + G_out_in_xy * sigma[:,1]\n",
    "predicted_in_y = G_in_in_yx * sigma[:,0] + G_in_in_yy * sigma[:,1]\n",
    "predicted_out_y = G_out_in_yx * sigma[:,0] + G_out_in_yy * sigma[:,1]\n",
    "\n",
    "\n",
    "error = sum_squares(obs_x_in - predicted_in_x) + sum_squares(obs_x_out - predicted_out_x) + \\\n",
    "    sum_squares(obs_y_in - predicted_in_y) + sum_squares(obs_y_out - predicted_out_y)\n",
    "\n",
    "forceconstraints = [sum_entries(sigma[:,0])==0, sum_entries(sigma[:,1])==0] # add torque-free constraint here\n",
    "net_torque = sum_entries(mul_elemwise(x_in-x_center,sigma[:,1]) - mul_elemwise(y_in-y_center,sigma[:,0]))\n",
    "\n",
    "torqueconstraints = [net_torque == 0]\n",
    "\n",
    "constraints = forceconstraints\n",
    "#constraints = []\n"
   ]
  },
  {
   "cell_type": "code",
   "execution_count": 11,
   "metadata": {
    "collapsed": true
   },
   "outputs": [],
   "source": [
    "regularity_penalty = sum_entries(pnorm(sigma,2, axis=1))\n",
    "\n",
    "objective = Minimize(error + gamma*regularity_penalty)\n",
    "prob = Problem(objective, constraints)\n",
    "\n",
    "sq_penalty = []\n",
    "l1_penalty = []\n",
    "sigma_values = []\n",
    "\n",
    "u_x_values = []\n",
    "u_y_values = []"
   ]
  },
  {
   "cell_type": "code",
   "execution_count": 12,
   "metadata": {},
   "outputs": [
    {
     "data": {
      "text/plain": [
       "Expression(CONVEX, POSITIVE, (985, 1))"
      ]
     },
     "execution_count": 12,
     "metadata": {},
     "output_type": "execute_result"
    }
   ],
   "source": [
    "pnorm(sigma,2, axis=1)"
   ]
  },
  {
   "cell_type": "code",
   "execution_count": 13,
   "metadata": {},
   "outputs": [
    {
     "name": "stdout",
     "output_type": "stream",
     "text": [
      "     pcost       dcost       gap    pres   dres   k/t\n",
      " 0:  0.0000e+00 -4.0000e+00  1e+03  1e+01  2e+01  1e+00\n",
      " 1:  5.8208e-03 -2.6732e-02  3e+01  5e-01  7e-01  2e-01\n",
      " 2:  9.5943e-05 -2.6321e-04  3e-01  5e-03  7e-03  2e-03\n",
      " 3:  5.6424e-06 -2.3601e-06  3e-03  6e-05  8e-05  2e-05\n",
      " 4:  3.4941e-06  2.4237e-07  3e-04  8e-06  1e-05  1e-07\n",
      " 5:  2.6996e-07  2.5535e-07  5e-08  1e-07  2e-07  5e-08\n",
      " 6:  2.6509e-07  2.6391e-07  2e-09  5e-09  7e-09  1e-09\n",
      "Optimal solution found.\n",
      "     pcost       dcost       gap    pres   dres   k/t\n",
      " 0:  0.0000e+00 -4.0000e+00  1e+03  1e+01  2e+01  1e+00\n",
      " 1:  5.8235e-03 -2.6732e-02  3e+01  5e-01  7e-01  2e-01\n",
      " 2:  9.9196e-05 -2.6320e-04  3e-01  5e-03  7e-03  2e-03\n",
      " 3:  8.8982e-06 -2.3521e-06  4e-03  6e-05  9e-05  2e-05\n",
      " 4:  4.9640e-06  2.3980e-07  4e-04  1e-05  2e-05  1e-07\n",
      " 5:  2.7467e-07  2.4688e-07  8e-08  2e-07  3e-07  8e-08\n",
      " 6:  2.6587e-07  2.6347e-07  5e-09  1e-08  2e-08  3e-09\n",
      "Optimal solution found.\n",
      "     pcost       dcost       gap    pres   dres   k/t\n",
      " 0:  0.0000e+00 -4.0000e+00  1e+03  1e+01  2e+01  1e+00\n",
      " 1:  5.8281e-03 -2.6732e-02  3e+01  5e-01  7e-01  2e-01\n",
      " 2:  1.0484e-04 -2.6318e-04  3e-01  5e-03  7e-03  2e-03\n",
      " 3:  1.4497e-05 -2.3385e-06  4e-03  8e-05  1e-04  2e-05\n",
      " 4:  6.6199e-06  2.3052e-07  4e-04  1e-05  2e-05  9e-08\n",
      " 5:  2.8586e-07  2.2111e-07  1e-07  4e-07  6e-07  1e-07\n",
      " 6:  2.6735e-07  2.6231e-07  9e-09  2e-08  3e-08  5e-09\n",
      "Optimal solution found.\n",
      "     pcost       dcost       gap    pres   dres   k/t\n",
      " 0:  0.0000e+00 -4.0000e+00  1e+03  1e+01  2e+01  1e+00\n",
      " 1:  5.8361e-03 -2.6732e-02  3e+01  5e-01  7e-01  2e-01\n",
      " 2:  1.1462e-04 -2.6316e-04  3e-01  5e-03  7e-03  2e-03\n",
      " 3:  2.4068e-05 -2.3153e-06  5e-03  1e-04  1e-04  2e-05\n",
      " 4:  7.8143e-06  2.1246e-07  3e-04  2e-05  2e-05  6e-08\n",
      " 5:  3.1330e-07  1.4708e-07  3e-07  7e-07  1e-06  1e-07\n",
      " 6:  2.7016e-07  2.5956e-07  2e-08  4e-08  5e-08  6e-09\n",
      "Optimal solution found.\n",
      "     pcost       dcost       gap    pres   dres   k/t\n",
      " 0:  0.0000e+00 -4.0000e+00  1e+03  1e+01  2e+01  1e+00\n",
      " 1:  5.8501e-03 -2.6732e-02  3e+01  5e-01  7e-01  2e-01\n",
      " 2:  1.3158e-04 -2.6311e-04  3e-01  5e-03  7e-03  2e-03\n",
      " 3:  4.0262e-05 -2.2764e-06  7e-03  1e-04  2e-04  2e-05\n",
      " 4:  6.8528e-06  1.9087e-07  1e-04  1e-05  2e-05  4e-08\n",
      " 5:  3.7695e-07 -3.8863e-08  7e-07  1e-06  2e-06  1e-07\n",
      " 6:  2.7469e-07  2.5653e-07  3e-08  5e-08  7e-08  4e-09\n",
      "Optimal solution found.\n",
      "     pcost       dcost       gap    pres   dres   k/t\n",
      " 0:  0.0000e+00 -4.0000e+00  1e+03  1e+01  2e+01  1e+00\n",
      " 1:  5.8743e-03 -2.6731e-02  3e+01  5e-01  7e-01  2e-01\n",
      " 2:  1.6098e-04 -2.6303e-04  3e-01  5e-03  7e-03  2e-03\n",
      " 3:  6.7205e-05 -2.2134e-06  1e-02  2e-04  3e-04  2e-05\n",
      " 4:  2.4786e-06  1.2991e-07  1e-05  6e-06  9e-06  4e-07\n",
      " 5:  3.2989e-07  1.8544e-07  3e-07  8e-07  1e-06  2e-07\n",
      " 6:  2.7696e-07  2.5342e-07  5e-08  1e-07  2e-07  3e-08\n",
      " 7:  2.6684e-07  2.6358e-07  6e-09  2e-08  2e-08  4e-09\n",
      "Optimal solution found.\n",
      "     pcost       dcost       gap    pres   dres   k/t\n",
      " 0:  0.0000e+00 -4.0000e+00  1e+03  1e+01  2e+01  1e+00\n",
      " 1:  5.9162e-03 -2.6731e-02  3e+01  5e-01  7e-01  2e-01\n",
      " 2:  2.1192e-04 -2.6290e-04  3e-01  5e-03  7e-03  2e-03\n",
      " 3:  1.1084e-04 -2.1172e-06  1e-02  3e-04  4e-04  2e-05\n",
      " 4:  7.0475e-07 -5.5289e-08  3e-06  5e-06  8e-06  2e-06\n",
      " 5:  3.7816e-07  2.6159e-07  2e-07  3e-07  4e-07  1e-08\n",
      " 6:  2.7952e-07  2.6472e-07  2e-08  4e-08  5e-08  2e-09\n",
      "Optimal solution found.\n",
      "     pcost       dcost       gap    pres   dres   k/t\n",
      " 0:  0.0000e+00 -4.0000e+00  1e+03  1e+01  2e+01  1e+00\n",
      " 1:  5.9889e-03 -2.6730e-02  3e+01  5e-01  7e-01  2e-01\n",
      " 2:  3.0015e-04 -2.6266e-04  3e-01  5e-03  7e-03  2e-03\n",
      " 3:  1.7866e-04 -1.9890e-06  2e-02  4e-04  6e-04  1e-05\n",
      " 4:  5.6796e-07 -2.1852e-07  3e-06  8e-06  1e-05  3e-06\n",
      " 5:  3.1943e-07  2.6102e-07  1e-07  2e-07  3e-07  3e-08\n",
      " 6:  2.7394e-07  2.6622e-07  1e-08  3e-08  4e-08  4e-09\n",
      "Optimal solution found.\n",
      "     pcost       dcost       gap    pres   dres   k/t\n",
      " 0:  0.0000e+00 -4.0000e+00  1e+03  1e+01  2e+01  1e+00\n",
      " 1:  6.1149e-03 -2.6728e-02  3e+01  5e-01  7e-01  2e-01\n",
      " 2:  4.5277e-04 -2.6226e-04  3e-01  6e-03  8e-03  2e-03\n",
      " 3:  2.7815e-04 -1.8888e-06  3e-02  7e-04  9e-04  1e-05\n",
      " 4:  7.2978e-07 -4.5786e-07  4e-06  1e-05  2e-05  4e-06\n",
      " 5:  3.4660e-07  2.5753e-07  2e-07  3e-07  5e-07  6e-08\n",
      " 6:  2.7973e-07  2.6772e-07  2e-08  4e-08  6e-08  8e-09\n",
      "Optimal solution found.\n",
      "     pcost       dcost       gap    pres   dres   k/t\n",
      " 0:  0.0000e+00 -4.0000e+00  1e+03  1e+01  2e+01  1e+00\n",
      " 1:  6.3335e-03 -2.6724e-02  3e+01  5e-01  7e-01  2e-01\n",
      " 2:  7.1628e-04 -2.6155e-04  3e-01  6e-03  9e-03  2e-03\n",
      " 3:  4.1312e-04 -1.9896e-06  4e-02  9e-04  1e-03  1e-05\n",
      " 4:  1.0390e-06 -1.0336e-06  6e-06  2e-05  3e-05  7e-06\n",
      " 5:  4.0721e-07  2.2481e-07  4e-07  9e-07  1e-06  2e-07\n",
      " 6:  2.9182e-07  2.6661e-07  5e-08  1e-07  2e-07  3e-08\n",
      " 7:  2.7845e-07  2.7502e-07  6e-09  2e-08  2e-08  4e-09\n",
      "Optimal solution found.\n",
      "     pcost       dcost       gap    pres   dres   k/t\n",
      " 0:  0.0000e+00 -4.0000e+00  1e+03  1e+01  2e+01  1e+00\n",
      " 1:  6.7122e-03 -2.6719e-02  3e+01  5e-01  7e-01  2e-01\n",
      " 2:  1.1698e-03 -2.6035e-04  4e-01  7e-03  1e-02  2e-03\n",
      " 3:  5.7605e-04 -2.6175e-06  4e-02  1e-03  2e-03  1e-05\n",
      " 4:  1.7150e-06 -2.7427e-06  1e-05  3e-05  5e-05  1e-05\n",
      " 5:  5.1787e-07  1.4411e-07  7e-07  2e-06  3e-06  4e-07\n",
      " 6:  3.1330e-07  2.6139e-07  1e-07  2e-07  3e-07  6e-08\n",
      " 7:  2.8914e-07  2.8218e-07  1e-08  3e-08  5e-08  7e-09\n",
      "Optimal solution found.\n",
      "     pcost       dcost       gap    pres   dres   k/t\n",
      " 0:  0.0000e+00 -4.0000e+00  1e+03  1e+01  2e+01  1e+00\n",
      " 1:  7.3683e-03 -2.6709e-02  3e+01  5e-01  7e-01  2e-01\n",
      " 2:  1.9460e-03 -2.5829e-04  5e-01  9e-03  1e-02  2e-03\n",
      " 3:  7.2649e-04 -4.0853e-06  4e-02  2e-03  2e-03  7e-06\n",
      " 4:  3.3243e-06 -7.8999e-06  2e-05  6e-05  8e-05  1e-05\n",
      " 5:  7.2625e-07 -6.7619e-08  1e-06  3e-06  4e-06  6e-07\n",
      " 6:  3.5242e-07  2.4262e-07  2e-07  4e-07  6e-07  8e-08\n",
      " 7:  3.0783e-07  2.9331e-07  2e-08  5e-08  8e-08  1e-08\n",
      "Optimal solution found.\n",
      "     pcost       dcost       gap    pres   dres   k/t\n",
      " 0:  0.0000e+00 -4.0000e+00  1e+03  1e+01  2e+01  1e+00\n",
      " 1:  8.5037e-03 -2.6692e-02  3e+01  5e-01  7e-01  2e-01\n",
      " 2:  3.2622e-03 -2.5481e-04  7e-01  1e-02  2e-02  2e-03\n",
      " 3:  7.4202e-04 -6.2050e-06  2e-02  2e-03  2e-03  5e-06\n",
      " 4:  6.9927e-06 -2.1835e-05  5e-05  1e-04  1e-04  2e-05\n",
      " 5:  1.0876e-06 -4.1336e-07  2e-06  5e-06  6e-06  5e-07\n",
      " 6:  4.1887e-07  2.1359e-07  3e-07  6e-07  9e-07  7e-08\n",
      " 7:  3.3990e-07  3.1275e-07  4e-08  8e-08  1e-07  9e-09\n",
      " 8:  3.3772e-07  3.3436e-07  5e-09  1e-08  1e-08  1e-09\n",
      "Optimal solution found.\n",
      "     pcost       dcost       gap    pres   dres   k/t\n",
      " 0:  0.0000e+00 -4.0000e+00  1e+03  1e+01  2e+01  1e+00\n",
      " 1:  1.0466e-02 -2.6663e-02  3e+01  5e-01  7e-01  2e-01\n",
      " 2:  5.4592e-03 -2.4905e-04  9e-01  2e-02  2e-02  2e-03\n",
      " 3:  3.8822e-04 -7.8411e-06  4e-03  9e-04  1e-03  2e-06\n",
      " 4:  1.2006e-05 -4.4087e-05  9e-05  1e-04  2e-04  1e-05\n",
      " 5:  1.7888e-06 -2.1094e-06  6e-06  1e-05  1e-05  6e-07\n",
      " 6:  5.5029e-07  1.1457e-08  8e-07  1e-06  2e-06  8e-08\n",
      " 7:  3.9756e-07  3.2927e-07  1e-07  2e-07  2e-07  1e-08\n",
      " 8:  3.9052e-07  3.8291e-07  1e-08  2e-08  3e-08  1e-09\n",
      "Optimal solution found.\n",
      "     pcost       dcost       gap    pres   dres   k/t\n",
      " 0:  0.0000e+00 -4.0000e+00  1e+03  1e+01  2e+01  1e+00\n",
      " 1:  1.3847e-02 -2.6612e-02  3e+01  5e-01  7e-01  2e-01\n",
      " 2:  9.0354e-03 -2.4656e-04  1e+00  2e-02  3e-02  2e-03\n",
      " 3:  1.2231e-04 -2.4555e-05  7e-04  6e-04  9e-04  1e-04\n",
      " 4:  2.2300e-05  1.2618e-07  4e-05  5e-05  7e-05  7e-07\n",
      " 5:  3.0047e-06  2.8566e-07  4e-06  6e-06  9e-06  1e-07\n",
      " 6:  7.6054e-07  3.8489e-07  5e-07  9e-07  1e-06  2e-08\n",
      " 7:  5.2325e-07  4.2783e-07  1e-07  2e-07  3e-07  4e-09\n",
      " 8:  5.4738e-07  4.5413e-07  1e-07  2e-07  3e-07  3e-09\n",
      " 9:  5.4662e-07  4.5490e-07  1e-07  2e-07  3e-07  3e-09\n",
      "10:  4.8141e-07  4.7224e-07  1e-08  2e-08  3e-08  3e-10\n",
      "Optimal solution found.\n",
      "     pcost       dcost       gap    pres   dres   k/t\n",
      " 0:  0.0000e+00 -4.0000e+00  1e+03  1e+01  2e+01  1e+00\n",
      " 1:  1.9648e-02 -2.6524e-02  3e+01  5e-01  7e-01  2e-01\n",
      " 2:  1.4628e-02 -2.5040e-04  2e+00  4e-02  5e-02  2e-03\n",
      " 3: -3.4558e-06 -4.1122e-05  2e-04  7e-04  1e-03  3e-04\n",
      " 4:  4.9100e-06 -9.4598e-09  8e-06  2e-05  2e-05  3e-06\n",
      " 5:  1.0791e-06  4.3268e-07  1e-06  2e-06  3e-06  3e-07\n",
      " 6:  6.3786e-07  5.5167e-07  1e-07  3e-07  4e-07  4e-08\n",
      " 7:  6.2356e-07  6.0455e-07  3e-08  6e-08  9e-08  9e-09\n",
      "Optimal solution found.\n"
     ]
    },
    {
     "name": "stdout",
     "output_type": "stream",
     "text": [
      "     pcost       dcost       gap    pres   dres   k/t\n",
      " 0:  0.0000e+00 -4.0000e+00  1e+03  1e+01  2e+01  1e+00\n",
      " 1:  2.9519e-02 -2.6374e-02  3e+01  5e-01  7e-01  2e-01\n",
      " 2:  2.2876e-02 -2.6342e-04  3e+00  6e-02  8e-02  2e-03\n",
      " 3: -3.5589e-05 -6.1297e-05  3e-04  1e-03  2e-03  5e-04\n",
      " 4:  7.0761e-06 -1.0032e-07  1e-05  3e-05  4e-05  5e-06\n",
      " 5:  1.5270e-06  5.7672e-07  2e-06  3e-06  5e-06  6e-07\n",
      " 6:  8.8027e-07  7.6174e-07  2e-07  4e-07  6e-07  7e-08\n",
      " 7:  8.7639e-07  8.3058e-07  7e-08  2e-07  2e-07  2e-08\n",
      " 8:  8.5340e-07  8.4180e-07  2e-08  4e-08  5e-08  5e-09\n",
      "Optimal solution found.\n",
      "     pcost       dcost       gap    pres   dres   k/t\n",
      " 0:  0.0000e+00 -4.0000e+00  1e+03  1e+01  2e+01  1e+00\n",
      " 1:  4.6085e-02 -2.6119e-02  3e+01  6e-01  8e-01  2e-01\n",
      " 2:  3.4079e-02 -3.0117e-04  3e+00  8e-02  1e-01  3e-03\n",
      " 3: -1.1847e-04 -9.5495e-05  4e-04  2e-03  3e-03  8e-04\n",
      " 4:  1.0250e-05 -2.4996e-07  2e-05  4e-05  6e-05  8e-06\n",
      " 5:  2.2359e-06  8.2727e-07  2e-06  5e-06  8e-06  1e-06\n",
      " 6:  1.2986e-06  1.1075e-06  3e-07  7e-07  1e-06  1e-07\n",
      " 7:  1.3127e-06  1.1689e-06  2e-07  5e-07  7e-07  9e-08\n",
      " 8:  1.2348e-06  1.1939e-06  7e-08  1e-07  2e-07  2e-08\n",
      " 9:  1.2158e-06  1.2087e-06  1e-08  2e-08  3e-08  3e-09\n",
      "Optimal solution found.\n",
      "     pcost       dcost       gap    pres   dres   k/t\n",
      " 0:  0.0000e+00 -4.0000e+00  1e+03  1e+01  2e+01  1e+00\n",
      " 1:  7.3228e-02 -2.5691e-02  4e+01  6e-01  9e-01  2e-01\n",
      " 2:  4.7617e-02 -3.9242e-04  4e+00  1e-01  2e-01  4e-03\n",
      " 3: -3.1810e-04 -1.6228e-04  5e-04  3e-03  4e-03  1e-03\n",
      " 4:  1.2309e-05 -2.0509e-06  3e-05  9e-05  1e-04  3e-05\n",
      " 5:  3.0100e-06  1.0440e-06  4e-06  1e-05  2e-05  4e-06\n",
      " 6:  1.9178e-06  1.6674e-06  6e-07  2e-06  2e-06  4e-07\n",
      " 7:  1.8348e-06  1.7673e-06  1e-07  4e-07  5e-07  1e-07\n",
      " 8:  1.8280e-06  1.7828e-06  9e-08  2e-07  3e-07  5e-08\n",
      " 9:  1.8026e-06  1.7973e-06  1e-08  2e-08  3e-08  6e-09\n",
      "Optimal solution found.\n",
      "     pcost       dcost       gap    pres   dres   k/t\n",
      " 0:  0.0000e+00 -4.0000e+00  1e+03  1e+01  2e+01  1e+00\n",
      " 1:  1.1589e-01 -2.4990e-02  4e+01  8e-01  1e+00  2e-01\n",
      " 2:  6.0909e-02 -5.6763e-04  4e+00  1e-01  2e-01  6e-03\n",
      " 3: -7.5705e-04 -2.8137e-04  8e-04  5e-03  7e-03  3e-03\n",
      " 4:  1.4018e-05 -4.6103e-06  6e-05  2e-04  2e-04  6e-05\n",
      " 5:  4.0681e-06  1.4854e-06  8e-06  2e-05  3e-05  8e-06\n",
      " 6:  2.9518e-06  2.6090e-06  1e-06  3e-06  4e-06  1e-06\n",
      " 7:  2.8223e-06  2.7410e-06  2e-07  6e-07  8e-07  2e-07\n",
      " 8:  2.8066e-06  2.7647e-06  1e-07  3e-07  4e-07  7e-08\n",
      " 9:  2.7871e-06  2.7752e-06  3e-08  7e-08  9e-08  2e-08\n",
      "Optimal solution found.\n",
      "     pcost       dcost       gap    pres   dres   k/t\n",
      " 0:  0.0000e+00 -4.0000e+00  1e+03  1e+01  2e+01  1e+00\n",
      " 1:  1.7823e-01 -2.3880e-02  5e+01  9e-01  1e+00  2e-01\n",
      " 2:  6.8172e-02 -8.1219e-04  3e+00  2e-01  2e-01  9e-03\n",
      " 3: -1.6416e-03 -4.4204e-04  1e-03  9e-03  1e-02  5e-03\n",
      " 4:  1.0729e-05 -8.3855e-06  1e-04  3e-04  4e-04  1e-04\n",
      " 5:  5.0501e-06  2.3216e-06  1e-05  4e-05  6e-05  2e-05\n",
      " 6:  4.6032e-06  4.1884e-06  2e-06  6e-06  8e-06  2e-06\n",
      " 7:  4.4991e-06  4.3701e-06  4e-07  1e-06  2e-06  4e-07\n",
      " 8:  4.4564e-06  4.4279e-06  8e-08  2e-07  3e-07  8e-08\n",
      " 9:  4.4488e-06  4.4372e-06  3e-08  8e-08  1e-07  2e-08\n",
      "10:  4.4465e-06  4.4401e-06  2e-08  4e-08  5e-08  1e-08\n",
      "Optimal solution found.\n",
      "     pcost       dcost       gap    pres   dres   k/t\n",
      " 0:  0.0000e+00 -4.0000e+00  1e+03  1e+01  2e+01  1e+00\n",
      " 1:  2.5801e-01 -2.2208e-02  5e+01  1e+00  2e+00  2e-01\n",
      " 2:  6.1877e-02 -9.5609e-04  2e+00  2e-01  2e-01  2e-02\n",
      " 3: -3.1189e-03 -5.3921e-04  2e-03  1e-02  2e-02  9e-03\n",
      " 4: -7.5175e-05 -2.1896e-05  2e-04  8e-04  1e-03  4e-04\n",
      " 5: -3.9186e-06  2.7798e-06  2e-05  1e-04  2e-04  5e-05\n",
      " 6:  5.7039e-06  6.6330e-06  4e-06  2e-05  2e-05  9e-06\n",
      " 7:  7.0149e-06  7.1484e-06  7e-07  3e-06  4e-06  2e-06\n",
      " 8:  7.2428e-06  7.2597e-06  1e-07  4e-07  6e-07  2e-07\n",
      " 9:  7.2728e-06  7.2734e-06  5e-08  2e-07  3e-07  9e-08\n",
      "10:  7.2792e-06  7.2780e-06  2e-08  7e-08  1e-07  3e-08\n",
      "11:  7.2821e-06  7.2788e-06  2e-08  7e-08  9e-08  3e-08\n",
      "Optimal solution found.\n",
      "     pcost       dcost       gap    pres   dres   k/t\n",
      " 0:  0.0000e+00 -4.0000e+00  1e+03  1e+01  2e+01  1e+00\n",
      " 1:  3.3252e-01 -5.4173e-02  6e+01  1e+00  2e+00  3e-01\n",
      " 2:  5.0059e-02 -4.2737e-04  9e-01  2e-01  2e-01  2e-02\n",
      " 3: -5.2073e-03 -3.1726e-04  2e-03  2e-02  2e-02  1e-02\n",
      " 4: -3.6755e-04 -2.1284e-05  3e-04  2e-03  2e-03  1e-03\n",
      " 5: -3.8400e-05  6.8475e-06  3e-05  2e-04  3e-04  1e-04\n",
      " 6:  3.0206e-06  1.1178e-05  7e-06  4e-05  6e-05  3e-05\n",
      " 7:  1.0891e-05  1.1994e-05  1e-06  6e-06  9e-06  4e-06\n",
      " 8:  1.1896e-05  1.2122e-05  3e-07  1e-06  2e-06  9e-07\n",
      " 9:  1.2070e-05  1.2142e-05  2e-07  9e-07  1e-06  5e-07\n",
      "10:  1.2150e-05  1.2159e-05  5e-08  2e-07  2e-07  8e-08\n",
      "11:  1.2160e-05  1.2161e-05  3e-08  9e-08  1e-07  4e-08\n",
      "12:  1.2163e-05  1.2163e-05  5e-09  2e-08  2e-08  7e-09\n",
      "Optimal solution found.\n",
      "     pcost       dcost       gap    pres   dres   k/t\n",
      " 0:  0.0000e+00 -4.0000e+00  1e+03  1e+01  2e+01  1e+00\n",
      " 1:  3.4736e-01 -1.5132e-01  7e+01  2e+00  3e+00  4e-01\n",
      " 2:  5.7054e-02 -2.6431e-04  9e-01  2e-01  3e-01  3e-02\n",
      " 3: -9.7674e-03 -1.9507e-04  3e-03  2e-02  3e-02  2e-02\n",
      " 4: -9.6725e-04 -1.1224e-05  4e-04  3e-03  4e-03  2e-03\n",
      " 5: -1.0537e-04  1.4731e-05  5e-05  4e-04  5e-04  3e-04\n",
      " 6:  2.5096e-06  1.9576e-05  8e-06  5e-05  8e-05  4e-05\n",
      " 7:  1.5660e-05  2.0152e-05  3e-06  2e-05  2e-05  1e-05\n",
      " 8:  1.8304e-05  2.0328e-05  3e-06  1e-05  1e-05  6e-06\n",
      " 9:  2.0238e-05  2.0471e-05  7e-07  2e-06  3e-06  1e-06\n",
      "10:  2.0464e-05  2.0516e-05  3e-07  7e-07  1e-06  4e-07\n",
      "11:  2.0526e-05  2.0527e-05  7e-08  1e-07  2e-07  7e-08\n",
      "12:  2.0532e-05  2.0531e-05  9e-09  2e-08  3e-08  8e-09\n",
      "Optimal solution found.\n"
     ]
    }
   ],
   "source": [
    "#num_cores = multiprocessing.cpu_count() - 4\n",
    "num_cores = 2\n",
    "\n",
    "def invert_one(val):\n",
    "    gamma.value = val\n",
    "    try:\n",
    "        prob.solve(verbose= True, max_iters = 50,\n",
    "                   warm_start=True, solver = cvxpy.CVXOPT,\n",
    "                   feastol = 1e-7, reltol = 1e-6,\n",
    "                   abstol = 1e-7)\n",
    "\n",
    "    except cvxpy.SolverError:\n",
    "        return None\n",
    "\n",
    "    sq_penalty.append(error.value)\n",
    "    l1_penalty.append(regularity_penalty.value)\n",
    "    sigma_values.append(sigma.value)\n",
    "\n",
    "    s_x = np.zeros(coords.shape[0])\n",
    "    s_y = np.zeros(coords.shape[0])\n",
    "    \n",
    "    s_x[condition_inside].flat = sigma[:,0].value.reshape((n_in,))\n",
    "    s_y[condition_inside].flat = sigma[:,1].value.reshape((n_in,))\n",
    "\n",
    "    u_x = np.zeros(coords.shape[0])\n",
    "    u_y = np.zeros(coords.shape[0])\n",
    "    u_x[condition_inside].flat = predicted_in_x.value\n",
    "    u_x[condition_outside].flat = predicted_out_x.value\n",
    "    u_y[condition_inside].flat = predicted_in_y.value\n",
    "    u_y[condition_outside].flat = predicted_out_y.value\n",
    "    \n",
    "    return np.array([sigma[:,0].value, sigma[:,1].value]).T, error.value, regularity_penalty.value, val\n",
    "\n",
    "#results = Parallel(n_jobs=num_cores)(delayed(invert_one)(val) for val in gamma_vals)\n",
    "pad_results = [invert_one(val) for val in gamma_vals]"
   ]
  },
  {
   "cell_type": "code",
   "execution_count": 14,
   "metadata": {},
   "outputs": [
    {
     "data": {
      "text/plain": [
       "<matplotlib.text.Text at 0x152190b00>"
      ]
     },
     "execution_count": 14,
     "metadata": {},
     "output_type": "execute_result"
    },
    {
     "data": {
      "image/png": "[encoded data removed]",
      "text/plain": [
       "<matplotlib.figure.Figure at 0x16f3a0588>"
      ]
     },
     "metadata": {},
     "output_type": "display_data"
    }
   ],
   "source": [
    "data_error = [res[1] for res in pad_results]\n",
    "reg_error = [res[2] for res in pad_results]\n",
    "lvals = [res[3] for res in pad_results]\n",
    "\n",
    "l_curve_distances = np.abs((reg_error[-1]-reg_error[0])*np.array(data_error) -  \\\n",
    "            (data_error[-1]-data_error[0])*np.array(reg_error)+data_error[-1]*reg_error[0]-reg_error[-1]*data_error[0])\n",
    "best = np.argsort(l_curve_distances)[-1]\n",
    "\n",
    "plt.plot( data_error, reg_error)\n",
    "plt.scatter(data_error[best],reg_error[best],s=100, facecolors='none', edgecolors='r')\n",
    "plt.scatter(data_error[0],reg_error[0],s=100, facecolors='none', edgecolors='g')\n",
    "plt.scatter(data_error[-1],reg_error[-1],s=100, facecolors='none', edgecolors='y')\n",
    "\n",
    "plt.xlabel(\"Mismatch\", fontsize=16)\n",
    "plt.ylabel(\"Regularity\", fontsize=16)\n",
    "plt.title('Trade-Off Curve', fontsize=16)\n",
    "plt.text(data_error[best],reg_error[best],lvals[best])"
   ]
  },
  {
   "cell_type": "code",
   "execution_count": 15,
   "metadata": {
    "collapsed": true
   },
   "outputs": [],
   "source": [
    "s_x = np.zeros(coords.shape[0])\n",
    "s_y = np.zeros(coords.shape[0])\n",
    "\n",
    "s_x[condition_inside] = pad_results[best][0][0][:,0]\n",
    "s_y[condition_inside] = pad_results[best][0][0][:,1]"
   ]
  },
  {
   "cell_type": "code",
   "execution_count": 22,
   "metadata": {},
   "outputs": [
    {
     "name": "stdout",
     "output_type": "stream",
     "text": [
      "Total force-x: 2.16840434497e-19\n",
      "Total force-y: -1.73472347598e-18\n"
     ]
    }
   ],
   "source": [
    "#print(\"Total torque: \" + str(sum((coords[:,0]-N/2)*pad_results[best][0][0][:,1] - (coords[:,1]-M/2)*pad_results[best][0][0][:,0])))\n",
    "print(\"Total force-x: \" + str(sum(pad_results[best][0][0][:,0])))\n",
    "print(\"Total force-y: \" + str(sum(pad_results[best][0][0][:,1])))"
   ]
  },
  {
   "cell_type": "code",
   "execution_count": null,
   "metadata": {
    "collapsed": true
   },
   "outputs": [],
   "source": []
  },
  {
   "cell_type": "code",
   "execution_count": 16,
   "metadata": {},
   "outputs": [
    {
     "data": {
      "image/png": "[encoded data removed]",
      "text/plain": [
       "<matplotlib.figure.Figure at 0x152152fd0>"
      ]
     },
     "metadata": {},
     "output_type": "display_data"
    }
   ],
   "source": [
    "fig = plt.figure(figsize=(16,9))\n",
    "#fig = plt.figure()\n",
    "maxmagnitude = 0.03\n",
    "gs0 = gridspec.GridSpec(2,1, hspace = .1,wspace=.1)\n",
    "\n",
    "gs_j = []\n",
    "gs_j_innergrids = []\n",
    "ax = []\n",
    "im = []\n",
    " \n",
    "j = 0\n",
    "\n",
    "gs_j += [gridspec.GridSpecFromSubplotSpec(1,2,\n",
    "            subplot_spec=gs0[0],\n",
    "            width_ratios = [1,1], hspace = 0.1,wspace=0.1)]\n",
    "            #height_ratios = [1,1,1,1,1,1,1])]\n",
    "gs_j_innergrids+= [[]]\n",
    "\n",
    "gs_j_innergrids[j] +=  [gridspec.GridSpecFromSubplotSpec(1,2,\n",
    "        subplot_spec = gs_j[j][0,0], wspace=0.0, hspace = 0.0)] \n",
    "ax += [plt.Subplot(fig, gs_j_innergrids[j][0][0,0])]\n",
    "fig.add_subplot(ax[-1])\n",
    "\n",
    "plt.axis('off')\n",
    "\n",
    "at = AnchoredText(\"$\\hat{\\sigma}_{xz}$\",\n",
    "              prop=dict(size=14), frameon=True,\n",
    "              loc=2,\n",
    "              )\n",
    "at.patch.set_boxstyle(\"round,pad=0.,rounding_size=0.2\")\n",
    "ax[-1].add_artist(at)\n",
    "\n",
    "z = np.ma.masked_array(s_x, np.abs(s_x) < 1e-5)    \n",
    "maxmagnitude = np.max(np.abs(s_x))\n",
    "im += [ax[-1].pcolormesh(x_obs_positions,y_obs_positions,s_x.reshape((len(y_obs_positions),len(x_obs_positions))),\n",
    "                           cmap='seismic_r',vmax = maxmagnitude, vmin=-maxmagnitude)]\n",
    "\n",
    "im[-1].axes.set_aspect('equal')\n",
    "    \n",
    "ax += [plt.Subplot(fig, gs_j_innergrids[j][0][0,1])]\n",
    "fig.add_subplot(ax[-1])\n",
    "\n",
    "plt.axis('off')\n",
    "\n",
    "at = AnchoredText(\"$\\hat{\\sigma}_{yz}$\",\n",
    "              prop=dict(size=14), frameon=True,\n",
    "              loc=2,\n",
    "              )\n",
    "at.patch.set_boxstyle(\"round,pad=0.,rounding_size=0.2\")\n",
    "ax[-1].add_artist(at)\n",
    "\n",
    "z = np.ma.masked_array(s_y, np.abs(s_y) < 1e-5)    \n",
    "#maxmagnitude = np.max(np.abs(s_x))\n",
    "im += [ax[-1].pcolormesh(x_obs_positions,y_obs_positions,s_y.reshape((len(y_obs_positions),len(x_obs_positions))),\n",
    "                           cmap='seismic_r',vmax = maxmagnitude, vmin=-maxmagnitude)]\n",
    "\n",
    "im[-1].axes.set_aspect('equal')\n",
    "\n",
    "###########################################################\n",
    "j = 1\n",
    "\n",
    "gs_j += [gridspec.GridSpecFromSubplotSpec(1,2,\n",
    "            subplot_spec=gs0[1],\n",
    "            width_ratios = [1,1], hspace = 0.1,wspace=0.1)]\n",
    "            #height_ratios = [1,1,1,1,1,1,1])]\n",
    "gs_j_innergrids+= [[]]\n",
    "\n",
    "gs_j_innergrids[j] +=  [gridspec.GridSpecFromSubplotSpec(1,2,\n",
    "        subplot_spec = gs_j[j][0,0], wspace=0.0, hspace = 0.0)] \n",
    "ax += [plt.Subplot(fig, gs_j_innergrids[j][0][0,0])]\n",
    "fig.add_subplot(ax[-1])\n",
    "\n",
    "plt.axis('off')\n",
    "\n",
    "at = AnchoredText(\"${\\sigma}_{xz}$\",\n",
    "              prop=dict(size=14), frameon=True,\n",
    "              loc=2,\n",
    "              )\n",
    "at.patch.set_boxstyle(\"round,pad=0.,rounding_size=0.2\")\n",
    "ax[-1].add_artist(at)\n",
    "\n",
    "z = np.ma.masked_array(stress_x, np.abs(stress_x) < 1e-5)    \n",
    "#maxmagnitude = np.max(np.abs(s_x))\n",
    "im += [ax[-1].pcolormesh(x_forward_positions,y_forward_positions,stress_x.reshape((len(y_forward_positions),len(x_forward_positions))),\n",
    "                           cmap='seismic_r',vmax = maxmagnitude, vmin=-maxmagnitude)]\n",
    "\n",
    "im[-1].axes.set_aspect('equal')\n",
    "    \n",
    "ax += [plt.Subplot(fig, gs_j_innergrids[j][0][0,1])]\n",
    "fig.add_subplot(ax[-1])\n",
    "\n",
    "plt.axis('off')\n",
    "\n",
    "at = AnchoredText(\"${\\sigma}_{yz}$\",\n",
    "              prop=dict(size=14), frameon=True,\n",
    "              loc=2,\n",
    "              )\n",
    "at.patch.set_boxstyle(\"round,pad=0.,rounding_size=0.2\")\n",
    "ax[-1].add_artist(at)\n",
    "\n",
    "z = np.ma.masked_array(stress_y, np.abs(stress_y) < 1e-5)    \n",
    "#maxmagnitude = np.max(np.abs(s_x))\n",
    "im += [ax[-1].pcolormesh(x_forward_positions,y_forward_positions,stress_y.reshape((len(y_forward_positions),len(x_forward_positions))),\n",
    "                           cmap='seismic_r',vmax = maxmagnitude, vmin=-maxmagnitude)]\n",
    "\n",
    "im[-1].axes.set_aspect('equal')\n",
    "#ax[0].text(100,220,r\"Reconstruction\",fontsize=20)\n",
    "#ax[2].text(120,220,r\"Difference\",fontsize=20)\n",
    "fig.colorbar(im[0], ax = ax, orientation='horizontal').ax.tick_params(labelsize=15)\n",
    "\n",
    "    \n",
    "plt.savefig(\"../../figures/pads_2_anisotropic_notorque.png\",bbox_inches='tight', \n",
    "               transparent=True,\n",
    "               pad_inches=0.15, dpi=400)   "
   ]
  },
  {
   "cell_type": "code",
   "execution_count": 19,
   "metadata": {},
   "outputs": [],
   "source": [
    "results2 = [list(solution) for solution in pad_results]\n",
    "\n",
    "for solution in results2:\n",
    "\n",
    "    s_x = np.zeros(coords.shape[0])\n",
    "    s_y = np.zeros(coords.shape[0])\n",
    "    \n",
    "    s_x[condition_inside] = solution[0][0][:,0]\n",
    "    s_y[condition_inside] = solution[0][0][:,1]\n",
    "    \n",
    "    solution.insert(0, [ s_x.reshape((len(y_obs_positions),len(x_obs_positions))), \n",
    "                   s_y.reshape((len(y_obs_positions),len(x_obs_positions))), \n",
    "                  x_obs_positions,y_obs_positions])\n",
    "    #_ = solution.pop(1)\n",
    "\n",
    "import pickle\n",
    "import gzip\n",
    "\n",
    "with gzip.open('../results/pads_2_anisotropic_notorque.gz','wb') as f:\n",
    "    pickle.dump(results2,f)"
   ]
  },
  {
   "cell_type": "code",
   "execution_count": 23,
   "metadata": {},
   "outputs": [
    {
     "name": "stdout",
     "output_type": "stream",
     "text": [
      "Total torque: -0.000133944048468\n",
      "Total force-x: 2.16840434497e-19\n",
      "Total force-y: -1.73472347598e-18\n"
     ]
    }
   ],
   "source": [
    "print(\"Total torque: \" + str(sum((coords[condition_inside ,0]-N/2)*pad_results[best][0][0][:,1] - (coords[condition_inside ,1]-M/2)*pad_results[best][0][0][:,0])))\n",
    "print(\"Total force-x: \" + str(sum(pad_results[best][0][0][:,0])))\n",
    "print(\"Total force-y: \" + str(sum(pad_results[best][0][0][:,1])))"
   ]
  },
  {
   "cell_type": "code",
   "execution_count": null,
   "metadata": {
    "collapsed": true
   },
   "outputs": [],
   "source": []
  }
 ],
 "metadata": {
  "kernelspec": {
   "display_name": "Python 3",
   "language": "python",
   "name": "python3"
  },
  "language_info": {
   "codemirror_mode": {
    "name": "ipython",
    "version": 3
   },
   "file_extension": ".py",
   "mimetype": "text/x-python",
   "name": "python",
   "nbconvert_exporter": "python",
   "pygments_lexer": "ipython3",
   "version": "3.6.0"
  }
 },
 "nbformat": 4,
 "nbformat_minor": 2
}
