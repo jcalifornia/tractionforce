{
 "cells": [
  {
   "cell_type": "code",
   "execution_count": 1,
   "metadata": {
    "collapsed": false
   },
   "outputs": [
    {
     "name": "stdout",
     "output_type": "stream",
     "text": [
      "Populating the interactive namespace from numpy and matplotlib\n"
     ]
    }
   ],
   "source": [
    "%pylab inline\n",
    "\n",
    "import cvxpy\n",
    "from cvxpy import Variable, Minimize, sum_squares, norm, Problem, Parameter, mul_elemwise, sum_entries, Constant\n",
    "from scipy import sparse\n",
    "import sys, argparse\n",
    "from scipy import ndimage\n",
    "import matplotlib.pyplot as plt\n",
    "from matplotlib.backends.backend_pdf import PdfPages\n",
    "import sys\n",
    "\n",
    "sys.path.append('../../')\n",
    "from tractionforce.elasticity import *\n",
    "import gc\n",
    "from tractionforce.norms import *\n",
    "from joblib import Parallel, delayed\n",
    "import multiprocessing\n",
    "\n",
    "def read_data(filename):\n",
    "\n",
    "    # read the boundary points and get a mask\n",
    "    raw_data = np.loadtxt(filename,skiprows=0)\n",
    "    coords = raw_data[:,:2]\n",
    "    deflection = raw_data[:,2]\n",
    "    boundary = raw_data[:,3]\n",
    "    return  coords, deflection, boundary\n"
   ]
  },
  {
   "cell_type": "code",
   "execution_count": 2,
   "metadata": {
    "collapsed": false
   },
   "outputs": [
    {
     "name": "stdout",
     "output_type": "stream",
     "text": [
      "Size of the problem is 2196\n"
     ]
    },
    {
     "name": "stderr",
     "output_type": "stream",
     "text": [
      "/usr/local/lib/python3.6/site-packages/scipy/sparse/compressed.py:730: SparseEfficiencyWarning: Changing the sparsity structure of a csr_matrix is expensive. lil_matrix is more efficient.\n",
      "  SparseEfficiencyWarning)\n"
     ]
    }
   ],
   "source": [
    "CUTOFF  = 8\n",
    "N_SOLUTIONS = 24\n",
    "gamma_vals = np.logspace(-5, 0, N_SOLUTIONS)\n",
    "\n",
    "\n",
    "coords, deflection, boundary = read_data('../../tractionforce/data/t2.txt')\n",
    "x_obs_positions = sorted(set(coords[:, 0]))\n",
    "y_obs_positions = sorted(set(coords[:, 1]))\n",
    "\n",
    "dx = abs(x_obs_positions[1]-x_obs_positions[0])\n",
    "dy = abs(y_obs_positions[1]-y_obs_positions[0])\n",
    "\n",
    "N = len(x_obs_positions)\n",
    "M = len(y_obs_positions)\n",
    "\n",
    "boundary2d = boundary.reshape((N, M))\n",
    "mask = np.zeros(boundary2d.shape)\n",
    "for r in range(boundary2d.shape[1]):\n",
    "    pts = np.where(boundary2d[:, r] == 1)\n",
    "    \n",
    "    if (len(pts[0]) > 0):\n",
    "        mini = (min(min(pts)))\n",
    "        maxi = max(max(pts))\n",
    "        mask[ mini:maxi, r] = 1\n",
    "\n",
    "distances2d = -ndimage.distance_transform_edt(mask) + ndimage.distance_transform_edt(1 - mask)\n",
    "distances2d = distances2d.flatten()\n",
    "\n",
    "condition_inside = distances2d<=0\n",
    "condition_outside = (distances2d>0) * (distances2d<=CUTOFF)\n",
    "\n",
    "del distances2d, mask, boundary2d\n",
    "gc.collect()\n",
    "\n",
    "x_out = np.array(coords[condition_outside,0]/dx,dtype=int)\n",
    "y_out = np.array(coords[condition_outside,1]/dy,dtype=int)\n",
    "\n",
    "x_in = np.array(coords[condition_inside,0]/dx,dtype=int)\n",
    "y_in = np.array(coords[condition_inside,1]/dy,dtype=int)\n",
    "\n",
    "x_center = np.mean(x_in)\n",
    "y_center = np.mean(y_in)\n",
    "\n",
    "u_x_in = deflection[condition_inside]\n",
    "u_x_out = deflection[condition_outside]\n",
    "\n",
    "n_in = len(x_in)\n",
    "n_out = len(x_out)\n",
    "\n",
    "print(\"Size of the problem is \" + str( n_in + n_out))\n",
    "\n",
    "deltax_in_in = x_in[...,np.newaxis] - x_in[np.newaxis, ...]  # should be x-x'\n",
    "deltax_out_in = x_out[...,np.newaxis] - x_in[np.newaxis, ...]  # should be x-x'\n",
    "deltay_in_in = y_in[...,np.newaxis] - y_in[np.newaxis, ...]  # y - y'\n",
    "deltay_out_in = y_out[...,np.newaxis] - y_in[np.newaxis,...] # y - y'\n",
    "\n",
    "l2_in_plus_in_plus = (np.array([deltax_in_in*dx - dx/2.0, deltay_in_in*dy - dy/2.0])**2).sum(axis=0)**0.5\n",
    "l2_in_plus_in_minus = (np.array([deltax_in_in*dx - dx/2.0, deltay_in_in*dy + dy/2.0])**2).sum(axis=0)**0.5\n",
    "l2_in_minus_in_plus = (np.array([deltax_in_in*dx + dx/2.0, deltay_in_in*dy - dy/2.0])**2).sum(axis=0)**0.5\n",
    "l2_in_minus_in_minus = (np.array([deltax_in_in*dx + dx/2.0, deltay_in_in*dy+ dy/2.0]) ** 2).sum(axis=0) ** 0.5\n",
    "\n",
    "l2_out_plus_in_plus = (np.array([deltax_out_in*dx - dx/2.0, deltay_out_in*dy - dy/2.0])**2).sum(axis=0)**0.5\n",
    "l2_out_plus_in_minus = (np.array([deltax_out_in*dx - dx/2.0, deltay_out_in*dy + dy/2.0])**2).sum(axis=0)**0.5\n",
    "l2_out_minus_in_plus = (np.array([deltax_out_in*dx + dx/2.0, deltay_out_in*dy - dy/2.0])**2).sum(axis=0)**0.5\n",
    "l2_out_minus_in_minus = (np.array([deltax_out_in*dx + dx/2.0, deltay_out_in*dy + dy/2.0]) ** 2).sum(axis=0) ** 0.5\n",
    "\n",
    "x_adjacency = sparse.csr_matrix((deltax_in_in == -1)*(deltay_in_in == 0)*-1 + (deltax_in_in == 1)*(deltay_in_in == 0)*1)\n",
    "y_adjacency = sparse.csr_matrix((deltay_in_in == -1)*(deltax_in_in == 0)*-1 + (deltay_in_in == 1)*(deltax_in_in == 0)*1)\n",
    "\n",
    "A_in_in = fxx(deltax_in_in*dx-dx/2. , deltay_in_in*dy-dy/2.0 , l2_in_plus_in_plus) - \\\n",
    "          fxx(deltax_in_in*dx-dx/2. , deltay_in_in*dy+dy/2.0, l2_in_plus_in_minus) -\\\n",
    "          fxx(deltax_in_in*dx+dx/2. , deltay_in_in*dy-dy/2.0, l2_in_minus_in_plus) + \\\n",
    "          fxx(deltax_in_in*dx+dx/2. , deltay_in_in*dy+dy/2.0, l2_in_minus_in_minus)\n",
    "\n",
    "A_out_in = fxx(deltax_out_in*dx-dx/2. , deltay_out_in*dy-dy/2.0 , l2_out_plus_in_plus) - \\\n",
    "          fxx(deltax_out_in*dx-dx/2. , deltay_out_in*dy+dy/2.0, l2_out_plus_in_minus) -\\\n",
    "          fxx(deltax_out_in*dx+dx/2. , deltay_out_in*dy-dy/2.0, l2_out_minus_in_plus) + \\\n",
    "          fxx(deltax_out_in*dx+dx/2. , deltay_out_in*dy+dy/2.0, l2_out_minus_in_minus)\n",
    "\n",
    "D_in_in = fxy(deltax_in_in*dx-dx/2. , deltay_in_in*dy-dy/2.0 , l2_in_plus_in_plus) - \\\n",
    "          fxy(deltax_in_in*dx-dx/2. , deltay_in_in*dy+dy/2.0, l2_in_plus_in_minus) - \\\n",
    "          fxy(deltax_in_in*dx+dx/2. , deltay_in_in*dy-dy/2.0, l2_in_minus_in_plus) + \\\n",
    "          fxy(deltax_in_in*dx+dx/2. , deltay_in_in*dy+dy/2.0, l2_in_minus_in_minus)\n",
    "\n",
    "D_out_in = fxy(deltax_out_in*dx-dx/2. , deltay_out_in*dy-dy/2.0 , l2_out_plus_in_plus) - \\\n",
    "           fxy(deltax_out_in*dx-dx/2. , deltay_out_in*dy+dy/2.0, l2_out_plus_in_minus) - \\\n",
    "           fxy(deltax_out_in*dx+dx/2. , deltay_out_in*dy-dy/2.0, l2_out_minus_in_plus) + \\\n",
    "           fxy(deltax_out_in*dx+dx/2. , deltay_out_in*dy+dy/2.0, l2_out_minus_in_minus)\n",
    "\n",
    "B_in_in = x_in[..., np.newaxis]*A_in_in - fxxx(deltax_in_in-dx/2. , deltay_in_in-dy/2.0 , l2_in_plus_in_plus) + \\\n",
    "              fxxx(deltax_in_in-dx/2. , deltay_in_in+dy/2.0, l2_in_plus_in_minus) +\\\n",
    "              fxxx(deltax_in_in+dx/2. , deltay_in_in-dy/2.0, l2_in_minus_in_plus) - \\\n",
    "              fxxx(deltax_in_in+dx/2. , deltay_in_in+dy/2.0, l2_in_minus_in_minus)\n",
    "\n",
    "B_out_in = x_out[..., np.newaxis]*A_out_in - fxxx(deltax_out_in-dx/2. , deltay_out_in-dy/2.0 , l2_out_plus_in_plus) + \\\n",
    "          fxxx(deltax_out_in-dx/2. , deltay_out_in+dy/2.0, l2_out_plus_in_minus) +\\\n",
    "          fxxx(deltax_out_in+dx/2. , deltay_out_in-dy/2.0, l2_out_minus_in_plus) - \\\n",
    "          fxxx(deltax_out_in+dx/2. , deltay_out_in+dy/2.0, l2_out_minus_in_minus)\n",
    "\n",
    "C_in_in = y_in[..., np.newaxis]*A_in_in - fxxy(deltax_in_in-dx/2. , deltay_in_in-dy/2.0 , l2_in_plus_in_plus) + \\\n",
    "          fxxy(deltax_in_in-dx/2. , deltay_in_in+dy/2.0, l2_in_plus_in_minus) + \\\n",
    "          fxxy(deltax_in_in+dx/2. , deltay_in_in-dy/2.0, l2_in_minus_in_plus) - \\\n",
    "          fxxy(deltax_in_in+dx/2. , deltay_in_in+dy/2.0, l2_in_minus_in_minus)\n",
    "\n",
    "C_out_in = y_out[..., np.newaxis]*A_out_in - fxxy(deltax_out_in-dx/2. , deltay_out_in-dy/2.0 , l2_out_plus_in_plus) + \\\n",
    "           fxxy(deltax_out_in-dx/2. , deltay_out_in+dy/2.0, l2_out_plus_in_minus) + \\\n",
    "           fxxy(deltax_out_in+dx/2. , deltay_out_in-dy/2.0, l2_out_minus_in_plus) - \\\n",
    "           fxxy(deltax_out_in+dx/2. , deltay_out_in+dy/2.0, l2_out_minus_in_minus)\n",
    "\n",
    "E_in_in = x_in[..., np.newaxis] * D_in_in - fxyx(deltax_in_in - dx / 2., deltay_in_in - dy / 2.0,\n",
    "                                                 l2_in_plus_in_plus) + \\\n",
    "          fxyx(deltax_in_in - dx / 2., deltay_in_in + dy / 2.0, l2_in_plus_in_minus) + \\\n",
    "          fxyx(deltax_in_in + dx / 2., deltay_in_in - dy / 2.0, l2_in_minus_in_plus) - \\\n",
    "          fxyx(deltax_in_in + dx / 2., deltay_in_in + dy / 2.0, l2_in_minus_in_minus)\n",
    "\n",
    "E_out_in = x_out[..., np.newaxis] * D_out_in - fxyx(deltax_out_in - dx / 2., deltay_out_in - dy / 2.0,\n",
    "                                                   l2_out_plus_in_plus) + \\\n",
    "           fxyx(deltax_out_in - dx / 2., deltay_out_in + dy / 2.0, l2_out_plus_in_minus) + \\\n",
    "           fxyx(deltax_out_in + dx / 2., deltay_out_in - dy / 2.0, l2_out_minus_in_plus) - \\\n",
    "           fxyx(deltax_out_in + dx / 2., deltay_out_in + dy / 2.0, l2_out_minus_in_minus)\n",
    "\n",
    "F_in_in = y_in[..., np.newaxis]*D_in_in - fxyx(deltax_in_in-dx/2. , deltay_in_in-dy/2.0 , l2_in_plus_in_plus) + \\\n",
    "          fxyx(deltax_in_in-dx/2. , deltay_in_in+dy/2.0, l2_in_plus_in_minus) + \\\n",
    "          fxyx(deltax_in_in+dx/2. , deltay_in_in-dy/2.0, l2_in_minus_in_plus) - \\\n",
    "          fxyx(deltax_in_in+dx/2. , deltay_in_in+dy/2.0, l2_in_minus_in_minus)\n",
    "\n",
    "F_out_in = y_out[..., np.newaxis]* D_out_in - fxyx(deltax_out_in-dx/2. , deltay_out_in-dy/2.0 , l2_out_plus_in_plus) + \\\n",
    "           fxyx(deltax_out_in-dx/2. , deltay_out_in+dy/2.0, l2_out_plus_in_minus) + \\\n",
    "           fxyx(deltax_out_in+dx/2. , deltay_out_in-dy/2.0, l2_out_minus_in_plus) - \\\n",
    "           fxyx(deltax_out_in+dx/2. , deltay_out_in+dy/2.0, l2_out_minus_in_minus)\n",
    "\n",
    "# make derivative matrices Lx Ly\n",
    "\n",
    "Dx = sparse.csr_matrix((deltax_in_in == 0)*(deltay_in_in == 0)*-1 + (deltax_in_in == 1)*(deltay_in_in == 0)*1)\n",
    "rowsums = np.squeeze(np.asarray((Dx.sum(axis=1) != 0)))\n",
    "Dx[rowsums,:] = 0\n",
    "Dx.eliminate_zeros()\n",
    "Dx = Constant(Dx)\n",
    "\n",
    "Dy = sparse.csr_matrix(\n",
    "    (deltay_in_in == 0) * (deltax_in_in == 0) * -1 + (deltay_in_in == 1) * (deltax_in_in == 0) * 1)\n",
    "rowsums = np.squeeze(np.asarray((Dy.sum(axis=1) != 0)))\n",
    "Dy[rowsums,:] = 0\n",
    "Dy.eliminate_zeros()\n",
    "Dy = Constant(Dy)\n",
    "\n",
    "del deltax_in_in, deltay_in_in, deltax_out_in, deltay_out_in\n",
    "del l2_in_plus_in_plus, l2_in_plus_in_minus, l2_in_minus_in_plus, l2_in_minus_in_minus\n",
    "del l2_out_plus_in_plus, l2_out_plus_in_minus, l2_out_minus_in_plus, l2_out_minus_in_minus\n",
    "gc.collect()\n",
    "\n",
    "gamma = Parameter(sign=\"positive\",value=1)\n",
    "\n",
    "sigma_xz = Variable(n_in)\n",
    "sigma_yz = Variable(n_in)\n",
    "# predicted_in = A_in_in*sigma_xz + D_in_in*sigma_yz # add higher order terms\n",
    "predicted_in = (A_in_in + B_in_in + C_in_in )*1e-3* sigma_xz + (D_in_in + E_in_in + F_in_in )*1e-3* sigma_yz\n",
    "# predicted_out =  A_out_in*sigma_xz + D_out_in*sigma_yz\n",
    "predicted_out = (A_out_in + B_out_in + C_out_in)*1e-3* sigma_xz + (D_out_in + E_out_in + F_out_in)*1e-3* sigma_yz\n",
    "\n",
    "\n",
    "error = sum_squares(u_x_in - predicted_in) + sum_squares(u_x_out - predicted_out)\n",
    "\n",
    "forceconstraints = [sum_entries(sigma_xz)==0, sum_entries(sigma_yz)==0] # add torque-free constraint here\n",
    "net_torque = sum_entries(mul_elemwise(x_in-x_center,sigma_yz) - mul_elemwise(y_in-y_center,sigma_xz))\n",
    "\n",
    "torqueconstraints = [net_torque == 0]\n",
    "\n",
    "constraints = forceconstraints + torqueconstraints"
   ]
  },
  {
   "cell_type": "markdown",
   "metadata": {},
   "source": [
    "$$\n",
    "\\int\\left( \\vert \\nabla\\sigma_x \\vert + \\vert\\nabla\\sigma_y\\vert\\right)\\mathrm{d}\\mathbf{x}\n",
    "$$"
   ]
  },
  {
   "cell_type": "code",
   "execution_count": 3,
   "metadata": {
    "collapsed": false
   },
   "outputs": [],
   "source": [
    "regularity_penalty = tvnorm2d(sigma_xz, Dx, Dy) + tvnorm2d(sigma_yz, Dx, Dy)\n",
    "objective = Minimize(error + gamma*regularity_penalty)\n",
    "prob = Problem(objective, constraints)\n",
    "\n",
    "sq_penalty = []\n",
    "l1_penalty = []\n",
    "sigma_xz_values = []\n",
    "sigma_yz_values = []\n",
    "\n",
    "u_x_values = []\n"
   ]
  },
  {
   "cell_type": "code",
   "execution_count": 4,
   "metadata": {
    "collapsed": false,
    "scrolled": true
   },
   "outputs": [
    {
     "name": "stderr",
     "output_type": "stream",
     "text": [
      "/usr/local/lib/python3.6/site-packages/ipykernel/__main__.py:24: DeprecationWarning: assignment will raise an error in the future, most likely because your index result shape does not match the value array shape. You can use `arr.flat[index] = values` to keep the old behaviour.\n",
      "/usr/local/lib/python3.6/site-packages/ipykernel/__main__.py:25: DeprecationWarning: assignment will raise an error in the future, most likely because your index result shape does not match the value array shape. You can use `arr.flat[index] = values` to keep the old behaviour.\n",
      "/usr/local/lib/python3.6/site-packages/ipykernel/__main__.py:24: DeprecationWarning: assignment will raise an error in the future, most likely because your index result shape does not match the value array shape. You can use `arr.flat[index] = values` to keep the old behaviour.\n",
      "/usr/local/lib/python3.6/site-packages/ipykernel/__main__.py:25: DeprecationWarning: assignment will raise an error in the future, most likely because your index result shape does not match the value array shape. You can use `arr.flat[index] = values` to keep the old behaviour.\n",
      "/usr/local/lib/python3.6/site-packages/ipykernel/__main__.py:24: DeprecationWarning: assignment will raise an error in the future, most likely because your index result shape does not match the value array shape. You can use `arr.flat[index] = values` to keep the old behaviour.\n",
      "/usr/local/lib/python3.6/site-packages/ipykernel/__main__.py:25: DeprecationWarning: assignment will raise an error in the future, most likely because your index result shape does not match the value array shape. You can use `arr.flat[index] = values` to keep the old behaviour.\n",
      "/usr/local/lib/python3.6/site-packages/ipykernel/__main__.py:24: DeprecationWarning: assignment will raise an error in the future, most likely because your index result shape does not match the value array shape. You can use `arr.flat[index] = values` to keep the old behaviour.\n",
      "/usr/local/lib/python3.6/site-packages/ipykernel/__main__.py:25: DeprecationWarning: assignment will raise an error in the future, most likely because your index result shape does not match the value array shape. You can use `arr.flat[index] = values` to keep the old behaviour.\n",
      "/usr/local/lib/python3.6/site-packages/ipykernel/__main__.py:24: DeprecationWarning: assignment will raise an error in the future, most likely because your index result shape does not match the value array shape. You can use `arr.flat[index] = values` to keep the old behaviour.\n",
      "/usr/local/lib/python3.6/site-packages/ipykernel/__main__.py:25: DeprecationWarning: assignment will raise an error in the future, most likely because your index result shape does not match the value array shape. You can use `arr.flat[index] = values` to keep the old behaviour.\n",
      "/usr/local/lib/python3.6/site-packages/ipykernel/__main__.py:24: DeprecationWarning: assignment will raise an error in the future, most likely because your index result shape does not match the value array shape. You can use `arr.flat[index] = values` to keep the old behaviour.\n",
      "/usr/local/lib/python3.6/site-packages/ipykernel/__main__.py:25: DeprecationWarning: assignment will raise an error in the future, most likely because your index result shape does not match the value array shape. You can use `arr.flat[index] = values` to keep the old behaviour.\n",
      "/usr/local/lib/python3.6/site-packages/ipykernel/__main__.py:24: DeprecationWarning: assignment will raise an error in the future, most likely because your index result shape does not match the value array shape. You can use `arr.flat[index] = values` to keep the old behaviour.\n",
      "/usr/local/lib/python3.6/site-packages/ipykernel/__main__.py:25: DeprecationWarning: assignment will raise an error in the future, most likely because your index result shape does not match the value array shape. You can use `arr.flat[index] = values` to keep the old behaviour.\n",
      "/usr/local/lib/python3.6/site-packages/ipykernel/__main__.py:24: DeprecationWarning: assignment will raise an error in the future, most likely because your index result shape does not match the value array shape. You can use `arr.flat[index] = values` to keep the old behaviour.\n",
      "/usr/local/lib/python3.6/site-packages/ipykernel/__main__.py:25: DeprecationWarning: assignment will raise an error in the future, most likely because your index result shape does not match the value array shape. You can use `arr.flat[index] = values` to keep the old behaviour.\n",
      "/usr/local/lib/python3.6/site-packages/ipykernel/__main__.py:24: DeprecationWarning: assignment will raise an error in the future, most likely because your index result shape does not match the value array shape. You can use `arr.flat[index] = values` to keep the old behaviour.\n",
      "/usr/local/lib/python3.6/site-packages/ipykernel/__main__.py:25: DeprecationWarning: assignment will raise an error in the future, most likely because your index result shape does not match the value array shape. You can use `arr.flat[index] = values` to keep the old behaviour.\n",
      "/usr/local/lib/python3.6/site-packages/ipykernel/__main__.py:24: DeprecationWarning: assignment will raise an error in the future, most likely because your index result shape does not match the value array shape. You can use `arr.flat[index] = values` to keep the old behaviour.\n",
      "/usr/local/lib/python3.6/site-packages/ipykernel/__main__.py:25: DeprecationWarning: assignment will raise an error in the future, most likely because your index result shape does not match the value array shape. You can use `arr.flat[index] = values` to keep the old behaviour.\n",
      "/usr/local/lib/python3.6/site-packages/ipykernel/__main__.py:24: DeprecationWarning: assignment will raise an error in the future, most likely because your index result shape does not match the value array shape. You can use `arr.flat[index] = values` to keep the old behaviour.\n",
      "/usr/local/lib/python3.6/site-packages/ipykernel/__main__.py:25: DeprecationWarning: assignment will raise an error in the future, most likely because your index result shape does not match the value array shape. You can use `arr.flat[index] = values` to keep the old behaviour.\n",
      "/usr/local/lib/python3.6/site-packages/ipykernel/__main__.py:24: DeprecationWarning: assignment will raise an error in the future, most likely because your index result shape does not match the value array shape. You can use `arr.flat[index] = values` to keep the old behaviour.\n",
      "/usr/local/lib/python3.6/site-packages/ipykernel/__main__.py:25: DeprecationWarning: assignment will raise an error in the future, most likely because your index result shape does not match the value array shape. You can use `arr.flat[index] = values` to keep the old behaviour.\n",
      "/usr/local/lib/python3.6/site-packages/ipykernel/__main__.py:24: DeprecationWarning: assignment will raise an error in the future, most likely because your index result shape does not match the value array shape. You can use `arr.flat[index] = values` to keep the old behaviour.\n",
      "/usr/local/lib/python3.6/site-packages/ipykernel/__main__.py:25: DeprecationWarning: assignment will raise an error in the future, most likely because your index result shape does not match the value array shape. You can use `arr.flat[index] = values` to keep the old behaviour.\n",
      "/usr/local/lib/python3.6/site-packages/ipykernel/__main__.py:24: DeprecationWarning: assignment will raise an error in the future, most likely because your index result shape does not match the value array shape. You can use `arr.flat[index] = values` to keep the old behaviour.\n",
      "/usr/local/lib/python3.6/site-packages/ipykernel/__main__.py:25: DeprecationWarning: assignment will raise an error in the future, most likely because your index result shape does not match the value array shape. You can use `arr.flat[index] = values` to keep the old behaviour.\n",
      "/usr/local/lib/python3.6/site-packages/ipykernel/__main__.py:24: DeprecationWarning: assignment will raise an error in the future, most likely because your index result shape does not match the value array shape. You can use `arr.flat[index] = values` to keep the old behaviour.\n",
      "/usr/local/lib/python3.6/site-packages/ipykernel/__main__.py:25: DeprecationWarning: assignment will raise an error in the future, most likely because your index result shape does not match the value array shape. You can use `arr.flat[index] = values` to keep the old behaviour.\n",
      "/usr/local/lib/python3.6/site-packages/ipykernel/__main__.py:24: DeprecationWarning: assignment will raise an error in the future, most likely because your index result shape does not match the value array shape. You can use `arr.flat[index] = values` to keep the old behaviour.\n",
      "/usr/local/lib/python3.6/site-packages/ipykernel/__main__.py:25: DeprecationWarning: assignment will raise an error in the future, most likely because your index result shape does not match the value array shape. You can use `arr.flat[index] = values` to keep the old behaviour.\n",
      "/usr/local/lib/python3.6/site-packages/ipykernel/__main__.py:24: DeprecationWarning: assignment will raise an error in the future, most likely because your index result shape does not match the value array shape. You can use `arr.flat[index] = values` to keep the old behaviour.\n",
      "/usr/local/lib/python3.6/site-packages/ipykernel/__main__.py:25: DeprecationWarning: assignment will raise an error in the future, most likely because your index result shape does not match the value array shape. You can use `arr.flat[index] = values` to keep the old behaviour.\n",
      "/usr/local/lib/python3.6/site-packages/ipykernel/__main__.py:24: DeprecationWarning: assignment will raise an error in the future, most likely because your index result shape does not match the value array shape. You can use `arr.flat[index] = values` to keep the old behaviour.\n",
      "/usr/local/lib/python3.6/site-packages/ipykernel/__main__.py:25: DeprecationWarning: assignment will raise an error in the future, most likely because your index result shape does not match the value array shape. You can use `arr.flat[index] = values` to keep the old behaviour.\n",
      "/usr/local/lib/python3.6/site-packages/ipykernel/__main__.py:24: DeprecationWarning: assignment will raise an error in the future, most likely because your index result shape does not match the value array shape. You can use `arr.flat[index] = values` to keep the old behaviour.\n",
      "/usr/local/lib/python3.6/site-packages/ipykernel/__main__.py:25: DeprecationWarning: assignment will raise an error in the future, most likely because your index result shape does not match the value array shape. You can use `arr.flat[index] = values` to keep the old behaviour.\n",
      "/usr/local/lib/python3.6/site-packages/ipykernel/__main__.py:24: DeprecationWarning: assignment will raise an error in the future, most likely because your index result shape does not match the value array shape. You can use `arr.flat[index] = values` to keep the old behaviour.\n",
      "/usr/local/lib/python3.6/site-packages/ipykernel/__main__.py:25: DeprecationWarning: assignment will raise an error in the future, most likely because your index result shape does not match the value array shape. You can use `arr.flat[index] = values` to keep the old behaviour.\n",
      "/usr/local/lib/python3.6/site-packages/ipykernel/__main__.py:24: DeprecationWarning: assignment will raise an error in the future, most likely because your index result shape does not match the value array shape. You can use `arr.flat[index] = values` to keep the old behaviour.\n",
      "/usr/local/lib/python3.6/site-packages/ipykernel/__main__.py:25: DeprecationWarning: assignment will raise an error in the future, most likely because your index result shape does not match the value array shape. You can use `arr.flat[index] = values` to keep the old behaviour.\n",
      "/usr/local/lib/python3.6/site-packages/ipykernel/__main__.py:24: DeprecationWarning: assignment will raise an error in the future, most likely because your index result shape does not match the value array shape. You can use `arr.flat[index] = values` to keep the old behaviour.\n",
      "/usr/local/lib/python3.6/site-packages/ipykernel/__main__.py:25: DeprecationWarning: assignment will raise an error in the future, most likely because your index result shape does not match the value array shape. You can use `arr.flat[index] = values` to keep the old behaviour.\n",
      "/usr/local/lib/python3.6/site-packages/ipykernel/__main__.py:24: DeprecationWarning: assignment will raise an error in the future, most likely because your index result shape does not match the value array shape. You can use `arr.flat[index] = values` to keep the old behaviour.\n",
      "/usr/local/lib/python3.6/site-packages/ipykernel/__main__.py:25: DeprecationWarning: assignment will raise an error in the future, most likely because your index result shape does not match the value array shape. You can use `arr.flat[index] = values` to keep the old behaviour.\n",
      "/usr/local/lib/python3.6/site-packages/ipykernel/__main__.py:24: DeprecationWarning: assignment will raise an error in the future, most likely because your index result shape does not match the value array shape. You can use `arr.flat[index] = values` to keep the old behaviour.\n",
      "/usr/local/lib/python3.6/site-packages/ipykernel/__main__.py:25: DeprecationWarning: assignment will raise an error in the future, most likely because your index result shape does not match the value array shape. You can use `arr.flat[index] = values` to keep the old behaviour.\n"
     ]
    }
   ],
   "source": [
    "num_cores = multiprocessing.cpu_count()\n",
    "\n",
    "def invert_one(val):\n",
    "    gamma.value = val\n",
    "    try:\n",
    "        prob.solve(verbose= False, max_iters = 50,\n",
    "                   warm_start=True, solver = cvxpy.ECOS,\n",
    "                   feastol = 1e-6, reltol = 1e-5,\n",
    "                   abstol = 1e-6)\n",
    "\n",
    "    except cvxpy.SolverError:\n",
    "        return None\n",
    "\n",
    "    sq_penalty.append(error.value)\n",
    "    l1_penalty.append(regularity_penalty.value)\n",
    "    sigma_xz_values.append(sigma_xz.value)\n",
    "    sigma_yz_values.append(sigma_yz.value)\n",
    "\n",
    "    force = np.zeros_like(coords)\n",
    "    force[condition_inside,0] = sigma_xz.value.reshape((n_in,))\n",
    "    force[condition_inside,1] = sigma_yz.value.reshape((n_in,))\n",
    "\n",
    "    u_x = np.zeros(coords.shape[0])\n",
    "    u_x[condition_inside] = predicted_in.value\n",
    "    u_x[condition_outside] = predicted_out.value\n",
    "    #u_x_values.append(u_x)\n",
    "\n",
    "    return force, u_x, error.value, regularity_penalty.value, val\n",
    "\n",
    "\n",
    "results = Parallel(n_jobs=num_cores)(delayed(invert_one)(val) for val in gamma_vals)\n"
   ]
  },
  {
   "cell_type": "code",
   "execution_count": 5,
   "metadata": {
    "collapsed": false
   },
   "outputs": [
    {
     "data": {
      "text/plain": [
       "<matplotlib.text.Text at 0x112ca2eb8>"
      ]
     },
     "execution_count": 5,
     "metadata": {},
     "output_type": "execute_result"
    },
    {
     "data": {
      "image/png": "[encoded data removed]",
      "text/plain": [
       "<matplotlib.figure.Figure at 0x112bb9358>"
      ]
     },
     "metadata": {},
     "output_type": "display_data"
    }
   ],
   "source": [
    "data_error = [res[2] for res in results]\n",
    "reg_error = [res[3] for res in results]\n",
    "lvals = [res[4] for res in results]\n",
    "\n",
    "l_curve_distances = np.abs((reg_error[-1]-reg_error[0])*np.array(data_error) -  \\\n",
    "            (data_error[-1]-data_error[0])*np.array(reg_error)+data_error[-1]*reg_error[0]-reg_error[-1]*data_error[0])\n",
    "best = np.argsort(l_curve_distances)[-1]\n",
    "\n",
    "plt.plot( data_error, reg_error)\n",
    "plt.scatter(data_error[best],reg_error[best],s=100, facecolors='none', edgecolors='r')\n",
    "plt.scatter(data_error[0],reg_error[0],s=100, facecolors='none', edgecolors='g')\n",
    "plt.scatter(data_error[-1],reg_error[-1],s=100, facecolors='none', edgecolors='y')\n",
    "\n",
    "plt.xlabel(\"Mismatch\", fontsize=16)\n",
    "plt.ylabel(\"Regularity\", fontsize=16)\n",
    "plt.title('Trade-Off Curve', fontsize=16)\n",
    "plt.text(data_error[best],reg_error[best],lvals[best])"
   ]
  },
  {
   "cell_type": "code",
   "execution_count": 6,
   "metadata": {
    "collapsed": false
   },
   "outputs": [
    {
     "data": {
      "text/plain": [
       "<matplotlib.collections.QuadMesh at 0x1173b4cc0>"
      ]
     },
     "execution_count": 6,
     "metadata": {},
     "output_type": "execute_result"
    },
    {
     "data": {
      "image/png": "[encoded data removed]",
      "text/plain": [
       "<matplotlib.figure.Figure at 0x1133ae470>"
      ]
     },
     "metadata": {},
     "output_type": "display_data"
    }
   ],
   "source": [
    "x_min = min(coords[boundary == 1, 0])\n",
    "x_max = max(coords[boundary == 1, 0])\n",
    "y_min = min(coords[boundary == 1, 1])\n",
    "y_max = max(coords[boundary == 1, 1])\n",
    "plt.subplot(121)\n",
    "plt.xlim((x_min - 20, x_max + 20))\n",
    "plt.ylim((y_min - 20, y_max + 20))\n",
    "Fx = results[best][0][:,0]\n",
    "Fy = results[best][0][:,1]\n",
    "maxmagnitude = np.max(np.abs(Fx))\n",
    "\n",
    "plt.pcolormesh(x_obs_positions,y_obs_positions,Fx.reshape((len(x_obs_positions),len(y_obs_positions))).transpose(),\n",
    "                           cmap='seismic_r',vmax = maxmagnitude*.75, vmin=-maxmagnitude*.75)\n",
    "plt.subplot(122)\n",
    "plt.xlim((x_min - 20, x_max + 20))\n",
    "plt.ylim((y_min - 20, y_max + 20))\n",
    "plt.pcolormesh(x_obs_positions,y_obs_positions,Fy.reshape((len(x_obs_positions),len(y_obs_positions))).transpose(),\n",
    "                           cmap='seismic_r',vmax = maxmagnitude*.75, vmin=-maxmagnitude*.75)\n"
   ]
  },
  {
   "cell_type": "code",
   "execution_count": 7,
   "metadata": {
    "collapsed": false
   },
   "outputs": [
    {
     "data": {
      "text/plain": [
       "<matplotlib.collections.QuadMesh at 0x11790c400>"
      ]
     },
     "execution_count": 7,
     "metadata": {},
     "output_type": "execute_result"
    },
    {
     "data": {
      "image/png": "[encoded data removed]",
      "text/plain": [
       "<matplotlib.figure.Figure at 0x10fb5b4a8>"
      ]
     },
     "metadata": {},
     "output_type": "display_data"
    }
   ],
   "source": [
    "x_min = min(coords[boundary == 1, 0])\n",
    "x_max = max(coords[boundary == 1, 0])\n",
    "y_min = min(coords[boundary == 1, 1])\n",
    "y_max = max(coords[boundary == 1, 1])\n",
    "plt.subplot(121)\n",
    "plt.xlim((x_min - 20, x_max + 20))\n",
    "plt.ylim((y_min - 20, y_max + 20))\n",
    "Fx = results[0][0][:,0]\n",
    "Fy = results[0][0][:,1]\n",
    "maxmagnitude = np.max(np.abs(Fx))\n",
    "\n",
    "plt.pcolormesh(x_obs_positions,y_obs_positions,Fx.reshape((len(x_obs_positions),len(y_obs_positions))).transpose(),\n",
    "                           cmap='seismic_r',vmax = maxmagnitude*.75, vmin=-maxmagnitude*.75)\n",
    "plt.subplot(122)\n",
    "plt.xlim((x_min - 20, x_max + 20))\n",
    "plt.ylim((y_min - 20, y_max + 20))\n",
    "plt.pcolormesh(x_obs_positions,y_obs_positions,Fy.reshape((len(x_obs_positions),len(y_obs_positions))).transpose(),\n",
    "                           cmap='seismic_r',vmax = maxmagnitude*.75, vmin=-maxmagnitude*.75)\n"
   ]
  },
  {
   "cell_type": "code",
   "execution_count": 8,
   "metadata": {
    "collapsed": false
   },
   "outputs": [
    {
     "data": {
      "text/plain": [
       "<matplotlib.collections.QuadMesh at 0x117dd6438>"
      ]
     },
     "execution_count": 8,
     "metadata": {},
     "output_type": "execute_result"
    },
    {
     "data": {
      "image/png": "[encoded data removed]",
      "text/plain": [
       "<matplotlib.figure.Figure at 0x1172360b8>"
      ]
     },
     "metadata": {},
     "output_type": "display_data"
    }
   ],
   "source": [
    "x_min = min(coords[boundary == 1, 0])\n",
    "x_max = max(coords[boundary == 1, 0])\n",
    "y_min = min(coords[boundary == 1, 1])\n",
    "y_max = max(coords[boundary == 1, 1])\n",
    "plt.subplot(121)\n",
    "plt.xlim((x_min - 20, x_max + 20))\n",
    "plt.ylim((y_min - 20, y_max + 20))\n",
    "Fx = results[-1][0][:,0]\n",
    "Fy = results[-1][0][:,1]\n",
    "maxmagnitude = np.max(np.abs(Fx))\n",
    "\n",
    "plt.pcolormesh(x_obs_positions,y_obs_positions,Fx.reshape((len(x_obs_positions),len(y_obs_positions))).transpose(),\n",
    "                           cmap='seismic_r',vmax = maxmagnitude*.75, vmin=-maxmagnitude*.75)\n",
    "plt.subplot(122)\n",
    "plt.xlim((x_min - 20, x_max + 20))\n",
    "plt.ylim((y_min - 20, y_max + 20))\n",
    "plt.pcolormesh(x_obs_positions,y_obs_positions,Fy.reshape((len(x_obs_positions),len(y_obs_positions))).transpose(),\n",
    "                           cmap='seismic_r',vmax = maxmagnitude*.75, vmin=-maxmagnitude*.75)\n"
   ]
  },
  {
   "cell_type": "code",
   "execution_count": 9,
   "metadata": {
    "collapsed": true
   },
   "outputs": [],
   "source": [
    "import pickle\n",
    "import gzip\n",
    "\n",
    "with gzip.open('results/isotropic_TV_results1.gz','wb') as f:\n",
    "    pickle.dump(results+[[x_obs_positions,y_obs_positions]],f)"
   ]
  },
  {
   "cell_type": "code",
   "execution_count": null,
   "metadata": {
    "collapsed": true
   },
   "outputs": [],
   "source": []
  }
 ],
 "metadata": {
  "kernelspec": {
   "display_name": "Python 3",
   "language": "python",
   "name": "python3"
  },
  "language_info": {
   "codemirror_mode": {
    "name": "ipython",
    "version": 3
   },
   "file_extension": ".py",
   "mimetype": "text/x-python",
   "name": "python",
   "nbconvert_exporter": "python",
   "pygments_lexer": "ipython3",
   "version": "3.6.0"
  }
 },
 "nbformat": 4,
 "nbformat_minor": 0
}
