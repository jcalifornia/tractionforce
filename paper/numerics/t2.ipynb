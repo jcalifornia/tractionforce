{
 "cells": [
  {
   "cell_type": "code",
   "execution_count": 1,
   "metadata": {},
   "outputs": [
    {
     "name": "stdout",
     "output_type": "stream",
     "text": [
      "Populating the interactive namespace from numpy and matplotlib\n"
     ]
    }
   ],
   "source": [
    "%pylab inline\n",
    "import numpy as np\n",
    "sys.path.append('../../')\n",
    "import matplotlib.pyplot as plt\n",
    "from mpl_toolkits.axes_grid.anchored_artists import AnchoredText\n",
    "from mpl_toolkits.axes_grid1 import make_axes_locatable\n",
    "import matplotlib\n",
    "matplotlib.rcParams['text.usetex'] = True\n",
    "matplotlib.rcParams['text.latex.unicode'] = True\n",
    "import matplotlib.gridspec as gridspec\n",
    "from matplotlib_scalebar.scalebar import ScaleBar\n",
    "from matplotlib_scalebar.scalebar import IMPERIAL_LENGTH\n",
    "\n",
    "from scipy import ndimage\n",
    "\n",
    "def read_data(filename):\n",
    "\n",
    "    # read the boundary points and get a mask\n",
    "    raw_data = np.loadtxt(filename,skiprows=0)\n",
    "    coords = raw_data[:,:2]\n",
    "    deflection = raw_data[:,2]\n",
    "    boundary = raw_data[:,3]\n",
    "    return  coords, deflection, boundary\n",
    "\n",
    "coords, deflection, boundary = read_data('../../tractionforce/data/t2.txt')\n",
    "x_obs_positions = sorted(set(coords[:, 0]))\n",
    "y_obs_positions = sorted(set(coords[:, 1]))\n",
    "dx = abs(x_obs_positions[1]-x_obs_positions[0])\n",
    "dy = abs(y_obs_positions[1]-y_obs_positions[0])\n",
    "\n",
    "N = len(x_obs_positions)\n",
    "M = len(y_obs_positions)\n",
    "\n",
    "boundary2d = boundary.reshape((N, M))\n",
    "mask = np.zeros(boundary2d.shape)\n",
    "for r in range(boundary2d.shape[1]):\n",
    "    pts = np.where(boundary2d[:, r] == 1)\n",
    "    \n",
    "    if (len(pts[0]) > 0):\n",
    "        mini = (min(min(pts)))\n",
    "        maxi = max(max(pts))\n",
    "        mask[ mini:maxi, r] = 1\n",
    "\n",
    "distances2d = -ndimage.distance_transform_edt(mask) + ndimage.distance_transform_edt(1 - mask)\n",
    "distances2d = distances2d.flatten()\n",
    "\n",
    "\n"
   ]
  },
  {
   "cell_type": "markdown",
   "metadata": {},
   "source": [
    "# Inverse problem\n",
    "\n",
    "We wish to reconstruct surface ($z=0$) stresses $\\sigma_{xz}(x,y)$, $\\sigma_{yz}(x,y)$, from surface measurements $u_x$(x,y,z=0) where\n",
    "\n",
    "$$u_x (\\mathbf{r},z=0) = \\int \\left[G_{xy}(\\mathbf{r}_\\perp-\\mathbf{r}_\\perp^\\prime , 0){\\sigma_{yz}(\\mathbf{r}_\\perp^\\prime)} +  G_{xx}(\\mathbf{r}_\\perp-\\mathbf{r}_\\perp^\\prime , 0){\\sigma_{xz}(\\mathbf{r}_\\perp^\\prime)}\\right] d\\mathbf{r}_\\perp. $$"
   ]
  },
  {
   "cell_type": "code",
   "execution_count": 2,
   "metadata": {
    "collapsed": true
   },
   "outputs": [],
   "source": [
    "boundary = boundary.reshape((190,190))\n",
    "mask = np.zeros(boundary.shape)\n",
    "for r in range(boundary.shape[0]):\n",
    "    pts = np.where(boundary[r,:]==1)\n",
    "    if(len(pts[0])>0):\n",
    "        mini  = (min(min(pts)))\n",
    "        maxi = max(max(pts))\n",
    "        mask[r,mini:maxi]=1"
   ]
  },
  {
   "cell_type": "code",
   "execution_count": 3,
   "metadata": {},
   "outputs": [
    {
     "data": {
      "image/png": "[encoded data removed]",
      "text/plain": [
       "<matplotlib.figure.Figure at 0x10f0b2780>"
      ]
     },
     "metadata": {},
     "output_type": "display_data"
    }
   ],
   "source": [
    "fig = plt.figure(figsize=(5,4))\n",
    "\n",
    "plt.pcolormesh(x_obs_positions,y_obs_positions,mask.transpose(),\n",
    "               cmap='Greys')\n",
    "plt.axes().set_aspect('equal', 'datalim')\n",
    "\n",
    "\n",
    "#plt.savefig('mask.eps')"
   ]
  },
  {
   "cell_type": "code",
   "execution_count": 7,
   "metadata": {},
   "outputs": [
    {
     "data": {
      "image/png": "[encoded data removed]",
      "text/plain": [
       "<matplotlib.figure.Figure at 0x1128a60b8>"
      ]
     },
     "metadata": {},
     "output_type": "display_data"
    }
   ],
   "source": [
    "\n",
    "\n",
    "im = plt.pcolormesh(x_obs_positions,y_obs_positions,deflection.reshape((190,190)).transpose(),\n",
    "               cmap='seismic_r',rasterized=True).axes.set_aspect('equal')\n",
    "\n",
    "ax=plt.gca()\n",
    "\n",
    "#cb = ax.colorbar()\n",
    "#ax.set_label(\"microns\")\n",
    "#plt.xlabel('microns')\n",
    "#plt.ylabel('microns')\n",
    "#plt.title(r'$u_x$')\n",
    "\n",
    "at = AnchoredText(\"$u_x$\",\n",
    "                  prop=dict(size=18), frameon=True,\n",
    "                  loc=2,\n",
    "                  )\n",
    "at.patch.set_boxstyle(\"round,pad=0.,rounding_size=0.2\")\n",
    "ax.add_artist(at)\n",
    "\n",
    "\n",
    "ax.set_xlim((0,200))\n",
    "ax.set_ylim((75,250))\n",
    "ax.set_yticklabels([])\n",
    "ax.set_xticklabels([])\n",
    "\n",
    "cb = plt.colorbar(im, ax=ax)\n",
    "cb.set_label(\"$\\mu$m\",fontsize=16)\n",
    "\n",
    "plt.contour(x_obs_positions,y_obs_positions,boundary.transpose())\n",
    "\n",
    "\n",
    "scalebar = ScaleBar(0.000001,font_properties = {'size': 12, 'weight': 'bold'}) # 1 pixel = .001\n",
    "scalebar.set_frameon(True)\n",
    "ax.add_artist(scalebar)\n",
    "    \n",
    "plt.savefig(\"../figures/fig8.png\",bbox_inches='tight', \n",
    "               transparent=True,\n",
    "               pad_inches=0.15, dpi=400)   \n",
    "plt.savefig(\"../figures/fig8.pdf\",bbox_inches='tight')   "
   ]
  },
  {
   "cell_type": "code",
   "execution_count": null,
   "metadata": {},
   "outputs": [],
   "source": [
    "\n",
    "\n",
    "im = plt.pcolormesh(x_obs_positions,y_obs_positions,deflection.reshape((190,190)).transpose(),\n",
    "               cmap='seismic_r').axes.set_aspect('equal')\n",
    "\n",
    "ax=plt.gca()\n",
    "\n",
    "#cb = ax.colorbar()\n",
    "#ax.set_label(\"microns\")\n",
    "#plt.xlabel('microns')\n",
    "#plt.ylabel('microns')\n",
    "#plt.title(r'$u_x$')\n",
    "\n",
    "at = AnchoredText(\"$u_x$\",\n",
    "                  prop=dict(size=18), frameon=True,\n",
    "                  loc=2,\n",
    "                  )\n",
    "at.patch.set_boxstyle(\"round,pad=0.,rounding_size=0.2\")\n",
    "ax.add_artist(at)\n",
    "\n",
    "\n",
    "ax.set_xlim((0,200))\n",
    "ax.set_ylim((75,250))\n",
    "ax.set_yticklabels([])\n",
    "ax.set_xticklabels([])\n",
    "\n",
    "cb = plt.colorbar(im, ax=ax)\n",
    "cb.set_label(\"$\\mu m$\",fontsize=16)\n",
    "\n",
    "plt.contour(x_obs_positions,y_obs_positions,boundary.transpose())\n",
    "\n",
    "\n",
    "scalebar = ScaleBar(1,font_properties = {'size': 12, 'weight': 'bold'}) # 1 pixel = .001\n",
    "scalebar.label_formatter = lambda value, unit: str(value)#+' pixels'\n",
    "ax.add_artist(scalebar)\n",
    "    \n"
   ]
  },
  {
   "cell_type": "code",
   "execution_count": null,
   "metadata": {
    "collapsed": true
   },
   "outputs": [],
   "source": [
    "?ScaleBar"
   ]
  },
  {
   "cell_type": "code",
   "execution_count": null,
   "metadata": {
    "collapsed": true
   },
   "outputs": [],
   "source": []
  }
 ],
 "metadata": {
  "kernelspec": {
   "display_name": "Python 3",
   "language": "python",
   "name": "python3"
  },
  "language_info": {
   "codemirror_mode": {
    "name": "ipython",
    "version": 3
   },
   "file_extension": ".py",
   "mimetype": "text/x-python",
   "name": "python",
   "nbconvert_exporter": "python",
   "pygments_lexer": "ipython3",
   "version": "3.6.0"
  }
 },
 "nbformat": 4,
 "nbformat_minor": 1
}
