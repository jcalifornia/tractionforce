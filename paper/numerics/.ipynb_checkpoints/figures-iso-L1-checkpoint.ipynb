{
 "cells": [
  {
   "cell_type": "code",
   "execution_count": 1,
   "metadata": {
    "collapsed": false
   },
   "outputs": [
    {
     "name": "stdout",
     "output_type": "stream",
     "text": [
      "Populating the interactive namespace from numpy and matplotlib\n"
     ]
    }
   ],
   "source": [
    "%pylab inline\n",
    "\n",
    "import cvxpy\n",
    "from cvxpy import Variable, Minimize, sum_squares, norm, Problem, Parameter, mul_elemwise, sum_entries, Constant\n",
    "from scipy import sparse\n",
    "import sys, argparse\n",
    "from scipy import ndimage\n",
    "import matplotlib.pyplot as plt\n",
    "from matplotlib.backends.backend_pdf import PdfPages\n",
    "import sys\n",
    "\n",
    "sys.path.append('../../')\n",
    "from tractionforce.elasticity import *\n",
    "import gc\n",
    "from tractionforce.norms import *\n",
    "from joblib import Parallel, delayed\n",
    "import multiprocessing\n",
    "\n",
    "def read_data(filename):\n",
    "\n",
    "    # read the boundary points and get a mask\n",
    "    raw_data = np.loadtxt(filename,skiprows=0)\n",
    "    coords = raw_data[:,:2]\n",
    "    deflection = raw_data[:,2]\n",
    "    boundary = raw_data[:,3]\n",
    "    return  coords, deflection, boundary\n"
   ]
  },
  {
   "cell_type": "code",
   "execution_count": 2,
   "metadata": {
    "collapsed": false
   },
   "outputs": [
    {
     "name": "stdout",
     "output_type": "stream",
     "text": [
      "Size of the problem is 2196\n"
     ]
    },
    {
     "name": "stderr",
     "output_type": "stream",
     "text": [
      "/usr/local/lib/python3.6/site-packages/scipy/sparse/compressed.py:730: SparseEfficiencyWarning: Changing the sparsity structure of a csr_matrix is expensive. lil_matrix is more efficient.\n",
      "  SparseEfficiencyWarning)\n"
     ]
    }
   ],
   "source": [
    "CUTOFF  = 8\n",
    "N_SOLUTIONS = 24\n",
    "gamma_vals = np.logspace(-5, 0, N_SOLUTIONS)\n",
    "\n",
    "\n",
    "coords, deflection, boundary = read_data('../../tractionforce/data/t2.txt')\n",
    "x_obs_positions = sorted(set(coords[:, 0]))\n",
    "y_obs_positions = sorted(set(coords[:, 1]))\n",
    "\n",
    "dx = abs(x_obs_positions[1]-x_obs_positions[0])\n",
    "dy = abs(y_obs_positions[1]-y_obs_positions[0])\n",
    "\n",
    "N = len(x_obs_positions)\n",
    "M = len(y_obs_positions)\n",
    "\n",
    "boundary2d = boundary.reshape((N, M))\n",
    "mask = np.zeros(boundary2d.shape)\n",
    "for r in range(boundary2d.shape[1]):\n",
    "    pts = np.where(boundary2d[:, r] == 1)\n",
    "    \n",
    "    if (len(pts[0]) > 0):\n",
    "        mini = (min(min(pts)))\n",
    "        maxi = max(max(pts))\n",
    "        mask[ mini:maxi, r] = 1\n",
    "\n",
    "distances2d = -ndimage.distance_transform_edt(mask) + ndimage.distance_transform_edt(1 - mask)\n",
    "distances2d = distances2d.flatten()\n",
    "\n",
    "condition_inside = distances2d<=0\n",
    "condition_outside = (distances2d>0) * (distances2d<=CUTOFF)\n",
    "\n",
    "del distances2d, mask, boundary2d\n",
    "gc.collect()\n",
    "\n",
    "x_out = np.array(coords[condition_outside,0]/dx,dtype=int)\n",
    "y_out = np.array(coords[condition_outside,1]/dy,dtype=int)\n",
    "\n",
    "x_in = np.array(coords[condition_inside,0]/dx,dtype=int)\n",
    "y_in = np.array(coords[condition_inside,1]/dy,dtype=int)\n",
    "\n",
    "x_center = np.mean(x_in)\n",
    "y_center = np.mean(y_in)\n",
    "\n",
    "u_x_in = deflection[condition_inside]\n",
    "u_x_out = deflection[condition_outside]\n",
    "\n",
    "n_in = len(x_in)\n",
    "n_out = len(x_out)\n",
    "\n",
    "print(\"Size of the problem is \" + str( n_in + n_out))\n",
    "\n",
    "deltax_in_in = x_in[...,np.newaxis] - x_in[np.newaxis, ...]  # should be x-x'\n",
    "deltax_out_in = x_out[...,np.newaxis] - x_in[np.newaxis, ...]  # should be x-x'\n",
    "deltay_in_in = y_in[...,np.newaxis] - y_in[np.newaxis, ...]  # y - y'\n",
    "deltay_out_in = y_out[...,np.newaxis] - y_in[np.newaxis,...] # y - y'\n",
    "\n",
    "l2_in_plus_in_plus = (np.array([deltax_in_in*dx - dx/2.0, deltay_in_in*dy - dy/2.0])**2).sum(axis=0)**0.5\n",
    "l2_in_plus_in_minus = (np.array([deltax_in_in*dx - dx/2.0, deltay_in_in*dy + dy/2.0])**2).sum(axis=0)**0.5\n",
    "l2_in_minus_in_plus = (np.array([deltax_in_in*dx + dx/2.0, deltay_in_in*dy - dy/2.0])**2).sum(axis=0)**0.5\n",
    "l2_in_minus_in_minus = (np.array([deltax_in_in*dx + dx/2.0, deltay_in_in*dy+ dy/2.0]) ** 2).sum(axis=0) ** 0.5\n",
    "\n",
    "l2_out_plus_in_plus = (np.array([deltax_out_in*dx - dx/2.0, deltay_out_in*dy - dy/2.0])**2).sum(axis=0)**0.5\n",
    "l2_out_plus_in_minus = (np.array([deltax_out_in*dx - dx/2.0, deltay_out_in*dy + dy/2.0])**2).sum(axis=0)**0.5\n",
    "l2_out_minus_in_plus = (np.array([deltax_out_in*dx + dx/2.0, deltay_out_in*dy - dy/2.0])**2).sum(axis=0)**0.5\n",
    "l2_out_minus_in_minus = (np.array([deltax_out_in*dx + dx/2.0, deltay_out_in*dy + dy/2.0]) ** 2).sum(axis=0) ** 0.5\n",
    "\n",
    "x_adjacency = sparse.csr_matrix((deltax_in_in == -1)*(deltay_in_in == 0)*-1 + (deltax_in_in == 1)*(deltay_in_in == 0)*1)\n",
    "y_adjacency = sparse.csr_matrix((deltay_in_in == -1)*(deltax_in_in == 0)*-1 + (deltay_in_in == 1)*(deltax_in_in == 0)*1)\n",
    "\n",
    "A_in_in = fxx(deltax_in_in*dx-dx/2. , deltay_in_in*dy-dy/2.0 , l2_in_plus_in_plus) - \\\n",
    "          fxx(deltax_in_in*dx-dx/2. , deltay_in_in*dy+dy/2.0, l2_in_plus_in_minus) -\\\n",
    "          fxx(deltax_in_in*dx+dx/2. , deltay_in_in*dy-dy/2.0, l2_in_minus_in_plus) + \\\n",
    "          fxx(deltax_in_in*dx+dx/2. , deltay_in_in*dy+dy/2.0, l2_in_minus_in_minus)\n",
    "\n",
    "A_out_in = fxx(deltax_out_in*dx-dx/2. , deltay_out_in*dy-dy/2.0 , l2_out_plus_in_plus) - \\\n",
    "          fxx(deltax_out_in*dx-dx/2. , deltay_out_in*dy+dy/2.0, l2_out_plus_in_minus) -\\\n",
    "          fxx(deltax_out_in*dx+dx/2. , deltay_out_in*dy-dy/2.0, l2_out_minus_in_plus) + \\\n",
    "          fxx(deltax_out_in*dx+dx/2. , deltay_out_in*dy+dy/2.0, l2_out_minus_in_minus)\n",
    "\n",
    "D_in_in = fxy(deltax_in_in*dx-dx/2. , deltay_in_in*dy-dy/2.0 , l2_in_plus_in_plus) - \\\n",
    "          fxy(deltax_in_in*dx-dx/2. , deltay_in_in*dy+dy/2.0, l2_in_plus_in_minus) - \\\n",
    "          fxy(deltax_in_in*dx+dx/2. , deltay_in_in*dy-dy/2.0, l2_in_minus_in_plus) + \\\n",
    "          fxy(deltax_in_in*dx+dx/2. , deltay_in_in*dy+dy/2.0, l2_in_minus_in_minus)\n",
    "\n",
    "D_out_in = fxy(deltax_out_in*dx-dx/2. , deltay_out_in*dy-dy/2.0 , l2_out_plus_in_plus) - \\\n",
    "           fxy(deltax_out_in*dx-dx/2. , deltay_out_in*dy+dy/2.0, l2_out_plus_in_minus) - \\\n",
    "           fxy(deltax_out_in*dx+dx/2. , deltay_out_in*dy-dy/2.0, l2_out_minus_in_plus) + \\\n",
    "           fxy(deltax_out_in*dx+dx/2. , deltay_out_in*dy+dy/2.0, l2_out_minus_in_minus)\n",
    "\n",
    "B_in_in = x_in[..., np.newaxis]*A_in_in - fxxx(deltax_in_in-dx/2. , deltay_in_in-dy/2.0 , l2_in_plus_in_plus) + \\\n",
    "              fxxx(deltax_in_in-dx/2. , deltay_in_in+dy/2.0, l2_in_plus_in_minus) +\\\n",
    "              fxxx(deltax_in_in+dx/2. , deltay_in_in-dy/2.0, l2_in_minus_in_plus) - \\\n",
    "              fxxx(deltax_in_in+dx/2. , deltay_in_in+dy/2.0, l2_in_minus_in_minus)\n",
    "\n",
    "B_out_in = x_out[..., np.newaxis]*A_out_in - fxxx(deltax_out_in-dx/2. , deltay_out_in-dy/2.0 , l2_out_plus_in_plus) + \\\n",
    "          fxxx(deltax_out_in-dx/2. , deltay_out_in+dy/2.0, l2_out_plus_in_minus) +\\\n",
    "          fxxx(deltax_out_in+dx/2. , deltay_out_in-dy/2.0, l2_out_minus_in_plus) - \\\n",
    "          fxxx(deltax_out_in+dx/2. , deltay_out_in+dy/2.0, l2_out_minus_in_minus)\n",
    "\n",
    "C_in_in = y_in[..., np.newaxis]*A_in_in - fxxy(deltax_in_in-dx/2. , deltay_in_in-dy/2.0 , l2_in_plus_in_plus) + \\\n",
    "          fxxy(deltax_in_in-dx/2. , deltay_in_in+dy/2.0, l2_in_plus_in_minus) + \\\n",
    "          fxxy(deltax_in_in+dx/2. , deltay_in_in-dy/2.0, l2_in_minus_in_plus) - \\\n",
    "          fxxy(deltax_in_in+dx/2. , deltay_in_in+dy/2.0, l2_in_minus_in_minus)\n",
    "\n",
    "C_out_in = y_out[..., np.newaxis]*A_out_in - fxxy(deltax_out_in-dx/2. , deltay_out_in-dy/2.0 , l2_out_plus_in_plus) + \\\n",
    "           fxxy(deltax_out_in-dx/2. , deltay_out_in+dy/2.0, l2_out_plus_in_minus) + \\\n",
    "           fxxy(deltax_out_in+dx/2. , deltay_out_in-dy/2.0, l2_out_minus_in_plus) - \\\n",
    "           fxxy(deltax_out_in+dx/2. , deltay_out_in+dy/2.0, l2_out_minus_in_minus)\n",
    "\n",
    "E_in_in = x_in[..., np.newaxis] * D_in_in - fxyx(deltax_in_in - dx / 2., deltay_in_in - dy / 2.0,\n",
    "                                                 l2_in_plus_in_plus) + \\\n",
    "          fxyx(deltax_in_in - dx / 2., deltay_in_in + dy / 2.0, l2_in_plus_in_minus) + \\\n",
    "          fxyx(deltax_in_in + dx / 2., deltay_in_in - dy / 2.0, l2_in_minus_in_plus) - \\\n",
    "          fxyx(deltax_in_in + dx / 2., deltay_in_in + dy / 2.0, l2_in_minus_in_minus)\n",
    "\n",
    "E_out_in = x_out[..., np.newaxis] * D_out_in - fxyx(deltax_out_in - dx / 2., deltay_out_in - dy / 2.0,\n",
    "                                                   l2_out_plus_in_plus) + \\\n",
    "           fxyx(deltax_out_in - dx / 2., deltay_out_in + dy / 2.0, l2_out_plus_in_minus) + \\\n",
    "           fxyx(deltax_out_in + dx / 2., deltay_out_in - dy / 2.0, l2_out_minus_in_plus) - \\\n",
    "           fxyx(deltax_out_in + dx / 2., deltay_out_in + dy / 2.0, l2_out_minus_in_minus)\n",
    "\n",
    "F_in_in = y_in[..., np.newaxis]*D_in_in - fxyx(deltax_in_in-dx/2. , deltay_in_in-dy/2.0 , l2_in_plus_in_plus) + \\\n",
    "          fxyx(deltax_in_in-dx/2. , deltay_in_in+dy/2.0, l2_in_plus_in_minus) + \\\n",
    "          fxyx(deltax_in_in+dx/2. , deltay_in_in-dy/2.0, l2_in_minus_in_plus) - \\\n",
    "          fxyx(deltax_in_in+dx/2. , deltay_in_in+dy/2.0, l2_in_minus_in_minus)\n",
    "\n",
    "F_out_in = y_out[..., np.newaxis]* D_out_in - fxyx(deltax_out_in-dx/2. , deltay_out_in-dy/2.0 , l2_out_plus_in_plus) + \\\n",
    "           fxyx(deltax_out_in-dx/2. , deltay_out_in+dy/2.0, l2_out_plus_in_minus) + \\\n",
    "           fxyx(deltax_out_in+dx/2. , deltay_out_in-dy/2.0, l2_out_minus_in_plus) - \\\n",
    "           fxyx(deltax_out_in+dx/2. , deltay_out_in+dy/2.0, l2_out_minus_in_minus)\n",
    "\n",
    "# make derivative matrices Lx Ly\n",
    "\n",
    "Dx = sparse.csr_matrix((deltax_in_in == 0)*(deltay_in_in == 0)*-1 + (deltax_in_in == 1)*(deltay_in_in == 0)*1)\n",
    "rowsums = np.squeeze(np.asarray((Dx.sum(axis=1) != 0)))\n",
    "Dx[rowsums,:] = 0\n",
    "Dx.eliminate_zeros()\n",
    "Dx = Constant(Dx)\n",
    "\n",
    "Dy = sparse.csr_matrix(\n",
    "    (deltay_in_in == 0) * (deltax_in_in == 0) * -1 + (deltay_in_in == 1) * (deltax_in_in == 0) * 1)\n",
    "rowsums = np.squeeze(np.asarray((Dy.sum(axis=1) != 0)))\n",
    "Dy[rowsums,:] = 0\n",
    "Dy.eliminate_zeros()\n",
    "Dy = Constant(Dy)\n",
    "\n",
    "del deltax_in_in, deltay_in_in, deltax_out_in, deltay_out_in\n",
    "del l2_in_plus_in_plus, l2_in_plus_in_minus, l2_in_minus_in_plus, l2_in_minus_in_minus\n",
    "del l2_out_plus_in_plus, l2_out_plus_in_minus, l2_out_minus_in_plus, l2_out_minus_in_minus\n",
    "gc.collect()\n",
    "\n",
    "gamma = Parameter(sign=\"positive\",value=1)\n",
    "\n",
    "sigma_xz = Variable(n_in)\n",
    "sigma_yz = Variable(n_in)\n",
    "# predicted_in = A_in_in*sigma_xz + D_in_in*sigma_yz # add higher order terms\n",
    "predicted_in = (A_in_in + B_in_in + C_in_in )*1e-3* sigma_xz + (D_in_in + E_in_in + F_in_in )*1e-3* sigma_yz\n",
    "# predicted_out =  A_out_in*sigma_xz + D_out_in*sigma_yz\n",
    "predicted_out = (A_out_in + B_out_in + C_out_in)*1e-3* sigma_xz + (D_out_in + E_out_in + F_out_in)*1e-3* sigma_yz\n",
    "\n",
    "\n",
    "error = sum_squares(u_x_in - predicted_in) + sum_squares(u_x_out - predicted_out)\n",
    "\n",
    "forceconstraints = [sum_entries(sigma_xz)==0, sum_entries(sigma_yz)==0] # add torque-free constraint here\n",
    "net_torque = sum_entries(mul_elemwise(x_in-x_center,sigma_yz) - mul_elemwise(y_in-y_center,sigma_xz))\n",
    "\n",
    "torqueconstraints = [net_torque == 0]\n",
    "\n",
    "constraints = forceconstraints + torqueconstraints"
   ]
  },
  {
   "cell_type": "markdown",
   "metadata": {},
   "source": [
    "$$\n",
    "\\int_\\Omega \\left(\\vert \\sigma_{xz} \\vert + \\vert \\sigma_{yz} \\vert \\right) \\mathrm{d}\\mathbf{x} \n",
    "$$"
   ]
  },
  {
   "cell_type": "code",
   "execution_count": 3,
   "metadata": {
    "collapsed": true
   },
   "outputs": [],
   "source": [
    "regularity_penalty = norm(sigma_xz,p=1)+norm(sigma_yz,p=1)\n",
    "objective = Minimize(error + gamma*regularity_penalty)\n",
    "prob = Problem(objective, constraints)\n",
    "\n",
    "sq_penalty = []\n",
    "l1_penalty = []\n",
    "sigma_xz_values = []\n",
    "sigma_yz_values = []\n",
    "\n",
    "u_x_values = []\n"
   ]
  },
  {
   "cell_type": "code",
   "execution_count": 4,
   "metadata": {
    "collapsed": false,
    "scrolled": true
   },
   "outputs": [
    {
     "name": "stdout",
     "output_type": "stream",
     "text": [
      "     pcost       dcost       gap    pres   dres   k/t\n",
      " 0:  0.0000e+00 -2.0000e+00  5e+03  3e+01  7e+01  1e+00\n",
      "     pcost       dcost       gap    pres   dres   k/t\n",
      " 0:  0.0000e+00 -2.0000e+00  5e+03  3e+01  7e+01  1e+00\n",
      "     pcost       dcost       gap    pres   dres   k/t\n",
      " 0:  0.0000e+00 -2.0000e+00  7e+03  3e+01  2e+00  1e+00\n",
      "     pcost       dcost       gap    pres   dres   k/t\n",
      " 0:  0.0000e+00 -2.0000e+00  5e+03  3e+01  7e+01  1e+00\n",
      "     pcost       dcost       gap    pres   dres   k/t\n",
      " 0:  0.0000e+00 -2.0000e+00  5e+03  3e+01  7e+01  1e+00\n",
      "     pcost       dcost       gap    pres   dres   k/t\n",
      " 0:  0.0000e+00 -2.0000e+00  5e+03  3e+01  6e+01  1e+00\n",
      "     pcost       dcost       gap    pres   dres   k/t\n",
      " 0:  0.0000e+00 -2.0000e+00  5e+03  3e+01  7e+01  1e+00\n",
      "     pcost       dcost       gap    pres   dres   k/t\n",
      " 0:  0.0000e+00 -2.0000e+00  6e+03  3e+01  3e+00  1e+00\n",
      "     pcost       dcost       gap    pres   dres   k/t\n",
      " 0:  0.0000e+00 -2.0000e+00  5e+03  3e+01  7e+01  1e+00\n",
      "     pcost       dcost       gap    pres   dres   k/t\n",
      " 0:  0.0000e+00 -2.0000e+00  5e+03  3e+01  7e+01  1e+00\n",
      "     pcost       dcost       gap    pres   dres   k/t\n",
      "     pcost       dcost       gap    pres   dres   k/t\n",
      " 0:  0.0000e+00 -2.0000e+00  5e+03  3e+01  2e+01  1e+00\n",
      " 0:  0.0000e+00 -2.0000e+00  5e+03  3e+01  9e+00  1e+00\n",
      "     pcost       dcost       gap    pres   dres   k/t\n",
      "     pcost       dcost       gap    pres   dres   k/t\n",
      " 0:  0.0000e+00 -2.0000e+00  5e+03  3e+01  6e+01  1e+00\n",
      "     pcost       dcost       gap    pres   dres   k/t\n",
      " 0:  0.0000e+00 -2.0000e+00  6e+03  3e+01  5e+00  1e+00\n",
      "     pcost       dcost       gap    pres   dres   k/t\n",
      " 1:  7.6490e-02  4.8704e-02  2e+02  1e+00  3e+00  1e-01\n",
      "     pcost       dcost       gap    pres   dres   k/t\n",
      " 0:  0.0000e+00 -2.0000e+00  5e+03  3e+01  1e+01  1e+00\n",
      " 0:  0.0000e+00 -2.0000e+00  5e+03  3e+01  6e+01  1e+00\n",
      " 0:  0.0000e+00 -2.0000e+00  5e+03  3e+01  5e+01  1e+00\n",
      "     pcost       dcost       gap    pres   dres   k/t\n",
      " 0:  0.0000e+00 -2.0000e+00  5e+03  3e+01  7e+01  1e+00\n",
      "     pcost       dcost       gap    pres   dres   k/t\n",
      "     pcost       dcost       gap    pres   dres   k/t\n",
      "     pcost       dcost       gap    pres   dres   k/t\n",
      "     pcost       dcost       gap    pres   dres   k/t\n",
      "     pcost       dcost       gap    pres   dres   k/t\n",
      "     pcost       dcost       gap    pres   dres   k/t\n",
      " 0:  0.0000e+00 -2.0000e+00  5e+03  3e+01  6e+01  1e+00\n",
      " 0:  0.0000e+00 -2.0000e+00  5e+03  3e+01  7e+01  1e+00\n",
      " 0:  0.0000e+00 -2.0000e+00  5e+03  3e+01  7e+01  1e+00\n",
      " 0:  0.0000e+00 -2.0000e+00  5e+03  3e+01  3e+01  1e+00\n",
      " 0:  0.0000e+00 -2.0000e+00  5e+03  3e+01  7e+01  1e+00\n",
      " 0:  0.0000e+00 -2.0000e+00  5e+03  3e+01  7e+01  1e+00\n",
      " 1:  1.3184e-01  5.3223e-02  2e+02  2e+00  5e+00  1e-01\n",
      " 1: -3.1431e+00 -1.1128e+00  4e+02  4e+00  3e-01  2e+00\n",
      " 1:  8.2626e-02  4.9191e-02  2e+02  1e+00  3e+00  1e-01\n",
      " 1:  3.2438e-01  7.5167e-02  4e+02  5e+00  1e+01  2e-01\n",
      " 1: -2.2063e-01 -5.5277e-02  1e+02  4e+00  9e+00  6e-01\n",
      " 1:  1.0802e-01  5.1240e-02  2e+02  2e+00  4e+00  1e-01\n",
      " 1: -9.2295e+00 -3.8594e+00  5e+02  6e+00  7e-01  6e+00\n",
      " 1:  9.2477e-02  4.9979e-02  2e+02  2e+00  3e+00  1e-01\n",
      " 1:  2.7072e-01  6.6962e-02  3e+02  4e+00  8e+00  2e-01\n",
      " 1: -7.1600e+00 -3.0364e+00  1e+01  2e+00  1e+00  4e+00\n",
      " 1: -3.7382e+01 -1.6678e+01  2e+02  6e+00  2e+00  2e+01\n",
      " 1: -4.6033e-01 -9.2149e-02  5e+01  3e+00  6e+00  7e-01\n",
      " 1: -2.4692e+01 -1.0873e+01  5e+02  8e+00  1e+00  1e+01\n",
      " 1:  5.9899e-02 -2.0971e-02  2e+02  6e+00  1e+01  5e-01\n",
      " 1: -1.9373e+01 -8.5650e+00  2e+01  2e+00  1e+00  1e+01\n",
      " 2:  5.7668e-02  5.1582e-02  1e+01  1e-01  3e-01  7e-03\n",
      " 1: -1.1013e+00 -2.3064e-01  6e+00  1e+00  2e+00  1e+00\n",
      " 1:  3.4882e-01  7.3701e-02  4e+02  5e+00  1e+01  3e-01\n",
      " 1:  2.0524e-01  7.8730e-03  3e+02  6e+00  1e+01  4e-01\n",
      " 1: -8.0740e-02 -3.9432e-02  1e+02  5e+00  1e+01  6e-01\n",
      " 1: -2.7173e+00 -9.9010e-01  9e+00  1e+00  2e+00  2e+00\n",
      " 1:  1.6671e-01  5.6258e-02  2e+02  2e+00  5e+00  1e-01\n",
      " 1:  3.1129e-01  4.2797e-02  3e+02  6e+00  1e+01  4e-01\n",
      " 1:  2.1406e-01  6.0723e-02  3e+02  3e+00  7e+00  2e-01\n",
      " 2:  9.5154e-02  5.9394e-02  2e+01  4e-01  9e-01  6e-03\n",
      " 2:  1.1120e-01  3.6011e-01  2e+01  2e-01  2e-02  3e-01\n",
      " 2:  6.3806e-02  5.2815e-02  2e+01  2e-01  4e-01  7e-03\n",
      " 2:  1.2427e-01  8.3135e-02  8e+00  6e-01  1e+00  1e-02\n",
      " 2: -1.3747e-02  1.0572e-01  2e+00  5e-01  1e+00  2e-01\n",
      " 2:  8.2740e-02  5.6659e-02  2e+01  3e-01  7e-01  6e-03\n",
      " 2: -2.0129e+00 -3.1634e-01  1e+01  2e-01  3e-02  2e+00\n",
      " 2:  7.2149e-02  5.4492e-02  2e+01  2e-01  5e-01  6e-03\n",
      " 2:  1.2649e-01  7.4258e-02  2e+01  7e-01  1e+00  1e-02\n",
      " 2:  1.4875e-01  2.4740e-01  9e-01  1e-01  1e-01  1e-01\n",
      " 2: -2.9260e+00 -4.4378e-01  7e+00  5e-01  1e-01  3e+00\n",
      " 2: -1.6157e-01  7.9016e-02  1e+00  5e-01  9e-01  3e-01\n",
      " 2:  1.2654e-01  1.2064e-01  3e+00  6e-01  1e+00  6e-02\n",
      " 2: -1.1948e+01 -3.4947e+00  1e+01  7e-01  1e-01  9e+00\n",
      " 2:  8.2686e-02  2.8121e-01  9e-01  1e-01  5e-02  2e-01\n",
      " 2:  8.4372e-02  1.6632e-01  5e-01  2e-01  3e-01  1e-01\n",
      " 3:  5.0627e-02  4.7206e-02  3e+00  5e-02  1e-01  1e-03\n",
      " 2:  1.1792e-01  9.3429e-02  2e+00  3e-01  7e-01  8e-03\n",
      " 2:  8.2180e-02  1.2249e-01  2e+00  5e-01  1e+00  9e-02\n",
      " 2:  1.0823e-01  6.2925e-02  2e+01  5e-01  1e+00  7e-03\n",
      " 2:  1.4576e-01  1.1338e-01  5e+00  7e-01  2e+00  4e-02\n",
      " 2:  7.8939e-02  1.8023e-01  7e-01  2e-01  2e-01  1e-01\n",
      " 2:  1.1958e-01  6.7658e-02  2e+01  6e-01  1e+00  1e-02\n",
      " 2:  1.4110e-01  1.0439e-01  4e+00  6e-01  1e+00  2e-02\n",
      " 3:  5.2126e-02  5.2809e-02  2e-01  3e-02  7e-02  4e-03\n",
      " 3:  4.4105e-02  2.4634e-01  2e+01  2e-01  2e-02  2e-01\n",
      " 3:  5.1429e-02  4.7885e-02  2e+00  4e-02  1e-01  1e-03\n",
      " 3:  7.2073e-02  6.8380e-02  5e-01  1e-01  3e-01  9e-03\n",
      " 3:  9.8731e-02  1.2603e-01  2e-01  1e-01  2e-01  4e-02\n",
      " 3:  5.0443e-02  5.0434e-02  2e-01  3e-02  6e-02  3e-03\n",
      " 3: -5.2448e-03  3.7357e-01  2e+00  6e-02  6e-03  4e-01\n",
      " 3:  5.0146e-02  4.8618e-02  5e-01  3e-02  6e-02  1e-03\n",
      " 3:  6.4848e-02  6.3849e-02  4e-01  9e-02  2e-01  8e-03\n",
      " 3:  3.1908e-01  3.5361e-01  3e-01  5e-02  4e-02  4e-02\n",
      " 3: -2.5387e-01  3.7300e-01  2e+00  1e-01  4e-02  6e-01\n",
      " 3:  1.2945e-01  1.6076e-01  1e-01  8e-02  1e-01  4e-02\n",
      " 3:  1.0666e-01  1.0909e-01  2e+00  5e-01  1e+00  5e-02\n",
      " 4:  4.4263e-02  4.3942e-02  2e-01  8e-03  2e-02  5e-04\n",
      " 3:  3.7433e-01  4.2272e-01  3e-01  3e-02  1e-02  5e-02\n",
      " 3:  1.7984e-01  2.0979e-01  2e-01  7e-02  1e-01  4e-02\n",
      " 3: -3.4355e-01  2.9689e-01  1e+00  6e-02  1e-02  6e-01\n",
      " 3:  6.6773e-02  6.2982e-02  1e-01  7e-02  2e-01  4e-03\n",
      " 3:  7.5823e-02  1.1148e-01  7e-01  3e-01  6e-01  7e-02\n",
      " 3:  5.5658e-02  5.5792e-02  3e-01  5e-02  1e-01  5e-03\n",
      " 3:  2.3424e-01  2.6957e-01  3e-01  6e-02  7e-02  4e-02\n",
      " 3:  6.0142e-02  5.9468e-02  4e-01  7e-02  2e-01  7e-03\n",
      " 3:  1.0906e-01  9.7436e-02  2e+00  4e-01  1e+00  3e-02\n",
      " 3:  1.1036e-01  8.9405e-02  2e+00  4e-01  8e-01  2e-02\n",
      " 4:  4.9099e-02  4.9177e-02  1e-01  2e-02  4e-02  2e-03\n",
      " 4:  2.5434e-01  3.4818e-01  1e+01  2e-01  1e-02  1e-01\n",
      " 4:  4.6713e-02  4.5414e-02  4e-01  2e-02  4e-02  6e-04\n",
      " 4:  6.8008e-02  6.5302e-02  4e-01  1e-01  3e-01  9e-03\n",
      " 4:  1.1500e-01  1.2190e-01  4e-02  3e-02  7e-02  1e-02\n",
      " 4:  4.7787e-02  4.7480e-02  1e-01  2e-02  3e-02  1e-03\n",
      " 4:  4.3126e-01  4.4211e-01  7e-02  2e-03  2e-04  1e-02\n",
      " 4:  4.8123e-02  4.6587e-02  4e-01  2e-02  5e-02  7e-04\n",
      " 4:  5.6406e-02  5.5881e-02  6e-02  3e-02  6e-02  2e-03\n",
      " 4:  3.5234e-01  3.6328e-01  2e-01  3e-02  2e-02  1e-02\n",
      " 4:  1.5377e-01  3.2285e-01  1e+00  8e-02  2e-02  2e-01\n",
      " 4:  1.2934e-01  1.5711e-01  1e-01  8e-02  2e-01  4e-02\n",
      " 4:  9.0852e-02  9.7102e-02  4e-01  2e-01  4e-01  3e-02\n",
      " 5:  4.3621e-02  4.3324e-02  2e-01  9e-03  2e-02  6e-04\n",
      " 4:  1.8004e-01  2.0775e-01  2e-01  7e-02  1e-01  3e-02\n",
      " 4:  4.2326e-01  4.3441e-01  9e-02  9e-03  4e-03  1e-02\n",
      " 4:  3.6547e-01  4.2376e-01  2e-01  8e-03  1e-03  6e-02\n",
      " 4:  6.1137e-02  5.9736e-02  3e-02  2e-02  5e-02  1e-03\n",
      " 4:  8.8568e-02  1.0213e-01  1e-01  8e-02  2e-01  2e-02\n",
      " 4:  2.3399e-01  2.6733e-01  3e-01  6e-02  7e-02  4e-02\n",
      " 4:  9.2311e-02  8.8667e-02  8e-01  3e-01  6e-01  2e-02\n",
      " 4:  8.2037e-02  7.6312e-02  5e-01  2e-01  4e-01  1e-02\n",
      " 4:  5.1825e-02  5.1530e-02  8e-02  2e-02  4e-02  2e-03\n",
      " 4:  5.4195e-02  5.3514e-02  6e-02  2e-02  4e-02  1e-03\n",
      " 5:  4.7360e-02  4.7287e-02  6e-02  1e-02  3e-02  1e-03\n",
      " 5:  3.5341e-01  4.2019e-01  1e+01  1e-01  1e-02  8e-02\n",
      " 5:  4.6185e-02  4.4930e-02  4e-01  2e-02  4e-02  7e-04\n",
      " 5:  5.8412e-02  5.7723e-02  4e-02  2e-02  5e-02  2e-03\n",
      " 5:  1.1923e-01  1.2045e-01  2e-02  1e-02  3e-02  2e-03\n",
      " 5:  4.5577e-02  4.5328e-02  6e-02  9e-03  2e-02  6e-04\n",
      " 5:  4.4659e-01  4.4779e-01  9e-03  2e-04  2e-05  1e-03\n",
      " 5:  4.6778e-02  4.5512e-02  2e-01  2e-02  4e-02  3e-04\n",
      " 5:  5.4437e-02  5.4163e-02  5e-02  2e-02  5e-02  2e-03\n",
      " 5:  3.7516e-01  3.7739e-01  7e-02  1e-02  9e-03  3e-03\n",
      " 5:  4.1806e-01  4.3372e-01  1e-01  8e-03  2e-03  2e-02\n",
      " 5:  1.5439e-01  1.5807e-01  3e-02  2e-02  3e-02  5e-03\n",
      " 5:  8.2064e-02  9.0738e-02  3e-01  2e-01  3e-01  2e-02\n",
      " 6:  4.1770e-02  4.1631e-02  4e-02  3e-03  6e-03  1e-04\n",
      " 5:  2.0958e-01  2.1230e-01  4e-02  2e-02  3e-02  4e-03\n",
      " 5:  4.3613e-01  4.4057e-01  5e-02  5e-03  3e-03  5e-03\n",
      " 5:  4.4666e-01  4.4798e-01  4e-03  2e-04  3e-05  1e-03\n",
      " 5:  6.0956e-02  5.9525e-02  3e-02  2e-02  5e-02  1e-03\n",
      " 5:  9.3913e-02  9.7921e-02  3e-02  3e-02  7e-02  7e-03\n",
      " 5:  2.8522e-01  2.8826e-01  7e-02  2e-02  2e-02  5e-03\n",
      " 5:  7.6780e-02  7.9029e-02  3e-01  2e-01  4e-01  2e-02\n",
      " 5:  6.8796e-02  6.8044e-02  9e-02  6e-02  1e-01  6e-03\n",
      " 5:  5.4121e-02  5.3465e-02  8e-02  2e-02  5e-02  2e-03\n",
      " 5:  5.0749e-02  5.0389e-02  8e-02  2e-02  4e-02  2e-03\n",
      " 6:  4.7071e-02  4.7003e-02  8e-02  1e-02  3e-02  1e-03\n",
      " 6:  4.4156e-01  4.4248e-01  4e-01  5e-03  3e-04  1e-03\n",
      " 6:  4.3511e-02  4.3131e-02  6e-02  5e-03  1e-02  1e-04\n",
      " 6:  5.7957e-02  5.7275e-02  4e-02  3e-02  6e-02  2e-03\n",
      " 6:  1.2008e-01  1.2001e-01  7e-03  5e-03  1e-02  5e-04\n",
      " 6:  4.5368e-02  4.5117e-02  7e-02  1e-02  2e-02  7e-04\n",
      " 6:  4.4864e-01  4.4867e-01  3e-04  6e-06  7e-07  3e-05\n",
      " 6:  4.7089e-02  4.5639e-02  3e-01  2e-02  4e-02  5e-04\n",
      " 6:  5.3837e-02  5.3646e-02  5e-02  2e-02  5e-02  2e-03\n",
      " 6:  3.8129e-01  3.8162e-01  2e-02  2e-03  2e-03  6e-04\n",
      " 6:  1.5744e-01  1.5804e-01  9e-03  5e-03  1e-02  1e-03\n",
      " 6:  4.4638e-01  4.4784e-01  2e-02  1e-03  4e-04  2e-03\n",
      " 6:  8.1479e-02  9.0198e-02  3e-01  2e-01  3e-01  2e-02\n",
      " 7:  4.1813e-02  4.1641e-02  8e-02  4e-03  8e-03  2e-04\n",
      " 6:  2.1362e-01  2.1431e-01  1e-02  5e-03  8e-03  1e-03\n",
      " 6:  4.3638e-01  4.4058e-01  5e-02  5e-03  3e-03  5e-03\n",
      " 6:  4.4863e-01  4.4867e-01  1e-04  5e-06  9e-07  4e-05\n",
      " 6:  5.8182e-02  5.7288e-02  2e-02  2e-02  3e-02  6e-04\n",
      " 6:  9.5342e-02  9.6214e-02  2e-02  2e-02  4e-02  3e-03\n",
      " 6:  4.7607e-02  4.7313e-02  3e-02  9e-03  2e-02  6e-04\n",
      " 6:  7.3052e-02  7.6269e-02  2e-01  1e-01  2e-01  1e-02\n",
      " 6:  5.1516e-02  5.0860e-02  4e-02  2e-02  4e-02  1e-03\n",
      " 6:  2.9033e-01  2.9078e-01  3e-02  7e-03  8e-03  1e-03\n",
      " 6:  6.5710e-02  6.5187e-02  4e-02  4e-02  8e-02  3e-03\n",
      " 7:  4.4665e-02  4.4501e-02  2e-02  5e-03  1e-02  3e-04\n",
      " 7:  4.4856e-01  4.4857e-01  2e-02  2e-04  2e-05  3e-05\n",
      " 7:  4.3668e-02  4.3176e-02  1e-01  7e-03  1e-02  2e-04\n",
      " 7:  5.5386e-02  5.4958e-02  2e-02  2e-02  4e-02  1e-03\n",
      " 7:  1.1983e-01  1.1974e-01  3e-03  2e-03  5e-03  1e-04\n",
      " 7:  4.3192e-02  4.3025e-02  2e-02  3e-03  8e-03  2e-04\n",
      " 7:  4.4869e-01  4.4870e-01  7e-06  2e-07  2e-08  8e-07\n",
      " 7:  5.2448e-02  5.2108e-02  4e-02  2e-02  4e-02  2e-03\n",
      " 7:  4.5170e-02  4.4243e-02  1e-01  1e-02  3e-02  3e-04\n",
      " 7:  3.8232e-01  3.8234e-01  3e-03  4e-04  3e-04  7e-05\n",
      " 7:  4.4832e-01  4.4850e-01  3e-03  2e-04  5e-05  2e-04\n",
      " 7:  1.5803e-01  1.5809e-01  4e-03  2e-03  5e-03  3e-04\n",
      " 7:  8.0600e-02  8.6956e-02  1e-01  1e-01  2e-01  2e-02\n",
      " 7:  2.1432e-01  2.1444e-01  7e-03  3e-03  4e-03  4e-04\n",
      " 8:  4.0329e-02  4.0227e-02  2e-02  2e-03  4e-03  6e-05\n",
      " 7:  4.4154e-01  4.4265e-01  2e-02  2e-03  1e-03  1e-03\n",
      " 7:  4.4869e-01  4.4870e-01  3e-06  2e-07  3e-08  1e-06\n",
      "Optimal solution found.\n",
      " 7:  5.7777e-02  5.6927e-02  2e-02  1e-02  3e-02  6e-04\n"
     ]
    },
    {
     "name": "stderr",
     "output_type": "stream",
     "text": [
      "/usr/local/lib/python3.6/site-packages/ipykernel/__main__.py:20: DeprecationWarning: assignment will raise an error in the future, most likely because your index result shape does not match the value array shape. You can use `arr.flat[index] = values` to keep the old behaviour.\n",
      "/usr/local/lib/python3.6/site-packages/ipykernel/__main__.py:21: DeprecationWarning: assignment will raise an error in the future, most likely because your index result shape does not match the value array shape. You can use `arr.flat[index] = values` to keep the old behaviour.\n"
     ]
    },
    {
     "name": "stdout",
     "output_type": "stream",
     "text": [
      " 7:  9.6174e-02  9.6735e-02  2e-02  2e-02  4e-02  3e-03\n",
      " 7:  2.9233e-01  2.9238e-01  6e-03  1e-03  2e-03  2e-04\n",
      " 7:  4.5539e-02  4.5252e-02  2e-02  7e-03  1e-02  4e-04\n",
      " 7:  6.4152e-02  6.3690e-02  3e-02  3e-02  6e-02  2e-03\n",
      " 7:  7.3437e-02  7.6293e-02  1e-01  1e-01  2e-01  1e-02\n",
      " 7:  5.0322e-02  4.9762e-02  5e-02  2e-02  3e-02  1e-03\n",
      " 8:  4.3555e-02  4.3411e-02  1e-02  4e-03  9e-03  3e-04\n",
      " 8:  4.4869e-01  4.4869e-01  1e-03  1e-05  9e-07  2e-06\n",
      " 8:  4.2000e-02  4.1747e-02  3e-02  3e-03  7e-03  8e-05\n",
      " 8:  5.4990e-02  5.4489e-02  3e-02  2e-02  4e-02  1e-03\n",
      " 8:  1.1953e-01  1.1948e-01  1e-03  8e-04  2e-03  3e-05\n",
      " 8:  4.2766e-02  4.2588e-02  2e-02  4e-03  9e-03  2e-04\n",
      " 8:  4.4870e-01  4.4870e-01  1e-07  3e-09  3e-10  1e-08\n",
      "Optimal solution found.\n"
     ]
    },
    {
     "name": "stderr",
     "output_type": "stream",
     "text": [
      "/usr/local/lib/python3.6/site-packages/ipykernel/__main__.py:20: DeprecationWarning: assignment will raise an error in the future, most likely because your index result shape does not match the value array shape. You can use `arr.flat[index] = values` to keep the old behaviour.\n",
      "/usr/local/lib/python3.6/site-packages/ipykernel/__main__.py:21: DeprecationWarning: assignment will raise an error in the future, most likely because your index result shape does not match the value array shape. You can use `arr.flat[index] = values` to keep the old behaviour.\n"
     ]
    },
    {
     "name": "stdout",
     "output_type": "stream",
     "text": [
      " 8:  5.0548e-02  5.0417e-02  2e-02  1e-02  3e-02  1e-03\n",
      " 8:  4.3138e-02  4.2759e-02  4e-02  5e-03  1e-02  1e-04\n",
      " 8:  3.8244e-01  3.8245e-01  5e-04  7e-05  5e-05  1e-05\n",
      " 8:  4.4869e-01  4.4869e-01  1e-04  6e-06  2e-06  3e-06\n",
      " 8:  1.5797e-01  1.5794e-01  2e-03  1e-03  2e-03  7e-05\n",
      " 8:  8.0248e-02  8.2044e-02  3e-02  3e-02  8e-02  5e-03\n",
      " 8:  2.1472e-01  2.1469e-01  3e-03  1e-03  2e-03  9e-05\n",
      " 9:  4.0105e-02  3.9996e-02  2e-02  2e-03  4e-03  6e-05\n",
      " 8:  4.4367e-01  4.4380e-01  3e-03  3e-04  1e-04  2e-04\n",
      " 8:  5.7560e-02  5.6681e-02  1e-02  1e-02  3e-02  4e-04\n",
      " 8:  9.5078e-02  9.5126e-02  8e-03  8e-03  2e-02  8e-04\n",
      " 8:  6.4315e-02  6.3769e-02  3e-02  3e-02  6e-02  2e-03\n",
      " 8:  2.9252e-01  2.9252e-01  2e-03  5e-04  5e-04  5e-05\n",
      " 8:  4.5108e-02  4.4834e-02  2e-02  6e-03  1e-02  3e-04\n",
      " 8:  7.2010e-02  7.3052e-02  6e-02  6e-02  1e-01  7e-03\n",
      " 8:  4.7262e-02  4.6908e-02  1e-02  7e-03  1e-02  3e-04\n",
      " 9:  4.2367e-02  4.2298e-02  5e-03  2e-03  4e-03  1e-04\n",
      " 9:  4.4870e-01  4.4870e-01  2e-05  3e-07  2e-08  4e-08\n",
      " 9:  4.1597e-02  4.1336e-02  4e-02  3e-03  8e-03  8e-05\n",
      " 9:  5.4242e-02  5.3808e-02  2e-02  2e-02  3e-02  1e-03\n",
      " 9:  1.1940e-01  1.1938e-01  3e-04  2e-04  5e-04  8e-06\n",
      " 9:  4.1954e-02  4.1835e-02  1e-02  3e-03  6e-03  1e-04\n",
      " 9:  4.3051e-02  4.2674e-02  4e-02  5e-03  1e-02  1e-04\n",
      " 9:  4.9537e-02  4.9193e-02  1e-02  9e-03  2e-02  5e-04\n",
      " 9:  3.8246e-01  3.8246e-01  2e-04  2e-05  2e-05  2e-06\n",
      " 9:  4.4870e-01  4.4870e-01  2e-06  9e-08  3e-08  4e-08\n",
      "Optimal solution found.\n",
      " 9:  1.5792e-01  1.5790e-01  5e-04  3e-04  5e-04  1e-05\n"
     ]
    },
    {
     "name": "stderr",
     "output_type": "stream",
     "text": [
      "/usr/local/lib/python3.6/site-packages/ipykernel/__main__.py:20: DeprecationWarning: assignment will raise an error in the future, most likely because your index result shape does not match the value array shape. You can use `arr.flat[index] = values` to keep the old behaviour.\n",
      "/usr/local/lib/python3.6/site-packages/ipykernel/__main__.py:21: DeprecationWarning: assignment will raise an error in the future, most likely because your index result shape does not match the value array shape. You can use `arr.flat[index] = values` to keep the old behaviour.\n"
     ]
    },
    {
     "name": "stdout",
     "output_type": "stream",
     "text": [
      " 9:  8.0651e-02  8.1803e-02  3e-02  3e-02  7e-02  4e-03\n",
      " 9:  2.1467e-01  2.1466e-01  9e-04  3e-04  5e-04  2e-05\n",
      "10:  3.9197e-02  3.9138e-02  1e-02  8e-04  2e-03  2e-05\n",
      " 9:  4.4391e-01  4.4392e-01  4e-04  4e-05  2e-05  2e-05\n",
      " 9:  5.7932e-02  5.7030e-02  1e-02  1e-02  3e-02  4e-04\n",
      " 9:  9.4637e-02  9.4570e-02  3e-03  3e-03  6e-03  2e-04\n",
      " 9:  6.1819e-02  6.1556e-02  9e-03  1e-02  2e-02  8e-04\n",
      " 9:  4.3880e-02  4.3747e-02  5e-03  2e-03  5e-03  1e-04\n",
      " 9:  7.1827e-02  7.2690e-02  6e-02  5e-02  1e-01  6e-03\n",
      " 9:  2.9259e-01  2.9258e-01  9e-04  2e-04  2e-04  1e-05\n",
      " 9:  4.6481e-02  4.6182e-02  1e-02  5e-03  1e-02  2e-04\n",
      "10:  4.2338e-02  4.2264e-02  5e-03  2e-03  4e-03  1e-04\n",
      "10:  4.4870e-01  4.4870e-01  2e-07  3e-09  2e-10  5e-10\n",
      "Optimal solution found.\n",
      "10:  4.1190e-02  4.0957e-02  3e-02  3e-03  7e-03  7e-05\n"
     ]
    },
    {
     "name": "stderr",
     "output_type": "stream",
     "text": [
      "/usr/local/lib/python3.6/site-packages/ipykernel/__main__.py:20: DeprecationWarning: assignment will raise an error in the future, most likely because your index result shape does not match the value array shape. You can use `arr.flat[index] = values` to keep the old behaviour.\n",
      "/usr/local/lib/python3.6/site-packages/ipykernel/__main__.py:21: DeprecationWarning: assignment will raise an error in the future, most likely because your index result shape does not match the value array shape. You can use `arr.flat[index] = values` to keep the old behaviour.\n"
     ]
    },
    {
     "name": "stdout",
     "output_type": "stream",
     "text": [
      "10:  5.3353e-02  5.2779e-02  2e-02  1e-02  3e-02  7e-04\n",
      "10:  1.1935e-01  1.1935e-01  3e-05  2e-05  5e-05  6e-07\n",
      "10:  4.1903e-02  4.1779e-02  1e-02  3e-03  6e-03  1e-04\n",
      "10:  4.2796e-02  4.2406e-02  4e-02  5e-03  1e-02  1e-04\n",
      "10:  4.9407e-02  4.9074e-02  1e-02  9e-03  2e-02  6e-04\n",
      "10:  3.8246e-01  3.8246e-01  8e-05  1e-05  1e-05  8e-07\n",
      "10:  1.5786e-01  1.5786e-01  6e-05  3e-05  6e-05  9e-07\n",
      "10:  7.8656e-02  7.8747e-02  6e-03  7e-03  1e-02  8e-04\n",
      "10:  2.1466e-01  2.1465e-01  2e-04  7e-05  1e-04  4e-06\n",
      "11:  3.9119e-02  3.9055e-02  1e-02  9e-04  2e-03  2e-05\n",
      "10:  4.4394e-01  4.4394e-01  2e-05  2e-06  1e-06  1e-06\n",
      "10:  5.6629e-02  5.5976e-02  1e-02  9e-03  2e-02  3e-04\n",
      "10:  9.4306e-02  9.4251e-02  1e-03  1e-03  2e-03  6e-05\n",
      "10:  6.1868e-02  6.1542e-02  9e-03  1e-02  2e-02  7e-04\n",
      "10:  4.3714e-02  4.3570e-02  6e-03  3e-03  6e-03  1e-04\n",
      "10:  2.9260e-01  2.9259e-01  1e-04  3e-05  3e-05  1e-06\n",
      "10:  7.0859e-02  7.0983e-02  4e-02  4e-02  8e-02  4e-03\n",
      "11:  4.1683e-02  4.1636e-02  3e-03  1e-03  2e-03  5e-05\n",
      "10:  4.5439e-02  4.5255e-02  5e-03  3e-03  6e-03  1e-04\n",
      "11:  3.9998e-02  3.9899e-02  1e-02  1e-03  3e-03  2e-05\n",
      "11:  5.2773e-02  5.2289e-02  2e-02  1e-02  3e-02  7e-04\n",
      "11:  1.1934e-01  1.1934e-01  6e-06  4e-06  9e-06  8e-08\n",
      "11:  4.1156e-02  4.1069e-02  7e-03  2e-03  4e-03  8e-05\n",
      "11:  4.1876e-02  4.1648e-02  2e-02  3e-03  6e-03  6e-05\n",
      "11:  4.8451e-02  4.8216e-02  8e-03  6e-03  1e-02  3e-04\n",
      "11:  3.8246e-01  3.8246e-01  1e-05  2e-06  2e-06  1e-07\n",
      "11:  1.5786e-01  1.5786e-01  6e-06  3e-06  6e-06  9e-08\n",
      "11:  7.8284e-02  7.8206e-02  3e-03  3e-03  7e-03  2e-04\n",
      "11:  2.1465e-01  2.1465e-01  2e-05  7e-06  1e-05  4e-07\n",
      "12:  3.8263e-02  3.8239e-02  4e-03  3e-04  7e-04  8e-06\n",
      "11:  4.4394e-01  4.4394e-01  1e-06  1e-07  5e-08  5e-08\n",
      "Optimal solution found.\n"
     ]
    },
    {
     "name": "stderr",
     "output_type": "stream",
     "text": [
      "/usr/local/lib/python3.6/site-packages/ipykernel/__main__.py:20: DeprecationWarning: assignment will raise an error in the future, most likely because your index result shape does not match the value array shape. You can use `arr.flat[index] = values` to keep the old behaviour.\n",
      "/usr/local/lib/python3.6/site-packages/ipykernel/__main__.py:21: DeprecationWarning: assignment will raise an error in the future, most likely because your index result shape does not match the value array shape. You can use `arr.flat[index] = values` to keep the old behaviour.\n"
     ]
    },
    {
     "name": "stdout",
     "output_type": "stream",
     "text": [
      "11:  5.5220e-02  5.4899e-02  4e-03  4e-03  9e-03  1e-04\n",
      "11:  9.4142e-02  9.4115e-02  4e-04  3e-04  7e-04  6e-06\n",
      "11:  6.0502e-02  6.0344e-02  3e-03  4e-03  9e-03  2e-04\n",
      "11:  4.2890e-02  4.2828e-02  2e-03  9e-04  2e-03  3e-05\n",
      "11:  6.9193e-02  6.9114e-02  1e-02  2e-02  4e-02  2e-03\n",
      "11:  2.9260e-01  2.9260e-01  1e-05  4e-06  4e-06  1e-07\n",
      "12:  4.1366e-02  4.1332e-02  2e-03  6e-04  1e-03  3e-05\n",
      "11:  4.4658e-02  4.4573e-02  2e-03  1e-03  3e-03  4e-05\n",
      "12:  3.9625e-02  3.9539e-02  9e-03  1e-03  2e-03  2e-05\n",
      "12:  5.0818e-02  5.0624e-02  4e-03  4e-03  8e-03  2e-04\n",
      "12:  1.1934e-01  1.1934e-01  2e-06  1e-06  2e-06  1e-08\n",
      "12:  4.0995e-02  4.0911e-02  6e-03  1e-03  3e-03  6e-05\n",
      "12:  4.1584e-02  4.1351e-02  2e-02  3e-03  7e-03  7e-05\n",
      "12:  4.8461e-02  4.8195e-02  8e-03  6e-03  1e-02  3e-04\n",
      "12:  3.8246e-01  3.8246e-01  2e-06  3e-07  3e-07  2e-08\n",
      "Optimal solution found.\n"
     ]
    },
    {
     "name": "stderr",
     "output_type": "stream",
     "text": [
      "/usr/local/lib/python3.6/site-packages/ipykernel/__main__.py:20: DeprecationWarning: assignment will raise an error in the future, most likely because your index result shape does not match the value array shape. You can use `arr.flat[index] = values` to keep the old behaviour.\n",
      "/usr/local/lib/python3.6/site-packages/ipykernel/__main__.py:21: DeprecationWarning: assignment will raise an error in the future, most likely because your index result shape does not match the value array shape. You can use `arr.flat[index] = values` to keep the old behaviour.\n"
     ]
    },
    {
     "name": "stdout",
     "output_type": "stream",
     "text": [
      "12:  1.5786e-01  1.5786e-01  4e-07  2e-07  4e-07  6e-09\n",
      "Optimal solution found.\n"
     ]
    },
    {
     "name": "stderr",
     "output_type": "stream",
     "text": [
      "/usr/local/lib/python3.6/site-packages/ipykernel/__main__.py:20: DeprecationWarning: assignment will raise an error in the future, most likely because your index result shape does not match the value array shape. You can use `arr.flat[index] = values` to keep the old behaviour.\n",
      "/usr/local/lib/python3.6/site-packages/ipykernel/__main__.py:21: DeprecationWarning: assignment will raise an error in the future, most likely because your index result shape does not match the value array shape. You can use `arr.flat[index] = values` to keep the old behaviour.\n"
     ]
    },
    {
     "name": "stdout",
     "output_type": "stream",
     "text": [
      "12:  7.8262e-02  7.8139e-02  2e-03  3e-03  6e-03  1e-04\n",
      "12:  2.1465e-01  2.1465e-01  2e-06  6e-07  9e-07  3e-08\n",
      "Optimal solution found.\n",
      "13:  3.8192e-02  3.8167e-02  5e-03  3e-04  7e-04  7e-06\n"
     ]
    },
    {
     "name": "stderr",
     "output_type": "stream",
     "text": [
      "/usr/local/lib/python3.6/site-packages/ipykernel/__main__.py:20: DeprecationWarning: assignment will raise an error in the future, most likely because your index result shape does not match the value array shape. You can use `arr.flat[index] = values` to keep the old behaviour.\n",
      "/usr/local/lib/python3.6/site-packages/ipykernel/__main__.py:21: DeprecationWarning: assignment will raise an error in the future, most likely because your index result shape does not match the value array shape. You can use `arr.flat[index] = values` to keep the old behaviour.\n"
     ]
    },
    {
     "name": "stdout",
     "output_type": "stream",
     "text": [
      "12:  5.5136e-02  5.4837e-02  4e-03  4e-03  8e-03  7e-05\n",
      "12:  9.4047e-02  9.4043e-02  6e-05  5e-05  1e-04  6e-07\n",
      "12:  6.0544e-02  6.0330e-02  3e-03  4e-03  8e-03  2e-04\n",
      "12:  4.2903e-02  4.2838e-02  2e-03  9e-04  2e-03  3e-05\n",
      "12:  6.9405e-02  6.9112e-02  1e-02  1e-02  3e-02  1e-03\n",
      "12:  2.9260e-01  2.9260e-01  6e-07  1e-07  2e-07  5e-09\n",
      "Optimal solution found.\n",
      "13:  4.1427e-02  4.1389e-02  2e-03  6e-04  1e-03  3e-05\n",
      "12:  4.4694e-02  4.4603e-02  2e-03  1e-03  3e-03  4e-05\n"
     ]
    },
    {
     "name": "stderr",
     "output_type": "stream",
     "text": [
      "/usr/local/lib/python3.6/site-packages/ipykernel/__main__.py:20: DeprecationWarning: assignment will raise an error in the future, most likely because your index result shape does not match the value array shape. You can use `arr.flat[index] = values` to keep the old behaviour.\n",
      "/usr/local/lib/python3.6/site-packages/ipykernel/__main__.py:21: DeprecationWarning: assignment will raise an error in the future, most likely because your index result shape does not match the value array shape. You can use `arr.flat[index] = values` to keep the old behaviour.\n"
     ]
    },
    {
     "name": "stdout",
     "output_type": "stream",
     "text": [
      "13:  3.9532e-02  3.9447e-02  1e-02  1e-03  2e-03  2e-05\n",
      "13:  5.0297e-02  5.0162e-02  2e-03  2e-03  4e-03  7e-05\n",
      "13:  1.1934e-01  1.1934e-01  1e-07  8e-08  2e-07  1e-09\n",
      "Optimal solution found.\n"
     ]
    },
    {
     "name": "stderr",
     "output_type": "stream",
     "text": [
      "/usr/local/lib/python3.6/site-packages/ipykernel/__main__.py:20: DeprecationWarning: assignment will raise an error in the future, most likely because your index result shape does not match the value array shape. You can use `arr.flat[index] = values` to keep the old behaviour.\n",
      "/usr/local/lib/python3.6/site-packages/ipykernel/__main__.py:21: DeprecationWarning: assignment will raise an error in the future, most likely because your index result shape does not match the value array shape. You can use `arr.flat[index] = values` to keep the old behaviour.\n"
     ]
    },
    {
     "name": "stdout",
     "output_type": "stream",
     "text": [
      "13:  4.0334e-02  4.0300e-02  2e-03  6e-04  1e-03  2e-05\n",
      "13:  4.0530e-02  4.0429e-02  6e-03  1e-03  3e-03  2e-05\n",
      "13:  4.7225e-02  4.7099e-02  3e-03  2e-03  5e-03  9e-05\n",
      "13:  7.7802e-02  7.7758e-02  7e-04  9e-04  2e-03  4e-05\n",
      "14:  3.7635e-02  3.7622e-02  2e-03  2e-04  4e-04  3e-06\n",
      "13:  5.4288e-02  5.4175e-02  1e-03  1e-03  3e-03  2e-05\n",
      "13:  9.4034e-02  9.4033e-02  1e-05  1e-05  3e-05  1e-07\n",
      "13:  5.9862e-02  5.9776e-02  1e-03  1e-03  3e-03  6e-05\n",
      "13:  4.2508e-02  4.2479e-02  8e-04  4e-04  9e-04  1e-05\n",
      "13:  6.7905e-02  6.7751e-02  4e-03  5e-03  1e-02  4e-04\n",
      "14:  4.0973e-02  4.0961e-02  4e-04  2e-04  4e-04  6e-06\n",
      "13:  4.4303e-02  4.4260e-02  8e-04  6e-04  1e-03  1e-05\n",
      "14:  3.8815e-02  3.8784e-02  2e-03  4e-04  8e-04  5e-06\n",
      "14:  5.0072e-02  4.9963e-02  2e-03  1e-03  3e-03  3e-05\n",
      "14:  4.0276e-02  4.0244e-02  2e-03  5e-04  1e-03  2e-05\n",
      "14:  4.0019e-02  3.9940e-02  5e-03  9e-04  2e-03  1e-05\n",
      "14:  4.6621e-02  4.6563e-02  1e-03  8e-04  2e-03  2e-05\n",
      "14:  7.7697e-02  7.7663e-02  4e-04  4e-04  9e-04  7e-06\n",
      "15:  3.7529e-02  3.7517e-02  2e-03  1e-04  3e-04  3e-06\n",
      "14:  5.3977e-02  5.3925e-02  5e-04  5e-04  1e-03  4e-06\n",
      "14:  9.4030e-02  9.4030e-02  2e-06  2e-06  5e-06  2e-08\n",
      "14:  5.9892e-02  5.9792e-02  1e-03  1e-03  3e-03  3e-05\n",
      "14:  4.2308e-02  4.2297e-02  3e-04  1e-04  3e-04  3e-06\n",
      "14:  6.7884e-02  6.7685e-02  4e-03  5e-03  1e-02  3e-04\n",
      "15:  4.0846e-02  4.0842e-02  1e-04  5e-05  1e-04  1e-06\n",
      "14:  4.4074e-02  4.4058e-02  3e-04  2e-04  4e-04  3e-06\n",
      "15:  3.8809e-02  3.8776e-02  3e-03  4e-04  8e-04  5e-06\n",
      "15:  4.9581e-02  4.9544e-02  5e-04  4e-04  1e-03  9e-06\n",
      "15:  3.9985e-02  3.9970e-02  7e-04  2e-04  5e-04  6e-06\n",
      "15:  3.9478e-02  3.9441e-02  2e-03  4e-04  9e-04  5e-06\n",
      "15:  4.6283e-02  4.6268e-02  2e-04  2e-04  4e-04  3e-06\n",
      "15:  7.7575e-02  7.7570e-02  5e-05  6e-05  1e-04  1e-06\n",
      "16:  3.7440e-02  3.7429e-02  2e-03  1e-04  3e-04  2e-06\n",
      "15:  5.3803e-02  5.3785e-02  2e-04  2e-04  4e-04  1e-06\n",
      "15:  9.4030e-02  9.4030e-02  7e-07  6e-07  1e-06  5e-09\n",
      "15:  5.9499e-02  5.9477e-02  2e-04  3e-04  6e-04  6e-06\n",
      "15:  4.2226e-02  4.2223e-02  8e-05  4e-05  9e-05  6e-07\n",
      "15:  6.7153e-02  6.7073e-02  1e-03  2e-03  4e-03  9e-05\n",
      "16:  4.0800e-02  4.0799e-02  3e-05  1e-05  3e-05  2e-07\n",
      "15:  4.3997e-02  4.3990e-02  1e-04  8e-05  2e-04  1e-06\n",
      "16:  3.8463e-02  3.8444e-02  2e-03  2e-04  5e-04  3e-06\n",
      "16:  4.9426e-02  4.9411e-02  2e-04  2e-04  4e-04  2e-06\n",
      "16:  3.9934e-02  3.9923e-02  4e-04  1e-04  3e-04  2e-06\n",
      "16:  4.6240e-02  4.6231e-02  1e-04  1e-04  2e-04  1e-06\n",
      "16:  3.9180e-02  3.9163e-02  8e-04  2e-04  4e-04  2e-06\n",
      "16:  7.7556e-02  7.7555e-02  8e-06  9e-06  2e-05  1e-07\n",
      "17:  3.7343e-02  3.7333e-02  2e-03  1e-04  3e-04  2e-06\n",
      "16:  5.3739e-02  5.3732e-02  6e-05  7e-05  1e-04  1e-07\n",
      "16:  9.4029e-02  9.4029e-02  2e-07  2e-07  3e-07  9e-10\n",
      "Optimal solution found.\n"
     ]
    },
    {
     "name": "stderr",
     "output_type": "stream",
     "text": [
      "/usr/local/lib/python3.6/site-packages/ipykernel/__main__.py:20: DeprecationWarning: assignment will raise an error in the future, most likely because your index result shape does not match the value array shape. You can use `arr.flat[index] = values` to keep the old behaviour.\n",
      "/usr/local/lib/python3.6/site-packages/ipykernel/__main__.py:21: DeprecationWarning: assignment will raise an error in the future, most likely because your index result shape does not match the value array shape. You can use `arr.flat[index] = values` to keep the old behaviour.\n"
     ]
    },
    {
     "name": "stdout",
     "output_type": "stream",
     "text": [
      "16:  5.9412e-02  5.9407e-02  5e-05  6e-05  1e-04  1e-06\n",
      "16:  4.2197e-02  4.2196e-02  3e-05  1e-05  3e-05  2e-07\n",
      "16:  6.6908e-02  6.6865e-02  5e-04  7e-04  1e-03  2e-05\n",
      "17:  4.0788e-02  4.0787e-02  6e-06  2e-06  5e-06  2e-08\n",
      "16:  4.3949e-02  4.3947e-02  3e-05  2e-05  5e-05  2e-07\n",
      "17:  3.8325e-02  3.8312e-02  1e-03  1e-04  3e-04  2e-06\n",
      "17:  4.9354e-02  4.9349e-02  6e-05  6e-05  1e-04  7e-07\n",
      "17:  3.9801e-02  3.9797e-02  1e-04  5e-05  1e-04  5e-07\n",
      "17:  4.6179e-02  4.6176e-02  3e-05  3e-05  6e-05  3e-07\n",
      "17:  3.9070e-02  3.9059e-02  5e-04  1e-04  3e-04  1e-06\n",
      "17:  7.7553e-02  7.7553e-02  2e-06  3e-06  6e-06  1e-08\n",
      "18:  3.7136e-02  3.7129e-02  2e-03  8e-05  2e-04  1e-06\n",
      "17:  5.3703e-02  5.3702e-02  7e-06  8e-06  2e-05  1e-08\n",
      "17:  5.9393e-02  5.9392e-02  1e-05  2e-05  3e-05  1e-07\n",
      "17:  4.2190e-02  4.2190e-02  1e-05  8e-06  2e-05  5e-08\n",
      "17:  6.6747e-02  6.6736e-02  1e-04  2e-04  3e-04  5e-06\n",
      "18:  4.0784e-02  4.0784e-02  1e-06  5e-07  1e-06  2e-09\n",
      "17:  4.3934e-02  4.3934e-02  6e-06  4e-06  9e-06  3e-08\n",
      "18:  3.8335e-02  3.8322e-02  1e-03  2e-04  3e-04  2e-06\n",
      "18:  4.9326e-02  4.9324e-02  2e-05  1e-05  3e-05  8e-08\n",
      "18:  3.9776e-02  3.9773e-02  9e-05  3e-05  6e-05  3e-07\n",
      "18:  4.6162e-02  4.6162e-02  5e-06  4e-06  9e-06  3e-08\n",
      "18:  3.8937e-02  3.8933e-02  2e-04  4e-05  1e-04  3e-07\n",
      "18:  7.7553e-02  7.7553e-02  3e-07  3e-07  7e-07  1e-09\n",
      "Optimal solution found.\n"
     ]
    },
    {
     "name": "stderr",
     "output_type": "stream",
     "text": [
      "/usr/local/lib/python3.6/site-packages/ipykernel/__main__.py:20: DeprecationWarning: assignment will raise an error in the future, most likely because your index result shape does not match the value array shape. You can use `arr.flat[index] = values` to keep the old behaviour.\n",
      "/usr/local/lib/python3.6/site-packages/ipykernel/__main__.py:21: DeprecationWarning: assignment will raise an error in the future, most likely because your index result shape does not match the value array shape. You can use `arr.flat[index] = values` to keep the old behaviour.\n"
     ]
    },
    {
     "name": "stdout",
     "output_type": "stream",
     "text": [
      "19:  3.7215e-02  3.7207e-02  2e-03  9e-05  2e-04  9e-07\n",
      "18:  5.3699e-02  5.3699e-02  2e-06  2e-06  4e-06  2e-09\n",
      "18:  4.2182e-02  4.2182e-02  2e-06  1e-06  3e-06  6e-09\n",
      "18:  5.9388e-02  5.9388e-02  5e-06  6e-06  1e-05  3e-08\n",
      "18:  6.6702e-02  6.6700e-02  2e-05  3e-05  6e-05  7e-07\n",
      "19:  4.0784e-02  4.0784e-02  4e-07  2e-07  4e-07  4e-10\n",
      "Optimal solution found.\n"
     ]
    },
    {
     "name": "stderr",
     "output_type": "stream",
     "text": [
      "/usr/local/lib/python3.6/site-packages/ipykernel/__main__.py:20: DeprecationWarning: assignment will raise an error in the future, most likely because your index result shape does not match the value array shape. You can use `arr.flat[index] = values` to keep the old behaviour.\n",
      "/usr/local/lib/python3.6/site-packages/ipykernel/__main__.py:21: DeprecationWarning: assignment will raise an error in the future, most likely because your index result shape does not match the value array shape. You can use `arr.flat[index] = values` to keep the old behaviour.\n"
     ]
    },
    {
     "name": "stdout",
     "output_type": "stream",
     "text": [
      "18:  4.3932e-02  4.3932e-02  2e-06  1e-06  3e-06  6e-09\n",
      "19:  4.9316e-02  4.9316e-02  1e-06  1e-06  3e-06  5e-09\n",
      "19:  3.8070e-02  3.8065e-02  5e-04  6e-05  1e-04  5e-07\n",
      "19:  3.9744e-02  3.9743e-02  3e-05  1e-05  2e-05  8e-08\n",
      "19:  4.6160e-02  4.6160e-02  1e-06  1e-06  2e-06  3e-09\n",
      "19:  3.8900e-02  3.8898e-02  1e-04  3e-05  6e-05  2e-07\n",
      "20:  3.7250e-02  3.7242e-02  2e-03  9e-05  2e-04  7e-07\n",
      "19:  5.3698e-02  5.3698e-02  4e-07  4e-07  1e-06  4e-10\n",
      "Optimal solution found.\n"
     ]
    },
    {
     "name": "stderr",
     "output_type": "stream",
     "text": [
      "/usr/local/lib/python3.6/site-packages/ipykernel/__main__.py:20: DeprecationWarning: assignment will raise an error in the future, most likely because your index result shape does not match the value array shape. You can use `arr.flat[index] = values` to keep the old behaviour.\n",
      "/usr/local/lib/python3.6/site-packages/ipykernel/__main__.py:21: DeprecationWarning: assignment will raise an error in the future, most likely because your index result shape does not match the value array shape. You can use `arr.flat[index] = values` to keep the old behaviour.\n"
     ]
    },
    {
     "name": "stdout",
     "output_type": "stream",
     "text": [
      "19:  4.2181e-02  4.2181e-02  7e-07  4e-07  8e-07  8e-10\n",
      "Optimal solution found.\n"
     ]
    },
    {
     "name": "stderr",
     "output_type": "stream",
     "text": [
      "/usr/local/lib/python3.6/site-packages/ipykernel/__main__.py:20: DeprecationWarning: assignment will raise an error in the future, most likely because your index result shape does not match the value array shape. You can use `arr.flat[index] = values` to keep the old behaviour.\n"
     ]
    },
    {
     "name": "stdout",
     "output_type": "stream",
     "text": [
      "19:  5.9387e-02  5.9387e-02  2e-06  2e-06  4e-06  4e-09\n"
     ]
    },
    {
     "name": "stderr",
     "output_type": "stream",
     "text": [
      "/usr/local/lib/python3.6/site-packages/ipykernel/__main__.py:21: DeprecationWarning: assignment will raise an error in the future, most likely because your index result shape does not match the value array shape. You can use `arr.flat[index] = values` to keep the old behaviour.\n"
     ]
    },
    {
     "name": "stdout",
     "output_type": "stream",
     "text": [
      "19:  6.6694e-02  6.6694e-02  3e-06  4e-06  9e-06  9e-08\n",
      "19:  4.3931e-02  4.3931e-02  4e-07  3e-07  6e-07  9e-10\n",
      "Optimal solution found.\n"
     ]
    },
    {
     "name": "stderr",
     "output_type": "stream",
     "text": [
      "/usr/local/lib/python3.6/site-packages/ipykernel/__main__.py:20: DeprecationWarning: assignment will raise an error in the future, most likely because your index result shape does not match the value array shape. You can use `arr.flat[index] = values` to keep the old behaviour.\n"
     ]
    },
    {
     "name": "stdout",
     "output_type": "stream",
     "text": [
      "20:  4.9315e-02  4.9315e-02  3e-07  3e-07  6e-07  9e-10\n"
     ]
    },
    {
     "name": "stderr",
     "output_type": "stream",
     "text": [
      "/usr/local/lib/python3.6/site-packages/ipykernel/__main__.py:21: DeprecationWarning: assignment will raise an error in the future, most likely because your index result shape does not match the value array shape. You can use `arr.flat[index] = values` to keep the old behaviour.\n"
     ]
    },
    {
     "name": "stdout",
     "output_type": "stream",
     "text": [
      "Optimal solution found.\n",
      "20:  3.8036e-02  3.8031e-02  4e-04  5e-05  1e-04  4e-07\n"
     ]
    },
    {
     "name": "stderr",
     "output_type": "stream",
     "text": [
      "/usr/local/lib/python3.6/site-packages/ipykernel/__main__.py:20: DeprecationWarning: assignment will raise an error in the future, most likely because your index result shape does not match the value array shape. You can use `arr.flat[index] = values` to keep the old behaviour.\n",
      "/usr/local/lib/python3.6/site-packages/ipykernel/__main__.py:21: DeprecationWarning: assignment will raise an error in the future, most likely because your index result shape does not match the value array shape. You can use `arr.flat[index] = values` to keep the old behaviour.\n"
     ]
    },
    {
     "name": "stdout",
     "output_type": "stream",
     "text": [
      "20:  3.9733e-02  3.9732e-02  1e-05  4e-06  8e-06  2e-08\n",
      "20:  4.6159e-02  4.6159e-02  2e-07  1e-07  3e-07  3e-10\n",
      "Optimal solution found.\n",
      "20:  3.8863e-02  3.8862e-02  4e-05  9e-06  2e-05  5e-08\n"
     ]
    },
    {
     "name": "stderr",
     "output_type": "stream",
     "text": [
      "/usr/local/lib/python3.6/site-packages/ipykernel/__main__.py:20: DeprecationWarning: assignment will raise an error in the future, most likely because your index result shape does not match the value array shape. You can use `arr.flat[index] = values` to keep the old behaviour.\n",
      "/usr/local/lib/python3.6/site-packages/ipykernel/__main__.py:21: DeprecationWarning: assignment will raise an error in the future, most likely because your index result shape does not match the value array shape. You can use `arr.flat[index] = values` to keep the old behaviour.\n"
     ]
    },
    {
     "name": "stdout",
     "output_type": "stream",
     "text": [
      "21:  3.6899e-02  3.6895e-02  1e-03  5e-05  1e-04  4e-07\n",
      "20:  5.9386e-02  5.9386e-02  3e-07  3e-07  7e-07  5e-10\n",
      "Optimal solution found.\n"
     ]
    },
    {
     "name": "stderr",
     "output_type": "stream",
     "text": [
      "/usr/local/lib/python3.6/site-packages/ipykernel/__main__.py:20: DeprecationWarning: assignment will raise an error in the future, most likely because your index result shape does not match the value array shape. You can use `arr.flat[index] = values` to keep the old behaviour.\n",
      "/usr/local/lib/python3.6/site-packages/ipykernel/__main__.py:21: DeprecationWarning: assignment will raise an error in the future, most likely because your index result shape does not match the value array shape. You can use `arr.flat[index] = values` to keep the old behaviour.\n"
     ]
    },
    {
     "name": "stdout",
     "output_type": "stream",
     "text": [
      "20:  6.6693e-02  6.6693e-02  6e-07  8e-07  2e-06  1e-08\n",
      "21:  3.7989e-02  3.7986e-02  3e-04  3e-05  7e-05  2e-07\n",
      "21:  3.9730e-02  3.9730e-02  6e-06  2e-06  4e-06  7e-09\n",
      "21:  3.8852e-02  3.8852e-02  2e-05  4e-06  9e-06  2e-08\n",
      "22:  3.6843e-02  3.6840e-02  9e-04  4e-05  9e-05  3e-07\n",
      "21:  6.6693e-02  6.6692e-02  2e-07  3e-07  6e-07  4e-09\n",
      "Optimal solution found.\n"
     ]
    },
    {
     "name": "stderr",
     "output_type": "stream",
     "text": [
      "/usr/local/lib/python3.6/site-packages/ipykernel/__main__.py:20: DeprecationWarning: assignment will raise an error in the future, most likely because your index result shape does not match the value array shape. You can use `arr.flat[index] = values` to keep the old behaviour.\n",
      "/usr/local/lib/python3.6/site-packages/ipykernel/__main__.py:21: DeprecationWarning: assignment will raise an error in the future, most likely because your index result shape does not match the value array shape. You can use `arr.flat[index] = values` to keep the old behaviour.\n"
     ]
    },
    {
     "name": "stdout",
     "output_type": "stream",
     "text": [
      "22:  3.7954e-02  3.7952e-02  2e-04  2e-05  5e-05  1e-07\n",
      "22:  3.9727e-02  3.9727e-02  1e-06  4e-07  8e-07  7e-10\n",
      "22:  3.8846e-02  3.8846e-02  7e-06  2e-06  3e-06  6e-09\n",
      "23:  3.6645e-02  3.6643e-02  4e-04  2e-05  4e-05  1e-07\n",
      "23:  3.7920e-02  3.7918e-02  1e-04  2e-05  4e-05  9e-08\n",
      "23:  3.9726e-02  3.9726e-02  3e-07  1e-07  2e-07  1e-10\n",
      "Optimal solution found.\n"
     ]
    },
    {
     "name": "stderr",
     "output_type": "stream",
     "text": [
      "/usr/local/lib/python3.6/site-packages/ipykernel/__main__.py:20: DeprecationWarning: assignment will raise an error in the future, most likely because your index result shape does not match the value array shape. You can use `arr.flat[index] = values` to keep the old behaviour.\n",
      "/usr/local/lib/python3.6/site-packages/ipykernel/__main__.py:21: DeprecationWarning: assignment will raise an error in the future, most likely because your index result shape does not match the value array shape. You can use `arr.flat[index] = values` to keep the old behaviour.\n"
     ]
    },
    {
     "name": "stdout",
     "output_type": "stream",
     "text": [
      "23:  3.8844e-02  3.8844e-02  3e-06  6e-07  1e-06  3e-09\n",
      "24:  3.6645e-02  3.6643e-02  4e-04  2e-05  4e-05  1e-07\n",
      "24:  3.7901e-02  3.7900e-02  1e-04  1e-05  2e-05  3e-08\n",
      "24:  3.8843e-02  3.8843e-02  1e-06  3e-07  6e-07  1e-09\n",
      "25:  3.6581e-02  3.6580e-02  3e-04  1e-05  3e-05  8e-08\n",
      "25:  3.7879e-02  3.7878e-02  6e-05  6e-06  1e-05  2e-08\n",
      "25:  3.8842e-02  3.8842e-02  6e-07  1e-07  3e-07  2e-10\n",
      "Optimal solution found.\n"
     ]
    },
    {
     "name": "stderr",
     "output_type": "stream",
     "text": [
      "/usr/local/lib/python3.6/site-packages/ipykernel/__main__.py:20: DeprecationWarning: assignment will raise an error in the future, most likely because your index result shape does not match the value array shape. You can use `arr.flat[index] = values` to keep the old behaviour.\n",
      "/usr/local/lib/python3.6/site-packages/ipykernel/__main__.py:21: DeprecationWarning: assignment will raise an error in the future, most likely because your index result shape does not match the value array shape. You can use `arr.flat[index] = values` to keep the old behaviour.\n"
     ]
    },
    {
     "name": "stdout",
     "output_type": "stream",
     "text": [
      "26:  3.6508e-02  3.6508e-02  2e-04  7e-06  2e-05  4e-08\n",
      "26:  3.7859e-02  3.7859e-02  3e-05  3e-06  7e-06  9e-09\n",
      "27:  3.6456e-02  3.6455e-02  8e-05  3e-06  7e-06  2e-08\n",
      "27:  3.7848e-02  3.7848e-02  1e-05  1e-06  2e-06  3e-09\n",
      "28:  3.6434e-02  3.6434e-02  4e-05  2e-06  4e-06  1e-08\n",
      "28:  3.7844e-02  3.7844e-02  5e-06  5e-07  1e-06  1e-09\n",
      "29:  3.6426e-02  3.6426e-02  3e-05  1e-06  2e-06  6e-09\n",
      "29:  3.7842e-02  3.7842e-02  2e-06  2e-07  4e-07  4e-10\n",
      "30:  3.6415e-02  3.6415e-02  9e-06  4e-07  8e-07  2e-09\n",
      "30:  3.7842e-02  3.7842e-02  9e-07  9e-08  2e-07  2e-10\n",
      "Optimal solution found.\n"
     ]
    },
    {
     "name": "stderr",
     "output_type": "stream",
     "text": [
      "/usr/local/lib/python3.6/site-packages/ipykernel/__main__.py:20: DeprecationWarning: assignment will raise an error in the future, most likely because your index result shape does not match the value array shape. You can use `arr.flat[index] = values` to keep the old behaviour.\n",
      "/usr/local/lib/python3.6/site-packages/ipykernel/__main__.py:21: DeprecationWarning: assignment will raise an error in the future, most likely because your index result shape does not match the value array shape. You can use `arr.flat[index] = values` to keep the old behaviour.\n"
     ]
    },
    {
     "name": "stdout",
     "output_type": "stream",
     "text": [
      "31:  3.6411e-02  3.6411e-02  3e-06  1e-07  2e-07  6e-10\n",
      "32:  3.6409e-02  3.6409e-02  7e-07  3e-08  6e-08  2e-10\n",
      "Optimal solution found.\n"
     ]
    },
    {
     "name": "stderr",
     "output_type": "stream",
     "text": [
      "/usr/local/lib/python3.6/site-packages/ipykernel/__main__.py:20: DeprecationWarning: assignment will raise an error in the future, most likely because your index result shape does not match the value array shape. You can use `arr.flat[index] = values` to keep the old behaviour.\n",
      "/usr/local/lib/python3.6/site-packages/ipykernel/__main__.py:21: DeprecationWarning: assignment will raise an error in the future, most likely because your index result shape does not match the value array shape. You can use `arr.flat[index] = values` to keep the old behaviour.\n"
     ]
    }
   ],
   "source": [
    "num_cores = multiprocessing.cpu_count()\n",
    "\n",
    "def invert_one(val):\n",
    "    gamma.value = val\n",
    "    try:\n",
    "        prob.solve(verbose= True, #max_iters = 50,\n",
    "                   warm_start=True, solver = cvxpy.CVXOPT,\n",
    "                   feastol = 1e-6, reltol = 1e-5,\n",
    "                   abstol = 1e-6\n",
    "                  )\n",
    "\n",
    "    except cvxpy.SolverError:\n",
    "        return None\n",
    "\n",
    "    force = np.zeros_like(coords)\n",
    "    force[condition_inside,0] = sigma_xz.value.reshape((n_in,))\n",
    "    force[condition_inside,1] = sigma_yz.value.reshape((n_in,))\n",
    "\n",
    "    u_x = np.zeros(coords.shape[0])\n",
    "    u_x[condition_inside] = predicted_in.value\n",
    "    u_x[condition_outside] = predicted_out.value\n",
    "    #u_x_values.append(u_x)\n",
    "\n",
    "    return force, u_x, error.value, regularity_penalty.value, val\n",
    "\n",
    "\n",
    "results = Parallel(n_jobs=num_cores)(delayed(invert_one)(val) for val in gamma_vals)\n",
    "results = [res for res in results if res is not None]"
   ]
  },
  {
   "cell_type": "code",
   "execution_count": 5,
   "metadata": {
    "collapsed": false
   },
   "outputs": [
    {
     "data": {
      "text/plain": [
       "<matplotlib.text.Text at 0x109dd1cc0>"
      ]
     },
     "execution_count": 5,
     "metadata": {},
     "output_type": "execute_result"
    },
    {
     "data": {
      "image/png": "[encoded data removed]",
      "text/plain": [
       "<matplotlib.figure.Figure at 0x109cc56a0>"
      ]
     },
     "metadata": {},
     "output_type": "display_data"
    }
   ],
   "source": [
    "data_error = [res[2] for res in results if res is not None]\n",
    "reg_error = [res[3] for res in results if res is not None]\n",
    "lvals = [res[4] for res in results if res is not None]\n",
    "\n",
    "l_curve_distances = np.abs((reg_error[-1]-reg_error[0])*np.array(data_error) -  \\\n",
    "            (data_error[-1]-data_error[0])*np.array(reg_error)+data_error[-1]*reg_error[0]-reg_error[-1]*data_error[0])\n",
    "best = np.argsort(l_curve_distances)[-1]\n",
    "\n",
    "plt.plot( data_error, reg_error)\n",
    "plt.scatter(data_error[best],reg_error[best],s=100, facecolors='none', edgecolors='r')\n",
    "plt.scatter(data_error[0],reg_error[0],s=100, facecolors='none', edgecolors='g')\n",
    "plt.scatter(data_error[-1],reg_error[-1],s=100, facecolors='none', edgecolors='y')\n",
    "\n",
    "plt.xlabel(\"Mismatch\", fontsize=16)\n",
    "plt.ylabel(\"Regularity\", fontsize=16)\n",
    "plt.title('Trade-Off Curve', fontsize=16)\n",
    "plt.text(data_error[best],reg_error[best],lvals[best])"
   ]
  },
  {
   "cell_type": "code",
   "execution_count": 11,
   "metadata": {
    "collapsed": false
   },
   "outputs": [
    {
     "data": {
      "text/plain": [
       "<matplotlib.colorbar.Colorbar at 0x10a511a90>"
      ]
     },
     "execution_count": 11,
     "metadata": {},
     "output_type": "execute_result"
    },
    {
     "data": {
      "image/png": "[encoded data removed]",
      "text/plain": [
       "<matplotlib.figure.Figure at 0x106c740b8>"
      ]
     },
     "metadata": {},
     "output_type": "display_data"
    }
   ],
   "source": [
    "x_min = min(coords[boundary == 1, 0])\n",
    "x_max = max(coords[boundary == 1, 0])\n",
    "y_min = min(coords[boundary == 1, 1])\n",
    "y_max = max(coords[boundary == 1, 1])\n",
    "plt.subplot(121)\n",
    "plt.xlim((x_min - 20, x_max + 20))\n",
    "plt.ylim((y_min - 20, y_max + 20))\n",
    "Fx = results[best][0][:,0]\n",
    "Fy = results[best][0][:,1]\n",
    "maxmagnitude = np.max(np.abs(Fx))\n",
    "\n",
    "plt.pcolormesh(x_obs_positions,y_obs_positions,Fx.reshape((len(x_obs_positions),len(y_obs_positions))).transpose(),\n",
    "                           cmap='seismic_r',vmax = maxmagnitude*.75, vmin=-maxmagnitude*.75).axes.set_aspect('equal')\n",
    "plt.subplot(122)\n",
    "plt.xlim((x_min - 20, x_max + 20))\n",
    "plt.ylim((y_min - 20, y_max + 20))\n",
    "plt.pcolormesh(x_obs_positions,y_obs_positions,Fy.reshape((len(x_obs_positions),len(y_obs_positions))).transpose(),\n",
    "                           cmap='seismic_r',vmax = maxmagnitude*.75, vmin=-maxmagnitude*.75).axes.set_aspect('equal')\n",
    "plt.colorbar()"
   ]
  },
  {
   "cell_type": "code",
   "execution_count": 14,
   "metadata": {
    "collapsed": false
   },
   "outputs": [
    {
     "data": {
      "image/png": "[encoded data removed]",
      "text/plain": [
       "<matplotlib.figure.Figure at 0x10ea9dda0>"
      ]
     },
     "metadata": {},
     "output_type": "display_data"
    }
   ],
   "source": [
    "x_min = min(coords[boundary == 1, 0])\n",
    "x_max = max(coords[boundary == 1, 0])\n",
    "y_min = min(coords[boundary == 1, 1])\n",
    "y_max = max(coords[boundary == 1, 1])\n",
    "plt.subplot(121)\n",
    "plt.xlim((x_min - 20, x_max + 20))\n",
    "plt.ylim((y_min - 20, y_max + 20))\n",
    "Fx = results[0][0][:,0]\n",
    "Fy = results[0][0][:,1]\n",
    "maxmagnitude = np.max(np.abs(Fx))\n",
    "\n",
    "plt.pcolormesh(x_obs_positions,y_obs_positions,Fx.reshape((len(x_obs_positions),len(y_obs_positions))).transpose(),\n",
    "                           cmap='seismic_r',vmax = maxmagnitude*.75, vmin=-maxmagnitude*.75).axes.set_aspect('equal')\n",
    "plt.subplot(122)\n",
    "plt.xlim((x_min - 20, x_max + 20))\n",
    "plt.ylim((y_min - 20, y_max + 20))\n",
    "plt.pcolormesh(x_obs_positions,y_obs_positions,Fy.reshape((len(x_obs_positions),len(y_obs_positions))).transpose(),\n",
    "                           cmap='seismic_r',vmax = maxmagnitude*.75, vmin=-maxmagnitude*.75).axes.set_aspect('equal')\n",
    "#plt.colorbar()"
   ]
  },
  {
   "cell_type": "code",
   "execution_count": 16,
   "metadata": {
    "collapsed": false,
    "scrolled": true
   },
   "outputs": [
    {
     "data": {
      "text/plain": [
       "<matplotlib.colorbar.Colorbar at 0x10b972320>"
      ]
     },
     "execution_count": 16,
     "metadata": {},
     "output_type": "execute_result"
    },
    {
     "data": {
      "image/png": "[encoded data removed]",
      "text/plain": [
       "<matplotlib.figure.Figure at 0x109c198d0>"
      ]
     },
     "metadata": {},
     "output_type": "display_data"
    }
   ],
   "source": [
    "x_min = min(coords[boundary == 1, 0])\n",
    "x_max = max(coords[boundary == 1, 0])\n",
    "y_min = min(coords[boundary == 1, 1])\n",
    "y_max = max(coords[boundary == 1, 1])\n",
    "plt.subplot(121)\n",
    "plt.xlim((x_min - 20, x_max + 20))\n",
    "plt.ylim((y_min - 20, y_max + 20))\n",
    "Fx = results[-1][0][:,0]\n",
    "Fy = results[-1][0][:,1]\n",
    "maxmagnitude = np.max(np.abs(Fx))\n",
    "\n",
    "plt.pcolormesh(x_obs_positions,y_obs_positions,Fx.reshape((len(x_obs_positions),len(y_obs_positions))).transpose(),\n",
    "                           cmap='seismic_r',vmax = maxmagnitude*.75, vmin=-maxmagnitude*.75).axes.set_aspect('equal')\n",
    "plt.subplot(122)\n",
    "plt.xlim((x_min - 20, x_max + 20))\n",
    "plt.ylim((y_min - 20, y_max + 20))\n",
    "plt.pcolormesh(x_obs_positions,y_obs_positions,Fy.reshape((len(x_obs_positions),len(y_obs_positions))).transpose(),\n",
    "                           cmap='seismic_r',vmax = maxmagnitude*.75, vmin=-maxmagnitude*.75).axes.set_aspect('equal')\n",
    "plt.colorbar(orientation='horizontal')"
   ]
  },
  {
   "cell_type": "code",
   "execution_count": 9,
   "metadata": {
    "collapsed": true
   },
   "outputs": [],
   "source": [
    "import pickle\n",
    "import gzip\n",
    "\n",
    "with gzip.open('results/isotropic_L1_results.gz','wb') as f:\n",
    "    pickle.dump(results + [[x_obs_positions,y_obs_positions]] ,f)\n",
    "    \n"
   ]
  },
  {
   "cell_type": "code",
   "execution_count": 10,
   "metadata": {
    "collapsed": false
   },
   "outputs": [
    {
     "data": {
      "text/plain": [
       "24"
      ]
     },
     "execution_count": 10,
     "metadata": {},
     "output_type": "execute_result"
    }
   ],
   "source": [
    "len(results)"
   ]
  },
  {
   "cell_type": "code",
   "execution_count": null,
   "metadata": {
    "collapsed": true
   },
   "outputs": [],
   "source": []
  }
 ],
 "metadata": {
  "kernelspec": {
   "display_name": "Python 3",
   "language": "python",
   "name": "python3"
  },
  "language_info": {
   "codemirror_mode": {
    "name": "ipython",
    "version": 3
   },
   "file_extension": ".py",
   "mimetype": "text/x-python",
   "name": "python",
   "nbconvert_exporter": "python",
   "pygments_lexer": "ipython3",
   "version": "3.6.0"
  }
 },
 "nbformat": 4,
 "nbformat_minor": 0
}
