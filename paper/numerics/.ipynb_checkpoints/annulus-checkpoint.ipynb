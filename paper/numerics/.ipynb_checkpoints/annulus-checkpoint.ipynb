{
 "cells": [
  {
   "cell_type": "markdown",
   "metadata": {},
   "source": [
    "# Load libraries and set the coordinate system"
   ]
  },
  {
   "cell_type": "code",
   "execution_count": 1,
   "metadata": {
    "collapsed": false
   },
   "outputs": [
    {
     "name": "stdout",
     "output_type": "stream",
     "text": [
      "Populating the interactive namespace from numpy and matplotlib\n"
     ]
    }
   ],
   "source": [
    "%pylab inline\n",
    "\n",
    "import numpy as np\n",
    "import cvxpy\n",
    "from cvxpy import Variable, Minimize, sum_squares, norm, Problem, Parameter, mul_elemwise, sum_entries, Constant\n",
    "from scipy import sparse\n",
    "import sys, argparse\n",
    "from scipy import ndimage\n",
    "import matplotlib.pyplot as plt\n",
    "from matplotlib.backends.backend_pdf import PdfPages\n",
    "import sys\n",
    "\n",
    "sys.path.append('../../')\n",
    "from tractionforce.elasticity import *\n",
    "import gc\n",
    "from tractionforce.norms import *\n",
    "from tractionforce.problem import *\n",
    "\n",
    "from joblib import Parallel, delayed\n",
    "import multiprocessing\n",
    "\n",
    "\"\"\"\n",
    "Set up the domain and the grid\n",
    "\"\"\"\n",
    "\n",
    "x_obs_positions = np.arange(50)\n",
    "y_obs_positions = np.arange(50)\n",
    "\n",
    "dx = abs(x_obs_positions[1]-x_obs_positions[0])\n",
    "dy = abs(y_obs_positions[1]-y_obs_positions[0])\n",
    "\n",
    "N = len(x_obs_positions)\n",
    "M = len(y_obs_positions)\n",
    "\n",
    "coords = [[ [x,y] for y in y_obs_positions] for x in x_obs_positions]\n",
    "coords = np.array([item for sublist in coords for item in sublist])\n",
    "distances = ((coords[:,0]-25)**2 + (coords[:,1]-25)**2)**0.5\n",
    "angles = np.arctan2(coords[:,1]-25,coords[:,0]-25)\n",
    "\n",
    "a = 10\n",
    "b = 13 # stress support\n",
    "c = 15 # cell boundary\n",
    "\n",
    "def latex_float(f):\n",
    "    float_str = \"{0:.2g}\".format(f)\n",
    "    if \"e\" in float_str:\n",
    "        base, exponent = float_str.split(\"e\")\n",
    "        return r\"{0} \\times 10^{{{1}}}\".format(base, int(exponent))\n",
    "    else:\n",
    "        return float_str"
   ]
  },
  {
   "cell_type": "markdown",
   "metadata": {},
   "source": [
    "# Generate the stress field"
   ]
  },
  {
   "cell_type": "code",
   "execution_count": 2,
   "metadata": {
    "collapsed": false
   },
   "outputs": [
    {
     "data": {
      "image/png": "[encoded data removed]",
      "text/plain": [
       "<matplotlib.figure.Figure at 0x10f81f470>"
      ]
     },
     "metadata": {},
     "output_type": "display_data"
    }
   ],
   "source": [
    "CUTOFF  = 20\n",
    "\n",
    "fr = 1e-4\n",
    "ftheta = 1e-4\n",
    "\n",
    "m = 3\n",
    "n = 5\n",
    "\n",
    "condition_outside = (distances > c) * (distances < c + CUTOFF)\n",
    "condition_inside = distances <=c\n",
    "\n",
    "stress_r = 0 + (distances>=a) * (distances<=b) * fr * np.sin(m*angles)\n",
    "stress_theta = 0 + (distances>=a) * (distances<=b) * ftheta * np.cos(n*angles)\n",
    "\n",
    "stress_x = stress_r*cos(angles) -stress_theta*sin(angles)\n",
    "stress_y = stress_r*sin(angles) + stress_theta*cos(angles)\n",
    "\n",
    "s_x = stress_x[condition_inside]\n",
    "s_y = stress_y[condition_inside]\n",
    "\n",
    "# build the stress field\n",
    "\n",
    "x_out = np.array(coords[condition_outside,0]/dx,dtype=int)\n",
    "y_out = np.array(coords[condition_outside,1]/dy,dtype=int)\n",
    "\n",
    "x_in = np.array(coords[condition_inside,0]/dx,dtype=int)\n",
    "y_in = np.array(coords[condition_inside,1]/dy,dtype=int)\n",
    "\n",
    "plt.subplot(121)\n",
    "plt.pcolormesh(x_obs_positions,y_obs_positions,stress_x.reshape((50,50)).transpose(),\n",
    "                           cmap='seismic_r',vmax = 1e-4, vmin=-1e-4).axes.set_aspect('equal')\n",
    "plt.subplot(122)\n",
    "plt.pcolormesh(x_obs_positions,y_obs_positions,stress_y.reshape((50,50)).transpose(),\n",
    "                           cmap='seismic_r',vmax = 1e-4, vmin=-1e-4).axes.set_aspect('equal')"
   ]
  },
  {
   "cell_type": "code",
   "execution_count": 3,
   "metadata": {
    "collapsed": false
   },
   "outputs": [
    {
     "data": {
      "text/plain": [
       "-5.4210108624275222e-20"
      ]
     },
     "execution_count": 3,
     "metadata": {},
     "output_type": "execute_result"
    }
   ],
   "source": [
    "sum(stress_x)"
   ]
  },
  {
   "cell_type": "code",
   "execution_count": 4,
   "metadata": {
    "collapsed": false
   },
   "outputs": [
    {
     "data": {
      "text/plain": [
       "-5.2041704279304213e-18"
      ]
     },
     "execution_count": 4,
     "metadata": {},
     "output_type": "execute_result"
    }
   ],
   "source": [
    "sum((coords[:,0]-25)*stress_y - (coords[:,1]-25)*stress_x)"
   ]
  },
  {
   "cell_type": "markdown",
   "metadata": {},
   "source": [
    "# Generate linear system matrices"
   ]
  },
  {
   "cell_type": "code",
   "execution_count": 5,
   "metadata": {
    "collapsed": false
   },
   "outputs": [
    {
     "name": "stdout",
     "output_type": "stream",
     "text": [
      "Size of the problem is 2499\n"
     ]
    },
    {
     "name": "stderr",
     "output_type": "stream",
     "text": [
      "/usr/local/lib/python3.6/site-packages/scipy/sparse/compressed.py:730: SparseEfficiencyWarning: Changing the sparsity structure of a csr_matrix is expensive. lil_matrix is more efficient.\n",
      "  SparseEfficiencyWarning)\n"
     ]
    }
   ],
   "source": [
    "G_in_in_xx, G_in_in_xy, G_out_in_xx, G_out_in_xy, G_in_in_yy, G_in_in_yx, G_out_in_yy, G_out_in_yx, Dx, Dy = gen_matrices(x_in,y_in,x_out,y_out,dx,dy,loworder = False)"
   ]
  },
  {
   "cell_type": "code",
   "execution_count": 6,
   "metadata": {
    "collapsed": false
   },
   "outputs": [],
   "source": [
    "# Generate the measured dispalcements\n",
    "\n",
    "u_in_x = G_in_in_xx.dot(s_x) + G_in_in_xy.dot(s_y)\n",
    "u_out_x = G_out_in_xx.dot(s_x) + G_out_in_xy.dot(s_y)\n",
    "\n",
    "u_in_y = G_in_in_yx.dot(s_x) + G_in_in_yy.dot(s_y)\n",
    "u_out_y = G_out_in_yx.dot(s_x)  + G_out_in_yy.dot(s_y)\n",
    "\n",
    "u_x = np.zeros(coords.shape[0])\n",
    "u_x[condition_inside] = u_in_x\n",
    "u_x[condition_outside] = u_out_x\n",
    "\n",
    "u_y = np.zeros(coords.shape[0])\n",
    "u_y[condition_inside] = u_in_y\n",
    "u_y[condition_outside] = u_out_y\n"
   ]
  },
  {
   "cell_type": "code",
   "execution_count": 7,
   "metadata": {
    "collapsed": false
   },
   "outputs": [],
   "source": [
    "N_SOLUTIONS = 24\n",
    "gamma_vals = np.logspace(-5, 0, N_SOLUTIONS)\n",
    "\n",
    "\n",
    "# Coords are 1:100 in each direction\n",
    "# annulus centered\n",
    "# inner radius 20\n",
    "# outer radius 30\n",
    "# boundary radius 35\n",
    "\n",
    "gamma = Parameter(sign=\"positive\",value=1)\n",
    "\n",
    "n_in = len(x_in)\n",
    "x_center = np.mean(x_in)\n",
    "y_center = np.mean(y_in)\n",
    "\n",
    "sigma_xz = Variable(n_in)\n",
    "sigma_yz = Variable(n_in)\n",
    "predicted_in_x = G_in_in_xx * sigma_xz + G_in_in_xy * sigma_yz\n",
    "predicted_out_x = G_out_in_xx * sigma_xz + G_out_in_xy * sigma_yz\n",
    "predicted_in_y = G_in_in_yx * sigma_xz + G_in_in_yy * sigma_yz\n",
    "predicted_out_y = G_out_in_yx * sigma_xz + G_out_in_yy * sigma_yz\n",
    "\n",
    "\n",
    "error = sum_squares(u_in_x - predicted_in_x) + sum_squares(u_out_x - predicted_out_x) + \\\n",
    "    sum_squares(u_in_y - predicted_in_y) + sum_squares(u_out_y - predicted_out_y)\n",
    "\n",
    "forceconstraints = [sum_entries(sigma_xz)==0, sum_entries(sigma_yz)==0] # add torque-free constraint here\n",
    "net_torque = sum_entries(mul_elemwise(x_in-x_center,sigma_yz) - mul_elemwise(y_in-y_center,sigma_xz))\n",
    "\n",
    "torqueconstraints = [net_torque == 0]\n",
    "\n",
    "constraints = forceconstraints + torqueconstraints\n",
    "#constraints = []"
   ]
  },
  {
   "cell_type": "code",
   "execution_count": 8,
   "metadata": {
    "collapsed": true
   },
   "outputs": [],
   "source": [
    "regularity_penalty = norm(sigma_xz+sigma_yz,p=1)\n",
    "objective = Minimize(error + gamma*regularity_penalty)\n",
    "prob = Problem(objective, constraints)\n",
    "\n",
    "sq_penalty = []\n",
    "l1_penalty = []\n",
    "sigma_xz_values = []\n",
    "sigma_yz_values = []\n",
    "\n",
    "u_x_values = []\n",
    "u_y_values = []"
   ]
  },
  {
   "cell_type": "code",
   "execution_count": 9,
   "metadata": {
    "collapsed": false
   },
   "outputs": [],
   "source": [
    "num_cores = multiprocessing.cpu_count() - 4\n",
    "\n",
    "def invert_one(val):\n",
    "    gamma.value = val\n",
    "    try:\n",
    "        prob.solve(verbose= True, max_iters = 50,\n",
    "                   warm_start=True, solver = cvxpy.CVXOPT,\n",
    "                   feastol = 1e-6, reltol = 1e-5,\n",
    "                   abstol = 1e-6)\n",
    "\n",
    "    except cvxpy.SolverError:\n",
    "        return None\n",
    "\n",
    "    sq_penalty.append(error.value)\n",
    "    l1_penalty.append(regularity_penalty.value)\n",
    "    sigma_xz_values.append(sigma_xz.value)\n",
    "    sigma_yz_values.append(sigma_yz.value)\n",
    "\n",
    "    s_x = np.zeros(coords.shape[0])\n",
    "    s_y = np.zeros(coords.shape[0])\n",
    "    \n",
    "    s_x[condition_inside] = sigma_xz.value.reshape((n_in,))\n",
    "    s_y[condition_inside] = sigma_yz.value.reshape((n_in,))\n",
    "\n",
    "    u_x = np.zeros(coords.shape[0])\n",
    "    u_y = np.zeros(coords.shape[0])\n",
    "    u_x[condition_inside] = predicted_in_x.value\n",
    "    u_x[condition_outside] = predicted_out_x.value\n",
    "    u_y[condition_inside] = predicted_in_y.value\n",
    "    u_y[condition_outside] = predicted_out_y.value\n",
    "\n",
    "    return np.array([s_x, s_y]).T, np.array([u_x, u_y]).T, error.value, regularity_penalty.value, val\n",
    "\n",
    "\n",
    "#results = Parallel(n_jobs=num_cores)(delayed(invert_one)(val) for val in gamma_vals)\n"
   ]
  },
  {
   "cell_type": "code",
   "execution_count": 10,
   "metadata": {
    "collapsed": false
   },
   "outputs": [
    {
     "name": "stdout",
     "output_type": "stream",
     "text": [
      "     pcost       dcost       gap    pres   dres   k/t\n",
      " 0:  0.0000e+00 -4.0000e+00  2e+03  1e+01  2e+00  1e+00\n",
      " 1: -6.0249e+00 -3.8936e+00  2e+02  2e+00  3e-01  3e+00\n",
      " 2: -4.0894e-01 -1.6705e-01  1e+00  2e-02  4e-03  3e-01\n",
      " 3: -4.6139e-03 -1.8680e-03  1e-02  3e-04  4e-05  3e-03\n",
      " 4: -3.0616e-05 -1.4679e-08  1e-04  3e-06  5e-07  3e-05\n",
      " 5:  2.0566e-05  2.0883e-05  1e-06  3e-08  5e-09  3e-07\n",
      " 6:  2.1097e-05  2.1100e-05  1e-08  3e-10  5e-11  3e-09\n",
      "Optimal solution found.\n"
     ]
    },
    {
     "name": "stderr",
     "output_type": "stream",
     "text": [
      "/usr/local/lib/python3.6/site-packages/ipykernel/__main__.py:22: DeprecationWarning: assignment will raise an error in the future, most likely because your index result shape does not match the value array shape. You can use `arr.flat[index] = values` to keep the old behaviour.\n",
      "/usr/local/lib/python3.6/site-packages/ipykernel/__main__.py:23: DeprecationWarning: assignment will raise an error in the future, most likely because your index result shape does not match the value array shape. You can use `arr.flat[index] = values` to keep the old behaviour.\n",
      "/usr/local/lib/python3.6/site-packages/ipykernel/__main__.py:27: DeprecationWarning: assignment will raise an error in the future, most likely because your index result shape does not match the value array shape. You can use `arr.flat[index] = values` to keep the old behaviour.\n",
      "/usr/local/lib/python3.6/site-packages/ipykernel/__main__.py:28: DeprecationWarning: assignment will raise an error in the future, most likely because your index result shape does not match the value array shape. You can use `arr.flat[index] = values` to keep the old behaviour.\n",
      "/usr/local/lib/python3.6/site-packages/ipykernel/__main__.py:29: DeprecationWarning: assignment will raise an error in the future, most likely because your index result shape does not match the value array shape. You can use `arr.flat[index] = values` to keep the old behaviour.\n",
      "/usr/local/lib/python3.6/site-packages/ipykernel/__main__.py:30: DeprecationWarning: assignment will raise an error in the future, most likely because your index result shape does not match the value array shape. You can use `arr.flat[index] = values` to keep the old behaviour.\n"
     ]
    }
   ],
   "source": [
    "force, u, err, reg, val = invert_one(gamma_vals[-1])"
   ]
  },
  {
   "cell_type": "code",
   "execution_count": 11,
   "metadata": {
    "collapsed": false
   },
   "outputs": [
    {
     "data": {
      "image/png": "[encoded data removed]",
      "text/plain": [
       "<matplotlib.figure.Figure at 0x163225400>"
      ]
     },
     "metadata": {},
     "output_type": "display_data"
    }
   ],
   "source": [
    "maxval = np.max(np.abs(force))\n",
    "\n",
    "plt.subplot(121)\n",
    "plt.pcolormesh(x_obs_positions,y_obs_positions,stress_x.reshape((50,50)).transpose(),\n",
    "                           cmap='seismic_r',vmin=-maxval,vmax=maxval).axes.set_aspect('equal')\n",
    "\n",
    "plt.subplot(122)\n",
    "plt.pcolormesh(x_obs_positions,y_obs_positions,force[:,0].reshape((50,50)).transpose(),\n",
    "                           cmap='seismic_r',vmin=-maxval,vmax=maxval).axes.set_aspect('equal')\n",
    "#plt.colorbar()"
   ]
  },
  {
   "cell_type": "code",
   "execution_count": 12,
   "metadata": {
    "collapsed": false
   },
   "outputs": [
    {
     "data": {
      "image/png": "[encoded data removed]",
      "text/plain": [
       "<matplotlib.figure.Figure at 0x162e58518>"
      ]
     },
     "metadata": {},
     "output_type": "display_data"
    }
   ],
   "source": [
    "plt.subplot(121)\n",
    "\n",
    "maxval = np.max(np.abs(stress_y))\n",
    "plt.pcolormesh(x_obs_positions,y_obs_positions,stress_y.reshape((50,50)).transpose(),\n",
    "                           cmap='seismic_r',vmin=-maxval, vmax=maxval).axes.set_aspect('equal')\n",
    "\n",
    "plt.subplot(122)\n",
    "plt.pcolormesh(x_obs_positions,y_obs_positions,force[:,1].reshape((50,50)).transpose(),\n",
    "                           cmap='seismic_r',vmin=-maxval, vmax=maxval).axes.set_aspect('equal')\n",
    "#plt.colorbar()"
   ]
  },
  {
   "cell_type": "code",
   "execution_count": 17,
   "metadata": {
    "collapsed": false
   },
   "outputs": [
    {
     "data": {
      "image/png": "[encoded data removed]",
      "text/plain": [
       "<matplotlib.figure.Figure at 0x112f89240>"
      ]
     },
     "metadata": {},
     "output_type": "display_data"
    }
   ],
   "source": [
    "maxval = np.max(np.abs(u_x))\n",
    "\n",
    "plt.subplot(121)\n",
    "plt.pcolormesh(x_obs_positions,y_obs_positions,u_x.reshape((50,50)).transpose(),\n",
    "                           cmap='seismic_r',vmin=-maxval, vmax=maxval).axes.set_aspect('equal')\n",
    "plt.subplot(122)\n",
    "plt.pcolormesh(x_obs_positions,y_obs_positions,u[:,0].reshape((50,50)).transpose(),\n",
    "                           cmap='seismic_r',vmin=-maxval, vmax=maxval).axes.set_aspect('equal')\n",
    "#plt.colorbar()"
   ]
  },
  {
   "cell_type": "code",
   "execution_count": 16,
   "metadata": {
    "collapsed": false
   },
   "outputs": [
    {
     "data": {
      "image/png": "[encoded data removed]",
      "text/plain": [
       "<matplotlib.figure.Figure at 0x112f0ae48>"
      ]
     },
     "metadata": {},
     "output_type": "display_data"
    }
   ],
   "source": [
    "maxval = np.max(np.abs(u_y))\n",
    "\n",
    "plt.subplot(121)\n",
    "plt.pcolormesh(x_obs_positions,y_obs_positions,u_y.reshape((50,50)).transpose(),\n",
    "                           cmap='seismic_r',vmin=-maxval, vmax=maxval).axes.set_aspect('equal')\n",
    "plt.subplot(122)\n",
    "plt.pcolormesh(x_obs_positions,y_obs_positions,u[:,1].reshape((50,50)).transpose(),\n",
    "                           cmap='seismic_r',vmin=-maxval, vmax=maxval).axes.set_aspect('equal')\n",
    "#plt.colorbar()"
   ]
  },
  {
   "cell_type": "code",
   "execution_count": 18,
   "metadata": {
    "collapsed": false
   },
   "outputs": [
    {
     "data": {
      "text/plain": [
       "-0.00020572466622414921"
      ]
     },
     "execution_count": 18,
     "metadata": {},
     "output_type": "execute_result"
    }
   ],
   "source": [
    "sum(u)"
   ]
  },
  {
   "cell_type": "code",
   "execution_count": null,
   "metadata": {
    "collapsed": true
   },
   "outputs": [],
   "source": []
  }
 ],
 "metadata": {
  "kernelspec": {
   "display_name": "Python 3",
   "language": "python",
   "name": "python3"
  },
  "language_info": {
   "codemirror_mode": {
    "name": "ipython",
    "version": 3
   },
   "file_extension": ".py",
   "mimetype": "text/x-python",
   "name": "python",
   "nbconvert_exporter": "python",
   "pygments_lexer": "ipython3",
   "version": "3.6.0"
  }
 },
 "nbformat": 4,
 "nbformat_minor": 2
}
