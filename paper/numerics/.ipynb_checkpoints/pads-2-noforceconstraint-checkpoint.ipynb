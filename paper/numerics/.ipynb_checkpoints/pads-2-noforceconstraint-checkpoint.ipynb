{
 "cells": [
  {
   "cell_type": "markdown",
   "metadata": {},
   "source": [
    "# Load libraries and set the coordinate system"
   ]
  },
  {
   "cell_type": "code",
   "execution_count": 1,
   "metadata": {
    "collapsed": false
   },
   "outputs": [
    {
     "name": "stdout",
     "output_type": "stream",
     "text": [
      "Populating the interactive namespace from numpy and matplotlib\n"
     ]
    }
   ],
   "source": [
    "%pylab inline\n",
    "\n",
    "import numpy as np\n",
    "import cvxpy\n",
    "from cvxpy import Variable, Minimize, sum_squares, norm, Problem, Parameter, mul_elemwise, sum_entries, Constant\n",
    "from scipy import sparse\n",
    "import sys, argparse\n",
    "from scipy import ndimage\n",
    "import matplotlib\n",
    "from mpl_toolkits.axes_grid.anchored_artists import AnchoredText\n",
    "\n",
    "matplotlib.rcParams['text.usetex'] = True\n",
    "matplotlib.rcParams['text.latex.unicode'] = True\n",
    "import matplotlib.gridspec as gridspec\n",
    "\n",
    "from PIL import Image\n",
    "\n",
    "sys.path.append('../../')\n",
    "from tractionforce.elasticity import *\n",
    "import gc\n",
    "from tractionforce.norms import *\n",
    "from tractionforce.problem import *\n",
    "\n",
    "from joblib import Parallel, delayed\n",
    "import multiprocessing\n",
    "\n",
    "\"\"\"\n",
    "Set up the domain and the grid\n",
    "\"\"\"\n",
    "\n",
    "im = Image.open('padmask.tif')\n",
    "imarray = np.flip(np.array(im),0)\n",
    "\n",
    "N = 160\n",
    "M = 120\n",
    "\n",
    "#N = 640\n",
    "#M = 480\n",
    "\n",
    "x_forward_positions = np.arange(N)\n",
    "y_forward_positions = np.arange(M)\n",
    "\n",
    "dx = abs(x_forward_positions[1]-x_forward_positions[0])\n",
    "dy = abs(y_forward_positions[1]-y_forward_positions[0])\n",
    "\n",
    "forward_coords = [[ [x,y] for x in x_forward_positions] for y in y_forward_positions] \n",
    "forward_coords = np.array([item for sublist in forward_coords for item in sublist])\n",
    "\n",
    "scaling = 25\n",
    "\n",
    "\n",
    "r1 = 1.0/5*scaling\n",
    "r2 = 1.0/6*scaling\n",
    "r3 = 1.0/8*scaling\n",
    "r4 = 1.0/4*scaling\n",
    "\n",
    "c1 = np.array((-1,-1/2.))\n",
    "c2 = np.array((0,-1))\n",
    "c3 = np.array((2,1))\n",
    "c4 = np.array((0,1))\n",
    "\n",
    "\n",
    "\n",
    "d1 = ((forward_coords[:,0]-N/2.-c1[0]*scaling)**2 + (forward_coords[:,1]-M/2-c1[1]*scaling)**2)**0.5 # already up-scaled\n",
    "d2 = ((forward_coords[:,0]-N/2.-c2[0]*scaling)**2 + (forward_coords[:,1]-M/2-c2[1]*scaling)**2)**0.5\n",
    "d3 = ((forward_coords[:,0]-N/2.-c3[0]*scaling)**2 + (forward_coords[:,1]-M/2-c3[1]*scaling)**2)**0.5\n",
    "d4 = ((forward_coords[:,0]-N/2.-c4[0]*scaling)**2 + (forward_coords[:,1]-M/2-c4[1]*scaling)**2)**0.5\n",
    "\n",
    "A1 = np.pi * r1**2\n",
    "A2 = np.pi * r2**2\n",
    "A3 = np.pi * r3**2\n",
    "A4 = np.pi * r4**2\n",
    "\n",
    "\n",
    "\n",
    "def latex_float(f):\n",
    "    float_str = \"{0:.2g}\".format(f)\n",
    "    if \"e\" in float_str:\n",
    "        base, exponent = float_str.split(\"e\")\n",
    "        return r\"{0} \\times 10^{{{1}}}\".format(base, int(exponent))\n",
    "    else:\n",
    "        return float_str"
   ]
  },
  {
   "cell_type": "markdown",
   "metadata": {},
   "source": [
    "# Generate the stress field"
   ]
  },
  {
   "cell_type": "code",
   "execution_count": 2,
   "metadata": {
    "collapsed": false
   },
   "outputs": [
    {
     "data": {
      "image/png": "[encoded data removed]",
      "text/plain": [
       "<matplotlib.figure.Figure at 0x109d31c18>"
      ]
     },
     "metadata": {},
     "output_type": "display_data"
    }
   ],
   "source": [
    "_FORWARD_CUT_OFF = 50\n",
    "_CUTOFF  = 16\n",
    "\n",
    "\n",
    "a12 = 1e-4\n",
    "a23 = 2e-4\n",
    "g4 = 9e-5\n",
    "\n",
    "G4 = g4*pi*(r4)**2/3.\n",
    "\n",
    "s1_x = a12\n",
    "s1_y = -a12/2.\n",
    "\n",
    "s2_x = -a12*A1/A2 + a23\n",
    "s2_y = G4/A2+a12*A1/A2/2. + a23\n",
    "\n",
    "s3_x = -G4/A3 - a23*A2/A3\n",
    "s3_y = -a23*A2/A3\n",
    "\n",
    "\n",
    "in_1 = d1<=r1 \n",
    "in_2 = d2<=r2 \n",
    "in_3 = d3<=r3 \n",
    "in_4 = d4<=r4 \n",
    "\n",
    "stress_x = np.zeros(forward_coords.shape[0])\n",
    "stress_y = np.zeros(forward_coords.shape[0])\n",
    "\n",
    "stress_x[in_1] = s1_x * A1/sum(in_1)\n",
    "stress_y[in_1] = s1_y * A1/sum(in_1)\n",
    "\n",
    "\n",
    "stress_x[in_2] = s2_x * A2/sum(in_2)\n",
    "stress_y[in_2] = s2_y * A2/sum(in_2)\n",
    "\n",
    "stress_x[in_3] = s3_x * A3/sum(in_3)\n",
    "stress_y[in_3] = s3_y * A3/sum(in_3)\n",
    "\n",
    "stress_x[in_4] = g4*(1-d4[in_4]/r4)\n",
    "stress_y[in_4] = -g4*(1-d4[in_4]/r4)\n",
    "\n",
    "stress_x[in_4] *= G4/sum(stress_x[in_4])\n",
    "stress_y[in_4] *= -G4/sum(stress_y[in_4])\n",
    "\n",
    "# add the cone for region 4\n",
    "\n",
    "max_s = np.max(np.abs(stress_x))\n",
    "\n",
    "fig = plt.figure(figsize=(10,6))\n",
    "plt.subplot(121)\n",
    "plt.pcolormesh(x_forward_positions,y_forward_positions,imarray==0,\n",
    "                           cmap='gray').axes.set_aspect('equal')\n",
    "plt.pcolormesh(x_forward_positions,y_forward_positions,stress_x.reshape((M,N)),\n",
    "                           cmap='seismic_r',vmin=-max_s,vmax=max_s,alpha=0.9).axes.set_aspect('equal')\n",
    "plt.subplot(122)\n",
    "plt.pcolormesh(x_forward_positions,y_forward_positions,imarray==0,\n",
    "                           cmap='gray').axes.set_aspect('equal')\n",
    "plt.pcolormesh(x_forward_positions,y_forward_positions,stress_y.reshape((M,N)),\n",
    "                           cmap='seismic_r',vmin=-max_s,vmax=max_s,alpha=0.9).axes.set_aspect('equal')\n",
    "\n"
   ]
  },
  {
   "cell_type": "code",
   "execution_count": 3,
   "metadata": {
    "collapsed": false,
    "scrolled": true
   },
   "outputs": [
    {
     "name": "stdout",
     "output_type": "stream",
     "text": [
      "Total torque: -5.55111512313e-17\n",
      "Total force-x: 1.73472347598e-18\n",
      "Total force-y: 1.73472347598e-18\n"
     ]
    }
   ],
   "source": [
    "print(\"Total torque: \" + str(sum((forward_coords[:,0]-N/2)*stress_y - (forward_coords[:,1]-M/2)*stress_x)))\n",
    "print(\"Total force-x: \" + str(sum(stress_x)))\n",
    "print(\"Total force-y: \" + str(sum(stress_y)))"
   ]
  },
  {
   "cell_type": "code",
   "execution_count": 4,
   "metadata": {
    "collapsed": true
   },
   "outputs": [],
   "source": [
    "mask = imarray == 0\n",
    "\n",
    "distances2d = -ndimage.distance_transform_edt(mask) + ndimage.distance_transform_edt(1 - mask)\n",
    "distances2d = distances2d.flatten()\n",
    "\n",
    "\n",
    "\n",
    "condition_inside = distances2d<=0\n",
    "condition_outside = (distances2d>0) * (distances2d<=_FORWARD_CUT_OFF)\n",
    "\n",
    "\n"
   ]
  },
  {
   "cell_type": "markdown",
   "metadata": {},
   "source": [
    "# Solve the forward problem over the specified subdomain"
   ]
  },
  {
   "cell_type": "code",
   "execution_count": 5,
   "metadata": {
    "collapsed": false
   },
   "outputs": [
    {
     "name": "stdout",
     "output_type": "stream",
     "text": [
      "Size of the problem is 17696\n"
     ]
    },
    {
     "ename": "KeyboardInterrupt",
     "evalue": "",
     "output_type": "error",
     "traceback": [
      "\u001b[0;31m---------------------------------------------------------------------------\u001b[0m",
      "\u001b[0;31mKeyboardInterrupt\u001b[0m                         Traceback (most recent call last)",
      "\u001b[0;32m<ipython-input-5-39468ce5ea2b>\u001b[0m in \u001b[0;36m<module>\u001b[0;34m()\u001b[0m\n\u001b[1;32m      8\u001b[0m \u001b[0my_center\u001b[0m \u001b[0;34m=\u001b[0m \u001b[0mnp\u001b[0m\u001b[0;34m.\u001b[0m\u001b[0mmean\u001b[0m\u001b[0;34m(\u001b[0m\u001b[0my_in\u001b[0m\u001b[0;34m)\u001b[0m\u001b[0;34m\u001b[0m\u001b[0m\n\u001b[1;32m      9\u001b[0m \u001b[0;34m\u001b[0m\u001b[0m\n\u001b[0;32m---> 10\u001b[0;31m \u001b[0mG_in_in_xx\u001b[0m\u001b[0;34m,\u001b[0m \u001b[0mG_in_in_xy\u001b[0m\u001b[0;34m,\u001b[0m \u001b[0mG_out_in_xx\u001b[0m\u001b[0;34m,\u001b[0m \u001b[0mG_out_in_xy\u001b[0m\u001b[0;34m,\u001b[0m \u001b[0mG_in_in_yy\u001b[0m\u001b[0;34m,\u001b[0m \u001b[0mG_in_in_yx\u001b[0m\u001b[0;34m,\u001b[0m \u001b[0mG_out_in_yy\u001b[0m\u001b[0;34m,\u001b[0m \u001b[0mG_out_in_yx\u001b[0m\u001b[0;34m,\u001b[0m \u001b[0mDx\u001b[0m\u001b[0;34m,\u001b[0m \u001b[0mDy\u001b[0m \u001b[0;34m=\u001b[0m \u001b[0mgen_matrices\u001b[0m\u001b[0;34m(\u001b[0m\u001b[0mx_in\u001b[0m\u001b[0;34m,\u001b[0m\u001b[0my_in\u001b[0m\u001b[0;34m,\u001b[0m\u001b[0mx_out\u001b[0m\u001b[0;34m,\u001b[0m\u001b[0my_out\u001b[0m\u001b[0;34m,\u001b[0m\u001b[0mdx\u001b[0m\u001b[0;34m,\u001b[0m\u001b[0mdy\u001b[0m\u001b[0;34m,\u001b[0m\u001b[0mloworder\u001b[0m \u001b[0;34m=\u001b[0m \u001b[0;32mTrue\u001b[0m\u001b[0;34m)\u001b[0m\u001b[0;34m\u001b[0m\u001b[0m\n\u001b[0m",
      "\u001b[0;32m/Users/joshchang/workspace/tractionforce/tractionforce/problem.py\u001b[0m in \u001b[0;36mgen_matrices\u001b[0;34m(x_in, y_in, x_out, y_out, dx, dy, loworder)\u001b[0m\n\u001b[1;32m     51\u001b[0m     \u001b[0mA_out_in_x\u001b[0m \u001b[0;34m=\u001b[0m \u001b[0mfxx\u001b[0m\u001b[0;34m(\u001b[0m\u001b[0mdeltax_out_in\u001b[0m \u001b[0;34m*\u001b[0m \u001b[0mdx\u001b[0m \u001b[0;34m-\u001b[0m \u001b[0mdx\u001b[0m \u001b[0;34m/\u001b[0m \u001b[0;36m2.\u001b[0m\u001b[0;34m,\u001b[0m \u001b[0mdeltay_out_in\u001b[0m \u001b[0;34m*\u001b[0m \u001b[0mdy\u001b[0m \u001b[0;34m-\u001b[0m \u001b[0mdy\u001b[0m \u001b[0;34m/\u001b[0m \u001b[0;36m2.0\u001b[0m\u001b[0;34m,\u001b[0m \u001b[0ml2_out_plus_in_plus\u001b[0m\u001b[0;34m)\u001b[0m \u001b[0;34m-\u001b[0m\u001b[0;31m \u001b[0m\u001b[0;31m\\\u001b[0m\u001b[0;34m\u001b[0m\u001b[0m\n\u001b[1;32m     52\u001b[0m                  \u001b[0mfxx\u001b[0m\u001b[0;34m(\u001b[0m\u001b[0mdeltax_out_in\u001b[0m \u001b[0;34m*\u001b[0m \u001b[0mdx\u001b[0m \u001b[0;34m-\u001b[0m \u001b[0mdx\u001b[0m \u001b[0;34m/\u001b[0m \u001b[0;36m2.\u001b[0m\u001b[0;34m,\u001b[0m \u001b[0mdeltay_out_in\u001b[0m \u001b[0;34m*\u001b[0m \u001b[0mdy\u001b[0m \u001b[0;34m+\u001b[0m \u001b[0mdy\u001b[0m \u001b[0;34m/\u001b[0m \u001b[0;36m2.0\u001b[0m\u001b[0;34m,\u001b[0m \u001b[0ml2_out_plus_in_minus\u001b[0m\u001b[0;34m)\u001b[0m \u001b[0;34m-\u001b[0m\u001b[0;31m \u001b[0m\u001b[0;31m\\\u001b[0m\u001b[0;34m\u001b[0m\u001b[0m\n\u001b[0;32m---> 53\u001b[0;31m                  \u001b[0mfxx\u001b[0m\u001b[0;34m(\u001b[0m\u001b[0mdeltax_out_in\u001b[0m \u001b[0;34m*\u001b[0m \u001b[0mdx\u001b[0m \u001b[0;34m+\u001b[0m \u001b[0mdx\u001b[0m \u001b[0;34m/\u001b[0m \u001b[0;36m2.\u001b[0m\u001b[0;34m,\u001b[0m \u001b[0mdeltay_out_in\u001b[0m \u001b[0;34m*\u001b[0m \u001b[0mdy\u001b[0m \u001b[0;34m-\u001b[0m \u001b[0mdy\u001b[0m \u001b[0;34m/\u001b[0m \u001b[0;36m2.0\u001b[0m\u001b[0;34m,\u001b[0m \u001b[0ml2_out_minus_in_plus\u001b[0m\u001b[0;34m)\u001b[0m \u001b[0;34m+\u001b[0m\u001b[0;31m \u001b[0m\u001b[0;31m\\\u001b[0m\u001b[0;34m\u001b[0m\u001b[0m\n\u001b[0m\u001b[1;32m     54\u001b[0m                  \u001b[0mfxx\u001b[0m\u001b[0;34m(\u001b[0m\u001b[0mdeltax_out_in\u001b[0m \u001b[0;34m*\u001b[0m \u001b[0mdx\u001b[0m \u001b[0;34m+\u001b[0m \u001b[0mdx\u001b[0m \u001b[0;34m/\u001b[0m \u001b[0;36m2.\u001b[0m\u001b[0;34m,\u001b[0m \u001b[0mdeltay_out_in\u001b[0m \u001b[0;34m*\u001b[0m \u001b[0mdy\u001b[0m \u001b[0;34m+\u001b[0m \u001b[0mdy\u001b[0m \u001b[0;34m/\u001b[0m \u001b[0;36m2.0\u001b[0m\u001b[0;34m,\u001b[0m \u001b[0ml2_out_minus_in_minus\u001b[0m\u001b[0;34m)\u001b[0m\u001b[0;34m\u001b[0m\u001b[0m\n\u001b[1;32m     55\u001b[0m \u001b[0;34m\u001b[0m\u001b[0m\n",
      "\u001b[0;32m/Users/joshchang/workspace/tractionforce/tractionforce/elasticity.py\u001b[0m in \u001b[0;36mfxx\u001b[0;34m(x, y, l2)\u001b[0m\n\u001b[1;32m     12\u001b[0m     \u001b[0;34m:\u001b[0m\u001b[0;32mreturn\u001b[0m\u001b[0;34m:\u001b[0m\u001b[0;34m\u001b[0m\u001b[0m\n\u001b[1;32m     13\u001b[0m     \"\"\"\n\u001b[0;32m---> 14\u001b[0;31m     \u001b[0;32mreturn\u001b[0m \u001b[0;34m(\u001b[0m\u001b[0mnu\u001b[0m\u001b[0;34m+\u001b[0m\u001b[0;36m1\u001b[0m\u001b[0;34m)\u001b[0m\u001b[0;34m/\u001b[0m\u001b[0mnp\u001b[0m\u001b[0;34m.\u001b[0m\u001b[0mpi\u001b[0m\u001b[0;34m/\u001b[0m\u001b[0mE\u001b[0m\u001b[0;34m*\u001b[0m\u001b[0;34m(\u001b[0m \u001b[0mx\u001b[0m\u001b[0;34m*\u001b[0m\u001b[0;34m(\u001b[0m\u001b[0;36m1\u001b[0m\u001b[0;34m-\u001b[0m\u001b[0mnu\u001b[0m\u001b[0;34m)\u001b[0m\u001b[0;34m*\u001b[0m\u001b[0mnp\u001b[0m\u001b[0;34m.\u001b[0m\u001b[0mlog\u001b[0m\u001b[0;34m(\u001b[0m\u001b[0ml2\u001b[0m\u001b[0;34m+\u001b[0m\u001b[0my\u001b[0m\u001b[0;34m)\u001b[0m\u001b[0;34m+\u001b[0m\u001b[0my\u001b[0m\u001b[0;34m*\u001b[0m\u001b[0mnp\u001b[0m\u001b[0;34m.\u001b[0m\u001b[0mlog\u001b[0m\u001b[0;34m(\u001b[0m\u001b[0ml2\u001b[0m\u001b[0;34m+\u001b[0m\u001b[0mx\u001b[0m\u001b[0;34m)\u001b[0m\u001b[0;34m-\u001b[0m\u001b[0my\u001b[0m \u001b[0;34m)\u001b[0m\u001b[0;34m\u001b[0m\u001b[0m\n\u001b[0m\u001b[1;32m     15\u001b[0m \u001b[0;34m\u001b[0m\u001b[0m\n\u001b[1;32m     16\u001b[0m \u001b[0;32mdef\u001b[0m \u001b[0mfxxx\u001b[0m\u001b[0;34m(\u001b[0m\u001b[0mx\u001b[0m\u001b[0;34m,\u001b[0m\u001b[0my\u001b[0m\u001b[0;34m,\u001b[0m\u001b[0ml2\u001b[0m\u001b[0;34m)\u001b[0m\u001b[0;34m:\u001b[0m\u001b[0;34m\u001b[0m\u001b[0m\n",
      "\u001b[0;31mKeyboardInterrupt\u001b[0m: "
     ]
    }
   ],
   "source": [
    "x_out = np.array(forward_coords[condition_outside,0],dtype=int)\n",
    "y_out = np.array(forward_coords[condition_outside,1],dtype=int)\n",
    "\n",
    "x_in = np.array(forward_coords[condition_inside,0],dtype=int)\n",
    "y_in = np.array(forward_coords[condition_inside,1],dtype=int)\n",
    "\n",
    "x_center = np.mean(x_in)\n",
    "y_center = np.mean(y_in)\n",
    "\n",
    "G_in_in_xx, G_in_in_xy, G_out_in_xx, G_out_in_xy, G_in_in_yy, G_in_in_yx, G_out_in_yy, G_out_in_yx, Dx, Dy = gen_matrices(x_in,y_in,x_out,y_out,dx,dy,loworder = True)"
   ]
  },
  {
   "cell_type": "code",
   "execution_count": null,
   "metadata": {
    "collapsed": true
   },
   "outputs": [],
   "source": [
    "# Generate the measured dispalcements\n",
    "s_x = stress_x[condition_inside]\n",
    "s_y = stress_y[condition_inside]\n",
    "\n",
    "u_in_x = G_in_in_xx.dot(s_x) + G_in_in_xy.dot(s_y)\n",
    "u_out_x = G_out_in_xx.dot(s_x) + G_out_in_xy.dot(s_y)\n",
    "\n",
    "u_in_y = G_in_in_yx.dot(s_x) + G_in_in_yy.dot(s_y)\n",
    "u_out_y = G_out_in_yx.dot(s_x)  + G_out_in_yy.dot(s_y)\n",
    "\n",
    "u_x = np.zeros(forward_coords.shape[0])\n",
    "u_x[condition_inside] = u_in_x\n",
    "u_x[condition_outside] = u_out_x\n",
    "\n",
    "u_y = np.zeros(forward_coords.shape[0])\n",
    "u_y[condition_inside] = u_in_y\n",
    "u_y[condition_outside] = u_out_y\n"
   ]
  },
  {
   "cell_type": "code",
   "execution_count": null,
   "metadata": {
    "collapsed": false
   },
   "outputs": [],
   "source": [
    "max_s = np.max(u_x)\n",
    "\n",
    "fig = plt.figure(figsize=(10,12))\n",
    "plt.subplot(121)\n",
    "plt.pcolormesh(x_forward_positions,y_forward_positions,imarray==0,\n",
    "                           cmap='Greens').axes.set_aspect('equal')\n",
    "plt.pcolormesh(x_forward_positions,y_forward_positions,u_x.reshape((M,N)),\n",
    "                           cmap='seismic_r',vmin=-max_s,vmax=max_s,alpha=0.9).axes.set_aspect('equal')\n",
    "plt.subplot(122)\n",
    "plt.pcolormesh(x_forward_positions,y_forward_positions,imarray==0,\n",
    "                           cmap='Greens').axes.set_aspect('equal')\n",
    "plt.pcolormesh(x_forward_positions,y_forward_positions,u_y.reshape((M,N)),\n",
    "                           cmap='seismic_r',vmin=-max_s,vmax=max_s,alpha=0.9).axes.set_aspect('equal')\n",
    "\n",
    "\n",
    "noise = 1e-5\n",
    "\n",
    "obs_x = u_x.reshape((M,N)) + np.random.normal(0,noise,size=(M,N))\n",
    "obs_y = u_y.reshape((M,N)) + np.random.normal(0,noise,size=(M,N))\n",
    "\n",
    "plt.subplot(221)\n",
    "\n",
    "plt.pcolormesh(x_forward_positions,y_forward_positions,obs_x,\n",
    "                           cmap='seismic_r',vmin=-max_s,vmax=max_s,alpha=0.9).axes.set_aspect('equal')\n",
    "#plt.pcolormesh(x_forward_positions,y_forward_positions,imarray==0,\n",
    "#                           cmap='Greens',alpha=0.04).axes.set_aspect('equal')\n",
    "\n",
    "plt.subplot(222)\n",
    "#plt.pcolormesh(x_forward_positions,y_forward_positions,imarray==0,\n",
    "#                           cmap='gray').axes.set_aspect('equal')\n",
    "plt.pcolormesh(x_forward_positions,y_forward_positions,obs_y,\n",
    "                           cmap='seismic_r',vmin=-max_s,vmax=max_s,alpha=0.9).axes.set_aspect('equal')\n"
   ]
  },
  {
   "cell_type": "markdown",
   "metadata": {},
   "source": [
    "# Coarsen"
   ]
  },
  {
   "cell_type": "code",
   "execution_count": null,
   "metadata": {
    "collapsed": true
   },
   "outputs": [],
   "source": [
    "spacing = 2\n",
    "\n",
    "x_obs_positions = np.arange(0,N,spacing)\n",
    "y_obs_positions = np.arange(0,M,spacing)\n",
    "\n",
    "dx = abs(x_obs_positions[1]-x_obs_positions[0])\n",
    "dy = abs(y_obs_positions[1]-y_obs_positions[0])\n",
    "\n",
    "coords = [[ [x,y] for x in x_obs_positions] for y in y_obs_positions] \n",
    "coords = np.array([item for sublist in coords for item in sublist])\n",
    "\n",
    "# generate the conditions\n",
    "\n",
    "distancefun = np.array([distances2d.reshape((M,N))[a[1],a[0]] for a in coords]) # stupid but works\n",
    "\n",
    "\n",
    "condition_inside = distancefun<=0\n",
    "condition_outside = (distancefun>0) * (distancefun<=_CUTOFF)\n",
    "\n",
    "# obtain the observations\n",
    "\n",
    "obs_x_in = np.array([obs_x[a[1],a[0]] for a,cond in zip(coords,condition_inside)if cond] )\n",
    "obs_x_out = np.array([obs_x[a[1],a[0]] for a,cond in zip(coords,condition_outside)if cond] )\n",
    "\n",
    "obs_y_in = np.array([obs_y[a[1],a[0]] for a,cond in zip(coords,condition_inside)if cond] )\n",
    "obs_y_out = np.array([obs_y[a[1],a[0]] for a,cond in zip(coords,condition_outside)if cond] )"
   ]
  },
  {
   "cell_type": "code",
   "execution_count": null,
   "metadata": {
    "collapsed": true
   },
   "outputs": [],
   "source": []
  },
  {
   "cell_type": "markdown",
   "metadata": {},
   "source": [
    "# Regenerate the matrices"
   ]
  },
  {
   "cell_type": "code",
   "execution_count": null,
   "metadata": {
    "collapsed": false
   },
   "outputs": [],
   "source": [
    "x_out = np.array(coords[condition_outside,0]/dx,dtype=int)\n",
    "y_out = np.array(coords[condition_outside,1]/dy,dtype=int)\n",
    "\n",
    "x_in = np.array(coords[condition_inside,0]/dx,dtype=int)\n",
    "y_in = np.array(coords[condition_inside,1]/dy,dtype=int)\n",
    "\n",
    "\n",
    "\n",
    "G_in_in_xx, G_in_in_xy, G_out_in_xx, G_out_in_xy, G_in_in_yy, G_in_in_yx, G_out_in_yy, G_out_in_yx, Dx, Dy = gen_matrices(x_in,y_in,x_out,y_out,dx*spacing,dy*spacing,loworder = True)"
   ]
  },
  {
   "cell_type": "code",
   "execution_count": null,
   "metadata": {
    "collapsed": true
   },
   "outputs": [],
   "source": [
    "N_SOLUTIONS = 24\n",
    "gamma_vals = np.logspace(-7, -2, N_SOLUTIONS)\n",
    "\n",
    "\n",
    "# Coords are 1:100 in each direction\n",
    "# annulus centered\n",
    "# inner radius 20\n",
    "# outer radius 30\n",
    "# boundary radius 35\n",
    "\n",
    "gamma = Parameter(sign=\"positive\",value=1)\n",
    "\n",
    "n_in = len(x_in)\n",
    "x_center = np.mean(x_in)\n",
    "y_center = np.mean(y_in)\n",
    "\n",
    "sigma_xz = Variable(n_in)\n",
    "sigma_yz = Variable(n_in)\n",
    "predicted_in_x = G_in_in_xx * sigma_xz + G_in_in_xy * sigma_yz\n",
    "predicted_out_x = G_out_in_xx * sigma_xz + G_out_in_xy * sigma_yz\n",
    "predicted_in_y = G_in_in_yx * sigma_xz + G_in_in_yy * sigma_yz\n",
    "predicted_out_y = G_out_in_yx * sigma_xz + G_out_in_yy * sigma_yz\n",
    "\n",
    "\n",
    "error = sum_squares(obs_x_in - predicted_in_x) + sum_squares(obs_x_out - predicted_out_x) + \\\n",
    "    sum_squares(obs_y_in - predicted_in_y) + sum_squares(obs_y_out - predicted_out_y)\n",
    "\n",
    "forceconstraints = [sum_entries(sigma_xz)==0, sum_entries(sigma_yz)==0] # add torque-free constraint here\n",
    "net_torque = sum_entries(mul_elemwise(x_in-x_center,sigma_yz) - mul_elemwise(y_in-y_center,sigma_xz))\n",
    "\n",
    "torqueconstraints = [net_torque == 0]\n",
    "\n",
    "constraints = torqueconstraints\n",
    "#constraints = []"
   ]
  },
  {
   "cell_type": "code",
   "execution_count": null,
   "metadata": {
    "collapsed": true
   },
   "outputs": [],
   "source": [
    "regularity_penalty = norm(sigma_xz+sigma_yz,p=1)\n",
    "objective = Minimize(error + gamma*regularity_penalty)\n",
    "prob = Problem(objective, constraints)\n",
    "\n",
    "sq_penalty = []\n",
    "l1_penalty = []\n",
    "sigma_xz_values = []\n",
    "sigma_yz_values = []\n",
    "\n",
    "u_x_values = []\n",
    "u_y_values = []"
   ]
  },
  {
   "cell_type": "code",
   "execution_count": null,
   "metadata": {
    "collapsed": false
   },
   "outputs": [],
   "source": [
    "#num_cores = multiprocessing.cpu_count() - 4\n",
    "num_cores = 2\n",
    "\n",
    "def invert_one(val):\n",
    "    gamma.value = val\n",
    "    try:\n",
    "        prob.solve(verbose= True, max_iters = 50,\n",
    "                   warm_start=True, solver = cvxpy.CVXOPT,\n",
    "                   feastol = 1e-7, reltol = 1e-6,\n",
    "                   abstol = 1e-7)\n",
    "\n",
    "    except cvxpy.SolverError:\n",
    "        return None\n",
    "\n",
    "    sq_penalty.append(error.value)\n",
    "    l1_penalty.append(regularity_penalty.value)\n",
    "    sigma_xz_values.append(sigma_xz.value)\n",
    "    sigma_yz_values.append(sigma_yz.value)\n",
    "\n",
    "    s_x = np.zeros(coords.shape[0])\n",
    "    s_y = np.zeros(coords.shape[0])\n",
    "    \n",
    "    s_x[condition_inside].flat = sigma_xz.value.reshape((n_in,))\n",
    "    s_y[condition_inside].flat = sigma_yz.value.reshape((n_in,))\n",
    "\n",
    "    u_x = np.zeros(coords.shape[0])\n",
    "    u_y = np.zeros(coords.shape[0])\n",
    "    u_x[condition_inside].flat = predicted_in_x.value\n",
    "    u_x[condition_outside].flat = predicted_out_x.value\n",
    "    u_y[condition_inside].flat = predicted_in_y.value\n",
    "    u_y[condition_outside].flat = predicted_out_y.value\n",
    "    \n",
    "    return np.array([sigma_xz.value, sigma_yz.value]).T, error.value, regularity_penalty.value, val\n",
    "\n",
    "    return np.array([s_x, s_y]).T,  error.value, regularity_penalty.value, val\n",
    "\n",
    "\n",
    "#results = Parallel(n_jobs=num_cores)(delayed(invert_one)(val) for val in gamma_vals)\n",
    "results = [invert_one(val) for val in gamma_vals]"
   ]
  },
  {
   "cell_type": "code",
   "execution_count": null,
   "metadata": {
    "collapsed": false
   },
   "outputs": [],
   "source": [
    "data_error = [res[1] for res in results]\n",
    "reg_error = [res[2] for res in results]\n",
    "lvals = [res[3] for res in results]\n",
    "\n",
    "l_curve_distances = np.abs((reg_error[-1]-reg_error[0])*np.array(data_error) -  \\\n",
    "            (data_error[-1]-data_error[0])*np.array(reg_error)+data_error[-1]*reg_error[0]-reg_error[-1]*data_error[0])\n",
    "best = np.argsort(l_curve_distances)[-1]\n",
    "\n",
    "plt.plot( data_error, reg_error)\n",
    "plt.scatter(data_error[best],reg_error[best],s=100, facecolors='none', edgecolors='r')\n",
    "plt.scatter(data_error[0],reg_error[0],s=100, facecolors='none', edgecolors='g')\n",
    "plt.scatter(data_error[-1],reg_error[-1],s=100, facecolors='none', edgecolors='y')\n",
    "\n",
    "plt.xlabel(\"Mismatch\", fontsize=16)\n",
    "plt.ylabel(\"Regularity\", fontsize=16)\n",
    "plt.title('Trade-Off Curve', fontsize=16)\n",
    "plt.text(data_error[best],reg_error[best],lvals[best])"
   ]
  },
  {
   "cell_type": "code",
   "execution_count": null,
   "metadata": {
    "collapsed": false
   },
   "outputs": [],
   "source": [
    "s_x = np.zeros(coords.shape[0])\n",
    "s_y = np.zeros(coords.shape[0])\n",
    "\n",
    "s_x[condition_inside] = results[best][0][0][:,0]\n",
    "s_y[condition_inside] = results[best][0][0][:,1]\n",
    "    \n",
    "\n",
    "maxmagnitude = np.max(np.abs(s_y))\n",
    "\n",
    "fig = plt.figure(figsize=(10,9))\n",
    "plt.subplot(221)\n",
    "plt.pcolormesh(x_obs_positions,y_obs_positions,s_x.reshape((len(y_obs_positions),len(x_obs_positions))),\n",
    "                           cmap='seismic_r',vmax = maxmagnitude*2, vmin=-maxmagnitude*2).axes.set_aspect('equal')\n",
    "plt.subplot(222)\n",
    "\n",
    "plt.pcolormesh(x_obs_positions,y_obs_positions,s_y.reshape((len(y_obs_positions),len(x_obs_positions))),\n",
    "                           cmap='seismic_r',vmax = maxmagnitude*2, vmin=-maxmagnitude*2).axes.set_aspect('equal')\n",
    "\n",
    "plt.subplot(223)\n",
    "plt.pcolormesh(x_forward_positions,y_forward_positions,imarray==0,\n",
    "                           cmap='gray').axes.set_aspect('equal')\n",
    "plt.pcolormesh(x_forward_positions,y_forward_positions,stress_x.reshape((M,N)),\n",
    "                           cmap='seismic_r',vmax = maxmagnitude*2, vmin=-maxmagnitude*2).axes.set_aspect('equal')\n",
    "plt.subplot(224)\n",
    "\n",
    "plt.pcolormesh(x_forward_positions,y_forward_positions,imarray==0,\n",
    "                           cmap='gray').axes.set_aspect('equal')\n",
    "plt.pcolormesh(x_forward_positions,y_forward_positions,stress_y.reshape((M,N)),\n",
    "                           cmap='seismic_r',vmax = maxmagnitude*2, vmin=-maxmagnitude*2).axes.set_aspect('equal')\n",
    "\n"
   ]
  },
  {
   "cell_type": "code",
   "execution_count": null,
   "metadata": {
    "collapsed": false
   },
   "outputs": [],
   "source": [
    "fig = plt.figure(figsize=(16,9))\n",
    "#fig = plt.figure()\n",
    "maxmagnitude = 0.03\n",
    "gs0 = gridspec.GridSpec(2,1, hspace = .1,wspace=.1)\n",
    "\n",
    "gs_j = []\n",
    "gs_j_innergrids = []\n",
    "ax = []\n",
    "im = []\n",
    " \n",
    "j = 0\n",
    "\n",
    "gs_j += [gridspec.GridSpecFromSubplotSpec(1,2,\n",
    "            subplot_spec=gs0[0],\n",
    "            width_ratios = [1,1], hspace = 0.1,wspace=0.1)]\n",
    "            #height_ratios = [1,1,1,1,1,1,1])]\n",
    "gs_j_innergrids+= [[]]\n",
    "\n",
    "gs_j_innergrids[j] +=  [gridspec.GridSpecFromSubplotSpec(1,2,\n",
    "        subplot_spec = gs_j[j][0,0], wspace=0.0, hspace = 0.0)] \n",
    "ax += [plt.Subplot(fig, gs_j_innergrids[j][0][0,0])]\n",
    "fig.add_subplot(ax[-1])\n",
    "\n",
    "plt.axis('off')\n",
    "\n",
    "at = AnchoredText(\"$\\hat{\\sigma}_{xz}$\",\n",
    "              prop=dict(size=14), frameon=True,\n",
    "              loc=2,\n",
    "              )\n",
    "at.patch.set_boxstyle(\"round,pad=0.,rounding_size=0.2\")\n",
    "ax[-1].add_artist(at)\n",
    "\n",
    "z = np.ma.masked_array(s_x, np.abs(s_x) < 1e-5)    \n",
    "maxmagnitude = np.max(np.abs(s_x))\n",
    "im += [ax[-1].pcolormesh(x_obs_positions,y_obs_positions,s_x.reshape((len(y_obs_positions),len(x_obs_positions))),\n",
    "                           cmap='seismic_r',vmax = maxmagnitude, vmin=-maxmagnitude)]\n",
    "\n",
    "im[-1].axes.set_aspect('equal')\n",
    "    \n",
    "ax += [plt.Subplot(fig, gs_j_innergrids[j][0][0,1])]\n",
    "fig.add_subplot(ax[-1])\n",
    "\n",
    "plt.axis('off')\n",
    "\n",
    "at = AnchoredText(\"$\\hat{\\sigma}_{yz}$\",\n",
    "              prop=dict(size=14), frameon=True,\n",
    "              loc=2,\n",
    "              )\n",
    "at.patch.set_boxstyle(\"round,pad=0.,rounding_size=0.2\")\n",
    "ax[-1].add_artist(at)\n",
    "\n",
    "z = np.ma.masked_array(s_y, np.abs(s_y) < 1e-5)    \n",
    "#maxmagnitude = np.max(np.abs(s_x))\n",
    "im += [ax[-1].pcolormesh(x_obs_positions,y_obs_positions,s_y.reshape((len(y_obs_positions),len(x_obs_positions))),\n",
    "                           cmap='seismic_r',vmax = maxmagnitude, vmin=-maxmagnitude)]\n",
    "\n",
    "im[-1].axes.set_aspect('equal')\n",
    "\n",
    "###########################################################\n",
    "j = 1\n",
    "\n",
    "gs_j += [gridspec.GridSpecFromSubplotSpec(1,2,\n",
    "            subplot_spec=gs0[1],\n",
    "            width_ratios = [1,1], hspace = 0.1,wspace=0.1)]\n",
    "            #height_ratios = [1,1,1,1,1,1,1])]\n",
    "gs_j_innergrids+= [[]]\n",
    "\n",
    "gs_j_innergrids[j] +=  [gridspec.GridSpecFromSubplotSpec(1,2,\n",
    "        subplot_spec = gs_j[j][0,0], wspace=0.0, hspace = 0.0)] \n",
    "ax += [plt.Subplot(fig, gs_j_innergrids[j][0][0,0])]\n",
    "fig.add_subplot(ax[-1])\n",
    "\n",
    "plt.axis('off')\n",
    "\n",
    "at = AnchoredText(\"${\\sigma}_{xz}$\",\n",
    "              prop=dict(size=14), frameon=True,\n",
    "              loc=2,\n",
    "              )\n",
    "at.patch.set_boxstyle(\"round,pad=0.,rounding_size=0.2\")\n",
    "ax[-1].add_artist(at)\n",
    "\n",
    "z = np.ma.masked_array(stress_x, np.abs(stress_x) < 1e-5)    \n",
    "#maxmagnitude = np.max(np.abs(s_x))\n",
    "im += [ax[-1].pcolormesh(x_forward_positions,y_forward_positions,stress_x.reshape((len(y_forward_positions),len(x_forward_positions))),\n",
    "                           cmap='seismic_r',vmax = maxmagnitude, vmin=-maxmagnitude)]\n",
    "\n",
    "im[-1].axes.set_aspect('equal')\n",
    "    \n",
    "ax += [plt.Subplot(fig, gs_j_innergrids[j][0][0,1])]\n",
    "fig.add_subplot(ax[-1])\n",
    "\n",
    "plt.axis('off')\n",
    "\n",
    "at = AnchoredText(\"${\\sigma}_{yz}$\",\n",
    "              prop=dict(size=14), frameon=True,\n",
    "              loc=2,\n",
    "              )\n",
    "at.patch.set_boxstyle(\"round,pad=0.,rounding_size=0.2\")\n",
    "ax[-1].add_artist(at)\n",
    "\n",
    "z = np.ma.masked_array(stress_y, np.abs(stress_y) < 1e-5)    \n",
    "#maxmagnitude = np.max(np.abs(s_x))\n",
    "im += [ax[-1].pcolormesh(x_forward_positions,y_forward_positions,stress_y.reshape((len(y_forward_positions),len(x_forward_positions))),\n",
    "                           cmap='seismic_r',vmax = maxmagnitude, vmin=-maxmagnitude)]\n",
    "\n",
    "im[-1].axes.set_aspect('equal')\n",
    "#ax[0].text(100,220,r\"Reconstruction\",fontsize=20)\n",
    "#ax[2].text(120,220,r\"Difference\",fontsize=20)\n",
    "fig.colorbar(im[0], ax = ax, orientation='horizontal').ax.tick_params(labelsize=15)\n",
    "\n",
    "    \n",
    "plt.savefig(\"../figures/padfig_2_noforceconstraint.png\",bbox_inches='tight', \n",
    "               transparent=True,\n",
    "               pad_inches=0.15, dpi=400)   "
   ]
  },
  {
   "cell_type": "code",
   "execution_count": null,
   "metadata": {
    "collapsed": true
   },
   "outputs": [],
   "source": [
    "results2 = [list(solution) for solution in results]\n",
    "\n",
    "for solution in results2:\n",
    "\n",
    "    s_x = np.zeros(coords.shape[0])\n",
    "    s_y = np.zeros(coords.shape[0])\n",
    "    \n",
    "    s_x[condition_inside] = solution[0][0][:,0]\n",
    "    s_y[condition_inside] = solution[0][0][:,1]\n",
    "    \n",
    "    solution.insert(0, [ s_x.reshape((len(y_obs_positions),len(x_obs_positions))), \n",
    "                   s_y.reshape((len(y_obs_positions),len(x_obs_positions))), \n",
    "                  x_obs_positions,y_obs_positions])\n",
    "    #_ = solution.pop(1)\n",
    "\n",
    "import pickle\n",
    "import gzip\n",
    "\n",
    "with gzip.open('results/pads_2_noforceconstraint.gz','wb') as f:\n",
    "    pickle.dump(results2,f)"
   ]
  }
 ],
 "metadata": {
  "kernelspec": {
   "display_name": "Python 3",
   "language": "python",
   "name": "python3"
  },
  "language_info": {
   "codemirror_mode": {
    "name": "ipython",
    "version": 3
   },
   "file_extension": ".py",
   "mimetype": "text/x-python",
   "name": "python",
   "nbconvert_exporter": "python",
   "pygments_lexer": "ipython3",
   "version": "3.6.0"
  }
 },
 "nbformat": 4,
 "nbformat_minor": 2
}
