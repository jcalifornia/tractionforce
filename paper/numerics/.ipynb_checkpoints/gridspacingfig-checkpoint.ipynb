{
 "cells": [
  {
   "cell_type": "code",
   "execution_count": 1,
   "metadata": {},
   "outputs": [
    {
     "name": "stdout",
     "output_type": "stream",
     "text": [
      "Populating the interactive namespace from numpy and matplotlib\n"
     ]
    }
   ],
   "source": [
    "%pylab inline\n",
    "from scipy import ndimage\n",
    "import matplotlib.pyplot as plt\n",
    "from mpl_toolkits.axes_grid.anchored_artists import AnchoredText\n",
    "import sys\n",
    "import matplotlib\n",
    "matplotlib.rcParams['text.usetex'] = True\n",
    "matplotlib.rcParams['text.latex.unicode'] = True\n",
    "import matplotlib.gridspec as gridspec\n",
    "\n",
    "sys.path.append('../../')\n",
    "from tractionforce.elasticity import *\n",
    "import gc\n",
    "from tractionforce.norms import *\n",
    "from joblib import Parallel, delayed\n",
    "import multiprocessing\n",
    "import pickle\n",
    "import gzip\n",
    "\n",
    "def latex_float(f):\n",
    "    float_str = \"{0:.2g}\".format(f)\n",
    "    if \"e\" in float_str:\n",
    "        base, exponent = float_str.split(\"e\")\n",
    "        return r\"{0} \\times 10^{{{1}}}\".format(base, int(exponent))\n",
    "    else:\n",
    "        return float_str"
   ]
  },
  {
   "cell_type": "code",
   "execution_count": 4,
   "metadata": {},
   "outputs": [],
   "source": [
    "padresults_1 = pickle.load(gzip.open('results/pads_2.gz', 'rb'))\n",
    "padresults_2 = pickle.load(gzip.open('results/pads_4.gz', 'rb'))\n",
    "padresults_3 = pickle.load(gzip.open('results/pads_8.gz', 'rb'))\n",
    "padresults_4 = pickle.load(gzip.open('results/pads_16.gz','rb'))\n",
    "annulusresults_1 = pickle.load(gzip.open('results/annulus_2.gz','rb'))\n",
    "annulusresults_2 = pickle.load(gzip.open('results/annulus_4.gz','rb'))\n",
    "annulusresults_3 = pickle.load(gzip.open('results/annulus_8.gz','rb'))\n",
    "annulusresults_4 = pickle.load(gzip.open('results/annulus_16.gz','rb'))\n",
    "\n",
    "pad_results = [padresults_1,padresults_2,padresults_3,padresults_4]\n",
    "annulus_results = [annulusresults_1, annulusresults_2,annulusresults_3,annulusresults_4]"
   ]
  },
  {
   "cell_type": "code",
   "execution_count": 12,
   "metadata": {},
   "outputs": [
    {
     "data": {
      "text/plain": [
       "<matplotlib.figure.Figure at 0x110720160>"
      ]
     },
     "metadata": {},
     "output_type": "display_data"
    }
   ],
   "source": [
    "fig = plt.figure(figsize=(10,4))\n",
    "#fig = plt.figure()\n",
    "max_annulus = 5e-4\n",
    "max_pads = 5e-4\n",
    "gs0 = gridspec.GridSpec(1,2, hspace = 0.1,wspace=0.1)\n",
    "\n",
    "gs_j = [] # just collect these here\n",
    "ax = []\n",
    "im = []\n",
    "\n",
    "# left panel: annulus\n",
    "\n",
    "J = 5\n",
    "\n",
    "left_panel = gridspec.GridSpecFromSubplotSpec(J,1,\n",
    "                subplot_spec=gs0[0,0],\n",
    "                hspace = 0.1,wspace=0.1)\n",
    "\n",
    "for j in range(J):\n",
    "    gs_j += [gridspec.GridSpecFromSubplotSpec(1,2,\n",
    "                subplot_spec=left_panel[j,0],\n",
    "                width_ratios = [1,1], hspace = 0.1,wspace=0.1)]\n",
    "                #height_ratios = [1,1,1,1,1,1,1])]\n",
    "    # make inner grid\n",
    "    \n",
    "# right panel: pads\n",
    "\n",
    "right_panel = gridspec.GridSpecFromSubplotSpec(5,1,\n",
    "                subplot_spec=gs0[0,1],\n",
    "                hspace = 0.1,wspace=0.1)\n",
    "\n",
    "# left annotation\n",
    "\n",
    "# top annotation"
   ]
  },
  {
   "cell_type": "code",
   "execution_count": null,
   "metadata": {
    "collapsed": true
   },
   "outputs": [],
   "source": []
  }
 ],
 "metadata": {
  "kernelspec": {
   "display_name": "Python 3",
   "language": "python",
   "name": "python3"
  },
  "language_info": {
   "codemirror_mode": {
    "name": "ipython",
    "version": 3
   },
   "file_extension": ".py",
   "mimetype": "text/x-python",
   "name": "python",
   "nbconvert_exporter": "python",
   "pygments_lexer": "ipython3",
   "version": "3.6.0"
  }
 },
 "nbformat": 4,
 "nbformat_minor": 2
}
