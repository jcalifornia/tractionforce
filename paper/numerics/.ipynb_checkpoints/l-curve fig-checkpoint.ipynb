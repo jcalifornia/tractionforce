{
 "cells": [
  {
   "cell_type": "code",
   "execution_count": 1,
   "metadata": {},
   "outputs": [
    {
     "name": "stdout",
     "output_type": "stream",
     "text": [
      "Populating the interactive namespace from numpy and matplotlib\n"
     ]
    }
   ],
   "source": [
    "%pylab inline\n",
    "from scipy import ndimage\n",
    "import matplotlib.pyplot as plt\n",
    "from mpl_toolkits.axes_grid.anchored_artists import AnchoredText\n",
    "from mpl_toolkits.axes_grid1 import make_axes_locatable\n",
    "\n",
    "import sys\n",
    "import matplotlib\n",
    "matplotlib.rcParams['text.usetex'] = True\n",
    "matplotlib.rcParams['text.latex.unicode'] = True\n",
    "import matplotlib.gridspec as gridspec\n",
    "\n",
    "sys.path.append('../../')\n",
    "from tractionforce.elasticity import *\n",
    "import gc\n",
    "from tractionforce.norms import *\n",
    "from tractionforce.norms import *\n",
    "from tractionforce.problem import *\n",
    "from joblib import Parallel, delayed\n",
    "import multiprocessing\n",
    "import pickle\n",
    "import gzip\n",
    "\n",
    "from PIL import Image\n",
    "\n",
    "\n",
    "def latex_float(f):\n",
    "    float_str = \"{0:.2g}\".format(f)\n",
    "    if \"e\" in float_str:\n",
    "        base, exponent = float_str.split(\"e\")\n",
    "        return r\"{0} \\times 10^{{{1}}}\".format(base, int(exponent))\n",
    "    else:\n",
    "        return float_str\n",
    "    \n",
    "def extractn(inlist,n):\n",
    "    try:\n",
    "        return inlist[n]\n",
    "    except:\n",
    "        return None"
   ]
  },
  {
   "cell_type": "code",
   "execution_count": 2,
   "metadata": {
    "collapsed": true
   },
   "outputs": [],
   "source": [
    "padresults_0 = pickle.load(gzip.open('results/pads_1.gz', 'rb'))\n",
    "annulusresults_0 = pickle.load(gzip.open('results/annulus_1.gz','rb'))"
   ]
  },
  {
   "cell_type": "code",
   "execution_count": 3,
   "metadata": {
    "collapsed": true
   },
   "outputs": [],
   "source": [
    "pad_im = Image.open('padmask.tif')\n",
    "pad_imarray = np.flip(np.array(pad_im),0)\n",
    "\n",
    "annulus_im = Image.open('annulusmask.tif')\n",
    "annulus_imarray = np.flip(np.array(annulus_im),0)\n",
    "\n",
    "annulus_mask = annulus_imarray == 0\n",
    "annulus_distance = -ndimage.distance_transform_edt(annulus_mask) + ndimage.distance_transform_edt(1 - annulus_mask)\n",
    "annulus_distance = annulus_distance.flatten()\n",
    "\n",
    "pad_mask = pad_imarray == 0\n",
    "pad_distance = -ndimage.distance_transform_edt(pad_mask) + ndimage.distance_transform_edt(1 - pad_mask)\n",
    "pad_distance = pad_distance.flatten()\n",
    "\n",
    "N = 160\n",
    "M = 120\n",
    "\n",
    "# generate annulus stress\n",
    "x_forward_positions = np.arange(N)\n",
    "y_forward_positions = np.arange(M)\n",
    "\n",
    "dx = abs(x_forward_positions[1]-x_forward_positions[0])\n",
    "dy = abs(y_forward_positions[1]-y_forward_positions[0])\n",
    "\n",
    "forward_coords = [[ [x,y] for x in x_forward_positions] for y in y_forward_positions] \n",
    "forward_coords = np.array([item for sublist in forward_coords for item in sublist])\n",
    "\n",
    "distances = ((forward_coords[:,0]-N/2.)**2 + (forward_coords[:,1]-M/2.)**2)**0.5\n",
    "angles = np.arctan2(forward_coords[:,1]-M/2.,forward_coords[:,0]-N/2.)\n",
    "\n",
    "a = 22\n",
    "b = 25 # stress support\n",
    "_FORWARD_CUT_OFF = 40\n",
    "_CUTOFF  = 10\n",
    "\n",
    "fr = 1e-4\n",
    "ftheta = 2e-4\n",
    "\n",
    "m = 3\n",
    "n = 5\n",
    "\n",
    "condition_outside = (annulus_imarray.reshape((M*N,)) != 0 ) * (distances <= b + _FORWARD_CUT_OFF)\n",
    "condition_inside = (annulus_imarray.reshape((M*N,)) == 0 ) * (distances >= a - _FORWARD_CUT_OFF)\n",
    "\n",
    "stress_r = 0 + (distances>=a) * (distances<=b) * fr * np.sin(m*angles)\n",
    "stress_theta = 0 + (distances>=a) * (distances<=b) * ftheta * np.cos(n*angles)\n",
    "\n",
    "stress_x = stress_r*cos(angles) -stress_theta*sin(angles)\n",
    "stress_y = stress_r*sin(angles) + stress_theta*cos(angles)\n",
    "\n",
    "s_x = stress_x[condition_inside]\n",
    "s_y = stress_y[condition_inside]\n",
    "\n",
    "# build the stress field\n",
    "\n",
    "x_out = np.array(forward_coords[condition_outside,0]/dx,dtype=int)\n",
    "y_out = np.array(forward_coords[condition_outside,1]/dy,dtype=int)\n",
    "\n",
    "x_in = np.array(forward_coords[condition_inside,0]/dx,dtype=int)\n",
    "y_in = np.array(forward_coords[condition_inside,1]/dy,dtype=int)\n",
    "\n",
    "annulus_x = stress_x.reshape((M,N))\n",
    "annulus_y = stress_y.reshape((M,N))"
   ]
  },
  {
   "cell_type": "code",
   "execution_count": 4,
   "metadata": {},
   "outputs": [
    {
     "data": {
      "text/plain": [
       "<matplotlib.offsetbox.AnchoredText at 0x1150ad5c0>"
      ]
     },
     "execution_count": 4,
     "metadata": {},
     "output_type": "execute_result"
    },
    {
     "data": {
      "image/png": "[encoded data removed]",
      "text/plain": [
       "<matplotlib.figure.Figure at 0x1143ad7f0>"
      ]
     },
     "metadata": {},
     "output_type": "display_data"
    }
   ],
   "source": [
    "fig = plt.figure(figsize=(10,10))\n",
    "#fig = plt.figure()\n",
    "max_annulus = 1e-4\n",
    "max_pads = 1e-4\n",
    "gs0 = gridspec.GridSpec(1,2, hspace = 0.1,wspace=0.1)\n",
    "\n",
    "gs_j_left = [] # just collect these here\n",
    "gs_j_right = [] # just collect these here\n",
    "ax = []\n",
    "im = []\n",
    "\n",
    "# left panel: annulus\n",
    "\n",
    "J = 4\n",
    "\n",
    "left_panel = gridspec.GridSpecFromSubplotSpec(J+1,1,\n",
    "                subplot_spec=gs0[0,0],\n",
    "                hspace = 0.1,wspace=0.1)\n",
    "\n",
    "gs_j_left += [gridspec.GridSpecFromSubplotSpec(1,2,\n",
    "            subplot_spec=left_panel[0,0],\n",
    "            width_ratios = [1,1], hspace = 0.1,wspace=0.1)]\n",
    "            #height_ratios = [1,1,1,1,1,1,1])]\n",
    "        \n",
    "ax += [plt.Subplot(fig, gs_j_left[0][0,0])]\n",
    "\n",
    "fig.add_subplot(ax[-1])\n",
    "\n",
    "im += [ax[-1].pcolormesh(annulus_x,\n",
    "                     cmap='seismic_r',vmax=max_annulus,vmin=-max_annulus).axes.set_aspect('equal')]\n",
    "ax[-1].pcolormesh(annulus_imarray==0,\n",
    "                           cmap='gray',alpha=0.05).axes.set_aspect('equal')\n",
    "ax[-1].set_yticklabels([])\n",
    "ax[-1].set_xticklabels([])\n",
    "#ax[-1].set_ylabel(\"Truth\",fontsize=18)\n",
    "\n",
    "at = AnchoredText(\"${\\sigma}_{xz}$\",\n",
    "              prop=dict(size=14), frameon=True,\n",
    "              loc=2,\n",
    "              )\n",
    "at.patch.set_boxstyle(\"round,pad=0.,rounding_size=0.2\")\n",
    "ax[-1].add_artist(at)\n",
    "\n",
    "ax += [plt.Subplot(fig, gs_j_left[0][0,1])]\n",
    "fig.add_subplot(ax[-1])\n",
    "\n",
    "ax[-1].pcolormesh(annulus_y,\n",
    "                     cmap='seismic_r',vmax=max_annulus,vmin=-max_annulus).axes.set_aspect('equal')\n",
    "ax[-1].pcolormesh(annulus_imarray==0,\n",
    "                           cmap='gray',alpha=0.05).axes.set_aspect('equal')\n",
    "ax[-1].set_yticklabels([])\n",
    "ax[-1].set_xticklabels([])\n",
    "\n",
    "at = AnchoredText(\"${\\sigma}_{yz}$\",\n",
    "              prop=dict(size=14), frameon=True,\n",
    "              loc=2,\n",
    "              )\n",
    "at.patch.set_boxstyle(\"round,pad=0.,rounding_size=0.2\")\n",
    "ax[-1].add_artist(at)    \n",
    "    "
   ]
  },
  {
   "cell_type": "code",
   "execution_count": null,
   "metadata": {
    "collapsed": true
   },
   "outputs": [],
   "source": []
  }
 ],
 "metadata": {
  "kernelspec": {
   "display_name": "Python 3",
   "language": "python",
   "name": "python3"
  },
  "language_info": {
   "codemirror_mode": {
    "name": "ipython",
    "version": 3
   },
   "file_extension": ".py",
   "mimetype": "text/x-python",
   "name": "python",
   "nbconvert_exporter": "python",
   "pygments_lexer": "ipython3",
   "version": "3.6.0"
  }
 },
 "nbformat": 4,
 "nbformat_minor": 2
}
