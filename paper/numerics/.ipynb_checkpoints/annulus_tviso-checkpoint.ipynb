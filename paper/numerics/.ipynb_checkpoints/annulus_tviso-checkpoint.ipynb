{
 "cells": [
  {
   "cell_type": "code",
   "execution_count": 1,
   "metadata": {},
   "outputs": [
    {
     "name": "stdout",
     "output_type": "stream",
     "text": [
      "Populating the interactive namespace from numpy and matplotlib\n"
     ]
    }
   ],
   "source": [
    "%pylab inline\n",
    "\n",
    "import cvxpy\n",
    "from cvxpy import Variable, Minimize, sum_squares, norm, Problem, Parameter, mul_elemwise, sum_entries, Constant\n",
    "from scipy import sparse\n",
    "import sys, argparse\n",
    "from scipy import ndimage\n",
    "import matplotlib.pyplot as plt\n",
    "from matplotlib.backends.backend_pdf import PdfPages\n",
    "import sys\n",
    "\n",
    "sys.path.append('../../')\n",
    "from tractionforce.elasticity import *\n",
    "import gc\n",
    "from tractionforce.norms import *\n",
    "from tractionforce.problem import *\n",
    "from joblib import Parallel, delayed\n",
    "import multiprocessing\n",
    "\n",
    "from PIL import Image\n",
    "\n"
   ]
  },
  {
   "cell_type": "code",
   "execution_count": 2,
   "metadata": {
    "collapsed": true
   },
   "outputs": [],
   "source": [
    "pad_x_im = Image.open(\"pad_u_x.tif\") \n",
    "pad_x =  np.array(pad_x_im) \n",
    "\n",
    "pad_y_im = Image.open(\"pad_u_y.tif\") \n",
    "pad_y =  np.array(pad_y_im) \n",
    "\n",
    "annulus_x_im = Image.open(\"annulus_u_x.tif\")\n",
    "annulus_x =  np.array(annulus_x_im) \n",
    "\n",
    "annulus_y_im = Image.open(\"annulus_u_y.tif\")\n",
    "annulus_y = np.array(annulus_y_im) \n",
    "\n",
    "pad_im = Image.open('pads/padmask.tif')\n",
    "pad_imarray = np.array(pad_im) \n",
    "\n",
    "annulus_im = Image.open('annulus/annulusmask.tif')\n",
    "annulus_imarray = np.array(annulus_im)\n",
    "\n",
    "annulus_mask = annulus_imarray == 0\n",
    "annulus_distance = -ndimage.distance_transform_edt(annulus_mask) + ndimage.distance_transform_edt(1 - annulus_mask)\n",
    "annulus_distance = annulus_distance.flatten()\n",
    "\n",
    "pad_mask = pad_imarray == 0\n",
    "pad_distance = -ndimage.distance_transform_edt(pad_mask) + ndimage.distance_transform_edt(1 - pad_mask)\n",
    "pad_distance = pad_distance.flatten()\n",
    "\n",
    "N = 160\n",
    "M = 120\n"
   ]
  },
  {
   "cell_type": "code",
   "execution_count": 3,
   "metadata": {},
   "outputs": [
    {
     "name": "stdout",
     "output_type": "stream",
     "text": [
      "Size of the problem is 1269\n"
     ]
    },
    {
     "name": "stderr",
     "output_type": "stream",
     "text": [
      "/usr/local/lib/python3.6/site-packages/scipy/sparse/compressed.py:774: SparseEfficiencyWarning: Changing the sparsity structure of a csr_matrix is expensive. lil_matrix is more efficient.\n",
      "  SparseEfficiencyWarning)\n"
     ]
    }
   ],
   "source": [
    "spacing = 2\n",
    "_CUTOFF  = 10\n",
    "\n",
    "\n",
    "x_obs_positions = np.arange(0,N,spacing)\n",
    "y_obs_positions = np.arange(0,M,spacing)\n",
    "\n",
    "dx = abs(x_obs_positions[1]-x_obs_positions[0])\n",
    "dy = abs(y_obs_positions[1]-y_obs_positions[0])\n",
    "\n",
    "coords = [[ [x,y] for x in x_obs_positions] for y in y_obs_positions] \n",
    "coords = np.array([item for sublist in coords for item in sublist])\n",
    "\n",
    "# generate the conditions\n",
    "\n",
    "distancefun = np.array([annulus_distance.reshape((M,N))[a[1],a[0]] for a in coords]) # stupid but works\n",
    "\n",
    "\n",
    "condition_inside = distancefun<=0\n",
    "condition_outside = (distancefun>0) * (distancefun<=_CUTOFF)\n",
    "\n",
    "# obtain the observations\n",
    "\n",
    "obs_x_in_annulus = np.array([annulus_x[a[1],a[0]] for a,cond in zip(coords,condition_inside)if cond] )\n",
    "obs_x_out_annulus = np.array([annulus_x[a[1],a[0]] for a,cond in zip(coords,condition_outside)if cond] )\n",
    "\n",
    "obs_y_in_annulus = np.array([annulus_y[a[1],a[0]] for a,cond in zip(coords,condition_inside)if cond] )\n",
    "obs_y_out_annulus = np.array([annulus_y[a[1],a[0]] for a,cond in zip(coords,condition_outside)if cond] )\n",
    "\n",
    "x_out = np.array(coords[condition_outside,0]/dx,dtype=int)\n",
    "y_out = np.array(coords[condition_outside,1]/dy,dtype=int)\n",
    "\n",
    "x_in = np.array(coords[condition_inside,0]/dx,dtype=int)\n",
    "y_in = np.array(coords[condition_inside,1]/dy,dtype=int)\n",
    "\n",
    "\n",
    "\n",
    "G_in_in_xx, G_in_in_xy, G_out_in_xx, G_out_in_xy, G_in_in_yy, G_in_in_yx, G_out_in_yy, G_out_in_yx, Dx, Dy = gen_matrices(x_in,y_in,x_out,y_out,dx*spacing,dy*spacing,loworder = True)"
   ]
  },
  {
   "cell_type": "code",
   "execution_count": null,
   "metadata": {
    "collapsed": true
   },
   "outputs": [],
   "source": [
    "N_SOLUTIONS = 24\n",
    "gamma_vals = np.logspace(-8, -2.5, N_SOLUTIONS)\n",
    "\n",
    "\n",
    "# Coords are 1:100 in each direction\n",
    "# annulus centered\n",
    "# inner radius 20\n",
    "# outer radius 30\n",
    "# boundary radius 35\n",
    "\n",
    "gamma = Parameter(sign=\"positive\",value=1)\n",
    "\n",
    "n_in = len(x_in)\n",
    "x_center = np.mean(x_in)\n",
    "y_center = np.mean(y_in)\n",
    "\n",
    "sigma_xz = Variable(n_in)\n",
    "sigma_yz = Variable(n_in)\n",
    "predicted_in_x = G_in_in_xx * sigma_xz + G_in_in_xy * sigma_yz\n",
    "predicted_out_x = G_out_in_xx * sigma_xz + G_out_in_xy * sigma_yz\n",
    "predicted_in_y = G_in_in_yx * sigma_xz + G_in_in_yy * sigma_yz\n",
    "predicted_out_y = G_out_in_yx * sigma_xz + G_out_in_yy * sigma_yz\n",
    "\n",
    "\n",
    "error = sum_squares(obs_x_in_annulus - predicted_in_x) + sum_squares(obs_x_out_annulus - predicted_out_x) + \\\n",
    "    sum_squares(obs_y_in_annulus - predicted_in_y) + sum_squares(obs_y_out_annulus - predicted_out_y)\n",
    "\n",
    "forceconstraints = [sum_entries(sigma_xz)==0, sum_entries(sigma_yz)==0] # add torque-free constraint here\n",
    "net_torque = sum_entries(mul_elemwise(x_in-x_center,sigma_yz) - mul_elemwise(y_in-y_center,sigma_xz))\n",
    "\n",
    "torqueconstraints = [net_torque == 0]\n",
    "\n",
    "constraints = forceconstraints + torqueconstraints\n",
    "#constraints = []\n",
    "regularity_penalty = norm(Dx * sigma_xz / dx, 1) + norm(Dy * sigma_xz / dy, 1) + norm(Dx * sigma_yz / dx, 1) + norm(\n",
    "        Dy * sigma_yz / dy, 1)\n",
    "\n",
    "objective = Minimize(error + gamma*regularity_penalty)\n",
    "prob = Problem(objective, constraints)\n",
    "\n",
    "sq_penalty = []\n",
    "l1_penalty = []\n",
    "sigma_xz_values = []\n",
    "sigma_yz_values = []\n",
    "\n",
    "u_x_values = []\n",
    "u_y_values = []"
   ]
  },
  {
   "cell_type": "code",
   "execution_count": null,
   "metadata": {},
   "outputs": [
    {
     "name": "stdout",
     "output_type": "stream",
     "text": [
      "     pcost       dcost       gap    pres   dres   k/t\n",
      " 0:  0.0000e+00 -4.0000e+00  7e+02  1e+01  1e+01  1e+00\n",
      " 1:  5.9884e-03 -2.6725e-02  2e+01  4e-01  6e-01  2e-01\n",
      " 2:  9.6375e-05 -2.6328e-04  2e-01  4e-03  6e-03  2e-03\n",
      " 3:  4.3099e-06 -2.5109e-06  2e-03  5e-05  7e-05  2e-05\n",
      " 4:  2.6579e-06  9.3091e-08  2e-04  5e-06  7e-06  1e-07\n",
      " 5:  1.1950e-07  1.0634e-07  4e-08  1e-07  2e-07  5e-08\n",
      " 6:  1.1557e-07  1.1500e-07  1e-09  2e-09  3e-09  5e-10\n",
      "Optimal solution found.\n",
      "     pcost       dcost       gap    pres   dres   k/t\n",
      " 0:  0.0000e+00 -4.0000e+00  7e+02  1e+01  1e+01  1e+00\n",
      " 1:  5.9904e-03 -2.6725e-02  2e+01  4e-01  6e-01  2e-01\n",
      " 2:  9.8750e-05 -2.6327e-04  2e-01  4e-03  6e-03  2e-03\n",
      " 3:  6.6945e-06 -2.5051e-06  2e-03  5e-05  7e-05  2e-05\n",
      " 4:  3.9326e-06  9.2223e-08  2e-04  8e-06  1e-05  1e-07\n",
      " 5:  1.2271e-07  9.9449e-08  7e-08  2e-07  3e-07  8e-08\n",
      " 6:  1.1594e-07  1.1484e-07  2e-09  5e-09  7e-09  1e-09\n",
      "Optimal solution found.\n"
     ]
    }
   ],
   "source": [
    "#num_cores = multiprocessing.cpu_count() - 4\n",
    "num_cores = 2\n",
    "\n",
    "def invert_one(val):\n",
    "    gamma.value = val\n",
    "    try:\n",
    "        prob.solve(verbose= True, max_iters = 50,\n",
    "                   warm_start=True, solver = cvxpy.CVXOPT,\n",
    "                   feastol = 1e-7, reltol = 1e-6,\n",
    "                   abstol = 1e-7)\n",
    "\n",
    "    except cvxpy.SolverError:\n",
    "        return None\n",
    "\n",
    "    sq_penalty.append(error.value)\n",
    "    l1_penalty.append(regularity_penalty.value)\n",
    "    sigma_xz_values.append(sigma_xz.value)\n",
    "    sigma_yz_values.append(sigma_yz.value)\n",
    "\n",
    "    s_x = np.zeros(coords.shape[0])\n",
    "    s_y = np.zeros(coords.shape[0])\n",
    "    \n",
    "    s_x[condition_inside].flat = sigma_xz.value.reshape((n_in,))\n",
    "    s_y[condition_inside].flat = sigma_yz.value.reshape((n_in,))\n",
    "\n",
    "    u_x = np.zeros(coords.shape[0])\n",
    "    u_y = np.zeros(coords.shape[0])\n",
    "    u_x[condition_inside].flat = predicted_in_x.value\n",
    "    u_x[condition_outside].flat = predicted_out_x.value\n",
    "    u_y[condition_inside].flat = predicted_in_y.value\n",
    "    u_y[condition_outside].flat = predicted_out_y.value\n",
    "    \n",
    "    return np.array([sigma_xz.value, sigma_yz.value]).T, error.value, regularity_penalty.value, val\n",
    "\n",
    "    return np.array([s_x, s_y]).T,  error.value, regularity_penalty.value, val\n",
    "\n",
    "\n",
    "#results = Parallel(n_jobs=num_cores)(delayed(invert_one)(val) for val in gamma_vals)\n",
    "annulus_results = [invert_one(val) for val in gamma_vals]"
   ]
  },
  {
   "cell_type": "code",
   "execution_count": null,
   "metadata": {
    "collapsed": true
   },
   "outputs": [],
   "source": [
    "data_error = [res[1] for res in pad_results]\n",
    "reg_error = [res[2] for res in pad_results]\n",
    "lvals = [res[3] for res in pad_results]\n",
    "\n",
    "l_curve_distances = np.abs((reg_error[-1]-reg_error[0])*np.array(data_error) -  \\\n",
    "            (data_error[-1]-data_error[0])*np.array(reg_error)+data_error[-1]*reg_error[0]-reg_error[-1]*data_error[0])\n",
    "best = np.argsort(l_curve_distances)[-1]\n",
    "\n",
    "plt.plot( data_error, reg_error)\n",
    "plt.scatter(data_error[best],reg_error[best],s=100, facecolors='none', edgecolors='r')\n",
    "plt.scatter(data_error[0],reg_error[0],s=100, facecolors='none', edgecolors='g')\n",
    "plt.scatter(data_error[-1],reg_error[-1],s=100, facecolors='none', edgecolors='y')\n",
    "\n",
    "plt.xlabel(\"Mismatch\", fontsize=16)\n",
    "plt.ylabel(\"Regularity\", fontsize=16)\n",
    "plt.title('Trade-Off Curve', fontsize=16)\n",
    "plt.text(data_error[best],reg_error[best],lvals[best])"
   ]
  },
  {
   "cell_type": "code",
   "execution_count": null,
   "metadata": {
    "collapsed": true
   },
   "outputs": [],
   "source": [
    "results2 = [list(solution) for solution in annulus_results]\n",
    "\n",
    "for solution in results2:\n",
    "\n",
    "    s_x = np.zeros(coords.shape[0])\n",
    "    s_y = np.zeros(coords.shape[0])\n",
    "    \n",
    "    s_x[condition_inside] = solution[0][0][:,0]\n",
    "    s_y[condition_inside] = solution[0][0][:,1]\n",
    "    \n",
    "    solution.insert(0, [ s_x.reshape((len(y_obs_positions),len(x_obs_positions))), \n",
    "                   s_y.reshape((len(y_obs_positions),len(x_obs_positions))), \n",
    "                  x_obs_positions,y_obs_positions])\n",
    "    #_ = solution.pop(1)\n",
    "\n",
    "import pickle\n",
    "import gzip\n",
    "\n",
    "with gzip.open('results/annulus_tviso.gz','wb') as f:\n",
    "    pickle.dump(results2,f)"
   ]
  },
  {
   "cell_type": "code",
   "execution_count": null,
   "metadata": {
    "collapsed": true
   },
   "outputs": [],
   "source": []
  },
  {
   "cell_type": "code",
   "execution_count": null,
   "metadata": {
    "collapsed": true
   },
   "outputs": [],
   "source": []
  }
 ],
 "metadata": {
  "kernelspec": {
   "display_name": "Python 3",
   "language": "python",
   "name": "python3"
  },
  "language_info": {
   "codemirror_mode": {
    "name": "ipython",
    "version": 3
   },
   "file_extension": ".py",
   "mimetype": "text/x-python",
   "name": "python",
   "nbconvert_exporter": "python",
   "pygments_lexer": "ipython3",
   "version": "3.6.0"
  }
 },
 "nbformat": 4,
 "nbformat_minor": 1
}
