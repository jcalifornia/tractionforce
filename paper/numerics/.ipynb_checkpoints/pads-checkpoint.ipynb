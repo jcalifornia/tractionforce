{
 "cells": [
  {
   "cell_type": "markdown",
   "metadata": {},
   "source": [
    "# Load libraries and set the coordinate system"
   ]
  },
  {
   "cell_type": "code",
   "execution_count": 1,
   "metadata": {
    "collapsed": false
   },
   "outputs": [
    {
     "name": "stdout",
     "output_type": "stream",
     "text": [
      "Populating the interactive namespace from numpy and matplotlib\n"
     ]
    }
   ],
   "source": [
    "%pylab inline\n",
    "\n",
    "import numpy as np\n",
    "import cvxpy\n",
    "from cvxpy import Variable, Minimize, sum_squares, norm, Problem, Parameter, mul_elemwise, sum_entries, Constant\n",
    "from scipy import sparse\n",
    "import sys, argparse\n",
    "from scipy import ndimage\n",
    "import matplotlib.pyplot as plt\n",
    "from matplotlib.backends.backend_pdf import PdfPages\n",
    "import sys\n",
    "\n",
    "sys.path.append('../../')\n",
    "from tractionforce.elasticity import *\n",
    "import gc\n",
    "from tractionforce.norms import *\n",
    "from tractionforce.problem import *\n",
    "\n",
    "from joblib import Parallel, delayed\n",
    "import multiprocessing\n",
    "\n",
    "\"\"\"\n",
    "Set up the domain and the grid\n",
    "\"\"\"\n",
    "\n",
    "N = 240\n",
    "M = 180\n",
    "\n",
    "x_obs_positions = np.arange(N)\n",
    "y_obs_positions = np.arange(M)\n",
    "\n",
    "dx = abs(x_obs_positions[1]-x_obs_positions[0])\n",
    "dy = abs(y_obs_positions[1]-y_obs_positions[0])\n",
    "\n",
    "\n",
    "\n",
    "coords = [[ [x,y] for x in x_obs_positions] for y in y_obs_positions] \n",
    "coords = np.array([item for sublist in coords for item in sublist])\n",
    "distances = ((coords[:,0]-25)**2 + (coords[:,1]-25)**2)**0.5\n",
    "\n",
    "\n",
    "r1 = 1.0/5\n",
    "r2 = 1.0/6\n",
    "r3 = 1.0/8\n",
    "r4 = 1.0/4\n",
    "\n",
    "c1 = (-1,-1/2.)\n",
    "#c2 = (-5/4.,0)\n",
    "c2 = (0,-5/4)\n",
    "c3 = (2,1)\n",
    "c4 = (0,1)\n",
    "\n",
    "scaling = 40\n",
    "\n",
    "\n",
    "d1 = ((coords[:,0]-N/2.-c1[0]*scaling)**2 + (coords[:,1]-M/2-c1[1]*scaling)**2)**0.5\n",
    "d2 = ((coords[:,0]-N/2.-c2[0]*scaling)**2 + (coords[:,1]-M/2-c2[1]*scaling)**2)**0.5\n",
    "d3 = ((coords[:,0]-N/2.-c3[0]*scaling)**2 + (coords[:,1]-M/2-c3[1]*scaling)**2)**0.5\n",
    "d4 = ((coords[:,0]-N/2.-c4[0]*scaling)**2 + (coords[:,1]-M/2-c4[1]*scaling)**2)**0.5\n",
    "\n",
    "f14 = 1e-5\n",
    "g14 = 8e-4\n",
    "f12 = 3e-4\n",
    "g12 = 3e-4\n",
    "g13 = 8e-5\n",
    "f13 = 4e-5\n",
    "g42 = 2e-4\n",
    "\n",
    "s1_x = -(4./5)**2*f14 -(6/5.)**2*f12 -(8/5.)**2*f13\n",
    "s1_y = -(4./5)**2*g14 +(6/5.)**2*g12 -(8/5.)**2*g12\n",
    "\n",
    "s2_x = f12\n",
    "s2_y= -g12 -g42\n",
    "\n",
    "s3_x = f13\n",
    "s3_y = g13\n",
    "\n",
    "s4_x = f14\n",
    "s4_y = g14 # add cone\n",
    "\n",
    "\n",
    "\n",
    "def latex_float(f):\n",
    "    float_str = \"{0:.2g}\".format(f)\n",
    "    if \"e\" in float_str:\n",
    "        base, exponent = float_str.split(\"e\")\n",
    "        return r\"{0} \\times 10^{{{1}}}\".format(base, int(exponent))\n",
    "    else:\n",
    "        return float_str"
   ]
  },
  {
   "cell_type": "markdown",
   "metadata": {},
   "source": [
    "# Generate the stress field"
   ]
  },
  {
   "cell_type": "code",
   "execution_count": 2,
   "metadata": {
    "collapsed": false
   },
   "outputs": [
    {
     "data": {
      "image/png": "[encoded data removed]",
      "text/plain": [
       "<matplotlib.figure.Figure at 0x114a0efd0>"
      ]
     },
     "metadata": {},
     "output_type": "display_data"
    }
   ],
   "source": [
    "CUTOFF  = 20\n",
    "\n",
    "in_1 = d1<=r1*scaling\n",
    "in_2 = d2<=r2*scaling\n",
    "in_3 = d3<=r3*scaling\n",
    "in_4 = d4<=r3*scaling\n",
    "\n",
    "stress_x = np.zeros(coords.shape[0])\n",
    "stress_y = np.zeros(coords.shape[0])\n",
    "\n",
    "stress_x[in_1] = s1_x\n",
    "stress_y[in_1] = s1_y\n",
    "stress_x[in_2] = s2_x\n",
    "stress_y[in_2] = s2_y\n",
    "stress_x[in_3] = s3_x\n",
    "stress_y[in_3] = s3_y\n",
    "stress_x[in_4] = s4_x\n",
    "stress_y[in_4] = s4_y\n",
    "\n",
    "# add the cone for region 4\n",
    "\n",
    "max_s = np.max(np.abs(stress_x))\n",
    "\n",
    "plt.subplot(121)\n",
    "plt.pcolormesh(x_obs_positions,y_obs_positions,stress_x.reshape((M,N)),\n",
    "                           cmap='seismic_r',vmin=-max_s,vmax=max_s).axes.set_aspect('equal')\n",
    "plt.subplot(122)\n",
    "plt.pcolormesh(x_obs_positions,y_obs_positions,stress_y.reshape((M,N)),\n",
    "                           cmap='seismic_r',vmin=-max_s,vmax=max_s).axes.set_aspect('equal')\n",
    "\n"
   ]
  },
  {
   "cell_type": "code",
   "execution_count": 3,
   "metadata": {
    "collapsed": true
   },
   "outputs": [],
   "source": [
    "# determine which points to include/exclude based on the cell boundary\n",
    "\n"
   ]
  },
  {
   "cell_type": "markdown",
   "metadata": {},
   "source": [
    "# Generate linear system matrices"
   ]
  },
  {
   "cell_type": "code",
   "execution_count": 4,
   "metadata": {
    "collapsed": false
   },
   "outputs": [
    {
     "ename": "NameError",
     "evalue": "name 'x_in' is not defined",
     "output_type": "error",
     "traceback": [
      "\u001b[0;31m---------------------------------------------------------------------------\u001b[0m",
      "\u001b[0;31mNameError\u001b[0m                                 Traceback (most recent call last)",
      "\u001b[0;32m<ipython-input-4-46d46fcfe7c7>\u001b[0m in \u001b[0;36m<module>\u001b[0;34m()\u001b[0m\n\u001b[0;32m----> 1\u001b[0;31m \u001b[0mG_in_in_xx\u001b[0m\u001b[0;34m,\u001b[0m \u001b[0mG_in_in_xy\u001b[0m\u001b[0;34m,\u001b[0m \u001b[0mG_out_in_xx\u001b[0m\u001b[0;34m,\u001b[0m \u001b[0mG_out_in_xy\u001b[0m\u001b[0;34m,\u001b[0m \u001b[0mG_in_in_yy\u001b[0m\u001b[0;34m,\u001b[0m \u001b[0mG_in_in_yx\u001b[0m\u001b[0;34m,\u001b[0m \u001b[0mG_out_in_yy\u001b[0m\u001b[0;34m,\u001b[0m \u001b[0mG_out_in_yx\u001b[0m\u001b[0;34m,\u001b[0m \u001b[0mDx\u001b[0m\u001b[0;34m,\u001b[0m \u001b[0mDy\u001b[0m \u001b[0;34m=\u001b[0m \u001b[0mgen_matrices\u001b[0m\u001b[0;34m(\u001b[0m\u001b[0mx_in\u001b[0m\u001b[0;34m,\u001b[0m\u001b[0my_in\u001b[0m\u001b[0;34m,\u001b[0m\u001b[0mx_out\u001b[0m\u001b[0;34m,\u001b[0m\u001b[0my_out\u001b[0m\u001b[0;34m,\u001b[0m\u001b[0mdx\u001b[0m\u001b[0;34m,\u001b[0m\u001b[0mdy\u001b[0m\u001b[0;34m,\u001b[0m\u001b[0mloworder\u001b[0m \u001b[0;34m=\u001b[0m \u001b[0;32mFalse\u001b[0m\u001b[0;34m)\u001b[0m\u001b[0;34m\u001b[0m\u001b[0m\n\u001b[0m",
      "\u001b[0;31mNameError\u001b[0m: name 'x_in' is not defined"
     ]
    }
   ],
   "source": [
    "G_in_in_xx, G_in_in_xy, G_out_in_xx, G_out_in_xy, G_in_in_yy, G_in_in_yx, G_out_in_yy, G_out_in_yx, Dx, Dy = gen_matrices(x_in,y_in,x_out,y_out,dx,dy,loworder = False)"
   ]
  },
  {
   "cell_type": "code",
   "execution_count": null,
   "metadata": {
    "collapsed": false
   },
   "outputs": [],
   "source": [
    "# Generate the measured dispalcements\n",
    "\n",
    "u_in_x = G_in_in_xx.dot(s_x) + G_in_in_xy.dot(s_y)\n",
    "u_out_x = G_out_in_xx.dot(s_x) + G_out_in_xy.dot(s_y)\n",
    "\n",
    "u_in_y = G_in_in_yx.dot(s_x) + G_in_in_yy.dot(s_y)\n",
    "u_out_y = G_out_in_yx.dot(s_x)  + G_out_in_yy.dot(s_y)\n",
    "\n",
    "u_x = np.zeros(coords.shape[0])\n",
    "u_x[condition_inside] = u_in_x\n",
    "u_x[condition_outside] = u_out_x\n",
    "\n",
    "u_y = np.zeros(coords.shape[0])\n",
    "u_y[condition_inside] = u_in_y\n",
    "u_y[condition_outside] = u_out_y\n"
   ]
  },
  {
   "cell_type": "code",
   "execution_count": null,
   "metadata": {
    "collapsed": false
   },
   "outputs": [],
   "source": [
    "N_SOLUTIONS = 24\n",
    "gamma_vals = np.logspace(-5, 0, N_SOLUTIONS)\n",
    "\n",
    "\n",
    "# Coords are 1:100 in each direction\n",
    "# annulus centered\n",
    "# inner radius 20\n",
    "# outer radius 30\n",
    "# boundary radius 35\n",
    "\n",
    "gamma = Parameter(sign=\"positive\",value=1)\n",
    "\n",
    "n_in = len(x_in)\n",
    "x_center = np.mean(x_in)\n",
    "y_center = np.mean(y_in)\n",
    "\n",
    "sigma_xz = Variable(n_in)\n",
    "sigma_yz = Variable(n_in)\n",
    "predicted_in_x = G_in_in_xx * sigma_xz + G_in_in_xy * sigma_yz\n",
    "predicted_out_x = G_out_in_xx * sigma_xz + G_out_in_xy * sigma_yz\n",
    "predicted_in_y = G_in_in_yx * sigma_xz + G_in_in_yy * sigma_yz\n",
    "predicted_out_y = G_out_in_yx * sigma_xz + G_out_in_yy * sigma_yz\n",
    "\n",
    "\n",
    "error = sum_squares(u_in_x - predicted_in_x) + sum_squares(u_out_x - predicted_out_x) + \\\n",
    "    sum_squares(u_in_y - predicted_in_y) + sum_squares(u_out_y - predicted_out_y)\n",
    "\n",
    "forceconstraints = [sum_entries(sigma_xz)==0, sum_entries(sigma_yz)==0] # add torque-free constraint here\n",
    "net_torque = sum_entries(mul_elemwise(x_in-x_center,sigma_yz) - mul_elemwise(y_in-y_center,sigma_xz))\n",
    "\n",
    "torqueconstraints = [net_torque == 0]\n",
    "\n",
    "constraints = forceconstraints + torqueconstraints\n",
    "#constraints = []"
   ]
  },
  {
   "cell_type": "code",
   "execution_count": null,
   "metadata": {
    "collapsed": true
   },
   "outputs": [],
   "source": [
    "regularity_penalty = norm(sigma_xz+sigma_yz,p=1)\n",
    "objective = Minimize(error + gamma*regularity_penalty)\n",
    "prob = Problem(objective, constraints)\n",
    "\n",
    "sq_penalty = []\n",
    "l1_penalty = []\n",
    "sigma_xz_values = []\n",
    "sigma_yz_values = []\n",
    "\n",
    "u_x_values = []\n",
    "u_y_values = []"
   ]
  },
  {
   "cell_type": "code",
   "execution_count": null,
   "metadata": {
    "collapsed": false
   },
   "outputs": [],
   "source": [
    "num_cores = multiprocessing.cpu_count() - 4\n",
    "\n",
    "def invert_one(val):\n",
    "    gamma.value = val\n",
    "    try:\n",
    "        prob.solve(verbose= True, max_iters = 50,\n",
    "                   warm_start=True, solver = cvxpy.CVXOPT,\n",
    "                   feastol = 1e-6, reltol = 1e-5,\n",
    "                   abstol = 1e-6)\n",
    "\n",
    "    except cvxpy.SolverError:\n",
    "        return None\n",
    "\n",
    "    sq_penalty.append(error.value)\n",
    "    l1_penalty.append(regularity_penalty.value)\n",
    "    sigma_xz_values.append(sigma_xz.value)\n",
    "    sigma_yz_values.append(sigma_yz.value)\n",
    "\n",
    "    s_x = np.zeros(coords.shape[0])\n",
    "    s_y = np.zeros(coords.shape[0])\n",
    "    \n",
    "    s_x[condition_inside] = sigma_xz.value.reshape((n_in,))\n",
    "    s_y[condition_inside] = sigma_yz.value.reshape((n_in,))\n",
    "\n",
    "    u_x = np.zeros(coords.shape[0])\n",
    "    u_y = np.zeros(coords.shape[0])\n",
    "    u_x[condition_inside] = predicted_in_x.value\n",
    "    u_x[condition_outside] = predicted_out_x.value\n",
    "    u_y[condition_inside] = predicted_in_y.value\n",
    "    u_y[condition_outside] = predicted_out_y.value\n",
    "\n",
    "    return np.array([s_x, s_y]).T, np.array([u_x, u_y]).T, error.value, regularity_penalty.value, val\n",
    "\n",
    "\n",
    "#results = Parallel(n_jobs=num_cores)(delayed(invert_one)(val) for val in gamma_vals)\n"
   ]
  },
  {
   "cell_type": "code",
   "execution_count": null,
   "metadata": {
    "collapsed": false
   },
   "outputs": [],
   "source": [
    "force, u, err, reg, val = invert_one(gamma_vals[-1])"
   ]
  },
  {
   "cell_type": "code",
   "execution_count": null,
   "metadata": {
    "collapsed": false
   },
   "outputs": [],
   "source": [
    "maxval = np.max(np.abs(force))\n",
    "\n",
    "plt.subplot(121)\n",
    "plt.pcolormesh(x_obs_positions,y_obs_positions,stress_x.reshape((50,50)).transpose(),\n",
    "                           cmap='seismic_r',vmin=-maxval,vmax=maxval).axes.set_aspect('equal')\n",
    "\n",
    "plt.subplot(122)\n",
    "plt.pcolormesh(x_obs_positions,y_obs_positions,force[:,0].reshape((50,50)).transpose(),\n",
    "                           cmap='seismic_r',vmin=-maxval,vmax=maxval).axes.set_aspect('equal')\n",
    "#plt.colorbar()"
   ]
  },
  {
   "cell_type": "code",
   "execution_count": null,
   "metadata": {
    "collapsed": false
   },
   "outputs": [],
   "source": [
    "plt.subplot(121)\n",
    "\n",
    "maxval = np.max(np.abs(stress_y))\n",
    "plt.pcolormesh(x_obs_positions,y_obs_positions,stress_y.reshape((50,50)).transpose(),\n",
    "                           cmap='seismic_r',vmin=-maxval, vmax=maxval).axes.set_aspect('equal')\n",
    "\n",
    "plt.subplot(122)\n",
    "plt.pcolormesh(x_obs_positions,y_obs_positions,force[:,1].reshape((50,50)).transpose(),\n",
    "                           cmap='seismic_r',vmin=-maxval, vmax=maxval).axes.set_aspect('equal')\n",
    "#plt.colorbar()"
   ]
  },
  {
   "cell_type": "code",
   "execution_count": null,
   "metadata": {
    "collapsed": false
   },
   "outputs": [],
   "source": [
    "maxval = np.max(np.abs(u_x))\n",
    "\n",
    "plt.subplot(121)\n",
    "plt.pcolormesh(x_obs_positions,y_obs_positions,u_x.reshape((50,50)).transpose(),\n",
    "                           cmap='seismic_r',vmin=-maxval, vmax=maxval).axes.set_aspect('equal')\n",
    "plt.subplot(122)\n",
    "plt.pcolormesh(x_obs_positions,y_obs_positions,u[:,0].reshape((50,50)).transpose(),\n",
    "                           cmap='seismic_r',vmin=-maxval, vmax=maxval).axes.set_aspect('equal')\n",
    "#plt.colorbar()"
   ]
  },
  {
   "cell_type": "code",
   "execution_count": null,
   "metadata": {
    "collapsed": false
   },
   "outputs": [],
   "source": [
    "maxval = np.max(np.abs(u_y))\n",
    "\n",
    "plt.subplot(121)\n",
    "plt.pcolormesh(x_obs_positions,y_obs_positions,u_y.reshape((50,50)).transpose(),\n",
    "                           cmap='seismic_r',vmin=-maxval, vmax=maxval).axes.set_aspect('equal')\n",
    "plt.subplot(122)\n",
    "plt.pcolormesh(x_obs_positions,y_obs_positions,u[:,1].reshape((50,50)).transpose(),\n",
    "                           cmap='seismic_r',vmin=-maxval, vmax=maxval).axes.set_aspect('equal')\n",
    "#plt.colorbar()"
   ]
  },
  {
   "cell_type": "code",
   "execution_count": null,
   "metadata": {
    "collapsed": false
   },
   "outputs": [],
   "source": [
    "sum(force)"
   ]
  },
  {
   "cell_type": "code",
   "execution_count": null,
   "metadata": {
    "collapsed": true
   },
   "outputs": [],
   "source": []
  }
 ],
 "metadata": {
  "kernelspec": {
   "display_name": "Python 3",
   "language": "python",
   "name": "python3"
  },
  "language_info": {
   "codemirror_mode": {
    "name": "ipython",
    "version": 3
   },
   "file_extension": ".py",
   "mimetype": "text/x-python",
   "name": "python",
   "nbconvert_exporter": "python",
   "pygments_lexer": "ipython3",
   "version": "3.6.0"
  }
 },
 "nbformat": 4,
 "nbformat_minor": 2
}
