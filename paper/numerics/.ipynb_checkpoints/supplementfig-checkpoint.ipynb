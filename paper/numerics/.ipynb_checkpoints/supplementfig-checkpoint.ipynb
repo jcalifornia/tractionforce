{
 "cells": [
  {
   "cell_type": "code",
   "execution_count": 1,
   "metadata": {
    "collapsed": false
   },
   "outputs": [
    {
     "name": "stdout",
     "output_type": "stream",
     "text": [
      "Populating the interactive namespace from numpy and matplotlib\n"
     ]
    }
   ],
   "source": [
    "%pylab inline\n",
    "from scipy import ndimage\n",
    "import matplotlib.pyplot as plt\n",
    "from mpl_toolkits.axes_grid.anchored_artists import AnchoredText\n",
    "from mpl_toolkits.axes_grid1 import make_axes_locatable\n",
    "\n",
    "import sys\n",
    "import matplotlib\n",
    "matplotlib.rcParams['text.usetex'] = True\n",
    "matplotlib.rcParams['text.latex.unicode'] = True\n",
    "import matplotlib.gridspec as gridspec\n",
    "\n",
    "sys.path.append('../../')\n",
    "from tractionforce.elasticity import *\n",
    "import gc\n",
    "from tractionforce.norms import *\n",
    "from tractionforce.norms import *\n",
    "from tractionforce.problem import *\n",
    "from joblib import Parallel, delayed\n",
    "import multiprocessing\n",
    "import pickle\n",
    "import gzip\n",
    "\n",
    "from PIL import Image\n",
    "\n",
    "\n",
    "def latex_float(f):\n",
    "    float_str = \"{0:.2g}\".format(f)\n",
    "    if \"e\" in float_str:\n",
    "        base, exponent = float_str.split(\"e\")\n",
    "        return r\"{0} \\times 10^{{{1}}}\".format(base, int(exponent))\n",
    "    else:\n",
    "        return float_str\n",
    "    \n",
    "def extractn(inlist,n):\n",
    "    try:\n",
    "        return inlist[n]\n",
    "    except:\n",
    "        return None"
   ]
  },
  {
   "cell_type": "code",
   "execution_count": 2,
   "metadata": {
    "collapsed": true
   },
   "outputs": [],
   "source": [
    "results = pickle.load(gzip.open('results/pads_2.gz', 'rb'))\n"
   ]
  },
  {
   "cell_type": "code",
   "execution_count": 9,
   "metadata": {
    "collapsed": true
   },
   "outputs": [],
   "source": [
    "data_error = [extractn(res,2) for res in results][:-1]\n",
    "\n",
    "reg_error = [extractn(res,3) for res in results][:-1]\n",
    "lvals = [extractn(res,4) for res in results][:-1]\n",
    "\n",
    "# kill all nones\n",
    "\n",
    "data_error = np.array([item for item in data_error if item is not None])\n",
    "reg_error = np.array([item for item in reg_error if item is not None])\n",
    "lvals = np.array([item for item in lvals if item is not None])\n",
    "\n",
    "l_curve_distances = ((reg_error[-1]-reg_error[0])* data_error -  \\\n",
    "            (data_error[-1]-data_error[0])*(reg_error)+data_error[-1]*reg_error[0]-reg_error[-1]*data_error[0])**2\n",
    "best = np.argsort(l_curve_distances)[-1]\n",
    "\n",
    "bestresult = results[best]\n",
    "best_s_vals_x = bestresult[0][0]* 1e4\n",
    "best_s_vals_y = bestresult[0][1]* 1e4\n",
    "\n",
    "under_s_vals_x = results[0][0][0]*1e4\n",
    "under_s_vals_y = results[0][0][1]*1e4\n",
    "\n",
    "over_s_vals_x = results[-1][0][0]*1e4\n",
    "over_s_vals_y = results[-1][0][1]*1e4\n",
    "\n",
    "xlattice = bestresult[0][2]\n",
    "ylattice = bestresult[0][2]"
   ]
  },
  {
   "cell_type": "code",
   "execution_count": 28,
   "metadata": {
    "collapsed": false
   },
   "outputs": [
    {
     "data": {
      "text/plain": [
       "<matplotlib.text.Text at 0x113b2d240>"
      ]
     },
     "execution_count": 28,
     "metadata": {},
     "output_type": "execute_result"
    },
    {
     "data": {
      "image/png": "[encoded data removed]",
      "text/plain": [
       "<matplotlib.figure.Figure at 0x11369b2b0>"
      ]
     },
     "metadata": {},
     "output_type": "display_data"
    }
   ],
   "source": [
    "fig = plt.figure(figsize=(24,2.25))\n",
    "maxval = 2e-4* 1e4\n",
    "gs0 = gridspec.GridSpec(1,4, hspace = 0.1,wspace=0.1,width_ratios = [0.5,1,1,1])\n",
    "gs_j = []\n",
    "\n",
    "ax = []\n",
    "im = []\n",
    "\n",
    "ax += [plt.Subplot(fig, gs0[0,0])]\n",
    "fig.add_subplot(ax[-1])\n",
    "ax[-1].plot( data_error, reg_error)\n",
    "ax[-1].scatter(data_error[best],reg_error[best],s=100, facecolors='none', edgecolors='r')\n",
    "ax[-1].scatter(data_error[0],reg_error[0],s=100, facecolors='none', edgecolors='g')\n",
    "ax[-1].scatter(data_error[-1],reg_error[-1],s=100, facecolors='none', edgecolors='black')\n",
    "ax[-1].annotate(\"$\\quad\\lambda=\" + latex_float(lvals[best]) +\"$\", (data_error[best],reg_error[best]))\n",
    "\n",
    "#########################################\n",
    "\n",
    "gs_j += [gridspec.GridSpecFromSubplotSpec(1,2,\n",
    "                subplot_spec=gs0[1],\n",
    "                width_ratios = [1,1], hspace = 0.1,wspace=0.1)]\n",
    "\n",
    "ax += [plt.Subplot(fig, gs_j[-1][0,0])]\n",
    "fig.add_subplot(ax[-1])\n",
    "im+= [ax[-1].pcolormesh(under_s_vals_x,rasterized=True,\n",
    "                     cmap='seismic_r',vmax=maxval,vmin=-maxval)]\n",
    "im[-1].axes.set_aspect('equal')\n",
    "\n",
    "ax[-1].set_yticklabels([])\n",
    "ax[-1].set_xticklabels([])\n",
    "ax[-1].set_xlabel(r\"$\\Phi_{\\textrm{data}}$\",fontsize=20)\n",
    "ax[-1].set_title(r\"$\\Phi_{\\textrm{data}}$\",fontsize=20)\n",
    "\n",
    "at = AnchoredText(\"${f}_{x}$\",\n",
    "              prop=dict(size=14), frameon=True,\n",
    "              loc=2,\n",
    "              )\n",
    "at.patch.set_boxstyle(\"round,pad=0.,rounding_size=0.2\")\n",
    "ax[-1].add_artist(at)\n",
    "\n",
    "ax += [plt.Subplot(fig, gs_j[-1][0,1])]\n",
    "fig.add_subplot(ax[-1])\n",
    "im+= [ax[-1].pcolormesh(under_s_vals_y,rasterized=True,\n",
    "                     cmap='seismic_r',vmax=maxval,vmin=-maxval)]\n",
    "im[-1].axes.set_aspect('equal')\n",
    "\n",
    "ax[-1].set_yticklabels([])\n",
    "ax[-1].set_xticklabels([])\n",
    "\n",
    "at = AnchoredText(\"${f}_{y}$\",\n",
    "              prop=dict(size=14), frameon=True,\n",
    "              loc=2,\n",
    "              )\n",
    "at.patch.set_boxstyle(\"round,pad=0.,rounding_size=0.2\")\n",
    "ax[-1].add_artist(at)\n",
    "\n",
    "#########################################\n",
    "\n",
    "gs_j += [gridspec.GridSpecFromSubplotSpec(1,2,\n",
    "                subplot_spec=gs0[2],\n",
    "                width_ratios = [1,1], hspace = 0.1,wspace=0.1)]\n",
    "\n",
    "ax += [plt.Subplot(fig, gs_j[-1][0,0])]\n",
    "fig.add_subplot(ax[-1])\n",
    "im+= [ax[-1].pcolormesh(best_s_vals_x,rasterized=True,\n",
    "                     cmap='seismic_r',vmax=maxval,vmin=-maxval)]\n",
    "im[-1].axes.set_aspect('equal')\n",
    "\n",
    "ax[-1].set_yticklabels([])\n",
    "ax[-1].set_xticklabels([])\n",
    "\n",
    "at = AnchoredText(\"${f}_{x}$\",\n",
    "              prop=dict(size=14), frameon=True,\n",
    "              loc=2,\n",
    "              )\n",
    "at.patch.set_boxstyle(\"round,pad=0.,rounding_size=0.2\")\n",
    "ax[-1].add_artist(at)\n",
    "\n",
    "ax += [plt.Subplot(fig, gs_j[-1][0,1])]\n",
    "fig.add_subplot(ax[-1])\n",
    "im+= [ax[-1].pcolormesh(best_s_vals_y,rasterized=True,\n",
    "                     cmap='seismic_r',vmax=maxval,vmin=-maxval)]\n",
    "im[-1].axes.set_aspect('equal')\n",
    "\n",
    "ax[-1].set_yticklabels([])\n",
    "ax[-1].set_xticklabels([])\n",
    "\n",
    "at = AnchoredText(\"${f}_{y}$\",\n",
    "              prop=dict(size=14), frameon=True,\n",
    "              loc=2,\n",
    "              )\n",
    "at.patch.set_boxstyle(\"round,pad=0.,rounding_size=0.2\")\n",
    "ax[-1].add_artist(at)\n",
    "\n",
    "#########################################\n",
    "\n",
    "gs_j += [gridspec.GridSpecFromSubplotSpec(1,2,\n",
    "                subplot_spec=gs0[3],\n",
    "                width_ratios = [1,1], hspace = 0.1,wspace=0.1)]\n",
    "\n",
    "ax += [plt.Subplot(fig, gs_j[-1][0,0])]\n",
    "fig.add_subplot(ax[-1])\n",
    "im+= [ax[-1].pcolormesh(over_s_vals_x,rasterized=True,\n",
    "                     cmap='seismic_r',vmax=maxval,vmin=-maxval)]\n",
    "im[-1].axes.set_aspect('equal')\n",
    "\n",
    "ax[-1].set_yticklabels([])\n",
    "ax[-1].set_xticklabels([])\n",
    "\n",
    "at = AnchoredText(\"${f}_{x}$\",\n",
    "              prop=dict(size=14), frameon=True,\n",
    "              loc=2,\n",
    "              )\n",
    "at.patch.set_boxstyle(\"round,pad=0.,rounding_size=0.2\")\n",
    "ax[-1].add_artist(at)\n",
    "\n",
    "ax += [plt.Subplot(fig, gs_j[-1][0,1])]\n",
    "fig.add_subplot(ax[-1])\n",
    "im+= [ax[-1].pcolormesh(over_s_vals_y,rasterized=True,\n",
    "                     cmap='seismic_r',vmax=maxval,vmin=-maxval)]\n",
    "im[-1].axes.set_aspect('equal')\n",
    "\n",
    "ax[-1].set_yticklabels([])\n",
    "ax[-1].set_xticklabels([])\n",
    "\n",
    "at = AnchoredText(\"${f}_{y}$\",\n",
    "              prop=dict(size=14), frameon=True,\n",
    "              loc=2,\n",
    "              )\n",
    "at.patch.set_boxstyle(\"round,pad=0.,rounding_size=0.2\")\n",
    "ax[-1].add_artist(at)\n",
    "\n",
    "ax[1].text(45,80,r\"Under-regularized\",fontsize=20)\n",
    "ax[3].text(75,80,r\"Best\",fontsize=20)\n",
    "ax[5].text(45,80,r\"Over-regularized\",fontsize=20)"
   ]
  },
  {
   "cell_type": "code",
   "execution_count": null,
   "metadata": {
    "collapsed": true
   },
   "outputs": [],
   "source": []
  }
 ],
 "metadata": {
  "kernelspec": {
   "display_name": "Python 3",
   "language": "python",
   "name": "python3"
  },
  "language_info": {
   "codemirror_mode": {
    "name": "ipython",
    "version": 3
   },
   "file_extension": ".py",
   "mimetype": "text/x-python",
   "name": "python",
   "nbconvert_exporter": "python",
   "pygments_lexer": "ipython3",
   "version": "3.6.0"
  }
 },
 "nbformat": 4,
 "nbformat_minor": 2
}
